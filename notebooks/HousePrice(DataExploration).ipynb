{
 "cells": [
  {
   "cell_type": "code",
   "execution_count": 1,
   "id": "4c62fede-2948-489f-907a-ef56f594babf",
   "metadata": {},
   "outputs": [],
   "source": [
    "\n",
    "\n",
    "import matplotlib.pyplot as plt\n",
    "import seaborn as sns\n",
    "import numpy as np\n",
    "import pandas as pd"
   ]
  },
  {
   "cell_type": "code",
   "execution_count": 2,
   "id": "5bb4afcf-26d0-4e9c-8237-f89d61279815",
   "metadata": {},
   "outputs": [],
   "source": [
    "d_tr = pd.read_csv('/Users/antirrabia/Documents/01-GitHub/DataMining-_-/CSV/HousePrices/train.csv', index_col='Id')\n",
    "d_te = pd.read_csv('/Users/antirrabia/Documents/01-GitHub/DataMining-_-/CSV/HousePrices/train.csv', index_col='Id')"
   ]
  },
  {
   "cell_type": "code",
   "execution_count": 4,
   "id": "dc3802f7-ea9b-4227-809a-4f7356ec13ac",
   "metadata": {},
   "outputs": [
    {
     "data": {
      "text/plain": [
       "6     0.173288\n",
       "7     0.160274\n",
       "5     0.139726\n",
       "4     0.096575\n",
       "8     0.083562\n",
       "3     0.072603\n",
       "10    0.060959\n",
       "11    0.054110\n",
       "9     0.043151\n",
       "12    0.040411\n",
       "1     0.039726\n",
       "2     0.035616\n",
       "Name: MoSold, dtype: float64"
      ]
     },
     "execution_count": 4,
     "metadata": {},
     "output_type": "execute_result"
    }
   ],
   "source": [
    "d_tr['MoSold'].value_counts(normalize=True)"
   ]
  },
  {
   "cell_type": "code",
   "execution_count": null,
   "id": "2ce55454-29f9-4dcf-afe7-6c937191b6f7",
   "metadata": {},
   "outputs": [],
   "source": []
  },
  {
   "cell_type": "code",
   "execution_count": 11,
   "id": "bc4b34d5-8c0c-450d-84c4-4cdae0a3d23c",
   "metadata": {},
   "outputs": [],
   "source": [
    "def cyclical_features(df, col):\n",
    "    '''\n",
    "    '''\n",
    "    \n",
    "    df[col + '_sin'] = np.sin( df[col] * ( 2. * np.pi / 12) )\n",
    "    df[col + '_cos'] = np.cos( df[col] * ( 2. * np.pi / 12) )\n",
    "    \n",
    "    return df.drop(columns=col).copy()\n",
    "    "
   ]
  },
  {
   "cell_type": "code",
   "execution_count": 12,
   "id": "c6502d75-49a5-4197-8e08-3f8e206d6b98",
   "metadata": {},
   "outputs": [],
   "source": [
    "temp = cyclical_features(d_tr.copy(), 'MoSold')"
   ]
  },
  {
   "cell_type": "code",
   "execution_count": 13,
   "id": "c9bd402c-6c2f-46c3-88d1-70ced6d3bf59",
   "metadata": {},
   "outputs": [
    {
     "data": {
      "image/png": "[encoded data removed]",
      "text/plain": [
       "<Figure size 432x288 with 1 Axes>"
      ]
     },
     "metadata": {
      "needs_background": "light"
     },
     "output_type": "display_data"
    }
   ],
   "source": [
    "sns.scatterplot(x=temp['MoSold_cos'], y=temp['MoSold_sin']);"
   ]
  },
  {
   "cell_type": "code",
   "execution_count": 24,
   "id": "35d0d50a-6dfd-44e6-b2d6-127f18a9125b",
   "metadata": {},
   "outputs": [
    {
     "data": {
      "text/plain": [
       "dtype('float64')"
      ]
     },
     "execution_count": 24,
     "metadata": {},
     "output_type": "execute_result"
    }
   ],
   "source": [
    "temp['MoSold_cos'].dtype"
   ]
  },
  {
   "cell_type": "code",
   "execution_count": 23,
   "id": "16944158-f39f-4043-8aa7-809dca1acc55",
   "metadata": {},
   "outputs": [
    {
     "data": {
      "text/plain": [
       "<matplotlib.collections.PathCollection at 0x7f9a411aa280>"
      ]
     },
     "execution_count": 23,
     "metadata": {},
     "output_type": "execute_result"
    },
    {
     "data": {
      "image/png": "[encoded data removed]",
      "text/plain": [
       "<Figure size 864x432 with 1 Axes>"
      ]
     },
     "metadata": {
      "needs_background": "light"
     },
     "output_type": "display_data"
    }
   ],
   "source": [
    "fig, ax = plt.subplots(figsize=(12,6))\n",
    "ax.scatter(temp['MoSold_cos'], temp['MoSold_sin'])\n",
    "# ax.plot(temp['MoSold_sin'])\n",
    "# plt.xlim([0, 24])\n",
    "# plt.ylim([-12, 24])"
   ]
  },
  {
   "cell_type": "code",
   "execution_count": null,
   "id": "162d9cfa-d1a8-4b1e-88ff-90cbd78e6961",
   "metadata": {},
   "outputs": [],
   "source": [
    "ordinal_col = ['FireplaceQu', 'GarageQual', 'GarageCond', 'BsmtFinType1', 'BsmtFinType2', 'ExterQual', 'ExterCond', \n",
    "               'BsmtQual', 'BsmtCond', 'PoolQC', 'HeatingQC', 'KitchenQual', 'BsmtExposure', 'Functional', \n",
    "               'GarageFinish', 'Fence', 'CentralAir', 'PavedDrive', 'Street', 'Alley', 'LandSlope', 'LotShape', \n",
    "               'HouseStyle', 'OverallQual', 'OverallCond']"
   ]
  },
  {
   "cell_type": "code",
   "execution_count": null,
   "id": "54cbf599-96b8-4a6a-9739-5a1d0367988c",
   "metadata": {},
   "outputs": [],
   "source": [
    "oneHot_col = ['Condition1', 'RoofStyle', 'Foundation', 'GarageType', 'SaleType', 'SaleCondition', 'Exterior1st', \n",
    "              'Exterior2nd', 'LotConfig', 'LandContour', 'Condition2', 'RoofMatl', 'Heating', 'Electrical', \n",
    "              'MiscFeature', 'PeakMonths', 'Finished', 'Splited', 'Neighborhood_Cluster', 'MSSubClass_Cluster', \n",
    "              'MoSold', 'YrSold', 'BldgType', 'MSZoning', 'MasVnrType']"
   ]
  },
  {
   "cell_type": "code",
   "execution_count": null,
   "id": "8498f37e-881a-494d-a7db-d15b82adb2cc",
   "metadata": {},
   "outputs": [],
   "source": [
    "num_col = ['LotFrontage', 'LotArea', 'YearBuilt', 'YearRemodAdd', 'MasVnrArea', \n",
    " 'BsmtFinSF1', 'BsmtUnfSF', 'TotalBsmtSF', '1stFlrSF', '2ndFlrSF', 'LowQualFinSF',\n",
    " 'BsmtFinSF2', 'GrLivArea', 'BsmtFullBath', 'BsmtHalfBath', 'FullBath', 'HalfBath',\n",
    " 'BedroomAbvGr', 'KitchenAbvGr', 'TotRmsAbvGrd', 'Fireplaces', 'GarageYrBlt',\n",
    " 'GarageCars', 'GarageArea', 'WoodDeckSF', 'OpenPorchSF', 'EnclosedPorch',\n",
    " '3SsnPorch', 'ScreenPorch', 'PoolArea', 'MiscVal', 'SalePrice', 'TotalSF']"
   ]
  },
  {
   "cell_type": "code",
   "execution_count": null,
   "id": "63dc5b04-b896-4033-a440-20d7b6bd3205",
   "metadata": {},
   "outputs": [],
   "source": [
    "# Cicly features\n",
    "'MoSold', 'YrSold', 'YearBuilt', 'YearRemodAdd',"
   ]
  },
  {
   "cell_type": "code",
   "execution_count": null,
   "id": "9df06c9a-a9e2-4513-808e-40f1df1b3429",
   "metadata": {},
   "outputs": [],
   "source": [
    "np.float64"
   ]
  }
 ],
 "metadata": {
  "kernelspec": {
   "display_name": "Python 3 (ipykernel)",
   "language": "python",
   "name": "python3"
  },
  "language_info": {
   "codemirror_mode": {
    "name": "ipython",
    "version": 3
   },
   "file_extension": ".py",
   "mimetype": "text/x-python",
   "name": "python",
   "nbconvert_exporter": "python",
   "pygments_lexer": "ipython3",
   "version": "3.8.13"
  }
 },
 "nbformat": 4,
 "nbformat_minor": 5
}
