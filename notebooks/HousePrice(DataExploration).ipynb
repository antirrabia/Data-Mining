{
 "cells": [
  {
   "cell_type": "code",
   "execution_count": null,
   "id": "4c62fede-2948-489f-907a-ef56f594babf",
   "metadata": {},
   "outputs": [],
   "source": [
    "\n",
    "\n",
    "import matplotlib.pyplot as plt\n",
    "import seaborn as sns\n",
    "import numpy as np\n",
    "import pandas as pd"
   ]
  },
  {
   "cell_type": "code",
   "execution_count": null,
   "id": "5bb4afcf-26d0-4e9c-8237-f89d61279815",
   "metadata": {},
   "outputs": [],
   "source": []
  },
  {
   "cell_type": "code",
   "execution_count": null,
   "id": "dc3802f7-ea9b-4227-809a-4f7356ec13ac",
   "metadata": {},
   "outputs": [],
   "source": []
  },
  {
   "cell_type": "code",
   "execution_count": null,
   "id": "d0d8186c-30c8-440d-8d42-560c247782e9",
   "metadata": {},
   "outputs": [],
   "source": []
  },
  {
   "cell_type": "code",
   "execution_count": null,
   "id": "2ce55454-29f9-4dcf-afe7-6c937191b6f7",
   "metadata": {},
   "outputs": [],
   "source": []
  },
  {
   "cell_type": "code",
   "execution_count": null,
   "id": "162d9cfa-d1a8-4b1e-88ff-90cbd78e6961",
   "metadata": {},
   "outputs": [],
   "source": [
    "ordinal_col = ['FireplaceQu', 'GarageQual', 'GarageCond', 'BsmtFinType1', 'BsmtFinType2', 'ExterQual', 'ExterCond', \n",
    "               'BsmtQual', 'BsmtCond', 'PoolQC', 'HeatingQC', 'KitchenQual', 'BsmtExposure', 'Functional', \n",
    "               'GarageFinish', 'Fence', 'CentralAir', 'PavedDrive', 'Street', 'Alley', 'LandSlope', 'LotShape', \n",
    "               'HouseStyle', 'OverallQual', 'OverallCond']"
   ]
  },
  {
   "cell_type": "code",
   "execution_count": null,
   "id": "54cbf599-96b8-4a6a-9739-5a1d0367988c",
   "metadata": {},
   "outputs": [],
   "source": [
    "oneHot_col = ['Condition1', 'RoofStyle', 'Foundation', 'GarageType', 'SaleType', 'SaleCondition', 'Exterior1st', \n",
    "              'Exterior2nd', 'LotConfig', 'LandContour', 'Condition2', 'RoofMatl', 'Heating', 'Electrical', \n",
    "              'MiscFeature', 'PeakMonths', 'Finished', 'Splited', 'Neighborhood_Cluster', 'MSSubClass_Cluster', \n",
    "              'MoSold', 'YrSold', 'BldgType', 'MSZoning', 'MasVnrType']"
   ]
  },
  {
   "cell_type": "code",
   "execution_count": null,
   "id": "8498f37e-881a-494d-a7db-d15b82adb2cc",
   "metadata": {},
   "outputs": [],
   "source": [
    "num_col = ['LotFrontage', 'LotArea', 'YearBuilt', 'YearRemodAdd', 'MasVnrArea', \n",
    " 'BsmtFinSF1', 'BsmtUnfSF', 'TotalBsmtSF', '1stFlrSF', '2ndFlrSF', 'LowQualFinSF',\n",
    " 'BsmtFinSF2', 'GrLivArea', 'BsmtFullBath', 'BsmtHalfBath', 'FullBath', 'HalfBath',\n",
    " 'BedroomAbvGr', 'KitchenAbvGr', 'TotRmsAbvGrd', 'Fireplaces', 'GarageYrBlt',\n",
    " 'GarageCars', 'GarageArea', 'WoodDeckSF', 'OpenPorchSF', 'EnclosedPorch',\n",
    " '3SsnPorch', 'ScreenPorch', 'PoolArea', 'MiscVal', 'SalePrice', 'TotalSF']"
   ]
  }
 ],
 "metadata": {
  "kernelspec": {
   "display_name": "Python 3 (ipykernel)",
   "language": "python",
   "name": "python3"
  },
  "language_info": {
   "codemirror_mode": {
    "name": "ipython",
    "version": 3
   },
   "file_extension": ".py",
   "mimetype": "text/x-python",
   "name": "python",
   "nbconvert_exporter": "python",
   "pygments_lexer": "ipython3",
   "version": "3.8.13"
  }
 },
 "nbformat": 4,
 "nbformat_minor": 5
}
