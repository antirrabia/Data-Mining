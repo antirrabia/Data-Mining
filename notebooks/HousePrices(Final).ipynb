{
 "cells": [
  {
   "cell_type": "code",
   "execution_count": 1,
   "id": "3bf9a821-251f-4f1d-b5e6-5f173b9e9055",
   "metadata": {},
   "outputs": [],
   "source": [
    "from sklearn.cluster import KMeans\n",
    "\n",
    "from sklearn.pipeline import Pipeline\n",
    "from sklearn.preprocessing import FunctionTransformer\n",
    "from sklearn.preprocessing import PowerTransformer\n",
    "from sklearn.preprocessing import RobustScaler\n",
    "\n",
    "from sklearn.feature_selection import VarianceThreshold\n",
    "from sklearn.feature_selection import mutual_info_regression\n",
    "from sklearn.neighbors import LocalOutlierFactor\n",
    "\n",
    "from category_encoders import OrdinalEncoder\n",
    "from category_encoders.one_hot import OneHotEncoder\n",
    "\n",
    "import matplotlib.pyplot as plt\n",
    "import seaborn as sns\n",
    "import pandas as pd\n",
    "import numpy as np"
   ]
  },
  {
   "cell_type": "markdown",
   "id": "0ca15dd1-30af-4513-ae71-96c8ee6b2e4b",
   "metadata": {
    "jp-MarkdownHeadingCollapsed": true,
    "tags": []
   },
   "source": [
    "### Helpers"
   ]
  },
  {
   "cell_type": "code",
   "execution_count": 104,
   "id": "87bcdacc-0e24-43e4-81e6-712cf90428e1",
   "metadata": {},
   "outputs": [],
   "source": [
    "def make_clusters(df, col, y, n_cluster, merge=False):\n",
    "    '''\n",
    "        function to boil down a colum to n_cluster\n",
    "        \n",
    "        recive:\n",
    "        \n",
    "            df: a data frame \n",
    "            col: col to make cluster\n",
    "            y: the response variable\n",
    "            n_cluster: stamitation of number of cluster\n",
    "            \n",
    "        return:  \n",
    "            a data frame with 'col' droped, and 'col' + '_cluster' column\n",
    "            is added to the data frame\n",
    "\n",
    "        \n",
    "    '''\n",
    "    col_clusters = KMeans(n_clusters=n_cluster, random_state=777)\n",
    "\n",
    "    # 'Neighborhood' and 'MSSubClass' stats\n",
    "    col_stats = df.groupby(col)[y].describe()\n",
    "\n",
    "    # Getting clusters\n",
    "    col_clusters.fit(col_stats)\n",
    "\n",
    "    # preparing DF with cluster lables to merge\n",
    "    new_name = col + '_Cluster'\n",
    "    col_cluster_df = pd.DataFrame( { col: col_stats.index.to_list(),\n",
    "                                     new_name: col_clusters.labels_.tolist()} )\n",
    "    \n",
    "    if merge:\n",
    "        # merging the clusters with the data frame\n",
    "        df = df.merge(col_cluster_df, how='left', on=col)\n",
    "\n",
    "        df[new_name] = df[new_name].astype(str)\n",
    "        \n",
    "        result = df.drop(columns=col)\n",
    "        \n",
    "    else:\n",
    "        result = col_cluster_df\n",
    "    \n",
    "    return result.copy()\n",
    "\n",
    "\n",
    "# Low frequency categories to 'Other'\n",
    "def lower_than(df, col, percentage):\n",
    "    ''' function that will merge low frequency classes into \n",
    "        a single class 'Others'\n",
    "\n",
    "        parameters:\n",
    "            df: a DataFrame\n",
    "            col: column's name to work on\n",
    "            percentage(%): the threshold like 0.1, 0.2\n",
    "\n",
    "        returns:\n",
    "            df: the data frame with col's classes that are lowers\n",
    "                than 'threshold' been repleced with 'Other' category\n",
    "    '''\n",
    "\n",
    "    # calculating the column frequency\n",
    "    col_freq = df[col].value_counts(normalize=True)\n",
    "\n",
    "    # the getting the column threshold \n",
    "    threshold = col_freq.quantile(q= percentage)\n",
    "\n",
    "    # knowing the classes that are below the threshold\n",
    "    less_freq_classes = col_freq[ col_freq <= threshold ]\n",
    "\n",
    "    others = less_freq_classes.index.to_list()\n",
    "\n",
    "    print(others)\n",
    "\n",
    "    df[col] = df[col].replace(others, 'Others')\n",
    "\n",
    "    return df\n"
   ]
  },
  {
   "cell_type": "markdown",
   "id": "48ef4fc7-4204-4d8c-831b-e2e51c0ff471",
   "metadata": {
    "jp-MarkdownHeadingCollapsed": true,
    "tags": []
   },
   "source": [
    "### Data"
   ]
  },
  {
   "cell_type": "code",
   "execution_count": 20,
   "id": "52feccc9-d49a-424c-91d7-7a1256354911",
   "metadata": {},
   "outputs": [],
   "source": [
    "def data(verbose=False):\n",
    "    \n",
    "    d_tr = pd.read_csv('/Users/antirrabia/Documents/01-GitHub/DataMining-_-/CSV/HousePrices/train.csv', index_col='Id')\n",
    "    d_te = pd.read_csv('/Users/antirrabia/Documents/01-GitHub/DataMining-_-/CSV/HousePrices/test.csv', index_col='Id')\n",
    "    \n",
    "    # Utilities has just 2 categories, and one of them\n",
    "    # just appears once so we delete the whole column.\n",
    "    d_tr = d_tr.drop(columns='Utilities')\n",
    "    d_te = d_te.drop(columns='Utilities')\n",
    "    \n",
    "    # Marking Training Set\n",
    "    d_tr['Training'] = True\n",
    "    d_te['Training'] = False  \n",
    "    \n",
    "    if(verbose):\n",
    "        print('d_tr shape:', d_tr.shape)\n",
    "        print('d_te shape:', d_te.shape)\n",
    "        \n",
    "    return (d_tr.copy(), d_te.copy())\n",
    "    "
   ]
  },
  {
   "cell_type": "markdown",
   "id": "a94dca3a-3bcd-4417-ba6a-079ff16ee895",
   "metadata": {
    "jp-MarkdownHeadingCollapsed": true,
    "tags": []
   },
   "source": [
    "### Analazy 'Y'('SalePrice')"
   ]
  },
  {
   "cell_type": "code",
   "execution_count": 78,
   "id": "8a17f4ce-7db5-4633-8cf2-77153160f6df",
   "metadata": {},
   "outputs": [],
   "source": [
    "def analyze_y(df, verbose=False):\n",
    "    \n",
    "    \n",
    "    df = df.copy()\n",
    "    \n",
    "    # Plotting\n",
    "    if(verbose):\n",
    "        fg, ((ax1, ax2), (ax3, ax4)) = plt.subplots(2,2, figsize=(11,7))\n",
    "        # chequing the distribution of 'y' = 'SalePrice'\n",
    "        \n",
    "        sns.histplot( df['SalePrice'], bins=50, ax= ax1);\n",
    "        ax1.title.set_text('Skewed SalePrice')\n",
    "    \n",
    "        sns.scatterplot(x=df['GrLivArea'], y=df['SalePrice'], ax=ax3);\n",
    "        ax3.title.set_text('Outliers')\n",
    "    \n",
    "    outliers = df[ df['GrLivArea'] >= 4500].index\n",
    "    \n",
    "    # deleting the outliers in 'GrLivArea'\n",
    "    df.drop(outliers, inplace=True)\n",
    "    \n",
    "    # Plotting\n",
    "    if(verbose):\n",
    "        # cheking again\n",
    "        sns.scatterplot(x=df['GrLivArea'], y=df['SalePrice'], ax=ax4);\n",
    "        ax4.title.set_text('NO Outliers')\n",
    "    \n",
    "    # pipeline to scale and do a powerTransforme on y('SalePrice')\n",
    "    fix_y = Pipeline([('scaler', RobustScaler()), ('power', PowerTransformer(method='yeo-johnson'))])\n",
    "    \n",
    "    y = fix_y.fit_transform( df['SalePrice'].values.reshape(-1, 1) )\n",
    "    \n",
    "    # Plotting\n",
    "    if(verbose):\n",
    "        # checking the distribution of 'y' again\n",
    "        sns.histplot(y, bins=50, ax=ax2);\n",
    "        ax2.title.set_text('yeo-johnson transformed \\'y\\'')\n",
    "        \n",
    "        plt.tight_layout()\n",
    "        plt.show()\n",
    "        \n",
    "    df['SalePrice'] = y.copy()\n",
    "    \n",
    "    return df.copy()\n",
    "    "
   ]
  },
  {
   "cell_type": "markdown",
   "id": "c3a4e36f-2405-4d18-9056-5c998eb3e7ad",
   "metadata": {
    "jp-MarkdownHeadingCollapsed": true,
    "tags": []
   },
   "source": [
    "### Combining training and test sets"
   ]
  },
  {
   "cell_type": "code",
   "execution_count": 86,
   "id": "165e0f7d-a6db-49df-ae96-26052ea2a0e9",
   "metadata": {},
   "outputs": [],
   "source": [
    "def combine_tr_te(df_tr, df_te, verbose=False):\n",
    "    \n",
    "    all_d = pd.concat([d_tr.copy(), d_te.copy()])\n",
    "    \n",
    "    if(verbose):\n",
    "        print('New data shape: ', all_d.shape)\n",
    "        \n",
    "    return all_d.copy()"
   ]
  },
  {
   "cell_type": "markdown",
   "id": "8a5ade99-7886-4637-89f1-9c7b0dff611d",
   "metadata": {
    "jp-MarkdownHeadingCollapsed": true,
    "tags": []
   },
   "source": [
    "### Imputting 'nan'"
   ]
  },
  {
   "cell_type": "code",
   "execution_count": 88,
   "id": "04f383d9-7b69-4ad6-a79a-605c0c65c2e5",
   "metadata": {},
   "outputs": [],
   "source": [
    "\n",
    "def impute_nan(all_data):\n",
    "    \n",
    "    # 34 columns with nan\n",
    "    def fillWithNone(df):\n",
    "        ''' nan in 'PoolQC' means 'no pool' \n",
    "            nan in 'MiscFeature' means 'no misc feature'\n",
    "            nan in 'Alley' means 'no alley acces'\n",
    "            nan in 'Fence' means 'no fence'\n",
    "            nan in 'FireplaceQu' means 'no Fireplace'\n",
    "            nan in 'GarageType', 'GarageFinish', 'GarageQual',\n",
    "                'BsmtQual', 'BsmtCond', 'BsmtExposure', 'BsmtFinType1'\n",
    "                'BsmtFinType1', 'MasVnrType', 'MSSubClass'\n",
    "                'GarageCond' replaced with 'None' too\n",
    "\n",
    "            recive a df\n",
    "        '''\n",
    "\n",
    "        df = df.copy()\n",
    "\n",
    "        columns = ['PoolQC', 'MiscFeature', 'Alley', 'Fence', \n",
    "                   'FireplaceQu', 'GarageType', 'GarageFinish', \n",
    "                   'GarageQual', 'GarageCond', 'BsmtQual',\n",
    "                   'BsmtCond', 'BsmtExposure', 'BsmtFinType1',\n",
    "                   'BsmtFinType2', 'MasVnrType'\n",
    "                  ]\n",
    "\n",
    "        for col in columns:\n",
    "            df[col] = df[col].fillna('None')\n",
    "\n",
    "        return df\n",
    "\n",
    "    def fillWithZero(df):\n",
    "        ''' nan \n",
    "\n",
    "        '''\n",
    "\n",
    "        df = df.copy()\n",
    "\n",
    "        columns = ['GarageYrBlt', 'GarageArea', 'GarageCars',\n",
    "                   'BsmtFinSF1', 'BsmtFinSF2', 'BsmtUnfSF',\n",
    "                   'TotalBsmtSF', 'BsmtFullBath', 'BsmtHalfBath',\n",
    "                   'MasVnrArea'\n",
    "                  ]\n",
    "\n",
    "        for col in columns:\n",
    "            df[col] = df[col].fillna(0)\n",
    "\n",
    "        return df\n",
    "\n",
    "    def fillWithMode(df):\n",
    "        ''' fill missing values with mode, median\n",
    "        '''\n",
    "        df = df.copy()\n",
    "\n",
    "        columns = ['Electrical', 'KitchenQual', 'Exterior1st',\n",
    "                   'Exterior2nd', 'SaleType'\n",
    "                  ]\n",
    "\n",
    "        for col in columns:\n",
    "            df[col] = df[col].fillna(df[col].mode()[0])\n",
    "\n",
    "        # filling with median of each 'Neighborhood'\n",
    "        df['LotFrontage'] = (\n",
    "                         df.groupby('Neighborhood')['LotFrontage']\n",
    "                         .transform(lambda x: x.fillna(x.median()))\n",
    "                        )  \n",
    "\n",
    "        # nan means Typical\n",
    "        df['Functional'] = df['Functional'].fillna('Typ')\n",
    "\n",
    "        return df\n",
    "\n",
    "\n",
    "    def mszoning(df):\n",
    "        ''' recives a DF this imputation takes place on test data only'''\n",
    "\n",
    "        df = df.copy()\n",
    "\n",
    "        idotrr = ( (df['Neighborhood'] == 'IDOTRR') & (df['MSZoning'].isna()) )\n",
    "        mitchel = ( (df['Neighborhood'] == 'Mitchel') & (df['MSZoning'].isna()) )\n",
    "\n",
    "        df.loc[ idotrr , 'MSZoning'] = 'RM'\n",
    "        df.loc[ mitchel, 'MSZoning'] = 'RL'\n",
    "\n",
    "    #     # to test this function out of here\n",
    "    #     temp = mszoning(d_te)\n",
    "    #     # lable index acces at [1916, 2217, 2251, 2905\n",
    "    #     temp.loc[[1916, 2217, 2251, 2905], 'MSZoning']\n",
    "\n",
    "        return df\n",
    "\n",
    "    none_func = FunctionTransformer(fillWithNone, validate=False) \n",
    "    zero_func = FunctionTransformer(fillWithZero, validate=False) \n",
    "    mode_func = FunctionTransformer(fillWithMode, validate=False)\n",
    "    mszo_func = FunctionTransformer(mszoning, validate=False)\n",
    "    \n",
    "    \n",
    "    imputer = Pipeline([\n",
    "                    ('withNone', none_func), \n",
    "                    ('withZero', zero_func), \n",
    "                    ('withMode', mode_func), \n",
    "                    ('mszoni', mszo_func)\n",
    "                   ])\n",
    "    \n",
    "    result = imputer.fit_transform(all_data)\n",
    "    \n",
    "    return result.copy()"
   ]
  },
  {
   "cell_type": "markdown",
   "id": "332fe660-3a2d-4178-ad09-ee1ceed3dbbb",
   "metadata": {
    "jp-MarkdownHeadingCollapsed": true,
    "tags": []
   },
   "source": [
    "### Reduce Categories(Collapsing)"
   ]
  },
  {
   "cell_type": "code",
   "execution_count": 105,
   "id": "9b2e37e1-4772-4ec5-94f3-3cd2beaac333",
   "metadata": {},
   "outputs": [],
   "source": [
    "def reduce_categories(all_data):\n",
    "    \n",
    "#     # Low frequency categories to 'Other'\n",
    "#     def lower_than(df, col, percentage):\n",
    "#         ''' function that will merge low frequency classes into \n",
    "#             a single class 'Others'\n",
    "\n",
    "#             parameters:\n",
    "#                 df: a DataFrame\n",
    "#                 col: column's name to work on\n",
    "#                 percentage(%): the threshold like 0.1, 0.2\n",
    "\n",
    "#             returns:\n",
    "#                 df: the data frame with col's classes that are lowers\n",
    "#                     than 'threshold' been repleced with 'Other' category\n",
    "#         '''\n",
    "\n",
    "#         # calculating the column frequency\n",
    "#         col_freq = df[col].value_counts(normalize=True)\n",
    "\n",
    "#         # the getting the column threshold \n",
    "#         threshold = col_freq.quantile(q= percentage)\n",
    "\n",
    "#         # knowing the classes that are below the threshold\n",
    "#         less_freq_classes = col_freq[ col_freq <= threshold ]\n",
    "\n",
    "#         others = less_freq_classes.index.to_list()\n",
    "\n",
    "#         print(others)\n",
    "\n",
    "#         df[col] = df[col].replace(others, 'Others')\n",
    "\n",
    "#         return df\n",
    "\n",
    "\n",
    "\n",
    "    con1_others = ['RRAn', 'PosN', 'RRAe', 'PosA', 'RRNn', 'RRNe']\n",
    "    roofS_others = ['Gambrel', 'Flat', 'Mansard', 'Shed']\n",
    "    foun_others = ['Slab', 'Stone', 'Wood']\n",
    "    gara_others = ['None', 'Basment', '2Types', 'CarPort']\n",
    "    saleT_others = ['ConLD', 'CWD', 'ConLI', 'ConLw', 'Oth', 'Con']\n",
    "    saleC_others = ['Family', 'Alloca', 'AdjLand']\n",
    "    exte1_others = ['BrkComm', 'AsphShn', 'Stone', 'CBlock', 'ImStucc']\n",
    "    exte2_others = ['BrkComm', 'AsphShn', 'Stone', 'CBlock', 'ImStucc', 'Other']\n",
    "    lotC_others = ['FR2', 'FR3']\n",
    "\n",
    "    all_data['Condition1'] = all_data['Condition1'].map(lambda x: 'Others' if x in con1_others else x)\n",
    "    all_data['RoofStyle'] = all_data['RoofStyle'].map(lambda x: 'Others' if x in roofS_others else x)\n",
    "    all_data['Foundation'] = all_data['Foundation'].map(lambda x: 'Others' if x in foun_others else x)\n",
    "    all_data['GarageType'] = all_data['GarageType'].map(lambda x: 'Others' if x in gara_others else x)\n",
    "    all_data['SaleType'] = all_data['SaleType'].map(lambda x: 'Others' if x in saleT_others else x)\n",
    "    all_data['SaleCondition'] = all_data['SaleCondition'].map(lambda x: 'Others' if x in saleC_others else x)\n",
    "    all_data['Exterior1st'] = all_data['Exterior1st'].map(lambda x: 'Others' if x in exte1_others else x)\n",
    "    all_data['Exterior2nd'] = all_data['Exterior2nd'].map(lambda x: 'Others' if x in exte2_others else x)\n",
    "    all_data['LotConfig'] = all_data['LotConfig'].map(lambda x: 'Others' if x in lotC_others else x)\n",
    "\n",
    "\n",
    "    # Reducing to a BINARY CLASSES(just 2 clases)\n",
    "\n",
    "    landC_others = ['HLS', 'Bnk', 'Low']\n",
    "    cond2_others = ['Feedr', 'Artery', 'PosN', 'PosA', 'RRNn', 'RRAn', 'RRAe']\n",
    "    roofM_others = ['Tar&Grv', 'WdShake', 'WdShngl', 'Metal', 'Membran', 'Roll', 'ClyTile']\n",
    "    heati_others = ['GasW', 'Grav', 'Wall', 'OthW', 'Floor']\n",
    "    elect_others = ['FuseA', 'FuseF', 'FuseP', 'Mix']\n",
    "    miscF_others = ['Shed', 'Gar2', 'Othr', 'TenC']\n",
    "\n",
    "    all_data['LandContour'] = all_data['LandContour'].map(lambda x: 'Others' if x in landC_others else x)\n",
    "    all_data['Condition2'] = all_data['Condition2'].map(lambda x: 'Others' if x in cond2_others else x)\n",
    "    all_data['RoofMatl'] = all_data['RoofMatl'].map(lambda x: 'Others' if x in roofM_others else x)\n",
    "    all_data['Heating'] = all_data['Heating'].map(lambda x: 'Others' if x in heati_others else x)\n",
    "    all_data['Electrical'] = all_data['Electrical'].map(lambda x: 'Others' if x in elect_others else x)\n",
    "\n",
    "    all_data['MiscFeature'] = all_data['MiscFeature'].map(lambda x: 'Others' if x in miscF_others else x)\n",
    "    \n",
    "    \n",
    "    return all_data.copy()"
   ]
  },
  {
   "cell_type": "markdown",
   "id": "15f29a9b-652d-4150-b0cd-d8208223ca2d",
   "metadata": {
    "jp-MarkdownHeadingCollapsed": true,
    "tags": []
   },
   "source": [
    "### Features Engineering"
   ]
  },
  {
   "cell_type": "code",
   "execution_count": 113,
   "id": "2bb5c6fd-4af0-459c-8cc6-ab0ee2914b53",
   "metadata": {},
   "outputs": [],
   "source": [
    "\n",
    "def features_engineering(all_data):\n",
    "    # Before using d_tr set \n",
    "    # get the new d_tr set from all_data\n",
    "    d_tr = all_data[all_data['Training']].copy()\n",
    "\n",
    "    # Creating a new feature 'PeakMonths', 'Unfinished',\n",
    "    # 'Splited', and TotalSF\n",
    "    peak_moS = [5, 6, 7]\n",
    "    unfi_hou = ['1.5Unf', '2.5Unf']\n",
    "    spli_hou = ['SFoyer', 'SLvl']\n",
    "\n",
    "    all_data['PeakMonths'] = all_data['MoSold'].map(lambda x: 'Peak' if x in peak_moS else 'Normal' )\n",
    "    all_data['Finished']   = all_data['HouseStyle'].map(lambda x: 'no' if x in unfi_hou else 'yes') \n",
    "    all_data['Splited']    = all_data['HouseStyle'].map(lambda x: 'yes' if x in spli_hou else 'no')\n",
    "\n",
    "    all_data['TotalSF']    = all_data['TotalBsmtSF'] + all_data['1stFlrSF'] + all_data['2ndFlrSF']\n",
    "\n",
    "\n",
    "    # we will use the training data because if we uses all_data\n",
    "    # it has 'nan' in 'SalePrice'. test data does not have 'SalePrice'\n",
    "    # 'Neighborhood', 5, 'MSSubClass', 4\n",
    "    nei_cluster = make_clusters(d_tr.copy(), 'Neighborhood', 'SalePrice', 5)\n",
    "    mss_cluster = make_clusters(d_tr.copy(), 'MSSubClass', 'SalePrice', 4)\n",
    "\n",
    "    # merging the clusters with the data frame\n",
    "    # we got a 'nan' cluster becouse 'MSSubClass' in test\n",
    "    # has a '150' class that is just in test\n",
    "    all_data = all_data.merge(nei_cluster, how='left', on='Neighborhood')\n",
    "    all_data.drop(columns='Neighborhood', inplace=True)\n",
    "\n",
    "    all_data = all_data.merge(mss_cluster, how='left', on='MSSubClass')\n",
    "    all_data.drop(columns='MSSubClass', inplace=True)\n",
    "\n",
    "    all_data.reset_index(drop=True, inplace=True)\n",
    "\n",
    "    # updating the ** new feature ** types\n",
    "    all_data = all_data.astype( {'PeakMonths':str, 'Finished':str, 'Splited':str,\n",
    "                           'Neighborhood_Cluster': str, 'MSSubClass_Cluster': str} )\n",
    "    \n",
    "    return all_data.copy()\n",
    "\n",
    "# # updating cat_to_1Hot\n",
    "# cat_to_1Hot.update( {'PeakMonths':str, 'Finished':str, 'Splited':str,\n",
    "#                        'Neighborhood_Cluster': str, 'MSSubClass_Cluster': str} )"
   ]
  },
  {
   "cell_type": "markdown",
   "id": "a2753745-3428-4207-bc5b-661943b375f5",
   "metadata": {
    "jp-MarkdownHeadingCollapsed": true,
    "tags": []
   },
   "source": [
    "### Global Variables\n",
    "> ord_cat_mapping  \n",
    "> cat_to_1Hot  \n",
    "> ord_cat_DONE  "
   ]
  },
  {
   "cell_type": "code",
   "execution_count": 122,
   "id": "c1bd0b41-503b-4d5d-9c6e-2e4c221f0f46",
   "metadata": {},
   "outputs": [],
   "source": [
    "##### ****** All writed by me ****** #####\n",
    "##########################################\n",
    "def get_global_variables():\n",
    "    ord_cat_mapping = [\n",
    "        {\n",
    "            'col': 'FireplaceQu',\n",
    "            'mapping': {'None': 0, 'Po': 1, 'Fa': 2, 'TA': 3, 'Gd': 4, 'Ex': 5}\n",
    "        },\n",
    "        {\n",
    "            'col': 'GarageQual',\n",
    "            'mapping': {'None': 0, 'Po': 1, 'Fa': 2, 'TA': 3, 'Gd': 4, 'Ex': 5}\n",
    "        },\n",
    "        {\n",
    "            'col': 'GarageCond',\n",
    "            'mapping': {'None': 0, 'Po': 1, 'Fa': 2, 'TA': 3, 'Gd': 4, 'Ex': 5}\n",
    "        },\n",
    "        {\n",
    "            'col': 'BsmtFinType1',\n",
    "            'mapping': {'None': 0, 'Unf': 1, 'LwQ': 2, 'Rec': 3, 'BLQ': 4, 'ALQ': 5, 'GLQ': 6}\n",
    "        },\n",
    "        {\n",
    "            'col': 'BsmtFinType2',\n",
    "            'mapping': {'None': 0, 'Unf': 1, 'LwQ': 2, 'Rec': 3, 'BLQ': 4, 'ALQ': 5, 'GLQ': 6}\n",
    "        },\n",
    "        {\n",
    "            'col': 'ExterQual',\n",
    "            'mapping': {'Fa': 0, 'TA': 1, 'Gd': 2, 'Ex': 3}\n",
    "        },\n",
    "        {\n",
    "            'col': 'ExterCond',\n",
    "            'mapping': {'Po': 0, 'Fa': 1, 'TA': 2, 'Gd': 3, 'Ex': 4}\n",
    "        },\n",
    "        {\n",
    "            'col': 'BsmtQual',\n",
    "            'mapping': {'None': 0 , 'Fa': 1, 'TA': 2, 'Gd': 3, 'Ex': 4}\n",
    "        },\n",
    "        {\n",
    "            'col': 'BsmtCond',\n",
    "            'mapping': {'None': 0, 'Po': 1, 'Fa': 2, 'TA': 3, 'Gd': 4}\n",
    "        },\n",
    "        {\n",
    "            'col': 'PoolQC',\n",
    "            'mapping': {'None': 0, 'Fa': 1, 'Gd': 2, 'Ex': 3}\n",
    "        },\n",
    "        {\n",
    "            'col': 'HeatingQC',\n",
    "            'mapping': {'Po': 0, 'Fa': 1, 'TA': 2, 'Gd': 3, 'Ex': 4}\n",
    "        },\n",
    "        {\n",
    "            'col': 'KitchenQual',\n",
    "            'mapping': {'Fa': 0, 'TA': 1, 'Gd': 2, 'Ex': 3}\n",
    "        },\n",
    "        {\n",
    "            'col': 'BsmtExposure',\n",
    "            'mapping': {'None': 0, 'No': 1, 'Mn': 2, 'Av': 3, 'Gd': 4}\n",
    "        },\n",
    "        {\n",
    "            'col': 'Functional',\n",
    "            'mapping': {'Sev': 0, 'Maj2': 1, 'Maj1': 2, 'Mod': 3, 'Min2': 4, 'Min1': 5, 'Typ': 6}\n",
    "        },\n",
    "        {\n",
    "            'col': 'GarageFinish',\n",
    "            'mapping': {'None': 0, 'Unf': 1, 'RFn': 2, 'Fin': 3}\n",
    "        },\n",
    "        {\n",
    "            'col': 'Fence',\n",
    "            'mapping': {'None': 0, 'MnWw': 1, 'GdWo': 2, 'MnPrv': 3, 'GdPrv': 4}\n",
    "        },\n",
    "        {\n",
    "            'col': 'CentralAir',\n",
    "            'mapping': {'N': 0, 'Y': 1}\n",
    "        },\n",
    "        {\n",
    "            'col': 'PavedDrive',\n",
    "            'mapping': {'N': 0, 'P': 1, 'Y': 2}\n",
    "        },\n",
    "        {\n",
    "            'col': 'Street',\n",
    "            'mapping': {'Grvl': 0, 'Pave': 1}\n",
    "        },\n",
    "        {\n",
    "            'col': 'Alley',\n",
    "            'mapping': {'None': 0, 'Grvl': 1, 'Pave': 2}\n",
    "        },\n",
    "        {\n",
    "            'col': 'LandSlope',\n",
    "            'mapping': {'Gtl': 0, 'Mod': 1, 'Sev': 2}\n",
    "        },\n",
    "        {\n",
    "            'col': 'LotShape',\n",
    "            'mapping': {'Reg': 0, 'IR1': 1, 'IR2': 2, 'IR3': 3}\n",
    "        },\n",
    "        {\n",
    "            'col': 'HouseStyle', \n",
    "            'mapping': {'SLvl': 0, 'SFoyer': 0, '1Story': 1, '1.5Fin': 2, \n",
    "                        '1.5Unf': 2, '2Story': 3, '2.5Unf': 4, '2.5Fin': 4}\n",
    "        }\n",
    "    ]\n",
    "\n",
    "    # list of categorical columns(23)  \n",
    "    # that we just encoded\n",
    "    ord_cat_DONE = {'FireplaceQu': str, 'GarageQual': str,'GarageCond': str,'BsmtFinType1': str,\n",
    "                     'BsmtFinType2': str,'ExterQual': str,'ExterCond': str,'BsmtQual': str,\n",
    "                     'BsmtCond': str,'PoolQC': str,'HeatingQC': str,'KitchenQual': str,\n",
    "                     'BsmtExposure': str,'Functional': str,'GarageFinish': str,'Fence': str, \n",
    "                     'CentralAir': str, 'PavedDrive': str,'Street': str,'Alley': str,\n",
    "                     'LandSlope': str,'LotShape': str, 'HouseStyle': str}\n",
    "\n",
    "    # to encode using OneHot (15 so far)\n",
    "    cat_to_1Hot = {'Condition1': str, 'RoofStyle': str, 'Foundation': str, 'GarageType': str, 'SaleType': str, \n",
    "                   'SaleCondition': str, 'Exterior1st': str, 'Exterior2nd': str, 'LotConfig': str, 'LandContour': str, \n",
    "                   'Condition2': str, 'RoofMatl': str, 'Heating': str, 'Electrical': str, 'MiscFeature': str }\n",
    "\n",
    "    # updating cat_to_1Hot with new created features\n",
    "    cat_to_1Hot.update( {'PeakMonths':str, 'Finished':str, 'Splited':str,\n",
    "                           'Neighborhood_Cluster': str, 'MSSubClass_Cluster': str} )\n",
    "\n",
    "    # updating the types\n",
    "    # update the list of ordinal with 2 columns name\n",
    "    # that allredy are ordinal and encoded ('OverallQual', 'OverallCond')\n",
    "\n",
    "    ord_cat_DONE.update({'OverallQual': str, 'OverallCond': str})\n",
    "    # new_d = new_d.astype(ord_cat_DONE)\n",
    "\n",
    "    # 5 more columns will concidere as categorical\n",
    "    cat_to_1Hot.update({'MoSold': str, 'YrSold': str, 'BldgType':str, \n",
    "                        'MSZoning': str, 'MasVnrType': str})\n",
    "\n",
    "    # new_d = new_d.astype(cat_to_1Hot)\n",
    "    \n",
    "    return (ord_cat_mapping, ord_cat_DONE, cat_to_1Hot)"
   ]
  },
  {
   "cell_type": "markdown",
   "id": "cb0837ed-4ff2-4ff0-8757-22bd1ab8858e",
   "metadata": {
    "jp-MarkdownHeadingCollapsed": true,
    "tags": []
   },
   "source": [
    "### Ordinal and OneHot encoding"
   ]
  },
  {
   "cell_type": "code",
   "execution_count": 141,
   "id": "eb0ea81b-798a-4140-b820-f079c439f7b6",
   "metadata": {},
   "outputs": [],
   "source": [
    "def ordinal_1hot_encode(all_data, ord_mapping, oneHot_col):\n",
    "    \n",
    "    ## OrdinalEncoder\n",
    "    oe = OrdinalEncoder(mapping=ord_mapping).fit(all_data)\n",
    "    \n",
    "    all_data = oe.transform(all_data)\n",
    "    \n",
    "    \n",
    "    ## OneHot encoding\n",
    "    oh = OneHotEncoder(cols=oneHot_col).fit(all_data)\n",
    "    \n",
    "    all_data = oh.transform(all_data.copy())\n",
    "    \n",
    "    \n",
    "    \n",
    "    return all_data.copy()"
   ]
  },
  {
   "cell_type": "markdown",
   "id": "3baf713e-99a7-4ca7-9461-f8baf513f1fa",
   "metadata": {},
   "source": [
    "### Temp\n",
    "> 01\n",
    "> 02"
   ]
  },
  {
   "cell_type": "code",
   "execution_count": null,
   "id": "c0ae2292-19fb-42fe-bc1e-9f5853c623f9",
   "metadata": {},
   "outputs": [],
   "source": []
  },
  {
   "cell_type": "code",
   "execution_count": null,
   "id": "a2f9efd7-a79e-43d3-a325-bbbf7e48f86b",
   "metadata": {},
   "outputs": [],
   "source": []
  },
  {
   "cell_type": "markdown",
   "id": "d76b9e1c-5469-49f1-a37d-97d33dc29cd0",
   "metadata": {},
   "source": [
    "# Driver"
   ]
  },
  {
   "cell_type": "code",
   "execution_count": 106,
   "id": "2af68c83-8ecc-46e4-8d5b-1fc378142d78",
   "metadata": {},
   "outputs": [
    {
     "name": "stdout",
     "output_type": "stream",
     "text": [
      "d_tr shape: (1460, 80)\n",
      "d_te shape: (1459, 79)\n"
     ]
    }
   ],
   "source": [
    "# get the data\n",
    "d_tr, d_te = data(verbose=True)"
   ]
  },
  {
   "cell_type": "code",
   "execution_count": 107,
   "id": "d170f1fd-2d3a-4c47-b7b8-850af2319f86",
   "metadata": {},
   "outputs": [
    {
     "data": {
      "image/png": "[encoded data removed]",
      "text/plain": [
       "<Figure size 792x504 with 4 Axes>"
      ]
     },
     "metadata": {
      "needs_background": "light"
     },
     "output_type": "display_data"
    }
   ],
   "source": [
    "# taking cara of some outliers\n",
    "# and making more gausian 'y'\n",
    "d_tr = analyze_y(d_tr.copy())"
   ]
  },
  {
   "cell_type": "code",
   "execution_count": 108,
   "id": "3b937b56-d08f-46b3-9506-022753886a80",
   "metadata": {},
   "outputs": [
    {
     "name": "stdout",
     "output_type": "stream",
     "text": [
      "New data shape:  (2917, 80)\n"
     ]
    },
    {
     "data": {
      "text/plain": [
       "(2917, 80)"
      ]
     },
     "execution_count": 108,
     "metadata": {},
     "output_type": "execute_result"
    }
   ],
   "source": [
    "# after take care of some outlier\n",
    "# combine the training and the test\n",
    "all_d = combine_tr_te(d_tr.copy(), d_te.copy(), verbose=True)\n",
    "all_d.shape"
   ]
  },
  {
   "cell_type": "code",
   "execution_count": 109,
   "id": "baf1aea8-67b8-46c2-9d9e-652d48a3e0dd",
   "metadata": {},
   "outputs": [],
   "source": [
    "# imputing nan\n",
    "all_d = impute_nan(all_d.copy())"
   ]
  },
  {
   "cell_type": "code",
   "execution_count": 110,
   "id": "cc0c2f0a-1380-44bd-ba48-e68cfbdac267",
   "metadata": {},
   "outputs": [
    {
     "data": {
      "text/plain": [
       "['SalePrice']"
      ]
     },
     "execution_count": 110,
     "metadata": {},
     "output_type": "execute_result"
    }
   ],
   "source": [
    "all_d.columns[all_d.isna().any()].to_list()"
   ]
  },
  {
   "cell_type": "code",
   "execution_count": 111,
   "id": "86001183-b5b7-452d-9622-49c154193ba8",
   "metadata": {},
   "outputs": [
    {
     "data": {
      "text/plain": [
       "PConc     1306\n",
       "CBlock    1235\n",
       "BrkTil     311\n",
       "Others      65\n",
       "Name: Foundation, dtype: int64"
      ]
     },
     "execution_count": 111,
     "metadata": {},
     "output_type": "execute_result"
    }
   ],
   "source": [
    "# reducing the number of categories in some columns\n",
    "all_d = reduce_categories(all_d.copy())\n",
    "# all_d['Foundation'].value_counts()"
   ]
  },
  {
   "cell_type": "markdown",
   "id": "a466796c-7055-421b-b38d-e0995b1228ec",
   "metadata": {},
   "source": [
    "### Feature Engineering"
   ]
  },
  {
   "cell_type": "code",
   "execution_count": 118,
   "id": "71e9dd6d-6a96-4dc8-9902-22bc5ef269aa",
   "metadata": {},
   "outputs": [],
   "source": [
    "# creating new columns like cluster ...\n",
    "all_d = features_engineering(all_d.copy())"
   ]
  },
  {
   "cell_type": "markdown",
   "id": "542211c3-9dcf-4e24-8e48-c286c4b409e1",
   "metadata": {},
   "source": [
    "### Categorical and Number Columns"
   ]
  },
  {
   "cell_type": "code",
   "execution_count": 123,
   "id": "1647b158-d279-4add-9b25-332a7a3f5267",
   "metadata": {},
   "outputs": [],
   "source": [
    "# getting the global variables\n",
    "ord_cat_mapping, ord_cat_DONE, cat_to_1Hot = get_global_variables()"
   ]
  },
  {
   "cell_type": "code",
   "execution_count": 125,
   "id": "1e1c18f3-988c-48f9-94ef-5bd620ae359d",
   "metadata": {},
   "outputs": [],
   "source": [
    "# updating the data type\n",
    "all_d = all_d.astype(cat_to_1Hot)\n",
    "all_d = all_d.astype(ord_cat_DONE)"
   ]
  },
  {
   "cell_type": "code",
   "execution_count": 127,
   "id": "2ce1c448-e544-4f53-8b6a-bd105ba121e7",
   "metadata": {},
   "outputs": [],
   "source": [
    "# getting the number columns\n",
    "numbers_col = all_d.select_dtypes('number')\n",
    "numbers_col = numbers_col.columns.to_list()"
   ]
  },
  {
   "cell_type": "code",
   "execution_count": 129,
   "id": "1710eaf2-b38f-4fc9-8083-c706286e948e",
   "metadata": {},
   "outputs": [
    {
     "data": {
      "text/plain": [
       "{'Training'}"
      ]
     },
     "execution_count": 129,
     "metadata": {},
     "output_type": "execute_result"
    }
   ],
   "source": [
    "analyzed_col = numbers_col + list(cat_to_1Hot.keys()) + list(ord_cat_DONE.keys())\n",
    "set( all_d.columns.to_list() ) - set( analyzed_col )"
   ]
  },
  {
   "cell_type": "code",
   "execution_count": 132,
   "id": "85cbe87d-f5a5-4c34-8209-a9f03eee4ae2",
   "metadata": {},
   "outputs": [
    {
     "data": {
      "text/plain": [
       "set()"
      ]
     },
     "execution_count": 132,
     "metadata": {},
     "output_type": "execute_result"
    }
   ],
   "source": [
    "set( analyzed_col ) - set( all_d.columns.to_list() )"
   ]
  },
  {
   "cell_type": "code",
   "execution_count": 131,
   "id": "38f622b3-79ed-4e28-bd28-752a0efb223c",
   "metadata": {},
   "outputs": [
    {
     "name": "stdout",
     "output_type": "stream",
     "text": [
      "analyzed_col len: 83\n",
      "all_d.columns len 84\n"
     ]
    }
   ],
   "source": [
    "print('analyzed_col len:', len(analyzed_col))\n",
    "print('all_d.columns len', len(all_d.columns.to_list()))"
   ]
  },
  {
   "cell_type": "code",
   "execution_count": null,
   "id": "9ea4db5c-fcc0-4ba7-87ef-0a9edf9164f4",
   "metadata": {},
   "outputs": [],
   "source": []
  },
  {
   "cell_type": "markdown",
   "id": "0f0a2978-0b5d-4a03-9a6a-a00f1c280d54",
   "metadata": {},
   "source": [
    "### Doing Ordinal and OneHot Encoding"
   ]
  },
  {
   "cell_type": "code",
   "execution_count": 146,
   "id": "44b4b2ba-004b-4127-a973-9e5370fbf115",
   "metadata": {},
   "outputs": [],
   "source": [
    "# encoding ordinal and onehot columns\n",
    "all_d = ordinal_1hot_encode(all_d.copy(), ord_cat_mapping, cat_to_1Hot)"
   ]
  },
  {
   "cell_type": "code",
   "execution_count": null,
   "id": "6eefa6fc-51fb-4797-8295-074b9957dd64",
   "metadata": {},
   "outputs": [],
   "source": [
    "all_d.columns.to_list()"
   ]
  },
  {
   "cell_type": "markdown",
   "id": "e22f6db8-83ed-41cc-a4e3-5b279e462120",
   "metadata": {},
   "source": [
    "### Working on Number Columns"
   ]
  },
  {
   "cell_type": "markdown",
   "id": "76e715e0-852c-4ec4-958b-d74985f36db8",
   "metadata": {},
   "source": [
    "> Skew Col"
   ]
  },
  {
   "cell_type": "code",
   "execution_count": 152,
   "id": "58250562-a7c4-4e94-8dbe-c69b80d38a76",
   "metadata": {},
   "outputs": [
    {
     "data": {
      "text/plain": [
       "33"
      ]
     },
     "execution_count": 152,
     "metadata": {},
     "output_type": "execute_result"
    }
   ],
   "source": [
    "skewed = all_d[numbers_col].skew()\n",
    "len(skewed)"
   ]
  },
  {
   "cell_type": "code",
   "execution_count": 156,
   "id": "2fd7f992-20f5-44d2-b2a1-6f4e94bd6282",
   "metadata": {},
   "outputs": [
    {
     "data": {
      "text/plain": [
       "22"
      ]
     },
     "execution_count": 156,
     "metadata": {},
     "output_type": "execute_result"
    }
   ],
   "source": [
    "skewed = skewed[skewed >= 0.7]\n",
    "skewed = skewed.index\n",
    "len(skewed)"
   ]
  },
  {
   "cell_type": "code",
   "execution_count": 154,
   "id": "44559b67-d554-4041-b2a3-176199e9a4f1",
   "metadata": {},
   "outputs": [],
   "source": [
    "fix_data_skew = Pipeline([('scaler', RobustScaler()), \n",
    "                          ('yeo', PowerTransformer(method='yeo-johnson'))])"
   ]
  },
  {
   "cell_type": "code",
   "execution_count": 165,
   "id": "793b76a3-e717-47ae-9f46-9b4bc13407c8",
   "metadata": {},
   "outputs": [],
   "source": [
    "# fixing the skew data\n",
    "# all_d2 = all_d.copy()\n",
    "all_d[skewed] = fix_data_skew.fit_transform(all_d[skewed].copy())"
   ]
  },
  {
   "cell_type": "markdown",
   "id": "91e36385-2043-4eb7-9186-a88801ad7762",
   "metadata": {},
   "source": [
    "> Feature Selection"
   ]
  },
  {
   "cell_type": "code",
   "execution_count": 166,
   "id": "31f5d342-f107-449a-b20f-4faabb95a056",
   "metadata": {},
   "outputs": [],
   "source": [
    "d_tr = all_d[ all_d['Training']].copy()"
   ]
  },
  {
   "cell_type": "code",
   "execution_count": 169,
   "id": "08568552-8722-4a33-a228-d058e32e4a7f",
   "metadata": {},
   "outputs": [],
   "source": [
    "y = d_tr['SalePrice'].copy()\n",
    "d_tr.drop(columns=['SalePrice'], inplace=True)"
   ]
  },
  {
   "cell_type": "code",
   "execution_count": 170,
   "id": "c0e4ebc0-aaf0-4ea5-8bef-8bd1075015ad",
   "metadata": {},
   "outputs": [],
   "source": [
    "mutual_infi = mutual_info_regression(X = d_tr, y= y)"
   ]
  },
  {
   "cell_type": "code",
   "execution_count": 173,
   "id": "78538988-0701-4b63-a204-6e02c113e498",
   "metadata": {},
   "outputs": [
    {
     "data": {
      "text/html": [
       "<div>\n",
       "<style scoped>\n",
       "    .dataframe tbody tr th:only-of-type {\n",
       "        vertical-align: middle;\n",
       "    }\n",
       "\n",
       "    .dataframe tbody tr th {\n",
       "        vertical-align: top;\n",
       "    }\n",
       "\n",
       "    .dataframe thead th {\n",
       "        text-align: right;\n",
       "    }\n",
       "</style>\n",
       "<table border=\"1\" class=\"dataframe\">\n",
       "  <thead>\n",
       "    <tr style=\"text-align: right;\">\n",
       "      <th></th>\n",
       "      <th>Features</th>\n",
       "      <th>Mutual Info</th>\n",
       "    </tr>\n",
       "  </thead>\n",
       "  <tbody>\n",
       "    <tr>\n",
       "      <th>156</th>\n",
       "      <td>TotalSF</td>\n",
       "      <td>0.683218</td>\n",
       "    </tr>\n",
       "    <tr>\n",
       "      <th>29</th>\n",
       "      <td>OverallQual</td>\n",
       "      <td>0.581919</td>\n",
       "    </tr>\n",
       "    <tr>\n",
       "      <th>90</th>\n",
       "      <td>GrLivArea</td>\n",
       "      <td>0.476245</td>\n",
       "    </tr>\n",
       "    <tr>\n",
       "      <th>108</th>\n",
       "      <td>GarageCars</td>\n",
       "      <td>0.375766</td>\n",
       "    </tr>\n",
       "    <tr>\n",
       "      <th>109</th>\n",
       "      <td>GarageArea</td>\n",
       "      <td>0.369454</td>\n",
       "    </tr>\n",
       "    <tr>\n",
       "      <th>80</th>\n",
       "      <td>TotalBsmtSF</td>\n",
       "      <td>0.365371</td>\n",
       "    </tr>\n",
       "    <tr>\n",
       "      <th>31</th>\n",
       "      <td>YearBuilt</td>\n",
       "      <td>0.361197</td>\n",
       "    </tr>\n",
       "    <tr>\n",
       "      <th>66</th>\n",
       "      <td>ExterQual</td>\n",
       "      <td>0.341624</td>\n",
       "    </tr>\n",
       "    <tr>\n",
       "      <th>72</th>\n",
       "      <td>BsmtQual</td>\n",
       "      <td>0.335442</td>\n",
       "    </tr>\n",
       "    <tr>\n",
       "      <th>97</th>\n",
       "      <td>KitchenQual</td>\n",
       "      <td>0.328671</td>\n",
       "    </tr>\n",
       "    <tr>\n",
       "      <th>87</th>\n",
       "      <td>1stFlrSF</td>\n",
       "      <td>0.302521</td>\n",
       "    </tr>\n",
       "    <tr>\n",
       "      <th>107</th>\n",
       "      <td>GarageFinish</td>\n",
       "      <td>0.269554</td>\n",
       "    </tr>\n",
       "    <tr>\n",
       "      <th>93</th>\n",
       "      <td>FullBath</td>\n",
       "      <td>0.265705</td>\n",
       "    </tr>\n",
       "    <tr>\n",
       "      <th>106</th>\n",
       "      <td>GarageYrBlt</td>\n",
       "      <td>0.255269</td>\n",
       "    </tr>\n",
       "    <tr>\n",
       "      <th>32</th>\n",
       "      <td>YearRemodAdd</td>\n",
       "      <td>0.232437</td>\n",
       "    </tr>\n",
       "    <tr>\n",
       "      <th>98</th>\n",
       "      <td>TotRmsAbvGrd</td>\n",
       "      <td>0.230211</td>\n",
       "    </tr>\n",
       "    <tr>\n",
       "      <th>101</th>\n",
       "      <td>FireplaceQu</td>\n",
       "      <td>0.207922</td>\n",
       "    </tr>\n",
       "    <tr>\n",
       "      <th>5</th>\n",
       "      <td>LotFrontage</td>\n",
       "      <td>0.204112</td>\n",
       "    </tr>\n",
       "    <tr>\n",
       "      <th>6</th>\n",
       "      <td>LotArea</td>\n",
       "      <td>0.198411</td>\n",
       "    </tr>\n",
       "    <tr>\n",
       "      <th>88</th>\n",
       "      <td>2ndFlrSF</td>\n",
       "      <td>0.196676</td>\n",
       "    </tr>\n",
       "  </tbody>\n",
       "</table>\n",
       "</div>"
      ],
      "text/plain": [
       "         Features  Mutual Info\n",
       "156       TotalSF     0.683218\n",
       "29    OverallQual     0.581919\n",
       "90      GrLivArea     0.476245\n",
       "108    GarageCars     0.375766\n",
       "109    GarageArea     0.369454\n",
       "80    TotalBsmtSF     0.365371\n",
       "31      YearBuilt     0.361197\n",
       "66      ExterQual     0.341624\n",
       "72       BsmtQual     0.335442\n",
       "97    KitchenQual     0.328671\n",
       "87       1stFlrSF     0.302521\n",
       "107  GarageFinish     0.269554\n",
       "93       FullBath     0.265705\n",
       "106   GarageYrBlt     0.255269\n",
       "32   YearRemodAdd     0.232437\n",
       "98   TotRmsAbvGrd     0.230211\n",
       "101   FireplaceQu     0.207922\n",
       "5     LotFrontage     0.204112\n",
       "6         LotArea     0.198411\n",
       "88       2ndFlrSF     0.196676"
      ]
     },
     "execution_count": 173,
     "metadata": {},
     "output_type": "execute_result"
    }
   ],
   "source": [
    "temp = pd.DataFrame( list(zip(d_tr.columns, mutual_infi)), columns=['Features', 'Mutual Info'] )\n",
    "temp = temp.sort_values('Mutual Info', ascending=False)\n",
    "# temp[temp['Mutual Info'] == 0 ].head(20)"
   ]
  },
  {
   "cell_type": "code",
   "execution_count": 178,
   "id": "0510558e-7bb7-4eac-a5af-fa82a7f1e515",
   "metadata": {},
   "outputs": [
    {
     "data": {
      "text/plain": [
       "(24, 2)"
      ]
     },
     "execution_count": 178,
     "metadata": {},
     "output_type": "execute_result"
    }
   ],
   "source": [
    "temp[ abs( temp['Mutual Info']) == 0 ].shape#.sort_values('Features')"
   ]
  },
  {
   "cell_type": "code",
   "execution_count": 208,
   "id": "ec6a67ad-c6a3-4f28-b3f6-b9c39deac4d3",
   "metadata": {},
   "outputs": [],
   "source": [
    "d_tr = all_d[ all_d['Training']].copy()\n",
    "mutual_info = mutual_info_regression(X = d_tr.drop(columns='SalePrice'), y=d_tr['SalePrice'].copy())"
   ]
  },
  {
   "cell_type": "code",
   "execution_count": 209,
   "id": "a814258a-afe9-471f-9cdb-89d20bf1bfef",
   "metadata": {},
   "outputs": [
    {
     "data": {
      "text/plain": [
       "(167, 2)"
      ]
     },
     "execution_count": 209,
     "metadata": {},
     "output_type": "execute_result"
    }
   ],
   "source": [
    "mu_df = pd.DataFrame(list(zip( d_tr.columns, mutual_info )), columns=['Feature', 'Mutual_info'])\n",
    "mu_df.shape"
   ]
  },
  {
   "cell_type": "code",
   "execution_count": 217,
   "id": "508ce4fc-2bbe-4a14-bd70-5aac71bb40d7",
   "metadata": {},
   "outputs": [
    {
     "data": {
      "text/plain": [
       "['MSZoning_3',\n",
       " 'MSZoning_5',\n",
       " 'LotConfig_3',\n",
       " 'Condition1_1',\n",
       " 'Condition1_2',\n",
       " 'RoofMatl_1',\n",
       " 'Exterior1st_5',\n",
       " 'Exterior1st_10',\n",
       " 'Exterior1st_11',\n",
       " 'Exterior2nd_3',\n",
       " 'Exterior2nd_4',\n",
       " 'Exterior2nd_7',\n",
       " 'Exterior2nd_8',\n",
       " 'Exterior2nd_12',\n",
       " 'MasVnrType_4',\n",
       " 'Foundation_4',\n",
       " 'BsmtFinSF2',\n",
       " 'Heating_2',\n",
       " 'MiscFeature_2',\n",
       " 'MoSold_5',\n",
       " 'MoSold_8',\n",
       " 'MoSold_9',\n",
       " 'MoSold_12',\n",
       " 'YrSold_3',\n",
       " 'YrSold_5',\n",
       " 'SalePrice',\n",
       " 'PeakMonths_2',\n",
       " 'Neighborhood_Cluster_1',\n",
       " 'MSSubClass_Cluster_1']"
      ]
     },
     "execution_count": 217,
     "metadata": {},
     "output_type": "execute_result"
    }
   ],
   "source": [
    "f_to_drop = mu_df[ mu_df['Mutual_info'] == 0]\n",
    "f_to_drop = list( f_to_drop['Feature'] )\n",
    "f_to_drop"
   ]
  },
  {
   "cell_type": "code",
   "execution_count": 226,
   "id": "cfde5e36-121f-4d33-9345-b40f3ad4c6d3",
   "metadata": {},
   "outputs": [
    {
     "name": "stdout",
     "output_type": "stream",
     "text": [
      "29 Features with Zero(0) mutual info: \n",
      "\n",
      "['BsmtFinSF2', 'Condition1_3', 'Condition2_2', 'Exterior1st_11', 'Exterior1st_8', 'Exterior2nd_3', 'Exterior2nd_8', 'Finished_2', 'Heating_1', 'LotConfig_2', 'LowQualFinSF', 'MSSubClass_Cluster_5', 'MSZoning_5', 'MiscFeature_1', 'MiscFeature_2', 'MiscVal', 'MoSold_11', 'MoSold_12', 'MoSold_4', 'MoSold_5', 'MoSold_8', 'MoSold_9', 'Neighborhood_Cluster_2', 'PoolArea', 'RoofMatl_2', 'RoofStyle_3', 'SaleType_4', 'Training', 'YrSold_1']\n"
     ]
    },
    {
     "data": {
      "text/plain": [
       "['MSZoning_5',\n",
       " 'LotConfig_2',\n",
       " 'Condition1_3',\n",
       " 'Condition2_2',\n",
       " 'RoofStyle_3',\n",
       " 'RoofMatl_2',\n",
       " 'Exterior1st_8',\n",
       " 'Exterior1st_11',\n",
       " 'Exterior2nd_3',\n",
       " 'Exterior2nd_8',\n",
       " 'BsmtFinSF2',\n",
       " 'Heating_1',\n",
       " 'LowQualFinSF',\n",
       " 'PoolArea',\n",
       " 'MiscFeature_1',\n",
       " 'MiscFeature_2',\n",
       " 'MiscVal',\n",
       " 'MoSold_4',\n",
       " 'MoSold_5',\n",
       " 'MoSold_8',\n",
       " 'MoSold_9',\n",
       " 'MoSold_11',\n",
       " 'MoSold_12',\n",
       " 'YrSold_1',\n",
       " 'SaleType_4',\n",
       " 'Training',\n",
       " 'Finished_2',\n",
       " 'Neighborhood_Cluster_2',\n",
       " 'MSSubClass_Cluster_5']"
      ]
     },
     "execution_count": 226,
     "metadata": {},
     "output_type": "execute_result"
    }
   ],
   "source": [
    "to_drop = feature_selection(d_tr.drop(columns='SalePrice').copy(), d_tr['SalePrice'].copy(), verbose=True)\n",
    "to_drop"
   ]
  },
  {
   "cell_type": "code",
   "execution_count": 225,
   "id": "62f23697-71ee-473b-adcb-f9788680f72f",
   "metadata": {},
   "outputs": [],
   "source": [
    "def feature_selection(X, y, verbose=False):\n",
    "    \n",
    "    mutual_info = mutual_info_regression(X=X, y=y)\n",
    "    \n",
    "    mu_info_df = pd.DataFrame(list(zip( X.columns, mutual_info )), columns=['Features', 'Mutual_info'])\n",
    "    \n",
    "    feature_to_dop = mu_info_df[ mu_info_df['Mutual_info'] == 0]\n",
    "    feature_to_dop = list( feature_to_dop['Features'] )\n",
    "    \n",
    "    if(verbose):\n",
    "        #Sorting\n",
    "        # mu_info_df.sort_values('Mutual_info', ascending=False, inplace=True)\n",
    "        print('{} Features with Zero(0) mutual info: \\n'.format(len(feature_to_dop)))\n",
    "        print(sorted(feature_to_dop))\n",
    "    \n",
    "    return feature_to_dop\n",
    "    "
   ]
  },
  {
   "cell_type": "code",
   "execution_count": null,
   "id": "6c7523a5-5a99-45f2-a0cd-1b9b3cc1d9f3",
   "metadata": {},
   "outputs": [],
   "source": []
  }
 ],
 "metadata": {
  "kernelspec": {
   "display_name": "Python 3 (ipykernel)",
   "language": "python",
   "name": "python3"
  },
  "language_info": {
   "codemirror_mode": {
    "name": "ipython",
    "version": 3
   },
   "file_extension": ".py",
   "mimetype": "text/x-python",
   "name": "python",
   "nbconvert_exporter": "python",
   "pygments_lexer": "ipython3",
   "version": "3.8.13"
  }
 },
 "nbformat": 4,
 "nbformat_minor": 5
}
