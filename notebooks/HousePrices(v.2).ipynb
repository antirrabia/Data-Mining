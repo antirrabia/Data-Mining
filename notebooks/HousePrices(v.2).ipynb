{
 "cells": [
  {
   "cell_type": "code",
   "execution_count": 40,
   "id": "6cc02876-6c6d-45fb-8704-3b6eaaf01ca6",
   "metadata": {},
   "outputs": [],
   "source": [
    "\n",
    "from sklearn.cluster import KMeans\n",
    "\n",
    "from sklearn.pipeline import Pipeline\n",
    "from sklearn.preprocessing import FunctionTransformer\n",
    "from sklearn.preprocessing import PowerTransformer\n",
    "\n",
    "from sklearn.feature_selection import VarianceThreshold\n",
    "from sklearn.neighbors import LocalOutlierFactor\n",
    "\n",
    "from category_encoders import OrdinalEncoder\n",
    "from category_encoders.one_hot import OneHotEncoder\n",
    "\n",
    "import matplotlib.pyplot as plt\n",
    "import seaborn as sns\n",
    "import pandas as pd\n",
    "import numpy as np"
   ]
  },
  {
   "cell_type": "markdown",
   "id": "af0f03ff-e61e-4c5f-a494-e09454585ecb",
   "metadata": {
    "tags": []
   },
   "source": [
    "###\n",
    "### Data"
   ]
  },
  {
   "cell_type": "code",
   "execution_count": 2,
   "id": "b701d0db-f421-4766-9b56-8727b82008a3",
   "metadata": {},
   "outputs": [],
   "source": [
    "d_tr = pd.read_csv('/Users/antirrabia/Documents/01-GitHub/DataMining-_-/CSV/HousePrices/train.csv', index_col='Id')\n",
    "d_te = pd.read_csv('/Users/antirrabia/Documents/01-GitHub/DataMining-_-/CSV/HousePrices/test.csv', index_col='Id')"
   ]
  },
  {
   "cell_type": "markdown",
   "id": "b9f2f14f-ed77-43f9-9fc5-74ea2acc732b",
   "metadata": {
    "tags": []
   },
   "source": [
    "###\n",
    "> **Training** and **test** sets  \n",
    "> Deliting a **zero varianza** columns"
   ]
  },
  {
   "cell_type": "code",
   "execution_count": 3,
   "id": "22a62563-4ebb-478e-a6ba-6eb941ac22eb",
   "metadata": {},
   "outputs": [],
   "source": [
    "# y = d_tr.SalePrice.copy()\n",
    "\n",
    "# Utilities has just 2 categories, and one of them\n",
    "# just appears once so we delete the whole column.\n",
    "d_tr = d_tr.drop(columns='Utilities')\n",
    "d_te = d_te.drop(columns='Utilities')\n",
    "\n",
    "\n",
    "all_d = pd.concat([d_tr.copy(), d_te.copy()])"
   ]
  },
  {
   "cell_type": "markdown",
   "id": "6ec433a5-29ae-4e20-bc78-a33bbd67b475",
   "metadata": {
    "tags": []
   },
   "source": [
    "####\n",
    "> A set of the **raw columns**"
   ]
  },
  {
   "cell_type": "code",
   "execution_count": null,
   "id": "fc55a41f-6bca-4825-aeee-103bbe9ad60c",
   "metadata": {},
   "outputs": [],
   "source": [
    "raw_columns = set( all_d.columns )"
   ]
  },
  {
   "cell_type": "markdown",
   "id": "56aebf02-ddb5-4117-9793-322e2efa273c",
   "metadata": {
    "tags": []
   },
   "source": [
    "###\n",
    "## Imputing **nan**"
   ]
  },
  {
   "cell_type": "markdown",
   "id": "86325da7-80b2-4ee3-9a64-f45e1bb380ae",
   "metadata": {},
   "source": [
    "> columns with **nan**"
   ]
  },
  {
   "cell_type": "code",
   "execution_count": null,
   "id": "cf5a5562-60cd-41d9-9895-76953a5ea693",
   "metadata": {},
   "outputs": [],
   "source": [
    "nan_columns = all_d.columns[all_d.isna().any()].to_list()\n",
    "\n",
    "print('number of columns that has nan: ', len(nan_columns)) #This inclued 'SalesPrice' columns"
   ]
  },
  {
   "cell_type": "markdown",
   "id": "0af58ab1-507a-4e8b-b5aa-39ed8db19d90",
   "metadata": {},
   "source": [
    "> **coustum** Functions and Transformers"
   ]
  },
  {
   "cell_type": "code",
   "execution_count": 4,
   "id": "d0ecc14c-145d-4928-9ecb-d2f4ef4a2e6c",
   "metadata": {},
   "outputs": [],
   "source": [
    "# 34 columns with nan\n",
    "\n",
    "def fillWithNone(df):\n",
    "    ''' nan in 'PoolQC' means 'no pool' \n",
    "        nan in 'MiscFeature' means 'no misc feature'\n",
    "        nan in 'Alley' means 'no alley acces'\n",
    "        nan in 'Fence' means 'no fence'\n",
    "        nan in 'FireplaceQu' means 'no Fireplace'\n",
    "        nan in 'GarageType', 'GarageFinish', 'GarageQual',\n",
    "            'BsmtQual', 'BsmtCond', 'BsmtExposure', 'BsmtFinType1'\n",
    "            'BsmtFinType1', 'MasVnrType', 'MSSubClass'\n",
    "            'GarageCond' replaced with 'None' too\n",
    "    \n",
    "        recive a df\n",
    "    '''\n",
    "    \n",
    "    df = df.copy()\n",
    "    \n",
    "    columns = ['PoolQC', 'MiscFeature', 'Alley', 'Fence', \n",
    "               'FireplaceQu', 'GarageType', 'GarageFinish', \n",
    "               'GarageQual', 'GarageCond', 'BsmtQual',\n",
    "               'BsmtCond', 'BsmtExposure', 'BsmtFinType1',\n",
    "               'BsmtFinType2', 'MasVnrType'\n",
    "              ]\n",
    "    \n",
    "    for col in columns:\n",
    "        df[col] = df[col].fillna('None')\n",
    "    \n",
    "    return df\n",
    "\n",
    "def fillWithZero(df):\n",
    "    ''' nan \n",
    "    \n",
    "    '''\n",
    "    \n",
    "    df = df.copy()\n",
    "    \n",
    "    columns = ['GarageYrBlt', 'GarageArea', 'GarageCars',\n",
    "               'BsmtFinSF1', 'BsmtFinSF2', 'BsmtUnfSF',\n",
    "               'TotalBsmtSF', 'BsmtFullBath', 'BsmtHalfBath',\n",
    "               'MasVnrArea'\n",
    "              ]\n",
    "    \n",
    "    for col in columns:\n",
    "        df[col] = df[col].fillna(0)\n",
    "    \n",
    "    return df\n",
    "\n",
    "def fillWithMode(df):\n",
    "    ''' fill missing values with mode, median\n",
    "    '''\n",
    "    df = df.copy()\n",
    "    \n",
    "    columns = ['Electrical', 'KitchenQual', 'Exterior1st',\n",
    "               'Exterior2nd', 'SaleType'\n",
    "              ]\n",
    "    \n",
    "    for col in columns:\n",
    "        df[col] = df[col].fillna(df[col].mode()[0])\n",
    "    \n",
    "    # filling with median of each 'Neighborhood'\n",
    "    df['LotFrontage'] = (\n",
    "                     df.groupby('Neighborhood')['LotFrontage']\n",
    "                     .transform(lambda x: x.fillna(x.median()))\n",
    "                    )  \n",
    "    \n",
    "    # nan means Typical\n",
    "    df['Functional'] = df['Functional'].fillna('Typ')\n",
    "    \n",
    "    return df\n",
    "\n",
    "\n",
    "def mszoning(df):\n",
    "    ''' recives a DF this imputation takes place on test data only'''\n",
    "    \n",
    "    df = df.copy()\n",
    "    \n",
    "    idotrr = ( (df['Neighborhood'] == 'IDOTRR') & (df['MSZoning'].isna()) )\n",
    "    mitchel = ( (df['Neighborhood'] == 'Mitchel') & (df['MSZoning'].isna()) )\n",
    "    \n",
    "    df.loc[ idotrr , 'MSZoning'] = 'RM'\n",
    "    df.loc[ mitchel, 'MSZoning'] = 'RL'\n",
    "    \n",
    "#     # to test this function out of here\n",
    "#     temp = mszoning(d_te)\n",
    "#     # lable index acces at [1916, 2217, 2251, 2905\n",
    "#     temp.loc[[1916, 2217, 2251, 2905], 'MSZoning']\n",
    "    \n",
    "    return df\n",
    "    \n",
    "none_func = FunctionTransformer(fillWithNone, validate=False) \n",
    "zero_func = FunctionTransformer(fillWithZero, validate=False) \n",
    "mode_func = FunctionTransformer(fillWithMode, validate=False)\n",
    "mszo_func = FunctionTransformer(mszoning, validate=False)"
   ]
  },
  {
   "cell_type": "markdown",
   "id": "f3c3b40d-5801-45fb-957c-35678a3329fd",
   "metadata": {},
   "source": [
    "> getting the **imputer**"
   ]
  },
  {
   "cell_type": "code",
   "execution_count": 5,
   "id": "1296193c-1efa-4656-9fb4-a4d047bfb196",
   "metadata": {},
   "outputs": [],
   "source": [
    "imputer = Pipeline([\n",
    "                    ('withNone', none_func), \n",
    "                    ('withZero', zero_func), \n",
    "                    ('withMode', mode_func), \n",
    "                    ('mszoni', mszo_func)\n",
    "                   ])"
   ]
  },
  {
   "cell_type": "markdown",
   "id": "f2718e3c-0e57-4f55-97d9-35af407b8dce",
   "metadata": {},
   "source": [
    "###\n",
    "> Imputing"
   ]
  },
  {
   "cell_type": "code",
   "execution_count": 6,
   "id": "9fda0cf6-1590-49f9-96ec-86df03c319de",
   "metadata": {},
   "outputs": [],
   "source": [
    "new_d = imputer.fit_transform(all_d)"
   ]
  },
  {
   "cell_type": "markdown",
   "id": "e4a9182c-c8d0-45cf-821a-32c12e998c55",
   "metadata": {},
   "source": [
    "###\n",
    "> checking if there is any columns with **nan**"
   ]
  },
  {
   "cell_type": "code",
   "execution_count": null,
   "id": "a8aeecd7-076a-49c5-a28f-2d939d25b033",
   "metadata": {},
   "outputs": [],
   "source": [
    "new_d.columns[new_d.isna().any()].to_list()"
   ]
  },
  {
   "cell_type": "code",
   "execution_count": null,
   "id": "2628201f-0d7a-4c79-8a6e-e7417cb42da1",
   "metadata": {},
   "outputs": [],
   "source": [
    "new_d.SalePrice.tail(7)"
   ]
  },
  {
   "cell_type": "markdown",
   "id": "25c8b59d-df54-46a9-9acd-95781e5e29d3",
   "metadata": {
    "tags": []
   },
   "source": [
    "###\n",
    "### Reducing low frequency categories"
   ]
  },
  {
   "cell_type": "code",
   "execution_count": 7,
   "id": "673247ea-dbb0-4428-a6dc-653a729ef4cc",
   "metadata": {},
   "outputs": [],
   "source": [
    "# Low frequency categories to 'Other'\n",
    "\n",
    "def lower_than(df, col, percentage):\n",
    "    ''' function that will merge low frequency classes into \n",
    "        a single class 'Others'\n",
    "        \n",
    "        parameters:\n",
    "            df: a DataFrame\n",
    "            col: column's name to work on\n",
    "            percentage: the threshold \n",
    "            \n",
    "        returns:\n",
    "            df: the data frame with col's classes that are lowers\n",
    "                than 'threshold' been repleced with 'Other' category\n",
    "    '''\n",
    "    \n",
    "    # calculating the column frequency\n",
    "    col_freq = df[col].value_counts(normalize=True)\n",
    "    # the getting the column threshold \n",
    "    threshold = col_freq.quantile(q= percentage)\n",
    "    # knowing the classes that are below the threshold\n",
    "    less_freq_classes = col_freq[ col_freq <= threshold ]\n",
    "    \n",
    "    others = less_freq_classes.index.to_list()\n",
    "    \n",
    "    print(others)\n",
    "    \n",
    "    df[col] = df[col].replace(others, 'Others')\n",
    "    \n",
    "    return df\n",
    "\n",
    "con1_others = ['RRAn', 'PosN', 'RRAe', 'PosA', 'RRNn', 'RRNe']\n",
    "roofS_others = ['Gambrel', 'Flat', 'Mansard', 'Shed']\n",
    "foun_others = ['Slab', 'Stone', 'Wood']\n",
    "gara_others = ['None', 'Basment', '2Types', 'CarPort']\n",
    "saleT_others = ['ConLD', 'CWD', 'ConLI', 'ConLw', 'Oth', 'Con']\n",
    "saleC_others = ['Family', 'Alloca', 'AdjLand']\n",
    "exte1_others = ['BrkComm', 'AsphShn', 'Stone', 'CBlock', 'ImStucc']\n",
    "exte2_others = ['BrkComm', 'AsphShn', 'Stone', 'CBlock', 'ImStucc', 'Other']\n",
    "lotC_others = ['FR2', 'FR3']\n",
    "\n",
    "new_d['Condition1'] = new_d['Condition1'].map(lambda x: 'Others' if x in con1_others else x)\n",
    "new_d['RoofStyle'] = new_d['RoofStyle'].map(lambda x: 'Others' if x in roofS_others else x)\n",
    "new_d['Foundation'] = new_d['Foundation'].map(lambda x: 'Others' if x in foun_others else x)\n",
    "new_d['GarageType'] = new_d['GarageType'].map(lambda x: 'Others' if x in gara_others else x)\n",
    "new_d['SaleType'] = new_d['SaleType'].map(lambda x: 'Others' if x in saleT_others else x)\n",
    "new_d['SaleCondition'] = new_d['SaleCondition'].map(lambda x: 'Others' if x in saleC_others else x)\n",
    "new_d['Exterior1st'] = new_d['Exterior1st'].map(lambda x: 'Others' if x in exte1_others else x)\n",
    "new_d['Exterior2nd'] = new_d['Exterior2nd'].map(lambda x: 'Others' if x in exte2_others else x)\n",
    "new_d['LotConfig'] = new_d['LotConfig'].map(lambda x: 'Others' if x in lotC_others else x)\n",
    "\n",
    "\n",
    "# Reducing to a BINARY CLASSES(just 2 clases)\n",
    "\n",
    "# temp = new_d.copy()\n",
    "\n",
    "landC_others = ['HLS', 'Bnk', 'Low']\n",
    "cond2_others = ['Feedr', 'Artery', 'PosN', 'PosA', 'RRNn', 'RRAn', 'RRAe']\n",
    "roofM_others = ['Tar&Grv', 'WdShake', 'WdShngl', 'Metal', 'Membran', 'Roll', 'ClyTile']\n",
    "heati_others = ['GasW', 'Grav', 'Wall', 'OthW', 'Floor']\n",
    "elect_others = ['FuseA', 'FuseF', 'FuseP', 'Mix']\n",
    "\n",
    "\n",
    "new_d['LandContour'] = new_d['LandContour'].map(lambda x: 'Others' if x in landC_others else x)\n",
    "new_d['Condition2'] = new_d['Condition2'].map(lambda x: 'Others' if x in cond2_others else x)\n",
    "new_d['RoofMatl'] = new_d['RoofMatl'].map(lambda x: 'Others' if x in roofM_others else x)\n",
    "new_d['Heating'] = new_d['Heating'].map(lambda x: 'Others' if x in heati_others else x)\n",
    "new_d['Electrical'] = new_d['Electrical'].map(lambda x: 'Others' if x in elect_others else x)\n",
    "\n",
    "# to encode using OneHot (17 so far)\n",
    "cat_to_1Hot = {'Condition1': str, 'RoofStyle': str, 'Foundation': str, 'GarageType': str, 'SaleType': str, \n",
    "               'SaleCondition': str, 'Exterior1st': str, 'Exterior2nd': str, 'LotConfig': str, 'LandContour': str, \n",
    "               'Condition2': str, 'RoofMatl': str, 'Heating': str, 'Electrical': str }\n",
    "\n",
    "# updating data types\n",
    "new_d = new_d.astype(cat_to_1Hot)"
   ]
  },
  {
   "cell_type": "markdown",
   "id": "44912ad7-ac9a-47df-b92b-0b91a8aac418",
   "metadata": {},
   "source": [
    "###\n",
    "> changing the **data types** to the columns that  we just reduced"
   ]
  },
  {
   "cell_type": "code",
   "execution_count": null,
   "id": "9ea78987-7463-44e2-a741-21e2800ba8ea",
   "metadata": {},
   "outputs": [],
   "source": [
    "new_d[ list( cat_to_1Hot.keys() ) ].info()"
   ]
  },
  {
   "cell_type": "markdown",
   "id": "5dbe87a0-706c-471a-bdb8-e1e231b82f0f",
   "metadata": {},
   "source": [
    "###\n",
    "> Reducing number of classes in **'Neighborhood'** and **'MSSubClass'**   Using **Clusters**"
   ]
  },
  {
   "cell_type": "code",
   "execution_count": 8,
   "id": "c101caf6-2c8b-4aa3-9eb4-489fb49329fc",
   "metadata": {},
   "outputs": [],
   "source": [
    "def make_clusters(df, col, y, n_cluster, merge=False):\n",
    "    '''\n",
    "        function to boil down a colum to n_cluster\n",
    "        \n",
    "        recive:\n",
    "        \n",
    "            df: a data frame \n",
    "            col: col to make cluster\n",
    "            y: the response variable\n",
    "            n_cluster: stamitation of number of cluster\n",
    "            \n",
    "        return:  \n",
    "            a data frame with 'col' droped, and 'col' + '_cluster' column\n",
    "            is added to the data frame\n",
    "\n",
    "        \n",
    "    '''\n",
    "    col_clusters = KMeans(n_clusters=n_cluster, random_state=777)\n",
    "\n",
    "    # 'Neighborhood' and 'MSSubClass' stats\n",
    "    col_stats = df.groupby(col)[y].describe()\n",
    "\n",
    "    # Getting clusters\n",
    "    col_clusters.fit(col_stats)\n",
    "\n",
    "    # preparing DF with cluster lables to merge\n",
    "    new_name = col + '_Cluster'\n",
    "    col_cluster_df = pd.DataFrame( { col: col_stats.index.to_list(),\n",
    "                                     new_name: col_clusters.labels_.tolist()} )\n",
    "    \n",
    "    if merge:\n",
    "        # merging the clusters with the data frame\n",
    "        df = df.merge(col_cluster_df, how='left', on=col)\n",
    "\n",
    "        df[new_name] = df[new_name].astype(str)\n",
    "        \n",
    "        result = df.drop(columns=col)\n",
    "        \n",
    "    else:\n",
    "        result = col_cluster_df\n",
    "    \n",
    "    return result"
   ]
  },
  {
   "cell_type": "code",
   "execution_count": null,
   "id": "163ed468-8fdd-4a7d-a846-f65940895f7d",
   "metadata": {},
   "outputs": [],
   "source": []
  },
  {
   "cell_type": "code",
   "execution_count": 38,
   "id": "f16f31ff-e3e0-4992-9cd3-33ca4d83e004",
   "metadata": {},
   "outputs": [],
   "source": [
    "y = new_d['SalePrice'].copy()"
   ]
  },
  {
   "cell_type": "code",
   "execution_count": 39,
   "id": "b24da797-135b-46c8-947b-b81fd0c7eb75",
   "metadata": {},
   "outputs": [
    {
     "data": {
      "image/png": "[encoded data removed]",
      "text/plain": [
       "<Figure size 432x288 with 1 Axes>"
      ]
     },
     "metadata": {
      "needs_background": "light"
     },
     "output_type": "display_data"
    }
   ],
   "source": [
    "sns.histplot(y);"
   ]
  },
  {
   "cell_type": "code",
   "execution_count": 41,
   "id": "815fee04-2dd5-4f89-9af5-f3a793bb6183",
   "metadata": {},
   "outputs": [],
   "source": [
    "pt = PowerTransformer(method='box-cox')"
   ]
  },
  {
   "cell_type": "code",
   "execution_count": 42,
   "id": "57a90fc6-e8c2-4fcc-bf4b-767ffd515b4a",
   "metadata": {},
   "outputs": [
    {
     "ename": "ValueError",
     "evalue": "Expected 2D array, got 1D array instead:\narray=[208500. 181500. 223500. ...     nan     nan     nan].\nReshape your data either using array.reshape(-1, 1) if your data has a single feature or array.reshape(1, -1) if it contains a single sample.",
     "output_type": "error",
     "traceback": [
      "\u001b[0;31m---------------------------------------------------------------------------\u001b[0m",
      "\u001b[0;31mValueError\u001b[0m                                Traceback (most recent call last)",
      "Input \u001b[0;32mIn [42]\u001b[0m, in \u001b[0;36m<cell line: 1>\u001b[0;34m()\u001b[0m\n\u001b[0;32m----> 1\u001b[0m y \u001b[38;5;241m=\u001b[39m \u001b[43mpt\u001b[49m\u001b[38;5;241;43m.\u001b[39;49m\u001b[43mfit_transform\u001b[49m\u001b[43m(\u001b[49m\u001b[43my\u001b[49m\u001b[43m)\u001b[49m\n",
      "File \u001b[0;32m/opt/anaconda3/lib/python3.8/site-packages/sklearn/preprocessing/_data.py:3065\u001b[0m, in \u001b[0;36mPowerTransformer.fit_transform\u001b[0;34m(self, X, y)\u001b[0m\n\u001b[1;32m   3048\u001b[0m \u001b[38;5;28;01mdef\u001b[39;00m \u001b[38;5;21mfit_transform\u001b[39m(\u001b[38;5;28mself\u001b[39m, X, y\u001b[38;5;241m=\u001b[39m\u001b[38;5;28;01mNone\u001b[39;00m):\n\u001b[1;32m   3049\u001b[0m     \u001b[38;5;124;03m\"\"\"Fit `PowerTransformer` to `X`, then transform `X`.\u001b[39;00m\n\u001b[1;32m   3050\u001b[0m \n\u001b[1;32m   3051\u001b[0m \u001b[38;5;124;03m    Parameters\u001b[39;00m\n\u001b[0;32m   (...)\u001b[0m\n\u001b[1;32m   3063\u001b[0m \u001b[38;5;124;03m        Transformed data.\u001b[39;00m\n\u001b[1;32m   3064\u001b[0m \u001b[38;5;124;03m    \"\"\"\u001b[39;00m\n\u001b[0;32m-> 3065\u001b[0m     \u001b[38;5;28;01mreturn\u001b[39;00m \u001b[38;5;28;43mself\u001b[39;49m\u001b[38;5;241;43m.\u001b[39;49m\u001b[43m_fit\u001b[49m\u001b[43m(\u001b[49m\u001b[43mX\u001b[49m\u001b[43m,\u001b[49m\u001b[43m \u001b[49m\u001b[43my\u001b[49m\u001b[43m,\u001b[49m\u001b[43m \u001b[49m\u001b[43mforce_transform\u001b[49m\u001b[38;5;241;43m=\u001b[39;49m\u001b[38;5;28;43;01mTrue\u001b[39;49;00m\u001b[43m)\u001b[49m\n",
      "File \u001b[0;32m/opt/anaconda3/lib/python3.8/site-packages/sklearn/preprocessing/_data.py:3068\u001b[0m, in \u001b[0;36mPowerTransformer._fit\u001b[0;34m(self, X, y, force_transform)\u001b[0m\n\u001b[1;32m   3067\u001b[0m \u001b[38;5;28;01mdef\u001b[39;00m \u001b[38;5;21m_fit\u001b[39m(\u001b[38;5;28mself\u001b[39m, X, y\u001b[38;5;241m=\u001b[39m\u001b[38;5;28;01mNone\u001b[39;00m, force_transform\u001b[38;5;241m=\u001b[39m\u001b[38;5;28;01mFalse\u001b[39;00m):\n\u001b[0;32m-> 3068\u001b[0m     X \u001b[38;5;241m=\u001b[39m \u001b[38;5;28;43mself\u001b[39;49m\u001b[38;5;241;43m.\u001b[39;49m\u001b[43m_check_input\u001b[49m\u001b[43m(\u001b[49m\u001b[43mX\u001b[49m\u001b[43m,\u001b[49m\u001b[43m \u001b[49m\u001b[43min_fit\u001b[49m\u001b[38;5;241;43m=\u001b[39;49m\u001b[38;5;28;43;01mTrue\u001b[39;49;00m\u001b[43m,\u001b[49m\u001b[43m \u001b[49m\u001b[43mcheck_positive\u001b[49m\u001b[38;5;241;43m=\u001b[39;49m\u001b[38;5;28;43;01mTrue\u001b[39;49;00m\u001b[43m,\u001b[49m\u001b[43m \u001b[49m\u001b[43mcheck_method\u001b[49m\u001b[38;5;241;43m=\u001b[39;49m\u001b[38;5;28;43;01mTrue\u001b[39;49;00m\u001b[43m)\u001b[49m\n\u001b[1;32m   3070\u001b[0m     \u001b[38;5;28;01mif\u001b[39;00m \u001b[38;5;129;01mnot\u001b[39;00m \u001b[38;5;28mself\u001b[39m\u001b[38;5;241m.\u001b[39mcopy \u001b[38;5;129;01mand\u001b[39;00m \u001b[38;5;129;01mnot\u001b[39;00m force_transform:  \u001b[38;5;66;03m# if call from fit()\u001b[39;00m\n\u001b[1;32m   3071\u001b[0m         X \u001b[38;5;241m=\u001b[39m X\u001b[38;5;241m.\u001b[39mcopy()  \u001b[38;5;66;03m# force copy so that fit does not change X inplace\u001b[39;00m\n",
      "File \u001b[0;32m/opt/anaconda3/lib/python3.8/site-packages/sklearn/preprocessing/_data.py:3287\u001b[0m, in \u001b[0;36mPowerTransformer._check_input\u001b[0;34m(self, X, in_fit, check_positive, check_shape, check_method)\u001b[0m\n\u001b[1;32m   3264\u001b[0m \u001b[38;5;28;01mdef\u001b[39;00m \u001b[38;5;21m_check_input\u001b[39m(\n\u001b[1;32m   3265\u001b[0m     \u001b[38;5;28mself\u001b[39m, X, in_fit, check_positive\u001b[38;5;241m=\u001b[39m\u001b[38;5;28;01mFalse\u001b[39;00m, check_shape\u001b[38;5;241m=\u001b[39m\u001b[38;5;28;01mFalse\u001b[39;00m, check_method\u001b[38;5;241m=\u001b[39m\u001b[38;5;28;01mFalse\u001b[39;00m\n\u001b[1;32m   3266\u001b[0m ):\n\u001b[1;32m   3267\u001b[0m     \u001b[38;5;124;03m\"\"\"Validate the input before fit and transform.\u001b[39;00m\n\u001b[1;32m   3268\u001b[0m \n\u001b[1;32m   3269\u001b[0m \u001b[38;5;124;03m    Parameters\u001b[39;00m\n\u001b[0;32m   (...)\u001b[0m\n\u001b[1;32m   3285\u001b[0m \u001b[38;5;124;03m        If True, check that the transformation method is valid.\u001b[39;00m\n\u001b[1;32m   3286\u001b[0m \u001b[38;5;124;03m    \"\"\"\u001b[39;00m\n\u001b[0;32m-> 3287\u001b[0m     X \u001b[38;5;241m=\u001b[39m \u001b[38;5;28;43mself\u001b[39;49m\u001b[38;5;241;43m.\u001b[39;49m\u001b[43m_validate_data\u001b[49m\u001b[43m(\u001b[49m\n\u001b[1;32m   3288\u001b[0m \u001b[43m        \u001b[49m\u001b[43mX\u001b[49m\u001b[43m,\u001b[49m\n\u001b[1;32m   3289\u001b[0m \u001b[43m        \u001b[49m\u001b[43mensure_2d\u001b[49m\u001b[38;5;241;43m=\u001b[39;49m\u001b[38;5;28;43;01mTrue\u001b[39;49;00m\u001b[43m,\u001b[49m\n\u001b[1;32m   3290\u001b[0m \u001b[43m        \u001b[49m\u001b[43mdtype\u001b[49m\u001b[38;5;241;43m=\u001b[39;49m\u001b[43mFLOAT_DTYPES\u001b[49m\u001b[43m,\u001b[49m\n\u001b[1;32m   3291\u001b[0m \u001b[43m        \u001b[49m\u001b[43mcopy\u001b[49m\u001b[38;5;241;43m=\u001b[39;49m\u001b[38;5;28;43mself\u001b[39;49m\u001b[38;5;241;43m.\u001b[39;49m\u001b[43mcopy\u001b[49m\u001b[43m,\u001b[49m\n\u001b[1;32m   3292\u001b[0m \u001b[43m        \u001b[49m\u001b[43mforce_all_finite\u001b[49m\u001b[38;5;241;43m=\u001b[39;49m\u001b[38;5;124;43m\"\u001b[39;49m\u001b[38;5;124;43mallow-nan\u001b[39;49m\u001b[38;5;124;43m\"\u001b[39;49m\u001b[43m,\u001b[49m\n\u001b[1;32m   3293\u001b[0m \u001b[43m        \u001b[49m\u001b[43mreset\u001b[49m\u001b[38;5;241;43m=\u001b[39;49m\u001b[43min_fit\u001b[49m\u001b[43m,\u001b[49m\n\u001b[1;32m   3294\u001b[0m \u001b[43m    \u001b[49m\u001b[43m)\u001b[49m\n\u001b[1;32m   3296\u001b[0m     \u001b[38;5;28;01mwith\u001b[39;00m np\u001b[38;5;241m.\u001b[39mwarnings\u001b[38;5;241m.\u001b[39mcatch_warnings():\n\u001b[1;32m   3297\u001b[0m         np\u001b[38;5;241m.\u001b[39mwarnings\u001b[38;5;241m.\u001b[39mfilterwarnings(\u001b[38;5;124m\"\u001b[39m\u001b[38;5;124mignore\u001b[39m\u001b[38;5;124m\"\u001b[39m, \u001b[38;5;124mr\u001b[39m\u001b[38;5;124m\"\u001b[39m\u001b[38;5;124mAll-NaN (slice|axis) encountered\u001b[39m\u001b[38;5;124m\"\u001b[39m)\n",
      "File \u001b[0;32m/opt/anaconda3/lib/python3.8/site-packages/sklearn/base.py:566\u001b[0m, in \u001b[0;36mBaseEstimator._validate_data\u001b[0;34m(self, X, y, reset, validate_separately, **check_params)\u001b[0m\n\u001b[1;32m    564\u001b[0m     \u001b[38;5;28;01mraise\u001b[39;00m \u001b[38;5;167;01mValueError\u001b[39;00m(\u001b[38;5;124m\"\u001b[39m\u001b[38;5;124mValidation should be done on X, y or both.\u001b[39m\u001b[38;5;124m\"\u001b[39m)\n\u001b[1;32m    565\u001b[0m \u001b[38;5;28;01melif\u001b[39;00m \u001b[38;5;129;01mnot\u001b[39;00m no_val_X \u001b[38;5;129;01mand\u001b[39;00m no_val_y:\n\u001b[0;32m--> 566\u001b[0m     X \u001b[38;5;241m=\u001b[39m \u001b[43mcheck_array\u001b[49m\u001b[43m(\u001b[49m\u001b[43mX\u001b[49m\u001b[43m,\u001b[49m\u001b[43m \u001b[49m\u001b[38;5;241;43m*\u001b[39;49m\u001b[38;5;241;43m*\u001b[39;49m\u001b[43mcheck_params\u001b[49m\u001b[43m)\u001b[49m\n\u001b[1;32m    567\u001b[0m     out \u001b[38;5;241m=\u001b[39m X\n\u001b[1;32m    568\u001b[0m \u001b[38;5;28;01melif\u001b[39;00m no_val_X \u001b[38;5;129;01mand\u001b[39;00m \u001b[38;5;129;01mnot\u001b[39;00m no_val_y:\n",
      "File \u001b[0;32m/opt/anaconda3/lib/python3.8/site-packages/sklearn/utils/validation.py:769\u001b[0m, in \u001b[0;36mcheck_array\u001b[0;34m(array, accept_sparse, accept_large_sparse, dtype, order, copy, force_all_finite, ensure_2d, allow_nd, ensure_min_samples, ensure_min_features, estimator)\u001b[0m\n\u001b[1;32m    767\u001b[0m     \u001b[38;5;66;03m# If input is 1D raise error\u001b[39;00m\n\u001b[1;32m    768\u001b[0m     \u001b[38;5;28;01mif\u001b[39;00m array\u001b[38;5;241m.\u001b[39mndim \u001b[38;5;241m==\u001b[39m \u001b[38;5;241m1\u001b[39m:\n\u001b[0;32m--> 769\u001b[0m         \u001b[38;5;28;01mraise\u001b[39;00m \u001b[38;5;167;01mValueError\u001b[39;00m(\n\u001b[1;32m    770\u001b[0m             \u001b[38;5;124m\"\u001b[39m\u001b[38;5;124mExpected 2D array, got 1D array instead:\u001b[39m\u001b[38;5;130;01m\\n\u001b[39;00m\u001b[38;5;124marray=\u001b[39m\u001b[38;5;132;01m{}\u001b[39;00m\u001b[38;5;124m.\u001b[39m\u001b[38;5;130;01m\\n\u001b[39;00m\u001b[38;5;124m\"\u001b[39m\n\u001b[1;32m    771\u001b[0m             \u001b[38;5;124m\"\u001b[39m\u001b[38;5;124mReshape your data either using array.reshape(-1, 1) if \u001b[39m\u001b[38;5;124m\"\u001b[39m\n\u001b[1;32m    772\u001b[0m             \u001b[38;5;124m\"\u001b[39m\u001b[38;5;124myour data has a single feature or array.reshape(1, -1) \u001b[39m\u001b[38;5;124m\"\u001b[39m\n\u001b[1;32m    773\u001b[0m             \u001b[38;5;124m\"\u001b[39m\u001b[38;5;124mif it contains a single sample.\u001b[39m\u001b[38;5;124m\"\u001b[39m\u001b[38;5;241m.\u001b[39mformat(array)\n\u001b[1;32m    774\u001b[0m         )\n\u001b[1;32m    776\u001b[0m \u001b[38;5;66;03m# make sure we actually converted to numeric:\u001b[39;00m\n\u001b[1;32m    777\u001b[0m \u001b[38;5;28;01mif\u001b[39;00m dtype_numeric \u001b[38;5;129;01mand\u001b[39;00m array\u001b[38;5;241m.\u001b[39mdtype\u001b[38;5;241m.\u001b[39mkind \u001b[38;5;129;01min\u001b[39;00m \u001b[38;5;124m\"\u001b[39m\u001b[38;5;124mOUSV\u001b[39m\u001b[38;5;124m\"\u001b[39m:\n",
      "\u001b[0;31mValueError\u001b[0m: Expected 2D array, got 1D array instead:\narray=[208500. 181500. 223500. ...     nan     nan     nan].\nReshape your data either using array.reshape(-1, 1) if your data has a single feature or array.reshape(1, -1) if it contains a single sample."
     ]
    }
   ],
   "source": [
    "y = pt.fit_transform(y)"
   ]
  },
  {
   "cell_type": "code",
   "execution_count": null,
   "id": "ee521a63-842c-402e-875f-fc04031a91e0",
   "metadata": {},
   "outputs": [],
   "source": []
  },
  {
   "cell_type": "code",
   "execution_count": null,
   "id": "37788dd7-576a-4878-9709-e0317e3e3f3d",
   "metadata": {},
   "outputs": [],
   "source": []
  },
  {
   "cell_type": "markdown",
   "id": "99faa8e1-a3c6-4a66-9268-f6bdc48240be",
   "metadata": {},
   "source": [
    "###\n",
    "> Features ingenering"
   ]
  },
  {
   "cell_type": "code",
   "execution_count": 9,
   "id": "5636794e-37e0-424a-88f8-49ca37eda764",
   "metadata": {},
   "outputs": [],
   "source": [
    "# Creating a new feature 'PeakMonths', 'Unfinished',\n",
    "# 'Splited', and TotalSF\n",
    "peak_moS = [5, 6, 7]\n",
    "unfi_hou = ['1.5Unf', '2.5Unf']\n",
    "spli_hou = ['SFoyer', 'SLvl']\n",
    "\n",
    "new_d['PeakMonths'] = new_d['MoSold'].map(lambda x: 'Peak' if x in peak_moS else 'Normal' )\n",
    "new_d['Finished'] = new_d['HouseStyle'].map(lambda x: 'no' if x in unfi_hou else 'yes') \n",
    "new_d['Splited'] = new_d['HouseStyle'].map(lambda x: 'yes' if x in spli_hou else 'no')\n",
    "\n",
    "new_d['TotalSF'] = new_d['TotalBsmtSF'] + new_d['1stFlrSF'] + new_d['2ndFlrSF']\n",
    "\n",
    "\n",
    "# we will use the training data because if we uses new_d\n",
    "# it has 'nan' in 'SalePrice'. test data does not have 'SalePrice'\n",
    "# 'Neighborhood', 5, 'MSSubClass', 4\n",
    "nei_cluster = make_clusters(d_tr.copy(), 'Neighborhood', 'SalePrice', 5)\n",
    "mss_cluster = make_clusters(d_tr.copy(), 'MSSubClass', 'SalePrice', 4)\n",
    "\n",
    "# merging the clusters with the data frame\n",
    "# we got a 'nan' cluster becouse 'MSSubClass' in test\n",
    "# has a '150' class that is just in test\n",
    "new_d = new_d.merge(nei_cluster, how='left', on='Neighborhood')\n",
    "new_d.drop(columns='Neighborhood', inplace=True)\n",
    "\n",
    "new_d = new_d.merge(mss_cluster, how='left', on='MSSubClass')\n",
    "new_d.drop(columns='MSSubClass', inplace=True)\n",
    "\n",
    "\n",
    "# updating types\n",
    "new_d = new_d.astype( {'PeakMonths':str, 'Finished':str, 'Splited':str,\n",
    "                       'Neighborhood_Cluster': str, 'MSSubClass_Cluster': str} )\n",
    "\n",
    "# updating cat_to_1Hot\n",
    "cat_to_1Hot.update( {'PeakMonths':str, 'Finished':str, 'Splited':str,\n",
    "                       'Neighborhood_Cluster': str, 'MSSubClass_Cluster': str} )"
   ]
  },
  {
   "cell_type": "code",
   "execution_count": null,
   "id": "edd8ff45-fd0c-413a-b477-303e2565c35e",
   "metadata": {},
   "outputs": [],
   "source": [
    "new_d[cat_to_1Hot.keys()].info()"
   ]
  },
  {
   "cell_type": "markdown",
   "id": "c823aa7d-22fd-49db-b486-8cc43ca7704b",
   "metadata": {},
   "source": [
    "###\n",
    "## Encoding Ordinal Categorical"
   ]
  },
  {
   "cell_type": "code",
   "execution_count": 10,
   "id": "ac0e612d-3196-44b5-b5d5-e262cdd7f346",
   "metadata": {},
   "outputs": [],
   "source": [
    "##### ****** All writed by me ****** #####\n",
    "##########################################\n",
    "\n",
    "ord_cat_mapping = [\n",
    "    {\n",
    "        'col': 'FireplaceQu',\n",
    "        'mapping': {'None': 0, 'Po': 1, 'Fa': 2, 'TA': 3, 'Gd': 4, 'Ex': 5}\n",
    "    },\n",
    "    {\n",
    "        'col': 'GarageQual',\n",
    "        'mapping': {'None': 0, 'Po': 1, 'Fa': 2, 'TA': 3, 'Gd': 4, 'Ex': 5}\n",
    "    },\n",
    "    {\n",
    "        'col': 'GarageCond',\n",
    "        'mapping': {'None': 0, 'Po': 1, 'Fa': 2, 'TA': 3, 'Gd': 4, 'Ex': 5}\n",
    "    },\n",
    "    {\n",
    "        'col': 'BsmtFinType1',\n",
    "        'mapping': {'None': 0, 'Unf': 1, 'LwQ': 2, 'Rec': 3, 'BLQ': 4, 'ALQ': 5, 'GLQ': 6}\n",
    "    },\n",
    "    {\n",
    "        'col': 'BsmtFinType2',\n",
    "        'mapping': {'None': 0, 'Unf': 1, 'LwQ': 2, 'Rec': 3, 'BLQ': 4, 'ALQ': 5, 'GLQ': 6}\n",
    "    },\n",
    "    {\n",
    "        'col': 'ExterQual',\n",
    "        'mapping': {'Fa': 0, 'TA': 1, 'Gd': 2, 'Ex': 3}\n",
    "    },\n",
    "    {\n",
    "        'col': 'ExterCond',\n",
    "        'mapping': {'Po': 0, 'Fa': 1, 'TA': 2, 'Gd': 3, 'Ex': 4}\n",
    "    },\n",
    "    {\n",
    "        'col': 'BsmtQual',\n",
    "        'mapping': {'None': 0 , 'Fa': 1, 'TA': 2, 'Gd': 3, 'Ex': 4}\n",
    "    },\n",
    "    {\n",
    "        'col': 'BsmtCond',\n",
    "        'mapping': {'None': 0, 'Po': 1, 'Fa': 2, 'TA': 3, 'Gd': 4}\n",
    "    },\n",
    "    {\n",
    "        'col': 'PoolQC',\n",
    "        'mapping': {'None': 0, 'Fa': 1, 'Gd': 2, 'Ex': 3}\n",
    "    },\n",
    "    {\n",
    "        'col': 'HeatingQC',\n",
    "        'mapping': {'Po': 0, 'Fa': 1, 'TA': 2, 'Gd': 3, 'Ex': 4}\n",
    "    },\n",
    "    {\n",
    "        'col': 'KitchenQual',\n",
    "        'mapping': {'Fa': 0, 'TA': 1, 'Gd': 2, 'Ex': 3}\n",
    "    },\n",
    "    {\n",
    "        'col': 'BsmtExposure',\n",
    "        'mapping': {'None': 0, 'No': 1, 'Mn': 2, 'Av': 3, 'Gd': 4}\n",
    "    },\n",
    "    {\n",
    "        'col': 'Functional',\n",
    "        'mapping': {'Sev': 0, 'Maj2': 1, 'Maj1': 2, 'Mod': 3, 'Min2': 4, 'Min1': 5, 'Typ': 6}\n",
    "    },\n",
    "    {\n",
    "        'col': 'GarageFinish',\n",
    "        'mapping': {'None': 0, 'Unf': 1, 'RFn': 2, 'Fin': 3}\n",
    "    },\n",
    "    {\n",
    "        'col': 'Fence',\n",
    "        'mapping': {'None': 0, 'MnWw': 1, 'GdWo': 2, 'MnPrv': 3, 'GdPrv': 4}\n",
    "    },\n",
    "    {\n",
    "        'col': 'CentralAir',\n",
    "        'mapping': {'N': 0, 'Y': 1}\n",
    "    },\n",
    "    {\n",
    "        'col': 'PavedDrive',\n",
    "        'mapping': {'N': 0, 'P': 1, 'Y': 2}\n",
    "    },\n",
    "    {\n",
    "        'col': 'Street',\n",
    "        'mapping': {'Grvl': 0, 'Pave': 1}\n",
    "    },\n",
    "    {\n",
    "        'col': 'Alley',\n",
    "        'mapping': {'None': 0, 'Grvl': 1, 'Pave': 2}\n",
    "    },\n",
    "    {\n",
    "        'col': 'LandSlope',\n",
    "        'mapping': {'Gtl': 0, 'Mod': 1, 'Sev': 2}\n",
    "    },\n",
    "    {\n",
    "        'col': 'LotShape',\n",
    "        'mapping': {'Reg': 0, 'IR1': 1, 'IR2': 2, 'IR3': 3}\n",
    "    },\n",
    "    {\n",
    "        'col': 'HouseStyle', \n",
    "        'mapping': {'SLvl': 0, 'SFoyer': 0, '1Story': 1, '1.5Fin': 2, \n",
    "                    '1.5Unf': 2, '2Story': 3, '2.5Unf': 4, '2.5Fin': 4}\n",
    "    }\n",
    "]\n",
    "\n",
    "# list of categorical columns(23)  \n",
    "# that we just encoded\n",
    "ord_cat_DONE = {'FireplaceQu': str, 'GarageQual': str,'GarageCond': str,'BsmtFinType1': str,\n",
    "                 'BsmtFinType2': str,'ExterQual': str,'ExterCond': str,'BsmtQual': str,\n",
    "                 'BsmtCond': str,'PoolQC': str,'HeatingQC': str,'KitchenQual': str,\n",
    "                 'BsmtExposure': str,'Functional': str,'GarageFinish': str,'Fence': str, \n",
    "                 'CentralAir': str, 'PavedDrive': str,'Street': str,'Alley': str,\n",
    "                 'LandSlope': str,'LotShape': str, 'HouseStyle': str}\n",
    "\n",
    "\n",
    "\n",
    "# object columns (need to be analyzed)\n",
    "cat_NoDone = ['MSZoning', 'BldgType', 'MasVnrType', 'MiscFeature']\n"
   ]
  },
  {
   "cell_type": "markdown",
   "id": "30c5f6ae-2e33-4906-a9c9-71b1e30435bd",
   "metadata": {},
   "source": [
    "###\n",
    "> **Updating columns types** to better  \n",
    "> distinguish **numerical** from **categorical**"
   ]
  },
  {
   "cell_type": "code",
   "execution_count": 22,
   "id": "7771c657-5a5c-4973-a909-e1745ee2fbdd",
   "metadata": {},
   "outputs": [],
   "source": [
    "# updating the types\n",
    "# update the list of ordinal with 2 columns name\n",
    "# that allredy are ordinal and encoded ('OverallQual', 'OverallCond')\n",
    " \n",
    "ord_cat_DONE.update({'OverallQual': str, 'OverallCond': str})\n",
    "new_d = new_d.astype(ord_cat_DONE)\n",
    "\n",
    "# 2 more columns will concidere as categorical\n",
    "cat_to_1Hot.update({'MoSold': str, 'YrSold': str})\n",
    "new_d = new_d.astype(cat_to_1Hot)"
   ]
  },
  {
   "cell_type": "code",
   "execution_count": 27,
   "id": "67995ab3-1362-4875-b769-2b3aaacb7a9e",
   "metadata": {},
   "outputs": [
    {
     "name": "stdout",
     "output_type": "stream",
     "text": [
      "<class 'pandas.core.frame.DataFrame'>\n",
      "Int64Index: 2919 entries, 0 to 2918\n",
      "Columns: 83 entries, MSZoning to MSSubClass_Cluster\n",
      "dtypes: float64(13), int64(20), object(50)\n",
      "memory usage: 1.9+ MB\n"
     ]
    }
   ],
   "source": [
    "new_d.info(verbose=False)"
   ]
  },
  {
   "cell_type": "code",
   "execution_count": 26,
   "id": "70647ff3-afac-4746-8330-f0508306f279",
   "metadata": {},
   "outputs": [
    {
     "name": "stdout",
     "output_type": "stream",
     "text": [
      "<class 'pandas.core.frame.DataFrame'>\n",
      "Int64Index: 2919 entries, 0 to 2918\n",
      "Columns: 50 entries, MSZoning to MSSubClass_Cluster\n",
      "dtypes: object(50)\n",
      "memory usage: 1.1+ MB\n"
     ]
    }
   ],
   "source": [
    "new_d.select_dtypes(exclude='number').info(verbose=False)"
   ]
  },
  {
   "cell_type": "code",
   "execution_count": 28,
   "id": "881c4998-3476-4502-bd0b-d07883597c06",
   "metadata": {},
   "outputs": [
    {
     "name": "stdout",
     "output_type": "stream",
     "text": [
      "<class 'pandas.core.frame.DataFrame'>\n",
      "Int64Index: 2919 entries, 0 to 2918\n",
      "Columns: 33 entries, LotFrontage to TotalSF\n",
      "dtypes: float64(13), int64(20)\n",
      "memory usage: 775.4 KB\n"
     ]
    }
   ],
   "source": [
    "new_d.select_dtypes('number').info(verbose=False)"
   ]
  },
  {
   "cell_type": "code",
   "execution_count": 36,
   "id": "5c97ba7e-0d66-4e26-9b69-082f1bdbf2cf",
   "metadata": {},
   "outputs": [],
   "source": [
    "del temp01"
   ]
  },
  {
   "cell_type": "code",
   "execution_count": 37,
   "id": "55aad590-441d-43d0-a38a-f22028486291",
   "metadata": {},
   "outputs": [
    {
     "name": "stdout",
     "output_type": "stream",
     "text": [
      "33\n",
      "['LotFrontage', 'LotArea', 'YearBuilt', 'YearRemodAdd', 'MasVnrArea', 'BsmtFinSF1', 'BsmtFinSF2', 'BsmtUnfSF', 'TotalBsmtSF', '1stFlrSF', '2ndFlrSF', 'LowQualFinSF', 'GrLivArea', 'BsmtFullBath', 'BsmtHalfBath', 'FullBath', 'HalfBath', 'BedroomAbvGr', 'KitchenAbvGr', 'TotRmsAbvGrd', 'Fireplaces', 'GarageYrBlt', 'GarageCars', 'GarageArea', 'WoodDeckSF', 'OpenPorchSF', 'EnclosedPorch', '3SsnPorch', 'ScreenPorch', 'PoolArea', 'MiscVal', 'SalePrice', 'TotalSF']\n"
     ]
    }
   ],
   "source": [
    "numbers_col = new_d.select_dtypes('number')\n",
    "numbers_col = numbers_col.columns.to_list()\n",
    "\n",
    "print( len( numbers_col ) )\n",
    "print( numbers_col )"
   ]
  },
  {
   "cell_type": "markdown",
   "id": "90d8f909-d9d7-4a44-a0dc-ac9c0c9c8ce9",
   "metadata": {},
   "source": [
    "###\n",
    "> doing the **Ordinal Encode**  \n",
    "> and updating **columns types**"
   ]
  },
  {
   "cell_type": "code",
   "execution_count": null,
   "id": "0ce4b111-aeb5-4b96-913f-67c22d79ae9e",
   "metadata": {},
   "outputs": [],
   "source": [
    "## OrdinalEncoder\n",
    "oe = OrdinalEncoder(mapping=ord_cat_mapping)"
   ]
  },
  {
   "cell_type": "code",
   "execution_count": null,
   "id": "161018a8-f117-47d1-a45c-0d8ff490aada",
   "metadata": {},
   "outputs": [],
   "source": [
    "# encoding Ordinal categories columns\n",
    "new_d = oe.fit_transform(new_d)\n"
   ]
  },
  {
   "cell_type": "markdown",
   "id": "de752966-fe75-4887-b041-90223cb20ca0",
   "metadata": {},
   "source": [
    "###\n",
    "> doing **OneHot Encoding**  "
   ]
  },
  {
   "cell_type": "code",
   "execution_count": null,
   "id": "f0cf93da-23e9-4e28-a687-1693f902ed93",
   "metadata": {},
   "outputs": [],
   "source": [
    "# OneHot encoding\n",
    "enc = OneHotEncoder(cols=cat_to_1Hot).fit(new_d.copy())"
   ]
  },
  {
   "cell_type": "code",
   "execution_count": null,
   "id": "4b69aed4-088e-476f-9cab-8e5d64866c47",
   "metadata": {},
   "outputs": [],
   "source": [
    "new_d = enc.transform(new_d.copy())"
   ]
  },
  {
   "cell_type": "code",
   "execution_count": null,
   "id": "0addbc53-08f7-4e9c-9b60-2593aa0a4202",
   "metadata": {},
   "outputs": [],
   "source": [
    "new_d2.head(7)"
   ]
  },
  {
   "cell_type": "code",
   "execution_count": null,
   "id": "890a66ce-8837-4aef-a3f1-95d0ccf3255f",
   "metadata": {},
   "outputs": [],
   "source": [
    "new_d2['Condition1_1'].value_counts()"
   ]
  },
  {
   "cell_type": "code",
   "execution_count": null,
   "id": "47de658d-c963-41a0-abfc-ab193b09cf90",
   "metadata": {},
   "outputs": [],
   "source": [
    "new_d2.columns.to_list()"
   ]
  },
  {
   "cell_type": "code",
   "execution_count": null,
   "id": "ade4a284-99db-4a8c-b567-45ee0f8f875b",
   "metadata": {},
   "outputs": [],
   "source": [
    "len( new_d2.columns.to_list() )"
   ]
  },
  {
   "cell_type": "markdown",
   "id": "5a5e7ef7-6a3b-4044-83d9-179a244e1bef",
   "metadata": {},
   "source": [
    "# Testing the ordinal encoded"
   ]
  },
  {
   "cell_type": "code",
   "execution_count": null,
   "id": "9acfad48-6b16-4ae2-82fc-49cbfc0ea504",
   "metadata": {},
   "outputs": [],
   "source": [
    "new_d.info(verbose=True)"
   ]
  },
  {
   "cell_type": "code",
   "execution_count": null,
   "id": "14988b19-7fd7-416c-a0b4-e32517f8ca3e",
   "metadata": {},
   "outputs": [],
   "source": [
    "temp01 = d_tr.info()"
   ]
  },
  {
   "cell_type": "code",
   "execution_count": null,
   "id": "48c27734-b582-471d-b09c-fbd348466921",
   "metadata": {},
   "outputs": [],
   "source": []
  }
 ],
 "metadata": {
  "kernelspec": {
   "display_name": "Python 3 (ipykernel)",
   "language": "python",
   "name": "python3"
  },
  "language_info": {
   "codemirror_mode": {
    "name": "ipython",
    "version": 3
   },
   "file_extension": ".py",
   "mimetype": "text/x-python",
   "name": "python",
   "nbconvert_exporter": "python",
   "pygments_lexer": "ipython3",
   "version": "3.8.13"
  }
 },
 "nbformat": 4,
 "nbformat_minor": 5
}
