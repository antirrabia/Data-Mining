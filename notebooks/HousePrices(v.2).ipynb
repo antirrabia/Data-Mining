{
 "cells": [
  {
   "cell_type": "code",
   "execution_count": null,
   "id": "6cc02876-6c6d-45fb-8704-3b6eaaf01ca6",
   "metadata": {},
   "outputs": [],
   "source": [
    "\n",
    "from sklearn.cluster import KMeans\n",
    "\n",
    "from sklearn.pipeline import Pipeline\n",
    "from sklearn.preprocessing import FunctionTransformer\n",
    "from sklearn.preprocessing import PowerTransformer\n",
    "from sklearn.preprocessing import RobustScaler\n",
    "\n",
    "from sklearn.feature_selection import VarianceThreshold\n",
    "from sklearn.feature_selection import mutual_info_regression\n",
    "from sklearn.neighbors import LocalOutlierFactor\n",
    "\n",
    "from category_encoders import OrdinalEncoder\n",
    "from category_encoders.one_hot import OneHotEncoder\n",
    "\n",
    "import matplotlib.pyplot as plt\n",
    "import seaborn as sns\n",
    "import pandas as pd\n",
    "import numpy as np"
   ]
  },
  {
   "cell_type": "markdown",
   "id": "af0f03ff-e61e-4c5f-a494-e09454585ecb",
   "metadata": {
    "jp-MarkdownHeadingCollapsed": true,
    "tags": []
   },
   "source": [
    "###\n",
    "### Data"
   ]
  },
  {
   "cell_type": "code",
   "execution_count": null,
   "id": "b701d0db-f421-4766-9b56-8727b82008a3",
   "metadata": {},
   "outputs": [],
   "source": [
    "d_tr = pd.read_csv('/Users/antirrabia/Documents/01-GitHub/DataMining-_-/CSV/HousePrices/train.csv', index_col='Id')\n",
    "d_te = pd.read_csv('/Users/antirrabia/Documents/01-GitHub/DataMining-_-/CSV/HousePrices/test.csv', index_col='Id')"
   ]
  },
  {
   "cell_type": "markdown",
   "id": "b9f2f14f-ed77-43f9-9fc5-74ea2acc732b",
   "metadata": {
    "tags": []
   },
   "source": [
    "> **Training** and **test** sets  \n",
    "> Deliting a **zero varianza** columns"
   ]
  },
  {
   "cell_type": "code",
   "execution_count": null,
   "id": "22a62563-4ebb-478e-a6ba-6eb941ac22eb",
   "metadata": {},
   "outputs": [],
   "source": [
    "# Utilities has just 2 categories, and one of them\n",
    "# just appears once so we delete the whole column.\n",
    "d_tr = d_tr.drop(columns='Utilities')\n",
    "d_te = d_te.drop(columns='Utilities')"
   ]
  },
  {
   "cell_type": "markdown",
   "id": "83309a6d-29a8-4107-bda5-18d4c670e275",
   "metadata": {},
   "source": [
    "> Marking Training Set"
   ]
  },
  {
   "cell_type": "code",
   "execution_count": null,
   "id": "de52a61b-afd0-47c2-b012-f4225552465e",
   "metadata": {},
   "outputs": [],
   "source": [
    "d_tr['Training'] = True\n",
    "d_te['Training'] = False"
   ]
  },
  {
   "cell_type": "markdown",
   "id": "6ec433a5-29ae-4e20-bc78-a33bbd67b475",
   "metadata": {
    "tags": []
   },
   "source": [
    "> A set of the **raw columns**"
   ]
  },
  {
   "cell_type": "code",
   "execution_count": null,
   "id": "fc55a41f-6bca-4825-aeee-103bbe9ad60c",
   "metadata": {},
   "outputs": [],
   "source": [
    "raw_columns = set( all_d.columns )"
   ]
  },
  {
   "cell_type": "markdown",
   "id": "d333f09a-fd1d-4bde-ae6a-67cb8fb79336",
   "metadata": {
    "jp-MarkdownHeadingCollapsed": true,
    "tags": []
   },
   "source": [
    "## Analyzing 'y' or 'SalePrice'"
   ]
  },
  {
   "cell_type": "markdown",
   "id": "c77007bd-7534-49b6-baaa-98e4098ba457",
   "metadata": {},
   "source": [
    "> **outliners**, **RobustScaler()**, and **PowerTranformer()**"
   ]
  },
  {
   "cell_type": "code",
   "execution_count": null,
   "id": "598f7f0d-34d1-4896-bd46-87e06aa27c9c",
   "metadata": {},
   "outputs": [],
   "source": [
    "# chequing the distribution of 'y' = 'SalePrice'\n",
    "sns.histplot( d_tr['SalePrice'], bins=50);"
   ]
  },
  {
   "cell_type": "markdown",
   "id": "47882340-8c75-45da-8f52-3db457560437",
   "metadata": {
    "tags": []
   },
   "source": [
    "> **outliners** from **documentation**"
   ]
  },
  {
   "cell_type": "code",
   "execution_count": null,
   "id": "5dcddf74-abf4-452c-845f-db0cc10d9713",
   "metadata": {},
   "outputs": [],
   "source": [
    "sns.scatterplot(x=d_tr['GrLivArea'], y=d_tr['SalePrice']);"
   ]
  },
  {
   "cell_type": "code",
   "execution_count": null,
   "id": "0d431aa2-4ab8-48a2-8470-74c0d48147dd",
   "metadata": {},
   "outputs": [],
   "source": [
    "outliers = d_tr[d_tr['GrLivArea'] >= 4500].index"
   ]
  },
  {
   "cell_type": "code",
   "execution_count": null,
   "id": "940c35af-d41e-4f0c-8bca-f8f48b844af1",
   "metadata": {},
   "outputs": [],
   "source": [
    "# deleting the outliers in 'GrLivArea'\n",
    "d_tr.drop(outliers, inplace=True)"
   ]
  },
  {
   "cell_type": "code",
   "execution_count": null,
   "id": "94d78645-808e-45d1-b470-310bf4fdaed4",
   "metadata": {},
   "outputs": [],
   "source": [
    "# cheking again\n",
    "sns.scatterplot(x=d_tr['GrLivArea'], y=d_tr['SalePrice']);"
   ]
  },
  {
   "cell_type": "code",
   "execution_count": null,
   "id": "a7583ed0-b656-44c0-9d32-5e03a0bcc28f",
   "metadata": {},
   "outputs": [],
   "source": [
    "# pipeline to scale and do a powerTransforme on y('SalePrice')\n",
    "fix_y = Pipeline([('scaler', RobustScaler()), ('power', PowerTransformer(method='yeo-johnson'))])"
   ]
  },
  {
   "cell_type": "code",
   "execution_count": null,
   "id": "6409a80f-3528-439e-9b7b-e08ff4c5436d",
   "metadata": {},
   "outputs": [],
   "source": [
    "y = fix_y.fit_transform(d_tr['SalePrice'].values.reshape(-1, 1))"
   ]
  },
  {
   "cell_type": "code",
   "execution_count": null,
   "id": "01b5b014-72fb-4316-8c79-f1213aea5955",
   "metadata": {},
   "outputs": [],
   "source": [
    "# checking the distribution of 'y' again\n",
    "sns.histplot(y, bins=50);"
   ]
  },
  {
   "cell_type": "markdown",
   "id": "33b874c4-83af-49f3-aa0c-b6976cbd9200",
   "metadata": {},
   "source": [
    "> putting back **y** into **d_tr** "
   ]
  },
  {
   "cell_type": "code",
   "execution_count": null,
   "id": "23fa98a6-2193-4ad7-a416-df2646ac139c",
   "metadata": {},
   "outputs": [],
   "source": [
    "d_tr['SalePrice'] = y"
   ]
  },
  {
   "cell_type": "markdown",
   "id": "55db8cd2-9697-49b7-a739-9aae200c877d",
   "metadata": {},
   "source": [
    "> combining **d_tr** and **d_te**"
   ]
  },
  {
   "cell_type": "code",
   "execution_count": null,
   "id": "0699ba9f-ed63-4f8f-8c2c-6a4427b62905",
   "metadata": {},
   "outputs": [],
   "source": [
    "all_d = pd.concat([d_tr.copy(), d_te.copy()])\n",
    "all_d.shape"
   ]
  },
  {
   "cell_type": "markdown",
   "id": "56aebf02-ddb5-4117-9793-322e2efa273c",
   "metadata": {
    "jp-MarkdownHeadingCollapsed": true,
    "tags": []
   },
   "source": [
    "## Imputing **nan**"
   ]
  },
  {
   "cell_type": "markdown",
   "id": "86325da7-80b2-4ee3-9a64-f45e1bb380ae",
   "metadata": {},
   "source": [
    "> columns with **nan**"
   ]
  },
  {
   "cell_type": "code",
   "execution_count": null,
   "id": "cf5a5562-60cd-41d9-9895-76953a5ea693",
   "metadata": {},
   "outputs": [],
   "source": [
    "nan_columns = all_d.columns[all_d.isna().any()].to_list()\n",
    "\n",
    "print('number of columns that has nan: ', len(nan_columns)) #This inclued 'SalesPrice' columns"
   ]
  },
  {
   "cell_type": "markdown",
   "id": "0af58ab1-507a-4e8b-b5aa-39ed8db19d90",
   "metadata": {},
   "source": [
    "> **coustum** Functions and Transformers"
   ]
  },
  {
   "cell_type": "code",
   "execution_count": null,
   "id": "d0ecc14c-145d-4928-9ecb-d2f4ef4a2e6c",
   "metadata": {},
   "outputs": [],
   "source": [
    "# 34 columns with nan\n",
    "\n",
    "def fillWithNone(df):\n",
    "    ''' nan in 'PoolQC' means 'no pool' \n",
    "        nan in 'MiscFeature' means 'no misc feature'\n",
    "        nan in 'Alley' means 'no alley acces'\n",
    "        nan in 'Fence' means 'no fence'\n",
    "        nan in 'FireplaceQu' means 'no Fireplace'\n",
    "        nan in 'GarageType', 'GarageFinish', 'GarageQual',\n",
    "            'BsmtQual', 'BsmtCond', 'BsmtExposure', 'BsmtFinType1'\n",
    "            'BsmtFinType1', 'MasVnrType', 'MSSubClass'\n",
    "            'GarageCond' replaced with 'None' too\n",
    "    \n",
    "        recive a df\n",
    "    '''\n",
    "    \n",
    "    df = df.copy()\n",
    "    \n",
    "    columns = ['PoolQC', 'MiscFeature', 'Alley', 'Fence', \n",
    "               'FireplaceQu', 'GarageType', 'GarageFinish', \n",
    "               'GarageQual', 'GarageCond', 'BsmtQual',\n",
    "               'BsmtCond', 'BsmtExposure', 'BsmtFinType1',\n",
    "               'BsmtFinType2', 'MasVnrType'\n",
    "              ]\n",
    "    \n",
    "    for col in columns:\n",
    "        df[col] = df[col].fillna('None')\n",
    "    \n",
    "    return df\n",
    "\n",
    "def fillWithZero(df):\n",
    "    ''' nan \n",
    "    \n",
    "    '''\n",
    "    \n",
    "    df = df.copy()\n",
    "    \n",
    "    columns = ['GarageYrBlt', 'GarageArea', 'GarageCars',\n",
    "               'BsmtFinSF1', 'BsmtFinSF2', 'BsmtUnfSF',\n",
    "               'TotalBsmtSF', 'BsmtFullBath', 'BsmtHalfBath',\n",
    "               'MasVnrArea'\n",
    "              ]\n",
    "    \n",
    "    for col in columns:\n",
    "        df[col] = df[col].fillna(0)\n",
    "    \n",
    "    return df\n",
    "\n",
    "def fillWithMode(df):\n",
    "    ''' fill missing values with mode, median\n",
    "    '''\n",
    "    df = df.copy()\n",
    "    \n",
    "    columns = ['Electrical', 'KitchenQual', 'Exterior1st',\n",
    "               'Exterior2nd', 'SaleType'\n",
    "              ]\n",
    "    \n",
    "    for col in columns:\n",
    "        df[col] = df[col].fillna(df[col].mode()[0])\n",
    "    \n",
    "    # filling with median of each 'Neighborhood'\n",
    "    df['LotFrontage'] = (\n",
    "                     df.groupby('Neighborhood')['LotFrontage']\n",
    "                     .transform(lambda x: x.fillna(x.median()))\n",
    "                    )  \n",
    "    \n",
    "    # nan means Typical\n",
    "    df['Functional'] = df['Functional'].fillna('Typ')\n",
    "    \n",
    "    return df\n",
    "\n",
    "\n",
    "def mszoning(df):\n",
    "    ''' recives a DF this imputation takes place on test data only'''\n",
    "    \n",
    "    df = df.copy()\n",
    "    \n",
    "    idotrr = ( (df['Neighborhood'] == 'IDOTRR') & (df['MSZoning'].isna()) )\n",
    "    mitchel = ( (df['Neighborhood'] == 'Mitchel') & (df['MSZoning'].isna()) )\n",
    "    \n",
    "    df.loc[ idotrr , 'MSZoning'] = 'RM'\n",
    "    df.loc[ mitchel, 'MSZoning'] = 'RL'\n",
    "    \n",
    "#     # to test this function out of here\n",
    "#     temp = mszoning(d_te)\n",
    "#     # lable index acces at [1916, 2217, 2251, 2905\n",
    "#     temp.loc[[1916, 2217, 2251, 2905], 'MSZoning']\n",
    "    \n",
    "    return df\n",
    "    \n",
    "none_func = FunctionTransformer(fillWithNone, validate=False) \n",
    "zero_func = FunctionTransformer(fillWithZero, validate=False) \n",
    "mode_func = FunctionTransformer(fillWithMode, validate=False)\n",
    "mszo_func = FunctionTransformer(mszoning, validate=False)"
   ]
  },
  {
   "cell_type": "markdown",
   "id": "f3c3b40d-5801-45fb-957c-35678a3329fd",
   "metadata": {},
   "source": [
    "> getting the **imputer**"
   ]
  },
  {
   "cell_type": "code",
   "execution_count": null,
   "id": "1296193c-1efa-4656-9fb4-a4d047bfb196",
   "metadata": {},
   "outputs": [],
   "source": [
    "imputer = Pipeline([\n",
    "                    ('withNone', none_func), \n",
    "                    ('withZero', zero_func), \n",
    "                    ('withMode', mode_func), \n",
    "                    ('mszoni', mszo_func)\n",
    "                   ])"
   ]
  },
  {
   "cell_type": "markdown",
   "id": "f2718e3c-0e57-4f55-97d9-35af407b8dce",
   "metadata": {},
   "source": [
    "> Imputing"
   ]
  },
  {
   "cell_type": "code",
   "execution_count": null,
   "id": "9fda0cf6-1590-49f9-96ec-86df03c319de",
   "metadata": {},
   "outputs": [],
   "source": [
    "new_d = imputer.fit_transform(all_d)"
   ]
  },
  {
   "cell_type": "markdown",
   "id": "e4a9182c-c8d0-45cf-821a-32c12e998c55",
   "metadata": {},
   "source": [
    "> checking if there is any columns with **nan**"
   ]
  },
  {
   "cell_type": "code",
   "execution_count": null,
   "id": "a8aeecd7-076a-49c5-a28f-2d939d25b033",
   "metadata": {},
   "outputs": [],
   "source": [
    "new_d.columns[new_d.isna().any()].to_list()"
   ]
  },
  {
   "cell_type": "code",
   "execution_count": null,
   "id": "2628201f-0d7a-4c79-8a6e-e7417cb42da1",
   "metadata": {},
   "outputs": [],
   "source": [
    "new_d.SalePrice.tail(7)"
   ]
  },
  {
   "cell_type": "markdown",
   "id": "ddb3b27b-7934-40a2-a5c7-79b74f48fc31",
   "metadata": {
    "tags": []
   },
   "source": [
    "## Categorical"
   ]
  },
  {
   "cell_type": "markdown",
   "id": "25c8b59d-df54-46a9-9acd-95781e5e29d3",
   "metadata": {
    "tags": []
   },
   "source": [
    "> Reducing **low frequency** categories"
   ]
  },
  {
   "cell_type": "code",
   "execution_count": null,
   "id": "673247ea-dbb0-4428-a6dc-653a729ef4cc",
   "metadata": {},
   "outputs": [],
   "source": [
    "# Low frequency categories to 'Other'\n",
    "\n",
    "def lower_than(df, col, percentage):\n",
    "    ''' function that will merge low frequency classes into \n",
    "        a single class 'Others'\n",
    "        \n",
    "        parameters:\n",
    "            df: a DataFrame\n",
    "            col: column's name to work on\n",
    "            percentage(%): the threshold like 0.1, 0.2\n",
    "            \n",
    "        returns:\n",
    "            df: the data frame with col's classes that are lowers\n",
    "                than 'threshold' been repleced with 'Other' category\n",
    "    '''\n",
    "    \n",
    "    # calculating the column frequency\n",
    "    col_freq = df[col].value_counts(normalize=True)\n",
    "    \n",
    "    # the getting the column threshold \n",
    "    threshold = col_freq.quantile(q= percentage)\n",
    "    \n",
    "    # knowing the classes that are below the threshold\n",
    "    less_freq_classes = col_freq[ col_freq <= threshold ]\n",
    "    \n",
    "    others = less_freq_classes.index.to_list()\n",
    "    \n",
    "    print(others)\n",
    "    \n",
    "    df[col] = df[col].replace(others, 'Others')\n",
    "    \n",
    "    return df\n",
    "\n",
    "\n",
    "\n",
    "con1_others = ['RRAn', 'PosN', 'RRAe', 'PosA', 'RRNn', 'RRNe']\n",
    "roofS_others = ['Gambrel', 'Flat', 'Mansard', 'Shed']\n",
    "foun_others = ['Slab', 'Stone', 'Wood']\n",
    "gara_others = ['None', 'Basment', '2Types', 'CarPort']\n",
    "saleT_others = ['ConLD', 'CWD', 'ConLI', 'ConLw', 'Oth', 'Con']\n",
    "saleC_others = ['Family', 'Alloca', 'AdjLand']\n",
    "exte1_others = ['BrkComm', 'AsphShn', 'Stone', 'CBlock', 'ImStucc']\n",
    "exte2_others = ['BrkComm', 'AsphShn', 'Stone', 'CBlock', 'ImStucc', 'Other']\n",
    "lotC_others = ['FR2', 'FR3']\n",
    "\n",
    "new_d['Condition1'] = new_d['Condition1'].map(lambda x: 'Others' if x in con1_others else x)\n",
    "new_d['RoofStyle'] = new_d['RoofStyle'].map(lambda x: 'Others' if x in roofS_others else x)\n",
    "new_d['Foundation'] = new_d['Foundation'].map(lambda x: 'Others' if x in foun_others else x)\n",
    "new_d['GarageType'] = new_d['GarageType'].map(lambda x: 'Others' if x in gara_others else x)\n",
    "new_d['SaleType'] = new_d['SaleType'].map(lambda x: 'Others' if x in saleT_others else x)\n",
    "new_d['SaleCondition'] = new_d['SaleCondition'].map(lambda x: 'Others' if x in saleC_others else x)\n",
    "new_d['Exterior1st'] = new_d['Exterior1st'].map(lambda x: 'Others' if x in exte1_others else x)\n",
    "new_d['Exterior2nd'] = new_d['Exterior2nd'].map(lambda x: 'Others' if x in exte2_others else x)\n",
    "new_d['LotConfig'] = new_d['LotConfig'].map(lambda x: 'Others' if x in lotC_others else x)\n",
    "\n",
    "\n",
    "# Reducing to a BINARY CLASSES(just 2 clases)\n",
    "\n",
    "landC_others = ['HLS', 'Bnk', 'Low']\n",
    "cond2_others = ['Feedr', 'Artery', 'PosN', 'PosA', 'RRNn', 'RRAn', 'RRAe']\n",
    "roofM_others = ['Tar&Grv', 'WdShake', 'WdShngl', 'Metal', 'Membran', 'Roll', 'ClyTile']\n",
    "heati_others = ['GasW', 'Grav', 'Wall', 'OthW', 'Floor']\n",
    "elect_others = ['FuseA', 'FuseF', 'FuseP', 'Mix']\n",
    "miscF_others = ['Shed', 'Gar2', 'Othr', 'TenC']\n",
    "\n",
    "new_d['LandContour'] = new_d['LandContour'].map(lambda x: 'Others' if x in landC_others else x)\n",
    "new_d['Condition2'] = new_d['Condition2'].map(lambda x: 'Others' if x in cond2_others else x)\n",
    "new_d['RoofMatl'] = new_d['RoofMatl'].map(lambda x: 'Others' if x in roofM_others else x)\n",
    "new_d['Heating'] = new_d['Heating'].map(lambda x: 'Others' if x in heati_others else x)\n",
    "new_d['Electrical'] = new_d['Electrical'].map(lambda x: 'Others' if x in elect_others else x)\n",
    "\n",
    "new_d['MiscFeature'] = new_d['MiscFeature'].map(lambda x: 'Others' if x in miscF_others else x)\n",
    "\n",
    "# # to encode using OneHot (14 so far)\n",
    "# cat_to_1Hot = {'Condition1': str, 'RoofStyle': str, 'Foundation': str, 'GarageType': str, 'SaleType': str, \n",
    "#                'SaleCondition': str, 'Exterior1st': str, 'Exterior2nd': str, 'LotConfig': str, 'LandContour': str, \n",
    "#                'Condition2': str, 'RoofMatl': str, 'Heating': str, 'Electrical': str }\n",
    "\n",
    "# # updating data types\n",
    "# new_d = new_d.astype(cat_to_1Hot)"
   ]
  },
  {
   "cell_type": "markdown",
   "id": "47c0fe05-39bc-4fcb-82a8-fe253da4c81c",
   "metadata": {},
   "source": [
    "> Getting the **column names** for  \n",
    "> - OneHot() encoder  \n",
    "> - and **updating data type**"
   ]
  },
  {
   "cell_type": "code",
   "execution_count": null,
   "id": "0637709b-929d-4752-b8bb-1de5c166e6d3",
   "metadata": {},
   "outputs": [],
   "source": [
    "# to encode using OneHot (15 so far)\n",
    "cat_to_1Hot = {'Condition1': str, 'RoofStyle': str, 'Foundation': str, 'GarageType': str, 'SaleType': str, \n",
    "               'SaleCondition': str, 'Exterior1st': str, 'Exterior2nd': str, 'LotConfig': str, 'LandContour': str, \n",
    "               'Condition2': str, 'RoofMatl': str, 'Heating': str, 'Electrical': str, 'MiscFeature': str }\n",
    "\n",
    "# updating data types of the columns \n",
    "# that  we just reduced \n",
    "new_d = new_d.astype(cat_to_1Hot)"
   ]
  },
  {
   "cell_type": "markdown",
   "id": "5dbe87a0-706c-471a-bdb8-e1e231b82f0f",
   "metadata": {},
   "source": [
    "###\n",
    "> Reducing number of classes in **'Neighborhood'** and **'MSSubClass'**   Using **Clusters**"
   ]
  },
  {
   "cell_type": "code",
   "execution_count": null,
   "id": "c101caf6-2c8b-4aa3-9eb4-489fb49329fc",
   "metadata": {},
   "outputs": [],
   "source": [
    "def make_clusters(df, col, y, n_cluster, merge=False):\n",
    "    '''\n",
    "        function to boil down a colum to n_cluster\n",
    "        \n",
    "        recive:\n",
    "        \n",
    "            df: a data frame \n",
    "            col: col to make cluster\n",
    "            y: the response variable\n",
    "            n_cluster: stamitation of number of cluster\n",
    "            \n",
    "        return:  \n",
    "            a data frame with 'col' droped, and 'col' + '_cluster' column\n",
    "            is added to the data frame\n",
    "\n",
    "        \n",
    "    '''\n",
    "    col_clusters = KMeans(n_clusters=n_cluster, random_state=777)\n",
    "\n",
    "    # 'Neighborhood' and 'MSSubClass' stats\n",
    "    col_stats = df.groupby(col)[y].describe()\n",
    "\n",
    "    # Getting clusters\n",
    "    col_clusters.fit(col_stats)\n",
    "\n",
    "    # preparing DF with cluster lables to merge\n",
    "    new_name = col + '_Cluster'\n",
    "    col_cluster_df = pd.DataFrame( { col: col_stats.index.to_list(),\n",
    "                                     new_name: col_clusters.labels_.tolist()} )\n",
    "    \n",
    "    if merge:\n",
    "        # merging the clusters with the data frame\n",
    "        df = df.merge(col_cluster_df, how='left', on=col)\n",
    "\n",
    "        df[new_name] = df[new_name].astype(str)\n",
    "        \n",
    "        result = df.drop(columns=col)\n",
    "        \n",
    "    else:\n",
    "        result = col_cluster_df\n",
    "    \n",
    "    return result"
   ]
  },
  {
   "cell_type": "markdown",
   "id": "99faa8e1-a3c6-4a66-9268-f6bdc48240be",
   "metadata": {
    "tags": []
   },
   "source": [
    "## Features ingenering"
   ]
  },
  {
   "cell_type": "code",
   "execution_count": null,
   "id": "d2126419-04b3-417a-9219-72fcf3ffb205",
   "metadata": {},
   "outputs": [],
   "source": [
    "# Before using d_tr set \n",
    "# get the new d_tr set from new_d\n",
    "d_tr = new_d[new_d['Training']].copy()"
   ]
  },
  {
   "cell_type": "code",
   "execution_count": null,
   "id": "d4744869-a2bd-469a-ae3a-21cd766773f9",
   "metadata": {},
   "outputs": [],
   "source": [
    "d_tr.shape"
   ]
  },
  {
   "cell_type": "code",
   "execution_count": null,
   "id": "5636794e-37e0-424a-88f8-49ca37eda764",
   "metadata": {},
   "outputs": [],
   "source": [
    "# Creating a new feature 'PeakMonths', 'Unfinished',\n",
    "# 'Splited', and TotalSF\n",
    "peak_moS = [5, 6, 7]\n",
    "unfi_hou = ['1.5Unf', '2.5Unf']\n",
    "spli_hou = ['SFoyer', 'SLvl']\n",
    "\n",
    "new_d['PeakMonths'] = new_d['MoSold'].map(lambda x: 'Peak' if x in peak_moS else 'Normal' )\n",
    "new_d['Finished'] = new_d['HouseStyle'].map(lambda x: 'no' if x in unfi_hou else 'yes') \n",
    "new_d['Splited'] = new_d['HouseStyle'].map(lambda x: 'yes' if x in spli_hou else 'no')\n",
    "\n",
    "new_d['TotalSF'] = new_d['TotalBsmtSF'] + new_d['1stFlrSF'] + new_d['2ndFlrSF']\n",
    "\n",
    "\n",
    "# we will use the training data because if we uses new_d\n",
    "# it has 'nan' in 'SalePrice'. test data does not have 'SalePrice'\n",
    "# 'Neighborhood', 5, 'MSSubClass', 4\n",
    "nei_cluster = make_clusters(d_tr.copy(), 'Neighborhood', 'SalePrice', 5)\n",
    "mss_cluster = make_clusters(d_tr.copy(), 'MSSubClass', 'SalePrice', 4)\n",
    "\n",
    "# merging the clusters with the data frame\n",
    "# we got a 'nan' cluster becouse 'MSSubClass' in test\n",
    "# has a '150' class that is just in test\n",
    "new_d = new_d.merge(nei_cluster, how='left', on='Neighborhood')\n",
    "new_d.drop(columns='Neighborhood', inplace=True)\n",
    "\n",
    "new_d = new_d.merge(mss_cluster, how='left', on='MSSubClass')\n",
    "new_d.drop(columns='MSSubClass', inplace=True)\n",
    "\n",
    "\n",
    "# updating types\n",
    "new_d = new_d.astype( {'PeakMonths':str, 'Finished':str, 'Splited':str,\n",
    "                       'Neighborhood_Cluster': str, 'MSSubClass_Cluster': str} )\n",
    "\n",
    "# updating cat_to_1Hot\n",
    "cat_to_1Hot.update( {'PeakMonths':str, 'Finished':str, 'Splited':str,\n",
    "                       'Neighborhood_Cluster': str, 'MSSubClass_Cluster': str} )"
   ]
  },
  {
   "cell_type": "code",
   "execution_count": null,
   "id": "edd8ff45-fd0c-413a-b477-303e2565c35e",
   "metadata": {},
   "outputs": [],
   "source": [
    "new_d[cat_to_1Hot.keys()].info()"
   ]
  },
  {
   "cell_type": "markdown",
   "id": "c823aa7d-22fd-49db-b486-8cc43ca7704b",
   "metadata": {
    "tags": []
   },
   "source": [
    "## Maping for Ordinal Categorical"
   ]
  },
  {
   "cell_type": "code",
   "execution_count": null,
   "id": "ac0e612d-3196-44b5-b5d5-e262cdd7f346",
   "metadata": {},
   "outputs": [],
   "source": [
    "##### ****** All writed by me ****** #####\n",
    "##########################################\n",
    "\n",
    "ord_cat_mapping = [\n",
    "    {\n",
    "        'col': 'FireplaceQu',\n",
    "        'mapping': {'None': 0, 'Po': 1, 'Fa': 2, 'TA': 3, 'Gd': 4, 'Ex': 5}\n",
    "    },\n",
    "    {\n",
    "        'col': 'GarageQual',\n",
    "        'mapping': {'None': 0, 'Po': 1, 'Fa': 2, 'TA': 3, 'Gd': 4, 'Ex': 5}\n",
    "    },\n",
    "    {\n",
    "        'col': 'GarageCond',\n",
    "        'mapping': {'None': 0, 'Po': 1, 'Fa': 2, 'TA': 3, 'Gd': 4, 'Ex': 5}\n",
    "    },\n",
    "    {\n",
    "        'col': 'BsmtFinType1',\n",
    "        'mapping': {'None': 0, 'Unf': 1, 'LwQ': 2, 'Rec': 3, 'BLQ': 4, 'ALQ': 5, 'GLQ': 6}\n",
    "    },\n",
    "    {\n",
    "        'col': 'BsmtFinType2',\n",
    "        'mapping': {'None': 0, 'Unf': 1, 'LwQ': 2, 'Rec': 3, 'BLQ': 4, 'ALQ': 5, 'GLQ': 6}\n",
    "    },\n",
    "    {\n",
    "        'col': 'ExterQual',\n",
    "        'mapping': {'Fa': 0, 'TA': 1, 'Gd': 2, 'Ex': 3}\n",
    "    },\n",
    "    {\n",
    "        'col': 'ExterCond',\n",
    "        'mapping': {'Po': 0, 'Fa': 1, 'TA': 2, 'Gd': 3, 'Ex': 4}\n",
    "    },\n",
    "    {\n",
    "        'col': 'BsmtQual',\n",
    "        'mapping': {'None': 0 , 'Fa': 1, 'TA': 2, 'Gd': 3, 'Ex': 4}\n",
    "    },\n",
    "    {\n",
    "        'col': 'BsmtCond',\n",
    "        'mapping': {'None': 0, 'Po': 1, 'Fa': 2, 'TA': 3, 'Gd': 4}\n",
    "    },\n",
    "    {\n",
    "        'col': 'PoolQC',\n",
    "        'mapping': {'None': 0, 'Fa': 1, 'Gd': 2, 'Ex': 3}\n",
    "    },\n",
    "    {\n",
    "        'col': 'HeatingQC',\n",
    "        'mapping': {'Po': 0, 'Fa': 1, 'TA': 2, 'Gd': 3, 'Ex': 4}\n",
    "    },\n",
    "    {\n",
    "        'col': 'KitchenQual',\n",
    "        'mapping': {'Fa': 0, 'TA': 1, 'Gd': 2, 'Ex': 3}\n",
    "    },\n",
    "    {\n",
    "        'col': 'BsmtExposure',\n",
    "        'mapping': {'None': 0, 'No': 1, 'Mn': 2, 'Av': 3, 'Gd': 4}\n",
    "    },\n",
    "    {\n",
    "        'col': 'Functional',\n",
    "        'mapping': {'Sev': 0, 'Maj2': 1, 'Maj1': 2, 'Mod': 3, 'Min2': 4, 'Min1': 5, 'Typ': 6}\n",
    "    },\n",
    "    {\n",
    "        'col': 'GarageFinish',\n",
    "        'mapping': {'None': 0, 'Unf': 1, 'RFn': 2, 'Fin': 3}\n",
    "    },\n",
    "    {\n",
    "        'col': 'Fence',\n",
    "        'mapping': {'None': 0, 'MnWw': 1, 'GdWo': 2, 'MnPrv': 3, 'GdPrv': 4}\n",
    "    },\n",
    "    {\n",
    "        'col': 'CentralAir',\n",
    "        'mapping': {'N': 0, 'Y': 1}\n",
    "    },\n",
    "    {\n",
    "        'col': 'PavedDrive',\n",
    "        'mapping': {'N': 0, 'P': 1, 'Y': 2}\n",
    "    },\n",
    "    {\n",
    "        'col': 'Street',\n",
    "        'mapping': {'Grvl': 0, 'Pave': 1}\n",
    "    },\n",
    "    {\n",
    "        'col': 'Alley',\n",
    "        'mapping': {'None': 0, 'Grvl': 1, 'Pave': 2}\n",
    "    },\n",
    "    {\n",
    "        'col': 'LandSlope',\n",
    "        'mapping': {'Gtl': 0, 'Mod': 1, 'Sev': 2}\n",
    "    },\n",
    "    {\n",
    "        'col': 'LotShape',\n",
    "        'mapping': {'Reg': 0, 'IR1': 1, 'IR2': 2, 'IR3': 3}\n",
    "    },\n",
    "    {\n",
    "        'col': 'HouseStyle', \n",
    "        'mapping': {'SLvl': 0, 'SFoyer': 0, '1Story': 1, '1.5Fin': 2, \n",
    "                    '1.5Unf': 2, '2Story': 3, '2.5Unf': 4, '2.5Fin': 4}\n",
    "    }\n",
    "]\n",
    "\n",
    "# list of categorical columns(23)  \n",
    "# that we just encoded\n",
    "ord_cat_DONE = {'FireplaceQu': str, 'GarageQual': str,'GarageCond': str,'BsmtFinType1': str,\n",
    "                 'BsmtFinType2': str,'ExterQual': str,'ExterCond': str,'BsmtQual': str,\n",
    "                 'BsmtCond': str,'PoolQC': str,'HeatingQC': str,'KitchenQual': str,\n",
    "                 'BsmtExposure': str,'Functional': str,'GarageFinish': str,'Fence': str, \n",
    "                 'CentralAir': str, 'PavedDrive': str,'Street': str,'Alley': str,\n",
    "                 'LandSlope': str,'LotShape': str, 'HouseStyle': str}\n",
    "\n",
    "# object columns (need to be analyzed)\n",
    "# cat_NoDone = ['MSZoning', 'BldgType', 'MasVnrType', 'MiscFeature']\n",
    "# {'BldgType', 'MSZoning', 'MasVnrType', 'MiscFeature'}"
   ]
  },
  {
   "cell_type": "markdown",
   "id": "30c5f6ae-2e33-4906-a9c9-71b1e30435bd",
   "metadata": {
    "tags": []
   },
   "source": [
    "> **Updating columns types**"
   ]
  },
  {
   "cell_type": "code",
   "execution_count": null,
   "id": "7771c657-5a5c-4973-a909-e1745ee2fbdd",
   "metadata": {},
   "outputs": [],
   "source": [
    "# updating the types\n",
    "# update the list of ordinal with 2 columns name\n",
    "# that allredy are ordinal and encoded ('OverallQual', 'OverallCond')\n",
    " \n",
    "ord_cat_DONE.update({'OverallQual': str, 'OverallCond': str})\n",
    "new_d = new_d.astype(ord_cat_DONE)\n",
    "\n",
    "# 5 more columns will concidere as categorical\n",
    "cat_to_1Hot.update({'MoSold': str, 'YrSold': str, 'BldgType':str, \n",
    "                    'MSZoning': str, 'MasVnrType': str})\n",
    "\n",
    "new_d = new_d.astype(cat_to_1Hot)"
   ]
  },
  {
   "cell_type": "markdown",
   "id": "b3eeb57e-9425-4a18-b4fb-01daa86b5269",
   "metadata": {
    "tags": []
   },
   "source": [
    "##\n",
    "> **BEFORE** Ordinal and OneHot encoder  \n",
    "> - safe **the number columns names**\n",
    "> - check if we've **analyzed** all columns"
   ]
  },
  {
   "cell_type": "code",
   "execution_count": null,
   "id": "cb43c224-2a36-4583-a67e-a85e47401702",
   "metadata": {},
   "outputs": [],
   "source": [
    "numbers_col = new_d.select_dtypes('number')\n",
    "numbers_col = numbers_col.columns.to_list()"
   ]
  },
  {
   "cell_type": "code",
   "execution_count": null,
   "id": "44a60967-90a2-4237-9973-d01d5fe7b8df",
   "metadata": {},
   "outputs": [],
   "source": [
    "# the first time I checked I got\n",
    "# {'BldgType', 'MSZoning', 'MasVnrType', 'MiscFeature'}\n",
    "# I went back and analyze them!\n",
    "\n",
    "analyzed_col = numbers_col + list(cat_to_1Hot.keys()) + list(ord_cat_DONE.keys())\n",
    "set( new_d.columns.to_list() ) - set( analyzed_col )"
   ]
  },
  {
   "cell_type": "markdown",
   "id": "90d8f909-d9d7-4a44-a0dc-ac9c0c9c8ce9",
   "metadata": {},
   "source": [
    "###\n",
    "> doing the **Ordinal Encode**"
   ]
  },
  {
   "cell_type": "code",
   "execution_count": null,
   "id": "0ce4b111-aeb5-4b96-913f-67c22d79ae9e",
   "metadata": {},
   "outputs": [],
   "source": [
    "## OrdinalEncoder\n",
    "oe = OrdinalEncoder(mapping=ord_cat_mapping)"
   ]
  },
  {
   "cell_type": "code",
   "execution_count": null,
   "id": "161018a8-f117-47d1-a45c-0d8ff490aada",
   "metadata": {},
   "outputs": [],
   "source": [
    "# encoding Ordinal categories columns\n",
    "new_d = oe.fit_transform(new_d)"
   ]
  },
  {
   "cell_type": "markdown",
   "id": "de752966-fe75-4887-b041-90223cb20ca0",
   "metadata": {},
   "source": [
    "###\n",
    "> doing **OneHot Encoding**  "
   ]
  },
  {
   "cell_type": "code",
   "execution_count": null,
   "id": "f0cf93da-23e9-4e28-a687-1693f902ed93",
   "metadata": {},
   "outputs": [],
   "source": [
    "# OneHot encoding\n",
    "oh = OneHotEncoder(cols=cat_to_1Hot).fit(new_d.copy())"
   ]
  },
  {
   "cell_type": "code",
   "execution_count": null,
   "id": "4b69aed4-088e-476f-9cab-8e5d64866c47",
   "metadata": {},
   "outputs": [],
   "source": [
    "new_d = oh.transform(new_d.copy())"
   ]
  },
  {
   "cell_type": "markdown",
   "id": "45b088d3-de63-4dac-a3ab-aa6b48c119e1",
   "metadata": {
    "tags": []
   },
   "source": [
    "## Numerical"
   ]
  },
  {
   "cell_type": "code",
   "execution_count": null,
   "id": "f4123d9c-9193-42b1-82c1-0f033e3bb4bb",
   "metadata": {},
   "outputs": [],
   "source": [
    "print('numbers  : ', len(numbers_col))\n",
    "print('to OneHot: ', len(list(cat_to_1Hot.keys())))\n",
    "print('Ordinal. : ', len(list(ord_cat_DONE.keys())))"
   ]
  },
  {
   "cell_type": "code",
   "execution_count": null,
   "id": "4e0ca550-be14-4dbe-8154-e4575f9da7b7",
   "metadata": {},
   "outputs": [],
   "source": [
    "new_d.shape\n",
    "# {'BldgType', 'MSZoning', 'MasVnrType'}"
   ]
  },
  {
   "cell_type": "markdown",
   "id": "c68c40dd-e3b4-4ceb-ba1d-ef4f091c0766",
   "metadata": {},
   "source": [
    "> edentifying the **skewed** columns"
   ]
  },
  {
   "cell_type": "code",
   "execution_count": null,
   "id": "02b178e8-5282-4a4a-aea2-833ff2722679",
   "metadata": {},
   "outputs": [],
   "source": [
    "skewed_col = new_d.skew(numeric_only=True)"
   ]
  },
  {
   "cell_type": "code",
   "execution_count": null,
   "id": "4dad4f83-a8bf-45df-a504-b1b83d971f25",
   "metadata": {},
   "outputs": [],
   "source": [
    "skewed_col = skewed_col[ skewed_col > 0.7 ]\n",
    "skewed_col = skewed_col.index\n",
    "print('number of skewed columns( skewed > 0.7): ', len(skewed_col) )"
   ]
  },
  {
   "cell_type": "code",
   "execution_count": null,
   "id": "d8c87575-d12b-4332-ab42-4862ac2fa5e8",
   "metadata": {},
   "outputs": [],
   "source": []
  },
  {
   "cell_type": "code",
   "execution_count": null,
   "id": "7f9b6833-d7de-44a4-8187-d798c98f3cc2",
   "metadata": {},
   "outputs": [],
   "source": [
    "fix_skew = Pipeline([('scaler', RobustScaler()), ('transform', PowerTransformer(method='yeo-johnson'))])"
   ]
  },
  {
   "cell_type": "code",
   "execution_count": null,
   "id": "d7dacf6b-c38c-401e-aa4b-a748112a2e69",
   "metadata": {},
   "outputs": [],
   "source": [
    "new_d[skewed_col].skew(numeric_only=True)"
   ]
  },
  {
   "cell_type": "code",
   "execution_count": null,
   "id": "04aa54ae-e799-43a1-a07c-58ab926ddcdf",
   "metadata": {},
   "outputs": [],
   "source": [
    "# temp01 = new_d.copy()\n",
    "new_d[skewed_col] = fix_skew.fit_transform(new_d[skewed_col]) "
   ]
  },
  {
   "cell_type": "code",
   "execution_count": null,
   "id": "a9347db5-d91d-4d0c-9d47-541af5c92ccc",
   "metadata": {},
   "outputs": [],
   "source": [
    "new_d[skewed_col].skew(numeric_only=True)"
   ]
  },
  {
   "cell_type": "code",
   "execution_count": null,
   "id": "a270e815-1020-4fa0-981b-efc8ccb939c5",
   "metadata": {},
   "outputs": [],
   "source": []
  },
  {
   "cell_type": "markdown",
   "id": "7366caf2-02be-457b-abb1-7de38da99afc",
   "metadata": {},
   "source": [
    "# Feature Selection"
   ]
  },
  {
   "cell_type": "code",
   "execution_count": null,
   "id": "1f5c89e1-bd42-497f-a254-d638e0a30f06",
   "metadata": {},
   "outputs": [],
   "source": [
    "d_tr.tail(7)"
   ]
  },
  {
   "cell_type": "code",
   "execution_count": null,
   "id": "290f5e9a-07a8-4deb-90d7-d9d17b93301b",
   "metadata": {},
   "outputs": [],
   "source": [
    "new_d[1459:1461]"
   ]
  },
  {
   "cell_type": "code",
   "execution_count": null,
   "id": "a14fa81f-e21b-48c5-8baa-f85f1680e0e3",
   "metadata": {},
   "outputs": [],
   "source": [
    "new_d.head(7)"
   ]
  },
  {
   "cell_type": "code",
   "execution_count": null,
   "id": "2a44d1e0-14c4-4f0e-a880-f2861aae2db8",
   "metadata": {},
   "outputs": [],
   "source": [
    "training = new_d[new_d['Training']].copy()"
   ]
  },
  {
   "cell_type": "code",
   "execution_count": null,
   "id": "95fd3d16-0d7f-4947-9418-3bab637a299d",
   "metadata": {},
   "outputs": [],
   "source": [
    "training.head(7)"
   ]
  },
  {
   "cell_type": "code",
   "execution_count": null,
   "id": "2871e23b-8ec4-4be1-b660-8176478f472f",
   "metadata": {},
   "outputs": [],
   "source": [
    "d_tr.shape"
   ]
  },
  {
   "cell_type": "code",
   "execution_count": null,
   "id": "121de181-3972-434d-b492-266f0277cedb",
   "metadata": {},
   "outputs": [],
   "source": [
    "len(new_d.columns.to_list())"
   ]
  },
  {
   "cell_type": "code",
   "execution_count": null,
   "id": "ebbeb364-ff4a-4090-9619-197c4b2c4d53",
   "metadata": {},
   "outputs": [],
   "source": [
    "set( new_d.columns.to_list()) - set( d_tr.columns.to_list() )"
   ]
  },
  {
   "cell_type": "code",
   "execution_count": null,
   "id": "6ec36ebc-b302-45ae-ac5d-366a8bcf9574",
   "metadata": {},
   "outputs": [],
   "source": [
    "set( d_tr.columns.to_list() ) - set( new_d.columns.to_list())"
   ]
  },
  {
   "cell_type": "code",
   "execution_count": null,
   "id": "062f4cb1-c188-42ec-8a19-a989ed708fbd",
   "metadata": {},
   "outputs": [],
   "source": [
    "set( d_te.columns.to_list() ) - set( d_tr.columns.to_list())"
   ]
  },
  {
   "cell_type": "code",
   "execution_count": null,
   "id": "ca8022b5-77e8-449f-90ee-b4259cd09edb",
   "metadata": {},
   "outputs": [],
   "source": [
    "d_tr.info()"
   ]
  },
  {
   "cell_type": "code",
   "execution_count": null,
   "id": "ff35fbb8-36d6-4136-a3b2-40fd12b6f499",
   "metadata": {},
   "outputs": [],
   "source": []
  }
 ],
 "metadata": {
  "kernelspec": {
   "display_name": "Python 3 (ipykernel)",
   "language": "python",
   "name": "python3"
  },
  "language_info": {
   "codemirror_mode": {
    "name": "ipython",
    "version": 3
   },
   "file_extension": ".py",
   "mimetype": "text/x-python",
   "name": "python",
   "nbconvert_exporter": "python",
   "pygments_lexer": "ipython3",
   "version": "3.8.13"
  }
 },
 "nbformat": 4,
 "nbformat_minor": 5
}
