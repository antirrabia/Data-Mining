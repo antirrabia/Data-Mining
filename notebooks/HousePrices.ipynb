{
 "cells": [
  {
   "cell_type": "code",
   "execution_count": 8,
   "id": "f096994f",
   "metadata": {},
   "outputs": [],
   "source": [
    "from sklearn.linear_model import LinearRegression\n",
    "from sklearn.pipeline import Pipeline\n",
    "from sklearn.preprocessing import FunctionTransformer\n",
    "\n",
    "import matplotlib.pyplot as plt\n",
    "import seaborn as sns\n",
    "import pandas as pd\n",
    "import numpy as np"
   ]
  },
  {
   "cell_type": "code",
   "execution_count": 2,
   "id": "c21fddeb",
   "metadata": {},
   "outputs": [],
   "source": [
    "d_tr = pd.read_csv('/Users/antirrabia/Documents/01-GitHub/DataMining-_-/CSV/HousePrices/train.csv', index_col='Id')\n",
    "d_te = pd.read_csv('/Users/antirrabia/Documents/01-GitHub/DataMining-_-/CSV/HousePrices/test.csv', index_col='Id')"
   ]
  },
  {
   "cell_type": "code",
   "execution_count": 3,
   "id": "64ca2b90",
   "metadata": {},
   "outputs": [],
   "source": [
    "y = d_tr.SalePrice.copy()\n",
    "d_tr = d_tr.drop(columns='SalePrice').copy()\n",
    "\n",
    "# d_tr = (1460, 80) , d_te = (1459, 79) = 2919\n",
    "all_d = pd.concat([d_tr, d_te])#.reset_index()\n",
    "# full.set_index('Id', inplace=True)\n",
    "\n",
    "# no need to have this column all value are the same \n",
    "# 'AllPub' 2 nan and 1 NoSewa\n",
    "all_d = all_d.drop(columns='Utilities')"
   ]
  },
  {
   "cell_type": "code",
   "execution_count": 4,
   "id": "675203fb",
   "metadata": {},
   "outputs": [
    {
     "data": {
      "image/png": "[encoded data removed]",
      "text/plain": [
       "<Figure size 432x288 with 1 Axes>"
      ]
     },
     "metadata": {
      "needs_background": "light"
     },
     "output_type": "display_data"
    }
   ],
   "source": [
    "neighbor = ['IDOTRR', 'Mitchel']\n",
    "plot_data = all_d[all_d['Neighborhood'].isin(neighbor)]\n",
    "\n",
    "sns.histplot(data=plot_data, x='MSZoning', hue='Neighborhood', multiple='dodge', shrink=.9);"
   ]
  },
  {
   "cell_type": "code",
   "execution_count": null,
   "id": "6f40df86",
   "metadata": {},
   "outputs": [],
   "source": []
  },
  {
   "cell_type": "code",
   "execution_count": null,
   "id": "56ecd158",
   "metadata": {},
   "outputs": [],
   "source": []
  },
  {
   "cell_type": "code",
   "execution_count": 9,
   "id": "907ceb28",
   "metadata": {},
   "outputs": [],
   "source": [
    "# 34 columns with nan\n",
    "\n",
    "def fillWithNone(df):\n",
    "    ''' nan in 'PoolQC' means 'no pool' \n",
    "        nan in 'MiscFeature' means 'no misc feature'\n",
    "        nan in 'Alley' means 'no alley acces'\n",
    "        nan in 'Fence' means 'no fence'\n",
    "        nan in 'FireplaceQu' means 'no Fireplace'\n",
    "        nan in 'GarageType', 'GarageFinish', 'GarageQual',\n",
    "        'BsmtQual', 'BsmtCond', 'BsmtExposure', 'BsmtFinSF1'\n",
    "        'BsmtFinSF2', 'MasVnrType', 'MSSubClass'\n",
    "        'GarageCond' replaced with 'None' too\n",
    "    \n",
    "    recive a df\n",
    "    '''\n",
    "    df = df.copy()\n",
    "    \n",
    "    columns = ['PoolQC', 'MiscFeature', 'Alley', 'Fence', \n",
    "               'FireplaceQu', 'GarageType', 'GarageFinish', \n",
    "               'GarageQual', 'GarageCond', 'BsmtQual',\n",
    "               'BsmtCond', 'BsmtExposure', 'BsmtFinSF1',\n",
    "               'BsmtFinSF2', 'MasVnrType'\n",
    "              ]\n",
    "    \n",
    "    for col in columns:\n",
    "        df[col] = df[col].fillna('None')\n",
    "    \n",
    "    return df\n",
    "\n",
    "\n",
    "def fillWithZero(df):\n",
    "    ''' nan \n",
    "    \n",
    "    '''\n",
    "    df = df.copy()\n",
    "    \n",
    "    columns = ['GarageYrBlt', 'GarageArea', 'GarageCars',\n",
    "               'BsmtFinSF1', 'BsmtFinSF2', 'BsmtUnfSF',\n",
    "               'TotalBsmtSF', 'BsmtFullBath', 'BsmtHalfBath',\n",
    "               'MasVnrArea'\n",
    "              ]\n",
    "    \n",
    "    for col in columns:\n",
    "        df[col] = df[col].fillna(0)\n",
    "    \n",
    "    return df\n",
    "\n",
    "\n",
    "\n",
    "def fillWithMode(df):\n",
    "    ''' fill missing values with mode, median\n",
    "    '''\n",
    "    df = df.copy()\n",
    "    \n",
    "    columns = ['Electrical', 'KitchenQual', 'Exterior1st',\n",
    "               'Exterior2nd', 'SaleType'\n",
    "              ]\n",
    "    \n",
    "    for col in columns:\n",
    "        df[col] = df[col].fillna(df[col].mode()[0])\n",
    "    \n",
    "    \n",
    "    df['LotFrontage'] = (\n",
    "                     df.groupby('Neighborhood')['LotFrontage']\n",
    "                     .transform(lambda x: x.fillna(x.median()))\n",
    "                    )  \n",
    "    \n",
    "    # nan means Typical\n",
    "    df['Functional'] = df['Functional'].fillna('Typ')\n",
    "    \n",
    "    return df\n",
    "\n",
    "\n",
    "def mszoning(df):\n",
    "    ''' recives a DF this imputation takes place on test data only'''\n",
    "    \n",
    "    df = df.copy()\n",
    "    \n",
    "    idotrr = ( (df['Neighborhood'] == 'IDOTRR') & (df['MSZoning'].isna()) )\n",
    "    mitchel = ( (df['Neighborhood'] == 'Mitchel') & (df['MSZoning'].isna()) )\n",
    "    \n",
    "    df.loc[ idotrr , 'MSZoning'] = 'RM'\n",
    "    df.loc[ mitchel, 'MSZoning'] = 'RL'\n",
    "    \n",
    "#     # to test this function out of here\n",
    "#     temp = mszoning(d_te)\n",
    "#     # lable index acces at [1916, 2217, 2251, 2905\n",
    "#     temp.loc[[1916, 2217, 2251, 2905], 'MSZoning']\n",
    "    \n",
    "    return df\n",
    "    \n",
    "none_func = FunctionTransformer(fillWithNone, validate=False) \n",
    "zero_func = FunctionTransformer(fillWithZero, validate=False) \n",
    "mode_func = FunctionTransformer(fillWithMode, validate=False)\n"
   ]
  },
  {
   "cell_type": "code",
   "execution_count": 7,
   "id": "825a452f",
   "metadata": {},
   "outputs": [
    {
     "ename": "TypeError",
     "evalue": "All intermediate steps should be transformers and implement fit and transform or be the string 'passthrough' '<function fillWithNone at 0x7fd9037d78b0>' (type <class 'function'>) doesn't",
     "output_type": "error",
     "traceback": [
      "\u001b[0;31m---------------------------------------------------------------------------\u001b[0m",
      "\u001b[0;31mTypeError\u001b[0m                                 Traceback (most recent call last)",
      "Input \u001b[0;32mIn [7]\u001b[0m, in \u001b[0;36m<cell line: 1>\u001b[0;34m()\u001b[0m\n\u001b[0;32m----> 1\u001b[0m imputer \u001b[38;5;241m=\u001b[39m \u001b[43mPipeline\u001b[49m\u001b[43m(\u001b[49m\u001b[43m[\u001b[49m\u001b[43m(\u001b[49m\u001b[38;5;124;43m'\u001b[39;49m\u001b[38;5;124;43mwithNone\u001b[39;49m\u001b[38;5;124;43m'\u001b[39;49m\u001b[43m,\u001b[49m\u001b[43m \u001b[49m\u001b[43mfillWithNone\u001b[49m\u001b[43m)\u001b[49m\u001b[43m,\u001b[49m\u001b[43m \u001b[49m\n\u001b[1;32m      2\u001b[0m \u001b[43m                    \u001b[49m\u001b[43m(\u001b[49m\u001b[38;5;124;43m'\u001b[39;49m\u001b[38;5;124;43mwithZero\u001b[39;49m\u001b[38;5;124;43m'\u001b[39;49m\u001b[43m,\u001b[49m\u001b[43m \u001b[49m\u001b[43mfillWithZero\u001b[49m\u001b[43m)\u001b[49m\u001b[43m,\u001b[49m\u001b[43m \u001b[49m\n\u001b[1;32m      3\u001b[0m \u001b[43m                    \u001b[49m\u001b[43m(\u001b[49m\u001b[38;5;124;43m'\u001b[39;49m\u001b[38;5;124;43mwithMode\u001b[39;49m\u001b[38;5;124;43m'\u001b[39;49m\u001b[43m,\u001b[49m\u001b[43m \u001b[49m\u001b[43mfillWithMode\u001b[49m\u001b[43m)\u001b[49m\u001b[43m]\u001b[49m\u001b[43m)\u001b[49m\n",
      "File \u001b[0;32m/opt/anaconda3/lib/python3.8/site-packages/sklearn/pipeline.py:148\u001b[0m, in \u001b[0;36mPipeline.__init__\u001b[0;34m(self, steps, memory, verbose)\u001b[0m\n\u001b[1;32m    146\u001b[0m \u001b[38;5;28mself\u001b[39m\u001b[38;5;241m.\u001b[39mmemory \u001b[38;5;241m=\u001b[39m memory\n\u001b[1;32m    147\u001b[0m \u001b[38;5;28mself\u001b[39m\u001b[38;5;241m.\u001b[39mverbose \u001b[38;5;241m=\u001b[39m verbose\n\u001b[0;32m--> 148\u001b[0m \u001b[38;5;28;43mself\u001b[39;49m\u001b[38;5;241;43m.\u001b[39;49m\u001b[43m_validate_steps\u001b[49m\u001b[43m(\u001b[49m\u001b[43m)\u001b[49m\n",
      "File \u001b[0;32m/opt/anaconda3/lib/python3.8/site-packages/sklearn/pipeline.py:207\u001b[0m, in \u001b[0;36mPipeline._validate_steps\u001b[0;34m(self)\u001b[0m\n\u001b[1;32m    203\u001b[0m         \u001b[38;5;28;01mcontinue\u001b[39;00m\n\u001b[1;32m    204\u001b[0m     \u001b[38;5;28;01mif\u001b[39;00m \u001b[38;5;129;01mnot\u001b[39;00m (\u001b[38;5;28mhasattr\u001b[39m(t, \u001b[38;5;124m\"\u001b[39m\u001b[38;5;124mfit\u001b[39m\u001b[38;5;124m\"\u001b[39m) \u001b[38;5;129;01mor\u001b[39;00m \u001b[38;5;28mhasattr\u001b[39m(t, \u001b[38;5;124m\"\u001b[39m\u001b[38;5;124mfit_transform\u001b[39m\u001b[38;5;124m\"\u001b[39m)) \u001b[38;5;129;01mor\u001b[39;00m \u001b[38;5;129;01mnot\u001b[39;00m \u001b[38;5;28mhasattr\u001b[39m(\n\u001b[1;32m    205\u001b[0m         t, \u001b[38;5;124m\"\u001b[39m\u001b[38;5;124mtransform\u001b[39m\u001b[38;5;124m\"\u001b[39m\n\u001b[1;32m    206\u001b[0m     ):\n\u001b[0;32m--> 207\u001b[0m         \u001b[38;5;28;01mraise\u001b[39;00m \u001b[38;5;167;01mTypeError\u001b[39;00m(\n\u001b[1;32m    208\u001b[0m             \u001b[38;5;124m\"\u001b[39m\u001b[38;5;124mAll intermediate steps should be \u001b[39m\u001b[38;5;124m\"\u001b[39m\n\u001b[1;32m    209\u001b[0m             \u001b[38;5;124m\"\u001b[39m\u001b[38;5;124mtransformers and implement fit and transform \u001b[39m\u001b[38;5;124m\"\u001b[39m\n\u001b[1;32m    210\u001b[0m             \u001b[38;5;124m\"\u001b[39m\u001b[38;5;124mor be the string \u001b[39m\u001b[38;5;124m'\u001b[39m\u001b[38;5;124mpassthrough\u001b[39m\u001b[38;5;124m'\u001b[39m\u001b[38;5;124m \u001b[39m\u001b[38;5;124m\"\u001b[39m\n\u001b[1;32m    211\u001b[0m             \u001b[38;5;124m\"\u001b[39m\u001b[38;5;124m'\u001b[39m\u001b[38;5;132;01m%s\u001b[39;00m\u001b[38;5;124m'\u001b[39m\u001b[38;5;124m (type \u001b[39m\u001b[38;5;132;01m%s\u001b[39;00m\u001b[38;5;124m) doesn\u001b[39m\u001b[38;5;124m'\u001b[39m\u001b[38;5;124mt\u001b[39m\u001b[38;5;124m\"\u001b[39m \u001b[38;5;241m%\u001b[39m (t, \u001b[38;5;28mtype\u001b[39m(t))\n\u001b[1;32m    212\u001b[0m         )\n\u001b[1;32m    214\u001b[0m \u001b[38;5;66;03m# We allow last estimator to be None as an identity transformation\u001b[39;00m\n\u001b[1;32m    215\u001b[0m \u001b[38;5;28;01mif\u001b[39;00m (\n\u001b[1;32m    216\u001b[0m     estimator \u001b[38;5;129;01mis\u001b[39;00m \u001b[38;5;129;01mnot\u001b[39;00m \u001b[38;5;28;01mNone\u001b[39;00m\n\u001b[1;32m    217\u001b[0m     \u001b[38;5;129;01mand\u001b[39;00m estimator \u001b[38;5;241m!=\u001b[39m \u001b[38;5;124m\"\u001b[39m\u001b[38;5;124mpassthrough\u001b[39m\u001b[38;5;124m\"\u001b[39m\n\u001b[1;32m    218\u001b[0m     \u001b[38;5;129;01mand\u001b[39;00m \u001b[38;5;129;01mnot\u001b[39;00m \u001b[38;5;28mhasattr\u001b[39m(estimator, \u001b[38;5;124m\"\u001b[39m\u001b[38;5;124mfit\u001b[39m\u001b[38;5;124m\"\u001b[39m)\n\u001b[1;32m    219\u001b[0m ):\n",
      "\u001b[0;31mTypeError\u001b[0m: All intermediate steps should be transformers and implement fit and transform or be the string 'passthrough' '<function fillWithNone at 0x7fd9037d78b0>' (type <class 'function'>) doesn't"
     ]
    }
   ],
   "source": [
    "imputer = Pipeline([\n",
    "                    ('withNone', none_func), \n",
    "                    ('withZero', zero_func), \n",
    "                    ('withMode', mode_func)\n",
    "                   ]\n",
    "                  )"
   ]
  },
  {
   "cell_type": "code",
   "execution_count": null,
   "id": "4b01d07c",
   "metadata": {},
   "outputs": [],
   "source": []
  }
 ],
 "metadata": {
  "kernelspec": {
   "display_name": "Python 3 (ipykernel)",
   "language": "python",
   "name": "python3"
  },
  "language_info": {
   "codemirror_mode": {
    "name": "ipython",
    "version": 3
   },
   "file_extension": ".py",
   "mimetype": "text/x-python",
   "name": "python",
   "nbconvert_exporter": "python",
   "pygments_lexer": "ipython3",
   "version": "3.8.12"
  }
 },
 "nbformat": 4,
 "nbformat_minor": 5
}
