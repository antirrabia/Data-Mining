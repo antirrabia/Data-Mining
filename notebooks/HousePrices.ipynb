{
 "cells": [
  {
   "cell_type": "code",
   "execution_count": 1,
   "id": "3bf9a821-251f-4f1d-b5e6-5f173b9e9055",
   "metadata": {
    "tags": []
   },
   "outputs": [],
   "source": [
    "from sklearn.cluster import KMeans\n",
    "\n",
    "from sklearn.linear_model import LinearRegression\n",
    "\n",
    "from sklearn.ensemble import IsolationForest\n",
    "\n",
    "from sklearn.pipeline import Pipeline\n",
    "from sklearn.preprocessing import FunctionTransformer\n",
    "from sklearn.preprocessing import PowerTransformer\n",
    "from sklearn.preprocessing import RobustScaler\n",
    "from sklearn.preprocessing import PolynomialFeatures\n",
    "\n",
    "from sklearn.feature_selection import VarianceThreshold\n",
    "from sklearn.feature_selection import mutual_info_regression\n",
    "from sklearn.neighbors import LocalOutlierFactor\n",
    "\n",
    "from category_encoders import OrdinalEncoder\n",
    "from category_encoders.one_hot import OneHotEncoder\n",
    "\n",
    "import matplotlib.pyplot as plt\n",
    "import seaborn as sns\n",
    "import pandas as pd\n",
    "import numpy as np"
   ]
  },
  {
   "cell_type": "markdown",
   "id": "0ca15dd1-30af-4513-ae71-96c8ee6b2e4b",
   "metadata": {
    "tags": []
   },
   "source": [
    "### Helpers"
   ]
  },
  {
   "cell_type": "code",
   "execution_count": 2,
   "id": "87bcdacc-0e24-43e4-81e6-712cf90428e1",
   "metadata": {},
   "outputs": [],
   "source": [
    "def make_clusters(df, col, y, n_cluster, merge=False):\n",
    "    '''\n",
    "        function to boil down a colum to n_cluster\n",
    "        \n",
    "        recive:\n",
    "        \n",
    "            df: a data frame \n",
    "            col: col to make cluster\n",
    "            y: the response variable\n",
    "            n_cluster: stamitation of number of cluster\n",
    "            \n",
    "        return:  \n",
    "            a data frame with 'col' droped, and 'col' + '_cluster' column\n",
    "            is added to the data frame\n",
    "\n",
    "        \n",
    "    '''\n",
    "    col_clusters = KMeans(n_clusters=n_cluster, random_state=777)\n",
    "\n",
    "    # 'Neighborhood' and 'MSSubClass' stats\n",
    "    col_stats = df.groupby(col)[y].describe()\n",
    "\n",
    "    # Getting clusters\n",
    "    col_clusters.fit(col_stats)\n",
    "\n",
    "    # preparing DF with cluster lables to merge\n",
    "    new_name = col + '_Cluster'\n",
    "    col_cluster_df = pd.DataFrame( { col: col_stats.index.to_list(),\n",
    "                                     new_name: col_clusters.labels_.tolist()} )\n",
    "    \n",
    "    if merge:\n",
    "        # merging the clusters with the data frame\n",
    "        df = df.merge(col_cluster_df, how='left', on=col)\n",
    "\n",
    "        df[new_name] = df[new_name].astype(str)\n",
    "        \n",
    "        result = df.drop(columns=col)\n",
    "        \n",
    "    else:\n",
    "        result = col_cluster_df\n",
    "    \n",
    "    return result.copy()\n",
    "\n",
    "\n",
    "# Low frequency categories to 'Other'\n",
    "def lower_than(df, col, percentage):\n",
    "    ''' function that will merge low frequency classes into \n",
    "        a single class 'Others'\n",
    "\n",
    "        parameters:\n",
    "            df: a DataFrame\n",
    "            col: column's name to work on\n",
    "            percentage(%): the threshold like 0.1, 0.2\n",
    "\n",
    "        returns:\n",
    "            df: the data frame with col's classes that are lowers\n",
    "                than 'threshold' been repleced with 'Other' category\n",
    "    '''\n",
    "\n",
    "    # calculating the column frequency\n",
    "    col_freq = df[col].value_counts(normalize=True)\n",
    "\n",
    "    # the getting the column threshold \n",
    "    threshold = col_freq.quantile(q= percentage)\n",
    "\n",
    "    # knowing the classes that are below the threshold\n",
    "    less_freq_classes = col_freq[ col_freq <= threshold ]\n",
    "\n",
    "    others = less_freq_classes.index.to_list()\n",
    "\n",
    "    print(others)\n",
    "\n",
    "    df[col] = df[col].replace(others, 'Others')\n",
    "\n",
    "    return df\n",
    "\n",
    "# Sort correlation matrix without duplicate\n",
    "def corr_pair(df, cols, threshold = 0.7):\n",
    "    '''\n",
    "    function that calculate the corrolation of features\n",
    "    and filtering just unique pairs \n",
    "    '''\n",
    "\n",
    "    corr = df[cols].corr().abs()\n",
    "\n",
    "    # creating a matrix same size matrix as 'tr'\n",
    "    # [1 1 1]\n",
    "    # [1 1 1]\n",
    "    # [1 1 1]\n",
    "    temp_matrix = np.ones(corr.shape)\n",
    "\n",
    "    # selecting the upper triagle of the matrix\n",
    "    # excluting the diagonal\n",
    "    # [0 1 1]\n",
    "    # [0 0 1]\n",
    "    # [0 0 0]\n",
    "    upper_tri = np.triu(temp_matrix, k=1)\n",
    "\n",
    "    # converting to booleans\n",
    "    # [FALSE TRUE TRUE]\n",
    "    # [FALSE FLASE TRUE]\n",
    "    # [FALSE FALSE FALSE]\n",
    "    uppper_tri_bool = upper_tri.astype( bool )\n",
    "\n",
    "    # filterin the corroletion matrix\n",
    "    upper_corr = corr.where( uppper_tri_bool )\n",
    "\n",
    "    unique_corr_pair = upper_corr.unstack().dropna()\n",
    "    sorted_pairs = unique_corr_pair.sort_values(ascending=False)\n",
    "\n",
    "    return sorted_pairs[ sorted_pairs > threshold ].copy()"
   ]
  },
  {
   "cell_type": "markdown",
   "id": "48ef4fc7-4204-4d8c-831b-e2e51c0ff471",
   "metadata": {
    "jp-MarkdownHeadingCollapsed": true,
    "tags": []
   },
   "source": [
    "### Data"
   ]
  },
  {
   "cell_type": "code",
   "execution_count": 3,
   "id": "52feccc9-d49a-424c-91d7-7a1256354911",
   "metadata": {},
   "outputs": [],
   "source": [
    "def data(verbose=False):\n",
    "    \n",
    "    d_tr = pd.read_csv('/Users/antirrabia/Documents/01-GitHub/DataMining-_-/CSV/HousePrices/train.csv', index_col='Id')\n",
    "    d_te = pd.read_csv('/Users/antirrabia/Documents/01-GitHub/DataMining-_-/CSV/HousePrices/test.csv', index_col='Id')\n",
    "    \n",
    "    # Utilities has just 2 categories, and one of them\n",
    "    # just appears once so we delete the whole column.\n",
    "    d_tr = d_tr.drop(columns='Utilities')\n",
    "    d_te = d_te.drop(columns='Utilities')\n",
    "    \n",
    "    # Marking Training Set\n",
    "    d_tr['Training'] = True\n",
    "    d_te['Training'] = False  \n",
    "    \n",
    "    if(verbose):\n",
    "        print('d_tr shape:', d_tr.shape)\n",
    "        print('d_te shape:', d_te.shape)\n",
    "        \n",
    "    return (d_tr.copy(), d_te.copy())\n",
    "    "
   ]
  },
  {
   "cell_type": "markdown",
   "id": "a94dca3a-3bcd-4417-ba6a-079ff16ee895",
   "metadata": {
    "tags": []
   },
   "source": [
    "### Analazy 'Y'('SalePrice')"
   ]
  },
  {
   "cell_type": "code",
   "execution_count": 4,
   "id": "8a17f4ce-7db5-4633-8cf2-77153160f6df",
   "metadata": {},
   "outputs": [],
   "source": [
    "def analyze_y(df, verbose=False):\n",
    "    \n",
    "    \n",
    "    df = df.copy()\n",
    "    \n",
    "    # Plotting\n",
    "    if(verbose):\n",
    "        fg, ((ax1, ax2), (ax3, ax4)) = plt.subplots(2,2, figsize=(11,7))\n",
    "        # chequing the distribution of 'y' = 'SalePrice'\n",
    "        \n",
    "        sns.histplot( df['SalePrice'], bins=50, ax= ax1);\n",
    "        ax1.title.set_text('Skewed SalePrice')\n",
    "    \n",
    "        sns.scatterplot(x=df['GrLivArea'], y=df['SalePrice'], ax=ax3);\n",
    "        ax3.title.set_text('Outliers')\n",
    "    \n",
    "    outliers = df[ df['GrLivArea'] >= 4500].index\n",
    "    \n",
    "    # deleting the outliers in 'GrLivArea'\n",
    "    df.drop(outliers, inplace=True)\n",
    "    \n",
    "    # Plotting\n",
    "    if(verbose):\n",
    "        # cheking again\n",
    "        sns.scatterplot(x=df['GrLivArea'], y=df['SalePrice'], ax=ax4);\n",
    "        ax4.title.set_text('NO Outliers')\n",
    "    \n",
    "    # pipeline to scale and do a powerTransforme on y('SalePrice')\n",
    "    fix_y = Pipeline([('scaler', RobustScaler()), ('power', PowerTransformer(method='yeo-johnson'))])\n",
    "    \n",
    "    y = fix_y.fit_transform( df['SalePrice'].values.reshape(-1, 1) )\n",
    "    \n",
    "    # Plotting\n",
    "    if(verbose):\n",
    "        # checking the distribution of 'y' again\n",
    "        sns.histplot(y, bins=50, ax=ax2);\n",
    "        ax2.title.set_text('yeo-johnson transformed \\'y\\'')\n",
    "        \n",
    "        plt.tight_layout()\n",
    "        plt.show()\n",
    "        \n",
    "    # if(verbose):\n",
    "    print('droped index: \\n', outliers)\n",
    "        \n",
    "    df['SalePrice'] = y.copy()\n",
    "    \n",
    "    return df.copy()\n",
    "    "
   ]
  },
  {
   "cell_type": "markdown",
   "id": "c3a4e36f-2405-4d18-9056-5c998eb3e7ad",
   "metadata": {
    "jp-MarkdownHeadingCollapsed": true,
    "tags": []
   },
   "source": [
    "### Combining training and test sets"
   ]
  },
  {
   "cell_type": "code",
   "execution_count": 5,
   "id": "165e0f7d-a6db-49df-ae96-26052ea2a0e9",
   "metadata": {},
   "outputs": [],
   "source": [
    "def combine_tr_te(df_tr, df_te, verbose=False):\n",
    "    \n",
    "    all_d = pd.concat([d_tr.copy(), d_te.copy()])\n",
    "    \n",
    "    if(verbose):\n",
    "        print('New data shape: ', all_d.shape)\n",
    "        \n",
    "    return all_d.copy()"
   ]
  },
  {
   "cell_type": "markdown",
   "id": "8a5ade99-7886-4637-89f1-9c7b0dff611d",
   "metadata": {
    "jp-MarkdownHeadingCollapsed": true,
    "tags": []
   },
   "source": [
    "### Imputting 'nan'"
   ]
  },
  {
   "cell_type": "code",
   "execution_count": 6,
   "id": "04f383d9-7b69-4ad6-a79a-605c0c65c2e5",
   "metadata": {},
   "outputs": [],
   "source": [
    "\n",
    "def impute_nan(all_data):\n",
    "    \n",
    "    # 34 columns with nan\n",
    "    def fillWithNone(df):\n",
    "        ''' nan in 'PoolQC' means 'no pool' \n",
    "            nan in 'MiscFeature' means 'no misc feature'\n",
    "            nan in 'Alley' means 'no alley acces'\n",
    "            nan in 'Fence' means 'no fence'\n",
    "            nan in 'FireplaceQu' means 'no Fireplace'\n",
    "            nan in 'GarageType', 'GarageFinish', 'GarageQual',\n",
    "                'BsmtQual', 'BsmtCond', 'BsmtExposure', 'BsmtFinType1'\n",
    "                'BsmtFinType1', 'MasVnrType', 'MSSubClass'\n",
    "                'GarageCond' replaced with 'None' too\n",
    "\n",
    "            recive a df\n",
    "        '''\n",
    "\n",
    "        df = df.copy()\n",
    "\n",
    "        columns = ['PoolQC', 'MiscFeature', 'Alley', 'Fence', \n",
    "                   'FireplaceQu', 'GarageType', 'GarageFinish', \n",
    "                   'GarageQual', 'GarageCond', 'BsmtQual',\n",
    "                   'BsmtCond', 'BsmtExposure', 'BsmtFinType1',\n",
    "                   'BsmtFinType2', 'MasVnrType'\n",
    "                  ]\n",
    "\n",
    "        for col in columns:\n",
    "            df[col] = df[col].fillna('None')\n",
    "\n",
    "        return df\n",
    "\n",
    "    def fillWithZero(df):\n",
    "        ''' nan \n",
    "\n",
    "        '''\n",
    "\n",
    "        df = df.copy()\n",
    "\n",
    "        columns = ['GarageYrBlt', 'GarageArea', 'GarageCars',\n",
    "                   'BsmtFinSF1', 'BsmtFinSF2', 'BsmtUnfSF',\n",
    "                   'TotalBsmtSF', 'BsmtFullBath', 'BsmtHalfBath',\n",
    "                   'MasVnrArea'\n",
    "                  ]\n",
    "\n",
    "        for col in columns:\n",
    "            df[col] = df[col].fillna(0)\n",
    "\n",
    "        return df\n",
    "\n",
    "    def fillWithMode(df):\n",
    "        ''' fill missing values with mode, median\n",
    "        '''\n",
    "        df = df.copy()\n",
    "\n",
    "        columns = ['Electrical', 'KitchenQual', 'Exterior1st',\n",
    "                   'Exterior2nd', 'SaleType'\n",
    "                  ]\n",
    "\n",
    "        for col in columns:\n",
    "            df[col] = df[col].fillna(df[col].mode()[0])\n",
    "\n",
    "        # filling with median of each 'Neighborhood'\n",
    "        df['LotFrontage'] = (\n",
    "                         df.groupby('Neighborhood')['LotFrontage']\n",
    "                         .transform(lambda x: x.fillna(x.median()))\n",
    "                        )  \n",
    "\n",
    "        # nan means Typical\n",
    "        df['Functional'] = df['Functional'].fillna('Typ')\n",
    "\n",
    "        return df\n",
    "\n",
    "\n",
    "    def mszoning(df):\n",
    "        ''' recives a DF this imputation takes place on test data only'''\n",
    "\n",
    "        df = df.copy()\n",
    "\n",
    "        idotrr = ( (df['Neighborhood'] == 'IDOTRR') & (df['MSZoning'].isna()) )\n",
    "        mitchel = ( (df['Neighborhood'] == 'Mitchel') & (df['MSZoning'].isna()) )\n",
    "\n",
    "        df.loc[ idotrr , 'MSZoning'] = 'RM'\n",
    "        df.loc[ mitchel, 'MSZoning'] = 'RL'\n",
    "\n",
    "    #     # to test this function out of here\n",
    "    #     temp = mszoning(d_te)\n",
    "    #     # lable index acces at [1916, 2217, 2251, 2905\n",
    "    #     temp.loc[[1916, 2217, 2251, 2905], 'MSZoning']\n",
    "\n",
    "        return df\n",
    "\n",
    "    none_func = FunctionTransformer(fillWithNone, validate=False) \n",
    "    zero_func = FunctionTransformer(fillWithZero, validate=False) \n",
    "    mode_func = FunctionTransformer(fillWithMode, validate=False)\n",
    "    mszo_func = FunctionTransformer(mszoning, validate=False)\n",
    "    \n",
    "    \n",
    "    imputer = Pipeline([\n",
    "                    ('withNone', none_func), \n",
    "                    ('withZero', zero_func), \n",
    "                    ('withMode', mode_func), \n",
    "                    ('mszoni', mszo_func)\n",
    "                   ])\n",
    "    \n",
    "    result = imputer.fit_transform(all_data)\n",
    "    \n",
    "    return result.copy()"
   ]
  },
  {
   "cell_type": "markdown",
   "id": "332fe660-3a2d-4178-ad09-ee1ceed3dbbb",
   "metadata": {
    "jp-MarkdownHeadingCollapsed": true,
    "tags": []
   },
   "source": [
    "### Reduce Categories(Collapsing)"
   ]
  },
  {
   "cell_type": "code",
   "execution_count": 7,
   "id": "9b2e37e1-4772-4ec5-94f3-3cd2beaac333",
   "metadata": {},
   "outputs": [],
   "source": [
    "def reduce_categories(all_data):\n",
    "    '''\n",
    "    '''\n",
    "\n",
    "\n",
    "    con1_others = ['RRAn', 'PosN', 'RRAe', 'PosA', 'RRNn', 'RRNe']\n",
    "    roofS_others = ['Gambrel', 'Flat', 'Mansard', 'Shed']\n",
    "    foun_others = ['Slab', 'Stone', 'Wood']\n",
    "    gara_others = ['None', 'Basment', '2Types', 'CarPort']\n",
    "    saleT_others = ['ConLD', 'CWD', 'ConLI', 'ConLw', 'Oth', 'Con']\n",
    "    saleC_others = ['Family', 'Alloca', 'AdjLand']\n",
    "    exte1_others = ['BrkComm', 'AsphShn', 'Stone', 'CBlock', 'ImStucc']\n",
    "    exte2_others = ['BrkComm', 'AsphShn', 'Stone', 'CBlock', 'ImStucc', 'Other']\n",
    "    lotC_others = ['FR2', 'FR3']\n",
    "\n",
    "    all_data['Condition1'] = all_data['Condition1'].map(lambda x: 'Others' if x in con1_others else x)\n",
    "    all_data['RoofStyle'] = all_data['RoofStyle'].map(lambda x: 'Others' if x in roofS_others else x)\n",
    "    all_data['Foundation'] = all_data['Foundation'].map(lambda x: 'Others' if x in foun_others else x)\n",
    "    all_data['GarageType'] = all_data['GarageType'].map(lambda x: 'Others' if x in gara_others else x)\n",
    "    all_data['SaleType'] = all_data['SaleType'].map(lambda x: 'Others' if x in saleT_others else x)\n",
    "    all_data['SaleCondition'] = all_data['SaleCondition'].map(lambda x: 'Others' if x in saleC_others else x)\n",
    "    all_data['Exterior1st'] = all_data['Exterior1st'].map(lambda x: 'Others' if x in exte1_others else x)\n",
    "    all_data['Exterior2nd'] = all_data['Exterior2nd'].map(lambda x: 'Others' if x in exte2_others else x)\n",
    "    all_data['LotConfig'] = all_data['LotConfig'].map(lambda x: 'Others' if x in lotC_others else x)\n",
    "\n",
    "\n",
    "    # Reducing to a BINARY CLASSES(just 2 clases)\n",
    "\n",
    "    landC_others = ['HLS', 'Bnk', 'Low']\n",
    "    cond2_others = ['Feedr', 'Artery', 'PosN', 'PosA', 'RRNn', 'RRAn', 'RRAe']\n",
    "    roofM_others = ['Tar&Grv', 'WdShake', 'WdShngl', 'Metal', 'Membran', 'Roll', 'ClyTile']\n",
    "    heati_others = ['GasW', 'Grav', 'Wall', 'OthW', 'Floor']\n",
    "    elect_others = ['FuseA', 'FuseF', 'FuseP', 'Mix']\n",
    "    miscF_others = ['Shed', 'Gar2', 'Othr', 'TenC']\n",
    "\n",
    "    all_data['LandContour'] = all_data['LandContour'].map(lambda x: 'Others' if x in landC_others else x)\n",
    "    all_data['Condition2'] = all_data['Condition2'].map(lambda x: 'Others' if x in cond2_others else x)\n",
    "    all_data['RoofMatl'] = all_data['RoofMatl'].map(lambda x: 'Others' if x in roofM_others else x)\n",
    "    all_data['Heating'] = all_data['Heating'].map(lambda x: 'Others' if x in heati_others else x)\n",
    "    all_data['Electrical'] = all_data['Electrical'].map(lambda x: 'Others' if x in elect_others else x)\n",
    "\n",
    "    all_data['MiscFeature'] = all_data['MiscFeature'].map(lambda x: 'Others' if x in miscF_others else x)\n",
    "    \n",
    "    \n",
    "    return all_data.copy()"
   ]
  },
  {
   "cell_type": "markdown",
   "id": "15f29a9b-652d-4150-b0cd-d8208223ca2d",
   "metadata": {
    "jp-MarkdownHeadingCollapsed": true,
    "tags": []
   },
   "source": [
    "### Features Engineering"
   ]
  },
  {
   "cell_type": "code",
   "execution_count": 8,
   "id": "2bb5c6fd-4af0-459c-8cc6-ab0ee2914b53",
   "metadata": {},
   "outputs": [],
   "source": [
    "\n",
    "def features_engineering(all_data):\n",
    "    # Before using d_tr set \n",
    "    # get the new d_tr set from all_data\n",
    "    d_tr = all_data[all_data['Training']].copy()\n",
    "\n",
    "    # Creating a new feature 'PeakMonths', 'Unfinished',\n",
    "    # 'Splited', and TotalSF\n",
    "    peak_moS = [5, 6, 7]\n",
    "    unfi_hou = ['1.5Unf', '2.5Unf']\n",
    "    spli_hou = ['SFoyer', 'SLvl']\n",
    "\n",
    "    all_data['PeakMonths'] = all_data['MoSold'].map(lambda x: 'Peak' if x in peak_moS else 'Normal' )\n",
    "    all_data['Finished']   = all_data['HouseStyle'].map(lambda x: 'no' if x in unfi_hou else 'yes') \n",
    "    all_data['Splited']    = all_data['HouseStyle'].map(lambda x: 'yes' if x in spli_hou else 'no')\n",
    "\n",
    "    all_data['TotalSF']    = all_data['TotalBsmtSF'] + all_data['1stFlrSF'] + all_data['2ndFlrSF']\n",
    "\n",
    "    \n",
    "    # ======== Clustering ==========\n",
    "    # we will use the training data because if we uses all_data\n",
    "    # it has 'nan' in 'SalePrice'. test data does not have 'SalePrice'\n",
    "    # 'Neighborhood', 5, 'MSSubClass', 4\n",
    "    nei_cluster = make_clusters(d_tr.copy(), 'Neighborhood', 'SalePrice', 5)\n",
    "    mss_cluster = make_clusters(d_tr.copy(), 'MSSubClass', 'SalePrice', 4)\n",
    "\n",
    "    # merging the clusters data frame with all_data DataFrame\n",
    "    # we got a 'nan' cluster becouse 'MSSubClass' in test_DF\n",
    "    # has a '150' class that is just in test\n",
    "    # we preserved the index from all_d DF\n",
    "    all_data = all_data.reset_index().merge(nei_cluster, how='left', on='Neighborhood').set_index('Id')\n",
    "    # all_data.drop(columns='Neighborhood', inplace=True)\n",
    "\n",
    "    all_data = all_data.reset_index().merge(mss_cluster, how='left', on='MSSubClass').set_index('Id')\n",
    "    \n",
    "    # dropping old columns\n",
    "    # all_data.drop(columns=['Neighborhood', 'MSSubClass'], inplace=True)\n",
    "\n",
    "    # all_data.reset_index(drop=True, inplace=True)\n",
    "    \n",
    "    # ========= Cycling Features ====\n",
    "    all_data[ 'MoSold' + '_sin'] = np.sin( all_data['MoSold'] * (2.*np.pi/12) )\n",
    "    all_data[ 'MoSold' + '_cos'] = np.cos( all_data['MoSold'] * (2.*np.pi/12) )\n",
    "    \n",
    "    # ========= Cleaning ============\n",
    "    all_data.drop(columns=['Neighborhood', 'MSSubClass', 'MoSold'], inplace=True)\n",
    "    \n",
    "    # updating the ** new feature ** types\n",
    "    all_data = all_data.astype( {'PeakMonths':str, 'Finished':str, 'Splited':str,\n",
    "                                 'Neighborhood_Cluster': str, 'MSSubClass_Cluster': str} )#,\n",
    "                                 # 'MoSold_sin': str, 'MoSold_cos': str } )\n",
    "    \n",
    "    return all_data.copy()\n",
    "\n",
    "# # updating cat_to_1Hot\n",
    "# cat_to_1Hot.update( {'PeakMonths':str, 'Finished':str, 'Splited':str,\n",
    "#                        'Neighborhood_Cluster': str, 'MSSubClass_Cluster': str} )"
   ]
  },
  {
   "cell_type": "markdown",
   "id": "a2753745-3428-4207-bc5b-661943b375f5",
   "metadata": {
    "jp-MarkdownHeadingCollapsed": true,
    "tags": []
   },
   "source": [
    "### Global Variables\n",
    "> ord_cat_mapping  \n",
    "> cat_to_1Hot  \n",
    "> ord_cat_DONE  "
   ]
  },
  {
   "cell_type": "code",
   "execution_count": 9,
   "id": "c1bd0b41-503b-4d5d-9c6e-2e4c221f0f46",
   "metadata": {},
   "outputs": [],
   "source": [
    "##### ****** All writed by me ****** #####\n",
    "##########################################\n",
    "def get_global_variables():\n",
    "    ord_cat_mapping = [\n",
    "        {\n",
    "            'col': 'FireplaceQu',\n",
    "            'mapping': {'None': 0, 'Po': 1, 'Fa': 2, 'TA': 3, 'Gd': 4, 'Ex': 5}\n",
    "        },\n",
    "        {\n",
    "            'col': 'GarageQual',\n",
    "            'mapping': {'None': 0, 'Po': 1, 'Fa': 2, 'TA': 3, 'Gd': 4, 'Ex': 5}\n",
    "        },\n",
    "        {\n",
    "            'col': 'GarageCond',\n",
    "            'mapping': {'None': 0, 'Po': 1, 'Fa': 2, 'TA': 3, 'Gd': 4, 'Ex': 5}\n",
    "        },\n",
    "        {\n",
    "            'col': 'BsmtFinType1',\n",
    "            'mapping': {'None': 0, 'Unf': 1, 'LwQ': 2, 'Rec': 3, 'BLQ': 4, 'ALQ': 5, 'GLQ': 6}\n",
    "        },\n",
    "        {\n",
    "            'col': 'BsmtFinType2',\n",
    "            'mapping': {'None': 0, 'Unf': 1, 'LwQ': 2, 'Rec': 3, 'BLQ': 4, 'ALQ': 5, 'GLQ': 6}\n",
    "        },\n",
    "        {\n",
    "            'col': 'ExterQual',\n",
    "            'mapping': {'Fa': 0, 'TA': 1, 'Gd': 2, 'Ex': 3}\n",
    "        },\n",
    "        {\n",
    "            'col': 'ExterCond',\n",
    "            'mapping': {'Po': 0, 'Fa': 1, 'TA': 2, 'Gd': 3, 'Ex': 4}\n",
    "        },\n",
    "        {\n",
    "            'col': 'BsmtQual',\n",
    "            'mapping': {'None': 0 , 'Fa': 1, 'TA': 2, 'Gd': 3, 'Ex': 4}\n",
    "        },\n",
    "        {\n",
    "            'col': 'BsmtCond',\n",
    "            'mapping': {'None': 0, 'Po': 1, 'Fa': 2, 'TA': 3, 'Gd': 4}\n",
    "        },\n",
    "        {\n",
    "            'col': 'PoolQC',\n",
    "            'mapping': {'None': 0, 'Fa': 1, 'Gd': 2, 'Ex': 3}\n",
    "        },\n",
    "        {\n",
    "            'col': 'HeatingQC',\n",
    "            'mapping': {'Po': 0, 'Fa': 1, 'TA': 2, 'Gd': 3, 'Ex': 4}\n",
    "        },\n",
    "        {\n",
    "            'col': 'KitchenQual',\n",
    "            'mapping': {'Fa': 0, 'TA': 1, 'Gd': 2, 'Ex': 3}\n",
    "        },\n",
    "        {\n",
    "            'col': 'BsmtExposure',\n",
    "            'mapping': {'None': 0, 'No': 1, 'Mn': 2, 'Av': 3, 'Gd': 4}\n",
    "        },\n",
    "        {\n",
    "            'col': 'Functional',\n",
    "            'mapping': {'Sev': 0, 'Maj2': 1, 'Maj1': 2, 'Mod': 3, 'Min2': 4, 'Min1': 5, 'Typ': 6}\n",
    "        },\n",
    "        {\n",
    "            'col': 'GarageFinish',\n",
    "            'mapping': {'None': 0, 'Unf': 1, 'RFn': 2, 'Fin': 3}\n",
    "        },\n",
    "        {\n",
    "            'col': 'Fence',\n",
    "            'mapping': {'None': 0, 'MnWw': 1, 'GdWo': 2, 'MnPrv': 3, 'GdPrv': 4}\n",
    "        },\n",
    "        {\n",
    "            'col': 'CentralAir',\n",
    "            'mapping': {'N': 0, 'Y': 1}\n",
    "        },\n",
    "        {\n",
    "            'col': 'PavedDrive',\n",
    "            'mapping': {'N': 0, 'P': 1, 'Y': 2}\n",
    "        },\n",
    "        {\n",
    "            'col': 'Street',\n",
    "            'mapping': {'Grvl': 0, 'Pave': 1}\n",
    "        },\n",
    "        {\n",
    "            'col': 'Alley',\n",
    "            'mapping': {'None': 0, 'Grvl': 1, 'Pave': 2}\n",
    "        },\n",
    "        {\n",
    "            'col': 'LandSlope',\n",
    "            'mapping': {'Gtl': 0, 'Mod': 1, 'Sev': 2}\n",
    "        },\n",
    "        {\n",
    "            'col': 'LotShape',\n",
    "            'mapping': {'Reg': 0, 'IR1': 1, 'IR2': 2, 'IR3': 3}\n",
    "        },\n",
    "        {\n",
    "            'col': 'HouseStyle', \n",
    "            'mapping': {'SLvl': 0, 'SFoyer': 0, '1Story': 1, '1.5Fin': 2, \n",
    "                        '1.5Unf': 2, '2Story': 3, '2.5Unf': 4, '2.5Fin': 4}\n",
    "        }\n",
    "    ]\n",
    "\n",
    "    # list of categorical columns(23)  \n",
    "    # that we just encoded\n",
    "    ord_cat_DONE = {'FireplaceQu': str, 'GarageQual': str,'GarageCond': str,'BsmtFinType1': str,\n",
    "                     'BsmtFinType2': str,'ExterQual': str,'ExterCond': str,'BsmtQual': str,\n",
    "                     'BsmtCond': str,'PoolQC': str,'HeatingQC': str,'KitchenQual': str,\n",
    "                     'BsmtExposure': str,'Functional': str,'GarageFinish': str,'Fence': str, \n",
    "                     'CentralAir': str, 'PavedDrive': str,'Street': str,'Alley': str,\n",
    "                     'LandSlope': str,'LotShape': str, 'HouseStyle': str}\n",
    "\n",
    "    # to encode using OneHot (15 so far)\n",
    "    cat_to_1Hot = {'Condition1': str, 'RoofStyle': str, 'Foundation': str, 'GarageType': str, 'SaleType': str, \n",
    "                   'SaleCondition': str, 'Exterior1st': str, 'Exterior2nd': str, 'LotConfig': str, 'LandContour': str, \n",
    "                   'Condition2': str, 'RoofMatl': str, 'Heating': str, 'Electrical': str, 'MiscFeature': str }\n",
    "\n",
    "    # updating cat_to_1Hot with new created features\n",
    "    cat_to_1Hot.update( {'PeakMonths':str, 'Finished':str, 'Splited':str,\n",
    "                           'Neighborhood_Cluster': str, 'MSSubClass_Cluster': str} )\n",
    "\n",
    "    # updating the types\n",
    "    # update the list of ordinal with 2 columns name\n",
    "    # that allredy are ordinal and encoded ('OverallQual', 'OverallCond')\n",
    "\n",
    "    ord_cat_DONE.update({'OverallQual': str, 'OverallCond': str})#,\n",
    "                         # 'MoSold_sin': str, 'MoSold_cos': str})\n",
    "    # new_d = new_d.astype(ord_cat_DONE)\n",
    "\n",
    "    # 5 more columns will concidere as categorical\n",
    "    # we take off 'MoSold': str, \n",
    "    cat_to_1Hot.update({'YrSold': str, 'BldgType':str, \n",
    "                        'MSZoning': str, 'MasVnrType': str})\n",
    "\n",
    "    # new_d = new_d.astype(cat_to_1Hot)\n",
    "    \n",
    "    # updating the data type\n",
    "    # df = df.astype(cat_to_1Hot)\n",
    "    # df = df.astype(ord_cat_DONE)\n",
    "    \n",
    "    return (ord_cat_mapping, ord_cat_DONE, cat_to_1Hot)"
   ]
  },
  {
   "cell_type": "markdown",
   "id": "cb0837ed-4ff2-4ff0-8757-22bd1ab8858e",
   "metadata": {
    "jp-MarkdownHeadingCollapsed": true,
    "tags": []
   },
   "source": [
    "### Ordinal and OneHot encoding"
   ]
  },
  {
   "cell_type": "code",
   "execution_count": 10,
   "id": "eb0ea81b-798a-4140-b820-f079c439f7b6",
   "metadata": {},
   "outputs": [],
   "source": [
    "def ordinal_1hot_encode(all_data, ord_mapping, oneHot_col):\n",
    "    \n",
    "    ## OrdinalEncoder\n",
    "    oe = OrdinalEncoder(mapping=ord_mapping).fit(all_data)\n",
    "    \n",
    "    all_data = oe.transform(all_data)\n",
    "    \n",
    "    \n",
    "    ## OneHot encoding\n",
    "    oh = OneHotEncoder(cols=oneHot_col).fit(all_data)\n",
    "    \n",
    "    all_data = oh.transform(all_data.copy())\n",
    "    \n",
    "    \n",
    "    \n",
    "    return all_data.copy()"
   ]
  },
  {
   "cell_type": "markdown",
   "id": "3baf713e-99a7-4ca7-9461-f8baf513f1fa",
   "metadata": {
    "jp-MarkdownHeadingCollapsed": true,
    "tags": []
   },
   "source": [
    "### Feature Selection"
   ]
  },
  {
   "cell_type": "code",
   "execution_count": 49,
   "id": "c0ae2292-19fb-42fe-bc1e-9f5853c623f9",
   "metadata": {},
   "outputs": [],
   "source": [
    "def feature_selection(X, y, verbose=False, sorted_features=False, random_state=77):\n",
    "    \n",
    "    mutual_info = mutual_info_regression(X=X, y=y, random_state=random_state)\n",
    "    \n",
    "    mu_info_df = pd.DataFrame(list(zip( X.columns, mutual_info )), columns=['Features', 'Mutual_info'])\n",
    "    \n",
    "    feature_to_drop = mu_info_df[ mu_info_df['Mutual_info'] == 0]\n",
    "    feature_to_drop = list( feature_to_drop['Features'] )\n",
    "    \n",
    "    if(verbose):\n",
    "        #Sorting\n",
    "        # mu_info_df.sort_values('Mutual_info', ascending=False, inplace=True)\n",
    "        print('{} Features with Zero(0) mutual info: \\n'.format(len(feature_to_drop)))\n",
    "        feature_to_drop = sorted(feature_to_drop)\n",
    "        print(feature_to_drop)\n",
    "        \n",
    "    if( (verbose == False) and sorted_features):\n",
    "        feature_to_drop = sorted(feature_to_drop)\n",
    "        \n",
    "    \n",
    "    return (feature_to_drop, mu_info_df.sort_values('Mutual_info', ascending=False).copy() )"
   ]
  },
  {
   "cell_type": "markdown",
   "id": "7ffaf039-97dd-424a-9acc-8e29383765df",
   "metadata": {
    "jp-MarkdownHeadingCollapsed": true,
    "tags": []
   },
   "source": [
    "### Fix skewed columns"
   ]
  },
  {
   "cell_type": "code",
   "execution_count": 33,
   "id": "f22fb205-9101-4bfc-bc98-fde5ed0cf9dd",
   "metadata": {},
   "outputs": [],
   "source": [
    "def fix_skew_cols(df, cols, treshold=0.7):\n",
    "    '''\n",
    "    this function scals and fix the skewed columns\n",
    "    by applying RobustScaler() and 'yeo-johnson' transform\n",
    "    '''\n",
    "    \n",
    "    rs = RobustScaler()\n",
    "    pt = PowerTransformer(method='yeo-johnson')\n",
    "    \n",
    "    skewed = all_d[cols].skew()\n",
    "    \n",
    "    skewed = skewed[skewed >= treshold] #I changed from 0.7 to treshold\n",
    "    skewed = skewed.index\n",
    "    \n",
    "    print('{} features with skewe >= {}'.format( len(skewed), treshold ) )\n",
    "    \n",
    "    # fix_data_skew = Pipeline([('scaler', RobustScaler()), \n",
    "    #                       ('yeo', PowerTransformer(method='yeo-johnson'))])\n",
    "    # df[skewed] = fix_data_skew.fit_transform(df[skewed].copy())\n",
    "    \n",
    "    df[cols] = rs.fit_transform(df[cols])\n",
    "    df[skewed] = pt.fit_transform(df[skewed])\n",
    "    \n",
    "    return df.copy()"
   ]
  },
  {
   "cell_type": "markdown",
   "id": "a3532270-0c04-4774-8e29-9515299c72f8",
   "metadata": {
    "jp-MarkdownHeadingCollapsed": true,
    "tags": []
   },
   "source": [
    "### Polynomial Features"
   ]
  },
  {
   "cell_type": "code",
   "execution_count": 13,
   "id": "c16a2582-b73f-46b2-a2c6-987524757bce",
   "metadata": {},
   "outputs": [],
   "source": [
    "def poly_features(df, top_cols):\n",
    "    '''\n",
    "    function to create the interaction feature of the top_cols\n",
    "    \n",
    "    '''\n",
    "    \n",
    "    top_cols_set = df[top_cols].copy()\n",
    "    # top_cols_set\n",
    "    \n",
    "    poly_features = PolynomialFeatures(2, interaction_only=True, include_bias=False)\n",
    "    \n",
    "    index_backup = top_cols_set.index.copy()\n",
    "    \n",
    "    poly_set = pd.DataFrame( poly_features.fit_transform(top_cols_set.copy()), columns=poly_features.get_feature_names_out(top_cols) )\n",
    "    poly_set.set_index(index_backup, inplace=True)\n",
    "    # poly_set\n",
    "    \n",
    "    poly_set.drop(columns=top_cols, inplace=True)\n",
    "    # poly_set\n",
    "    \n",
    "    result = df.merge(poly_set, left_index=True, right_index=True)\n",
    "    \n",
    "    return result.copy()\n",
    "    "
   ]
  },
  {
   "cell_type": "markdown",
   "id": "d76b9e1c-5469-49f1-a37d-97d33dc29cd0",
   "metadata": {
    "tags": []
   },
   "source": [
    "# Driver"
   ]
  },
  {
   "cell_type": "markdown",
   "id": "d182ef63-2a9d-41cc-a7fc-61a573403e29",
   "metadata": {
    "jp-MarkdownHeadingCollapsed": true,
    "tags": []
   },
   "source": [
    "### Y"
   ]
  },
  {
   "cell_type": "code",
   "execution_count": 14,
   "id": "2af68c83-8ecc-46e4-8d5b-1fc378142d78",
   "metadata": {},
   "outputs": [
    {
     "name": "stdout",
     "output_type": "stream",
     "text": [
      "d_tr shape: (1460, 80)\n",
      "d_te shape: (1459, 79)\n"
     ]
    }
   ],
   "source": [
    "# get the data\n",
    "d_tr, d_te = data(verbose=True)"
   ]
  },
  {
   "cell_type": "code",
   "execution_count": 15,
   "id": "d170f1fd-2d3a-4c47-b7b8-850af2319f86",
   "metadata": {},
   "outputs": [
    {
     "name": "stdout",
     "output_type": "stream",
     "text": [
      "droped index: \n",
      " Int64Index([524, 1299], dtype='int64', name='Id')\n"
     ]
    }
   ],
   "source": [
    "# taking cara of some outliers\n",
    "# and making 'y' more gausian like\n",
    "d_tr = analyze_y(d_tr.copy())"
   ]
  },
  {
   "cell_type": "code",
   "execution_count": 16,
   "id": "3b937b56-d08f-46b3-9506-022753886a80",
   "metadata": {},
   "outputs": [
    {
     "name": "stdout",
     "output_type": "stream",
     "text": [
      "New data shape:  (2917, 80)\n"
     ]
    },
    {
     "data": {
      "text/plain": [
       "(2917, 80)"
      ]
     },
     "execution_count": 16,
     "metadata": {},
     "output_type": "execute_result"
    }
   ],
   "source": [
    "# after take care of some outlier\n",
    "# combine the training and the test\n",
    "all_d = combine_tr_te(d_tr.copy(), d_te.copy(), verbose=True)\n",
    "all_d.shape"
   ]
  },
  {
   "cell_type": "markdown",
   "id": "3819f332-8413-474d-8f84-fa05967cdc9b",
   "metadata": {
    "jp-MarkdownHeadingCollapsed": true,
    "tags": []
   },
   "source": [
    "### Imputing"
   ]
  },
  {
   "cell_type": "code",
   "execution_count": 17,
   "id": "baf1aea8-67b8-46c2-9d9e-652d48a3e0dd",
   "metadata": {},
   "outputs": [],
   "source": [
    "# imputing nan\n",
    "all_d = impute_nan(all_d.copy())"
   ]
  },
  {
   "cell_type": "code",
   "execution_count": 18,
   "id": "cc0c2f0a-1380-44bd-ba48-e68cfbdac267",
   "metadata": {},
   "outputs": [
    {
     "data": {
      "text/plain": [
       "['SalePrice']"
      ]
     },
     "execution_count": 18,
     "metadata": {},
     "output_type": "execute_result"
    }
   ],
   "source": [
    "all_d.columns[all_d.isna().any()].to_list()"
   ]
  },
  {
   "cell_type": "markdown",
   "id": "db751d16-b994-4e52-91af-fbe8eabe5639",
   "metadata": {
    "jp-MarkdownHeadingCollapsed": true,
    "tags": []
   },
   "source": [
    "### Reducing Cardinality"
   ]
  },
  {
   "cell_type": "code",
   "execution_count": 19,
   "id": "86001183-b5b7-452d-9622-49c154193ba8",
   "metadata": {},
   "outputs": [],
   "source": [
    "# reducing the number of categories in some columns\n",
    "all_d = reduce_categories(all_d.copy())\n",
    "# all_d['Foundation'].value_counts()"
   ]
  },
  {
   "cell_type": "markdown",
   "id": "a466796c-7055-421b-b38d-e0995b1228ec",
   "metadata": {
    "jp-MarkdownHeadingCollapsed": true,
    "tags": []
   },
   "source": [
    "### Feature Engineering"
   ]
  },
  {
   "cell_type": "code",
   "execution_count": 20,
   "id": "71e9dd6d-6a96-4dc8-9902-22bc5ef269aa",
   "metadata": {},
   "outputs": [],
   "source": [
    "# Creating a new feature 'PeakMonths', 'Unfinished',\n",
    "# 'Splited', and TotalSF, and Clusters \n",
    "# transforming cyclical feature 'MoSold'\n",
    "all_d = features_engineering(all_d.copy())"
   ]
  },
  {
   "cell_type": "markdown",
   "id": "542211c3-9dcf-4e24-8e48-c286c4b409e1",
   "metadata": {
    "jp-MarkdownHeadingCollapsed": true,
    "tags": []
   },
   "source": [
    "### Identifying  \n",
    "> Categorical and Number Columns"
   ]
  },
  {
   "cell_type": "code",
   "execution_count": 21,
   "id": "1647b158-d279-4add-9b25-332a7a3f5267",
   "metadata": {},
   "outputs": [],
   "source": [
    "# getting the global variables\n",
    "ord_cat_mapping, ord_cat_DONE, cat_to_1Hot = get_global_variables()"
   ]
  },
  {
   "cell_type": "code",
   "execution_count": 22,
   "id": "1e1c18f3-988c-48f9-94ef-5bd620ae359d",
   "metadata": {},
   "outputs": [],
   "source": [
    "# updating the data type\n",
    "all_d = all_d.astype(cat_to_1Hot)\n",
    "all_d = all_d.astype(ord_cat_DONE)"
   ]
  },
  {
   "cell_type": "code",
   "execution_count": 23,
   "id": "2ce1c448-e544-4f53-8b6a-bd105ba121e7",
   "metadata": {},
   "outputs": [],
   "source": [
    "# after updating all the categorical columns\n",
    "# we can now identify the number columns\n",
    "numbers_col = all_d.select_dtypes('number')\n",
    "numbers_col = numbers_col.columns.to_list()\n",
    "\n",
    "# removing the transformed cyclical feature\n",
    "# that already are float and they were identifyed\n",
    "# as numerical features and we dont want to\n",
    "# touch them\n",
    "numbers_col.remove('MoSold_sin')\n",
    "numbers_col.remove('MoSold_cos')\n",
    "# MoSold_sin, MoSold_cos"
   ]
  },
  {
   "cell_type": "code",
   "execution_count": 24,
   "id": "1710eaf2-b38f-4fc9-8083-c706286e948e",
   "metadata": {},
   "outputs": [
    {
     "data": {
      "text/plain": [
       "{'MoSold_cos', 'MoSold_sin', 'Training'}"
      ]
     },
     "execution_count": 24,
     "metadata": {},
     "output_type": "execute_result"
    }
   ],
   "source": [
    "analyzed_col = numbers_col + list(cat_to_1Hot.keys()) + list(ord_cat_DONE.keys())\n",
    "set( all_d.columns.to_list() ) - set( analyzed_col )"
   ]
  },
  {
   "cell_type": "code",
   "execution_count": 25,
   "id": "85cbe87d-f5a5-4c34-8209-a9f03eee4ae2",
   "metadata": {},
   "outputs": [
    {
     "data": {
      "text/plain": [
       "set()"
      ]
     },
     "execution_count": 25,
     "metadata": {},
     "output_type": "execute_result"
    }
   ],
   "source": [
    "set( analyzed_col ) - set( all_d.columns.to_list() )"
   ]
  },
  {
   "cell_type": "code",
   "execution_count": 27,
   "id": "f0063f56-ffa7-4074-a5aa-445e97c3dfd2",
   "metadata": {},
   "outputs": [
    {
     "data": {
      "text/plain": [
       "{'MoSold_cos', 'MoSold_sin', 'Training'}"
      ]
     },
     "execution_count": 27,
     "metadata": {},
     "output_type": "execute_result"
    }
   ],
   "source": [
    "set( analyzed_col ).symmetric_difference( set( all_d.columns.to_list() ) )"
   ]
  },
  {
   "cell_type": "code",
   "execution_count": 26,
   "id": "38f622b3-79ed-4e28-bd28-752a0efb223c",
   "metadata": {},
   "outputs": [
    {
     "name": "stdout",
     "output_type": "stream",
     "text": [
      "analyzed_col len: 82\n",
      "all_d.columns len 85\n"
     ]
    }
   ],
   "source": [
    "print('analyzed_col len:', len(analyzed_col))\n",
    "print('all_d.columns len', len(all_d.columns.to_list()))"
   ]
  },
  {
   "cell_type": "code",
   "execution_count": null,
   "id": "305bee38-a49d-4939-97ca-c5004cf1d1bf",
   "metadata": {},
   "outputs": [],
   "source": []
  },
  {
   "cell_type": "markdown",
   "id": "e22f6db8-83ed-41cc-a4e3-5b279e462120",
   "metadata": {
    "jp-MarkdownHeadingCollapsed": true,
    "tags": []
   },
   "source": [
    "### Fixing skewnnes on Number Columns"
   ]
  },
  {
   "cell_type": "code",
   "execution_count": 34,
   "id": "427948b2-3178-49dc-b207-da2386c596f3",
   "metadata": {},
   "outputs": [
    {
     "name": "stdout",
     "output_type": "stream",
     "text": [
      "22 features with skewe >= 0.7\n"
     ]
    }
   ],
   "source": [
    "# the DF returned will have numbers_col Scalered and \n",
    "# PowerTransformed\n",
    "all_d = fix_skew_cols(all_d.copy(), numbers_col) # this function keeps the index"
   ]
  },
  {
   "cell_type": "markdown",
   "id": "b84d4c33-b05d-4356-b86a-0f5744bbc59e",
   "metadata": {
    "jp-MarkdownHeadingCollapsed": true,
    "tags": []
   },
   "source": [
    "### Doing Ordinal and OneHot Encoding"
   ]
  },
  {
   "cell_type": "code",
   "execution_count": null,
   "id": "44b4b2ba-004b-4127-a973-9e5370fbf115",
   "metadata": {},
   "outputs": [],
   "source": [
    "# encoding ordinal and onehot columns( keeps Id index)\n",
    "\n",
    "# ** Warning **\n",
    "# category_encoders/one_hot.py:145: \n",
    "# FutureWarning: iteritems is deprecated and \n",
    "# will be removed in a future version. Use .items instead.\n",
    "import warnings\n",
    "warnings.simplefilter(action='ignore', category=FutureWarning)\n",
    "\n",
    "all_d = ordinal_1hot_encode(all_d.copy(), ord_cat_mapping, cat_to_1Hot)"
   ]
  },
  {
   "cell_type": "code",
   "execution_count": null,
   "id": "6eefa6fc-51fb-4797-8295-074b9957dd64",
   "metadata": {},
   "outputs": [],
   "source": [
    "all_d"
   ]
  },
  {
   "cell_type": "markdown",
   "id": "91e36385-2043-4eb7-9186-a88801ad7762",
   "metadata": {
    "jp-MarkdownHeadingCollapsed": true,
    "tags": []
   },
   "source": [
    "### Feature Selection"
   ]
  },
  {
   "cell_type": "code",
   "execution_count": 45,
   "id": "31f5d342-f107-449a-b20f-4faabb95a056",
   "metadata": {},
   "outputs": [],
   "source": [
    "# getting the training set to work with\n",
    "d_tr = all_d[ all_d['Training'] ].copy()"
   ]
  },
  {
   "cell_type": "code",
   "execution_count": 53,
   "id": "cfde5e36-121f-4d33-9345-b40f3ad4c6d3",
   "metadata": {},
   "outputs": [
    {
     "name": "stdout",
     "output_type": "stream",
     "text": [
      "31 Features with Zero(0) mutual info: \n",
      "\n",
      "['Condition1_1', 'Condition2_1', 'Condition2_2', 'Exterior1st_10', 'Exterior1st_11', 'Exterior1st_5', 'Exterior1st_6', 'Exterior1st_8', 'Exterior1st_9', 'Exterior2nd_12', 'Exterior2nd_3', 'Exterior2nd_9', 'Functional', 'LandSlope', 'LotConfig_2', 'LotConfig_3', 'LowQualFinSF', 'MSSubClass_Cluster_2', 'MiscVal', 'MoSold_sin', 'Neighborhood_Cluster_2', 'PeakMonths_2', 'PoolArea', 'RoofMatl_2', 'RoofStyle_3', 'SaleCondition_4', 'SaleType_4', 'Street', 'Training', 'YrSold_3', 'YrSold_5']\n"
     ]
    }
   ],
   "source": [
    "# we will get the features that has 0 mutual information with 'y'\n",
    "# and a DF with **ALL the features** with their mutual info value\n",
    "# from it we can get the top ones, to do polynomial interaction\n",
    "to_drop, mutual_info_df = feature_selection( d_tr.drop(columns='SalePrice').copy(), d_tr['SalePrice'].copy()\n",
    "                                            , verbose=True, sorted_features=True, random_state=70)\n"
   ]
  },
  {
   "cell_type": "code",
   "execution_count": null,
   "id": "9964edab-d281-43c7-a969-a069affd9e47",
   "metadata": {},
   "outputs": [],
   "source": []
  },
  {
   "cell_type": "markdown",
   "id": "4f3d54aa-45a8-4e4f-ab9e-fca86c4f8ca7",
   "metadata": {
    "jp-MarkdownHeadingCollapsed": true,
    "tags": []
   },
   "source": [
    "### Polynomial and Interaction Features"
   ]
  },
  {
   "cell_type": "code",
   "execution_count": 54,
   "id": "c0d7fb1b-6b6c-491f-a3aa-52d62aa49867",
   "metadata": {},
   "outputs": [
    {
     "name": "stdout",
     "output_type": "stream",
     "text": [
      "['TotalSF', 'OverallQual', 'GrLivArea', 'GarageArea', 'GarageCars', 'TotalBsmtSF', 'YearBuilt', 'KitchenQual', 'BsmtQual', 'ExterQual', '1stFlrSF', 'GarageFinish', 'FullBath', 'GarageYrBlt', 'YearRemodAdd', 'TotRmsAbvGrd', 'FireplaceQu', 'LotFrontage', '2ndFlrSF', 'LotArea']\n"
     ]
    }
   ],
   "source": [
    "# from mutual_info_df get the top 20 features\n",
    "# that has the hight mutual information\n",
    "# becouse it is ordered we can take the top 20\n",
    "top_20_cols = mutual_info_df.head(20)['Features'].to_list()\n",
    "print( top_20_cols )"
   ]
  },
  {
   "cell_type": "code",
   "execution_count": 55,
   "id": "f0ebcb65-a0c0-4515-976a-a90972ee8157",
   "metadata": {},
   "outputs": [
    {
     "data": {
      "text/plain": [
       "(2917, 158)"
      ]
     },
     "execution_count": 55,
     "metadata": {},
     "output_type": "execute_result"
    }
   ],
   "source": [
    "all_d.shape"
   ]
  },
  {
   "cell_type": "code",
   "execution_count": 56,
   "id": "9aff3d48-d9a3-402a-b93a-137ef2cac8a1",
   "metadata": {},
   "outputs": [],
   "source": [
    "# we will get the interaction factor por the top 20 \n",
    "all_d = poly_features(all_d.copy(), top_20_cols)"
   ]
  },
  {
   "cell_type": "code",
   "execution_count": 57,
   "id": "8d5cdc74-55d9-4794-af61-d592d5fd4b89",
   "metadata": {},
   "outputs": [
    {
     "data": {
      "text/plain": [
       "(2917, 348)"
      ]
     },
     "execution_count": 57,
     "metadata": {},
     "output_type": "execute_result"
    }
   ],
   "source": [
    "all_d.shape"
   ]
  },
  {
   "cell_type": "markdown",
   "id": "656327ea-db89-4f60-8a51-380ef5bbdd7e",
   "metadata": {},
   "source": [
    "> Before modeling drop the features with 0 mutual info  \n",
    "> beacous the list has 'Training'"
   ]
  },
  {
   "cell_type": "code",
   "execution_count": 58,
   "id": "a28f0097-e11f-471f-8633-80122865f594",
   "metadata": {},
   "outputs": [],
   "source": [
    "# we keep 'Training' column to identify training set in all_d\n",
    "to_drop.remove('Training')"
   ]
  },
  {
   "cell_type": "code",
   "execution_count": 59,
   "id": "561f974d-aaef-46a5-908b-08852de6c4bb",
   "metadata": {},
   "outputs": [],
   "source": [
    "# aditional features that we dont \n",
    "# want to remove\n",
    "to_drop.remove('MoSold_sin')"
   ]
  },
  {
   "cell_type": "code",
   "execution_count": 60,
   "id": "7ceacac9-7a76-459c-8aa6-5a34c365450f",
   "metadata": {},
   "outputs": [
    {
     "data": {
      "text/plain": [
       "((2917, 348), 29)"
      ]
     },
     "execution_count": 60,
     "metadata": {},
     "output_type": "execute_result"
    }
   ],
   "source": [
    "all_d.shape, len(to_drop)"
   ]
  },
  {
   "cell_type": "code",
   "execution_count": 61,
   "id": "0256c69c-1eaf-4725-84ac-ba5ed6a66403",
   "metadata": {},
   "outputs": [],
   "source": [
    "# 'Training' is in to_drop list\n",
    "all_d.drop(columns=to_drop, inplace=True)"
   ]
  },
  {
   "cell_type": "code",
   "execution_count": 62,
   "id": "b0ba43e4-a468-4a94-82d6-e994accedde2",
   "metadata": {},
   "outputs": [
    {
     "data": {
      "text/plain": [
       "(2917, 319)"
      ]
     },
     "execution_count": 62,
     "metadata": {},
     "output_type": "execute_result"
    }
   ],
   "source": [
    "all_d.shape"
   ]
  },
  {
   "cell_type": "markdown",
   "id": "6d16a010-7dca-46b9-844e-956452ecbe9c",
   "metadata": {},
   "source": [
    "> Getting **the Training, Test set** and 'y' back"
   ]
  },
  {
   "cell_type": "code",
   "execution_count": 63,
   "id": "7454bb77-9602-4749-8d13-54f7f2a3591e",
   "metadata": {},
   "outputs": [],
   "source": [
    "tr = all_d[ all_d['Training'] ].copy()\n",
    "te = all_d[  ~all_d['Training'] ].copy()"
   ]
  },
  {
   "cell_type": "code",
   "execution_count": 64,
   "id": "19886b11-ce45-4133-9ca6-fd3dee169109",
   "metadata": {},
   "outputs": [],
   "source": [
    "y = tr[ 'SalePrice' ].copy()\n",
    "\n",
    "tr.drop(columns='SalePrice', inplace=True)\n",
    "te.drop(columns='SalePrice', inplace=True)"
   ]
  },
  {
   "cell_type": "markdown",
   "id": "005c900c-1e5a-477a-824b-27f7741c4363",
   "metadata": {
    "jp-MarkdownHeadingCollapsed": true,
    "tags": []
   },
   "source": [
    "### Outliers detection"
   ]
  },
  {
   "cell_type": "markdown",
   "id": "ec8364be-6371-487e-a081-24dc9f4069b2",
   "metadata": {},
   "source": [
    "> Using **IsolationForest**"
   ]
  },
  {
   "cell_type": "code",
   "execution_count": 65,
   "id": "516837dd-fd65-4906-a942-0719a413933f",
   "metadata": {},
   "outputs": [],
   "source": [
    "iso_forest = IsolationForest()"
   ]
  },
  {
   "cell_type": "code",
   "execution_count": 66,
   "id": "39a2d9b8-9feb-47a4-a7d9-86859408175b",
   "metadata": {},
   "outputs": [],
   "source": [
    "y_hat = iso_forest.fit_predict(tr)"
   ]
  },
  {
   "cell_type": "code",
   "execution_count": 67,
   "id": "1fb8f271-fa31-4144-9eab-d3144f05078b",
   "metadata": {},
   "outputs": [],
   "source": [
    "inliers_mask = y_hat != -1"
   ]
  },
  {
   "cell_type": "code",
   "execution_count": 68,
   "id": "ec4adc8b-3b5c-4f07-96df-0330298d1ba4",
   "metadata": {},
   "outputs": [
    {
     "name": "stdout",
     "output_type": "stream",
     "text": [
      "There are 108 outliers\n"
     ]
    }
   ],
   "source": [
    "print( 'There are {} outliers'.format(np.count_nonzero(y_hat == -1)))"
   ]
  },
  {
   "cell_type": "code",
   "execution_count": 69,
   "id": "3271f981-4e40-45ee-965d-949e3cfa4941",
   "metadata": {},
   "outputs": [
    {
     "name": "stdout",
     "output_type": "stream",
     "text": [
      "[[  11   39   48   53   58   78   88  113  125  127  155  163  178  185\n",
      "   197  198  224  268  278  291  304  313  324  349  362  375  378  386\n",
      "   389  393  417  434  440  441  473  477  489  490  495  496  515  520\n",
      "   526  528  532  534  580  581  582  590  613  619  634  635  637  648\n",
      "   663  690  704  709  746  768  783  797  802  824  825  842  897  915\n",
      "   920  933  941  953  967  975 1010 1023 1029 1037 1038 1045 1095 1099\n",
      "  1122 1141 1168 1172 1178 1181 1217 1218 1227 1233 1256 1265 1266 1267\n",
      "  1282 1319 1321 1323 1324 1335 1347 1371 1435 1447]]\n"
     ]
    }
   ],
   "source": [
    "# reshape to print the indexes in a block\n",
    "print(np.argwhere(y_hat == -1).reshape(1,-1))"
   ]
  },
  {
   "cell_type": "markdown",
   "id": "1d020a39-006b-45cf-9692-5264108b2179",
   "metadata": {},
   "source": [
    "> Removing outliers"
   ]
  },
  {
   "cell_type": "code",
   "execution_count": 70,
   "id": "056a0403-99f5-4697-abd8-056bc421d402",
   "metadata": {},
   "outputs": [
    {
     "data": {
      "text/plain": [
       "(1458, 318)"
      ]
     },
     "execution_count": 70,
     "metadata": {},
     "output_type": "execute_result"
    }
   ],
   "source": [
    "tr.shape"
   ]
  },
  {
   "cell_type": "code",
   "execution_count": 71,
   "id": "ceb84bd6-01f8-4e20-9133-e503068acf5a",
   "metadata": {},
   "outputs": [],
   "source": [
    "tr = tr.iloc[inliers_mask, : ]\n",
    "y  = y[inliers_mask]"
   ]
  },
  {
   "cell_type": "code",
   "execution_count": 72,
   "id": "028c81ce-049a-4e56-b2a7-8db29b7758bd",
   "metadata": {},
   "outputs": [
    {
     "data": {
      "text/plain": [
       "(1350, 318)"
      ]
     },
     "execution_count": 72,
     "metadata": {},
     "output_type": "execute_result"
    }
   ],
   "source": [
    "tr.shape"
   ]
  },
  {
   "cell_type": "markdown",
   "id": "fb766df2-c68d-4736-a8ed-d3ed07bc7a1f",
   "metadata": {},
   "source": [
    "> using **residuals**"
   ]
  },
  {
   "cell_type": "code",
   "execution_count": 73,
   "id": "fee78418-ae78-4776-8a56-eb231baecfc8",
   "metadata": {},
   "outputs": [],
   "source": [
    "lr = LinearRegression()"
   ]
  },
  {
   "cell_type": "code",
   "execution_count": 74,
   "id": "cce8590e-f537-4641-a559-2e1deac96857",
   "metadata": {},
   "outputs": [
    {
     "data": {
      "text/plain": [
       "LinearRegression()"
      ]
     },
     "execution_count": 74,
     "metadata": {},
     "output_type": "execute_result"
    }
   ],
   "source": [
    "lr.fit(tr, y)"
   ]
  },
  {
   "cell_type": "code",
   "execution_count": 75,
   "id": "b8a123f8-9698-4cf4-b32d-d74dd0b590a3",
   "metadata": {},
   "outputs": [],
   "source": [
    "y_hat = lr.predict(tr)"
   ]
  },
  {
   "cell_type": "code",
   "execution_count": 76,
   "id": "ecf55cba-72ac-4b8c-afae-7d70ef037469",
   "metadata": {},
   "outputs": [],
   "source": [
    "residuals = y - y_hat\n",
    "standard_residuals = abs(  ( residuals - residuals.mean() ) / residuals.std() )"
   ]
  },
  {
   "cell_type": "code",
   "execution_count": 77,
   "id": "46b11658-9871-48bb-8fc8-13c2b412b226",
   "metadata": {},
   "outputs": [],
   "source": [
    "inliers_mask = standard_residuals <= 3"
   ]
  },
  {
   "cell_type": "code",
   "execution_count": 78,
   "id": "a58c5dcd-f159-4076-ab5e-f4e9f2bfeea3",
   "metadata": {},
   "outputs": [
    {
     "name": "stdout",
     "output_type": "stream",
     "text": [
      "there are 14 new outliers\n"
     ]
    }
   ],
   "source": [
    "print( 'there are {} new outliers'.format( np.count_nonzero( (standard_residuals >= 3) ) ))"
   ]
  },
  {
   "cell_type": "code",
   "execution_count": 79,
   "id": "8e8e4511-29a1-423b-8057-00d35e51b717",
   "metadata": {},
   "outputs": [
    {
     "data": {
      "text/plain": [
       "Int64Index([143, 329, 411, 463, 561, 629, 633, 663, 682, 689, 715, 775, 1325,\n",
       "            1433],\n",
       "           dtype='int64', name='Id')"
      ]
     },
     "execution_count": 79,
     "metadata": {},
     "output_type": "execute_result"
    }
   ],
   "source": [
    "# index dropped\n",
    "inliers_mask[ inliers_mask == False].index"
   ]
  },
  {
   "cell_type": "markdown",
   "id": "7d6af5b8-cc48-46e7-b278-15ef1f4713fb",
   "metadata": {},
   "source": [
    "> **removing** new outliers"
   ]
  },
  {
   "cell_type": "code",
   "execution_count": 80,
   "id": "ef7a7777-3bb3-4cc4-b14b-0163c97448f1",
   "metadata": {},
   "outputs": [
    {
     "data": {
      "text/plain": [
       "(1350, 318)"
      ]
     },
     "execution_count": 80,
     "metadata": {},
     "output_type": "execute_result"
    }
   ],
   "source": [
    "tr.shape"
   ]
  },
  {
   "cell_type": "code",
   "execution_count": 81,
   "id": "c24f9f94-cec3-46e1-aff0-5b23466cf576",
   "metadata": {},
   "outputs": [],
   "source": [
    "tr = tr.loc[ inliers_mask ]"
   ]
  },
  {
   "cell_type": "code",
   "execution_count": 82,
   "id": "62c33949-0d19-4ea9-9952-b049a3cb2684",
   "metadata": {},
   "outputs": [],
   "source": [
    "y = y[ inliers_mask ]"
   ]
  },
  {
   "cell_type": "code",
   "execution_count": 83,
   "id": "57193391-7258-4504-9115-3707582b65ba",
   "metadata": {},
   "outputs": [
    {
     "data": {
      "text/plain": [
       "((1336, 318), (1336,))"
      ]
     },
     "execution_count": 83,
     "metadata": {},
     "output_type": "execute_result"
    }
   ],
   "source": [
    "tr.shape, y.shape"
   ]
  },
  {
   "cell_type": "markdown",
   "id": "e6618fc4-d191-432b-a843-e33f623ef0e4",
   "metadata": {},
   "source": [
    "### Saving training and test data"
   ]
  },
  {
   "cell_type": "code",
   "execution_count": 84,
   "id": "3391f1e6-9e89-4e41-9072-2b0e103895d6",
   "metadata": {},
   "outputs": [],
   "source": [
    "tr.to_csv('/Users/antirrabia/Documents/01-GitHub/DataMining-_-/CSV/HousePrices/tr.csv', index=True)\n",
    "te.to_csv('/Users/antirrabia/Documents/01-GitHub/DataMining-_-/CSV/HousePrices/te.csv', index=True)\n",
    "y.to_csv('/Users/antirrabia/Documents/01-GitHub/DataMining-_-/CSV/HousePrices/y.csv', index=True)"
   ]
  },
  {
   "cell_type": "code",
   "execution_count": 3,
   "id": "2acae1ae-5dc9-4310-920b-8ecffed40bb5",
   "metadata": {},
   "outputs": [],
   "source": []
  },
  {
   "cell_type": "markdown",
   "id": "e9ea1ef8-39f5-4792-b2be-82f7d20a04f3",
   "metadata": {
    "tags": []
   },
   "source": [
    "# Modeling"
   ]
  },
  {
   "cell_type": "code",
   "execution_count": 5,
   "id": "108400de-4b87-4a9b-9aa2-3cd897e87633",
   "metadata": {},
   "outputs": [],
   "source": [
    "import warnings\n",
    "warnings.simplefilter(action='ignore', category=FutureWarning)"
   ]
  },
  {
   "cell_type": "code",
   "execution_count": 1,
   "id": "51ce571d-66d2-4488-8639-4ec16c86000a",
   "metadata": {},
   "outputs": [],
   "source": [
    "from sklearn.linear_model import TheilSenRegressor, HuberRegressor, RANSACRegressor, Ridge\n",
    "from sklearn.linear_model import ElasticNet, ElasticNetCV, LinearRegression\n",
    "from xgboost import XGBRegressor\n",
    "import catboost as cb\n",
    "\n",
    "from sklearn.ensemble import StackingRegressor\n",
    "\n",
    "from sklearn.model_selection import train_test_split, RepeatedStratifiedKFold\n",
    "from sklearn.model_selection import RandomizedSearchCV, cross_val_score, cross_validate\n",
    "from sklearn.model_selection import GridSearchCV, RandomizedSearchCV\n",
    "\n",
    "from sklearn.feature_selection import SelectFromModel\n",
    "\n",
    "from sklearn.metrics import mean_squared_error, mean_absolute_error, mean_absolute_percentage_error\n",
    "from time import time\n",
    "\n",
    "import pandas as pd\n",
    "import numpy as np\n",
    "import matplotlib.pyplot as plt"
   ]
  },
  {
   "cell_type": "code",
   "execution_count": 2,
   "id": "b0485600-be00-47fa-a26c-f5421df84554",
   "metadata": {},
   "outputs": [],
   "source": [
    "tr = pd.read_csv('/Users/antirrabia/Documents/01-GitHub/DataMining-_-/CSV/HousePrices/tr.csv', index_col='Id')\n",
    "te = pd.read_csv('/Users/antirrabia/Documents/01-GitHub/DataMining-_-/CSV/HousePrices/te.csv', index_col='Id')\n",
    "y = pd.read_csv('/Users/antirrabia/Documents/01-GitHub/DataMining-_-/CSV/HousePrices/y.csv', index_col='Id')\n",
    "\n",
    "y = y.to_numpy(dtype='float64').reshape(-1,)"
   ]
  },
  {
   "cell_type": "code",
   "execution_count": 3,
   "id": "66b157ce-0406-4f52-8fa3-fd0e4502f2ce",
   "metadata": {},
   "outputs": [],
   "source": [
    "X_tr, X_te, y_tr, y_te = train_test_split(tr, y, test_size=0.20, random_state=77)"
   ]
  },
  {
   "cell_type": "markdown",
   "id": "4f0dca44-83cf-4d20-8a9c-54f01fa22cd1",
   "metadata": {},
   "source": [
    "> **TheilSenRegressor()**"
   ]
  },
  {
   "cell_type": "code",
   "execution_count": 4,
   "id": "c96ebc5c-5706-4f51-ae7f-a218dafd7e73",
   "metadata": {},
   "outputs": [
    {
     "name": "stdout",
     "output_type": "stream",
     "text": [
      "fit time:465.74143290519714, tr score: -0.2223834035546747, test score:0.06056392209930399\n"
     ]
    }
   ],
   "source": [
    "# main paramater to change n_subsamples \n",
    "# , max_subpopulation\n",
    "theheil_params = {'max_iter':500\n",
    "                  ,'tol':0.01\n",
    "                  ,'max_subpopulation':1000.0\n",
    "                  ,'n_subsamples':500 # < 843(samples in this data set)\n",
    "                  ,'random_state':77\n",
    "                  ,'n_jobs':-1}\n",
    "\n",
    "theheil = TheilSenRegressor(**theheil_params)\n",
    "\n",
    "scores = cross_validate(theheil, X_tr, y_tr, cv=5, n_jobs=-1, scoring='neg_mean_squared_error' )\n",
    "\n",
    "theheil.fit(X_tr, y_tr)\n",
    "\n",
    "te_score = mean_squared_error(y_te, theheil.predict(X_te))\n",
    "\n",
    "print('fit time:{}, tr score: {}, test score:{}'.format(scores['fit_time'].sum()\n",
    "                                                        , scores['test_score'].mean(), te_score))\n",
    "\n",
    "# best score with this configuration\n",
    "# fit time:462.46298933029175, tr score: -0.2223834035546747, test score:0.06056392209930399\n",
    "# max_iter=500\n",
    "# ,tol=0.01\n",
    "# ,max_subpopulation=1000.0\n",
    "# ,n_subsamples=500 <-***** I changed this the last and I got an improvesment and faster"
   ]
  },
  {
   "cell_type": "code",
   "execution_count": null,
   "id": "bbe53aac-bea4-48bb-9e5e-a48eed75f237",
   "metadata": {},
   "outputs": [],
   "source": []
  },
  {
   "cell_type": "markdown",
   "id": "a071b2f8-d16c-48b8-993e-d946078181ba",
   "metadata": {},
   "source": [
    "> **HuberRegressor()**"
   ]
  },
  {
   "cell_type": "code",
   "execution_count": 6,
   "id": "f328a3c6-2760-4761-8a29-8bb1ba1afb07",
   "metadata": {},
   "outputs": [
    {
     "name": "stdout",
     "output_type": "stream",
     "text": [
      "fit time:18.61429524421692, tr score: -0.06613938128838738, test score:0.04605998760380083\n"
     ]
    },
    {
     "name": "stderr",
     "output_type": "stream",
     "text": [
      "/opt/anaconda3/lib/python3.8/site-packages/sklearn/linear_model/_huber.py:332: ConvergenceWarning: lbfgs failed to converge (status=1):\n",
      "STOP: TOTAL NO. of ITERATIONS REACHED LIMIT.\n",
      "\n",
      "Increase the number of iterations (max_iter) or scale the data as shown in:\n",
      "    https://scikit-learn.org/stable/modules/preprocessing.html\n",
      "  self.n_iter_ = _check_optimize_result(\"lbfgs\", opt_res, self.max_iter)\n"
     ]
    }
   ],
   "source": [
    "huber_params = {'alpha': 0.001 #default=0.0001\n",
    "                ,'epsilon': 1.135 # must be >= 1 the number of samples consider outliers\n",
    "                ,'max_iter': 1000 #default=100\n",
    "                ,'tol': 0.00001 #default=1e-05\n",
    "                }\n",
    "\n",
    "huber = HuberRegressor(**huber_params)\n",
    "\n",
    "scores = cross_validate(huber, X_tr, y_tr, cv=5, n_jobs=-1, scoring='neg_mean_squared_error' )\n",
    "\n",
    "huber.fit(X_tr, y_tr)\n",
    "\n",
    "te_score = mean_squared_error(y_te, huber.predict(X_te))\n",
    "\n",
    "print('fit time:{}, tr score: {}, test score:{}'.format(scores['fit_time'].sum()\n",
    "                                                        , scores['test_score'].mean(), te_score))\n",
    "\n",
    "# Best score using this configuration 'alpha': 0.001, epsilon=1.135, 'max_iter': 1000, 'tol': 0.00001\n",
    "# fit time:20.546488046646118, tr score: -0.06613938128838738, test score:0.04605998760380083\n"
   ]
  },
  {
   "cell_type": "code",
   "execution_count": null,
   "id": "5b6d01c8-4e39-49fc-a06e-594d6d7fc18a",
   "metadata": {},
   "outputs": [],
   "source": []
  },
  {
   "cell_type": "markdown",
   "id": "0e7c1321-d515-4f67-9bc8-23aec8d8cf48",
   "metadata": {},
   "source": [
    "> **RANSACRegressor**"
   ]
  },
  {
   "cell_type": "code",
   "execution_count": 7,
   "id": "ac958da7-6fd0-49a0-812c-7dfa03d29dd8",
   "metadata": {},
   "outputs": [
    {
     "name": "stdout",
     "output_type": "stream",
     "text": [
      "fit time:2.0612220764160156, tr score: -41618040098332.74, test score:0.05661176271476029\n"
     ]
    }
   ],
   "source": [
    "# # median absolute deviation(MAD) is the same for\n",
    "# MAD = np.median( np.absolute( y_tr - np.median(y_tr) ) )\n",
    "# MAD = 0.6013 \n",
    "\n",
    "# Note: when I used residual_threshold = None(defoul) it got slower\n",
    "# than when I used the MAD*2 for cut off outliers and got the same result\n",
    "\n",
    "ransac_params = {'max_trials':50 \n",
    "                 ,'min_samples':739 # must be < 844 (samples in the data set)\n",
    "                 ,'residual_threshold':0.601 #1.2 #0.6013 # residual_threshold = MAD = None #Default to NONE\n",
    "                 ,'random_state':77}\n",
    "\n",
    "ransac = RANSACRegressor(**ransac_params)\n",
    "\n",
    "scores = cross_validate(ransac, X_tr, y_tr, cv=5, n_jobs=-1, scoring='neg_mean_squared_error' )\n",
    "\n",
    "ransac.fit(X_tr, y_tr)\n",
    "\n",
    "te_score = mean_squared_error(y_te, ransac.predict(X_te))\n",
    "\n",
    "print('fit time:{}, tr score: {}, test score:{}'.format(scores['fit_time'].sum()\n",
    "                                                        , scores['test_score'].mean(), te_score))\n",
    "\n",
    "# best score\n",
    "# 'max_trials':50, 'min_samples':739, 'residual_threshold':0.601\n",
    "# fit time:2.15836501121521, tr score: -41618040098332.74, test score:0.05661176271476029"
   ]
  },
  {
   "cell_type": "code",
   "execution_count": null,
   "id": "f8b11ed5-cc56-43dd-9e15-d2f58eb978de",
   "metadata": {},
   "outputs": [],
   "source": []
  },
  {
   "cell_type": "markdown",
   "id": "ad581312-adb3-430c-a83c-f70b96721958",
   "metadata": {},
   "source": [
    "> **Ridge**"
   ]
  },
  {
   "cell_type": "code",
   "execution_count": 8,
   "id": "2a54ce09-36f1-4f21-97cb-5e482a56547b",
   "metadata": {},
   "outputs": [
    {
     "name": "stdout",
     "output_type": "stream",
     "text": [
      "fit time:0.2581329345703125, tr score: -0.04965767473463071, test score:0.04577773998610859\n"
     ]
    }
   ],
   "source": [
    "#########******###########\n",
    "# Note: after the gridsearch this was the final model\n",
    "\n",
    "ridge_params = {'alpha': 12.0\n",
    "               ,'max_iter':500#None\n",
    "               ,'tol':0.001\n",
    "               ,'solver':'auto'#,positive=True\n",
    "               ,'random_state':77}\n",
    "\n",
    "ridge = Ridge(**ridge_params)\n",
    "\n",
    "\n",
    "scores = cross_validate(ridge, X_tr, y_tr, cv=5, n_jobs=-1, scoring='neg_mean_squared_error' )\n",
    "\n",
    "ridge.fit(X_tr, y_tr)\n",
    "\n",
    "te_score = mean_squared_error(y_te, ridge.predict(X_te))\n",
    "\n",
    "print('fit time:{}, tr score: {}, test score:{}'.format(scores['fit_time'].sum()\n",
    "                                                        , scores['test_score'].mean(), te_score))\n",
    "\n",
    "\n",
    "# fit time:0.29158592224121094, tr score: -0.04965767473463071, test score:0.04577773998610859\n",
    "# alpha 12.0\n",
    "\n"
   ]
  },
  {
   "cell_type": "code",
   "execution_count": null,
   "id": "12de1300-612a-4f8e-b300-0ea3d84d7729",
   "metadata": {},
   "outputs": [],
   "source": []
  },
  {
   "cell_type": "code",
   "execution_count": 27,
   "id": "a9985ee1-6d20-4991-90fc-85895ffeafb5",
   "metadata": {},
   "outputs": [
    {
     "name": "stdout",
     "output_type": "stream",
     "text": [
      "895 ms ± 22.2 ms per loop (mean ± std. dev. of 7 runs, 1 loop each)\n",
      "\n",
      "test score:0.06305865413794026  \n",
      "best training score:-0.3207073358290147\n",
      "Best params: {'alpha': 1.18}\n"
     ]
    }
   ],
   "source": [
    "#########******###########\n",
    "#this was just to do the gridsearch on Ridge()\n",
    "\n",
    "ridge = Ridge(random_state=77)\n",
    "\n",
    "ridge_param = {'alpha': np.arange(1.18, 1.21, 0.001) }\n",
    "               # ,'max_iter': None\n",
    "               # ,'tol':0.001\n",
    "               # ,'solver': 'auto'}\n",
    "\n",
    "gs_ridge = GridSearchCV(ridge, param_grid=ridge_param, cv=5, refit=True\n",
    "                        , scoring='neg_mean_squared_error', n_jobs=-1)\n",
    "\n",
    "%timeit gs_ridge.fit(X_tr, y_tr)\n",
    "\n",
    "\n",
    "te_score = mean_squared_error(y_te, gs_ridge.predict(X_te))\n",
    "\n",
    "print('\\ntest score:{}  \\nbest training score:{}'.format( te_score, gs_ridge.best_score_))\n",
    "print('Best params: {}'.format(gs_ridge.best_params_))"
   ]
  },
  {
   "cell_type": "code",
   "execution_count": null,
   "id": "808450b4-efae-4608-ab2c-cd2c435c7ba7",
   "metadata": {},
   "outputs": [],
   "source": []
  },
  {
   "cell_type": "code",
   "execution_count": 25,
   "id": "90c8c7ae-bc04-4b89-990f-4f8d0b1f988d",
   "metadata": {},
   "outputs": [
    {
     "data": {
      "text/plain": [
       "array([1.18 , 1.181, 1.182, 1.183, 1.184, 1.185, 1.186, 1.187, 1.188,\n",
       "       1.189, 1.19 , 1.191, 1.192, 1.193, 1.194, 1.195, 1.196, 1.197,\n",
       "       1.198, 1.199, 1.2  , 1.201, 1.202, 1.203, 1.204, 1.205, 1.206,\n",
       "       1.207, 1.208, 1.209, 1.21 ])"
      ]
     },
     "execution_count": 25,
     "metadata": {},
     "output_type": "execute_result"
    }
   ],
   "source": [
    "np.arange(1.18, 1.21, 0.001)"
   ]
  },
  {
   "cell_type": "code",
   "execution_count": null,
   "id": "d8faf4d4-e84a-4fad-b568-70e1de577d0d",
   "metadata": {},
   "outputs": [],
   "source": []
  },
  {
   "cell_type": "markdown",
   "id": "9e7b4b46-665f-4080-bc9a-970ad52f4dc2",
   "metadata": {},
   "source": [
    "> **ElasticNet**"
   ]
  },
  {
   "cell_type": "code",
   "execution_count": null,
   "id": "53c964e5-b353-4782-bfbb-0d2139d9541f",
   "metadata": {},
   "outputs": [],
   "source": [
    "#########******###########\n",
    "# Note: this was just to do the \n",
    "# gridsearch on ElasticNet()\n",
    "\n",
    "# total of inter=900\n",
    "grid = {'l1_ratio': np.arange(0, 1, 0.01)\n",
    "        ,'alpha': [0.00001, 0.0001, 0.001, 0.01, 0.1, 0.0, 1.0, 10.0, 100.0]}\n",
    "\n",
    "e_net = ElasticNet()\n",
    "\n",
    "rs = RandomizedSearchCV(e_net, param_distributions=grid, cv=5, n_iter=100, refit=True\n",
    "                        , scoring='neg_mean_squared_error', n_jobs=-1, random_state=77)\n",
    "\n",
    "%timeit rs.fit(X_tr, y_tr)\n",
    "\n",
    "# best params\n",
    "# 'l1_ratio': 0.99, 'alpha': 0.001\n",
    "#score -0.06356975787949057"
   ]
  },
  {
   "cell_type": "code",
   "execution_count": null,
   "id": "74aa460a-15b6-4449-b9a7-bb2adc23e47f",
   "metadata": {},
   "outputs": [],
   "source": []
  },
  {
   "cell_type": "code",
   "execution_count": 9,
   "id": "18a7dbc9-13b9-4414-b77f-2edc06bb9c81",
   "metadata": {},
   "outputs": [
    {
     "name": "stdout",
     "output_type": "stream",
     "text": [
      "test score:0.0374376990680517\n"
     ]
    }
   ],
   "source": [
    "#########******###########\n",
    "# Note: after the gridsearch this was the final model\n",
    "# The parameter 'l1_ratio' -> 'alpha' in the glmnet R package while\n",
    "# 'alpha' -> 'lambda' parameter in glmnet. comom 0.001\n",
    "\n",
    "e_net_params = {'alpha':0.001 #  'alpha' weighting of the sum of both penalties #Defaults to 1.0.\n",
    "                ,'l1_ratio':0.73\n",
    "                ,'max_iter':25000 #10000 default=1000\n",
    "                ,'tol':0.03 #default=0.0001\n",
    "                ,'random_state':77\n",
    "                }\n",
    "\n",
    "e_net = ElasticNet(**e_net_params)\n",
    "\n",
    "e_net.fit(X_tr, y_tr)\n",
    "\n",
    "te_score = mean_squared_error(y_te, e_net.predict(X_te))\n",
    "\n",
    "print('test score:{}'.format(te_score))\n",
    "\n",
    "# alpha=0.001 and l1_ratio=0.73\n",
    "# test score:0.0374376990680517"
   ]
  },
  {
   "cell_type": "code",
   "execution_count": null,
   "id": "8e414cb2-59df-457c-84ab-95bd7603b229",
   "metadata": {},
   "outputs": [],
   "source": []
  },
  {
   "cell_type": "markdown",
   "id": "c8eebfb8-7782-474d-83e0-6266287c9f48",
   "metadata": {},
   "source": [
    "> **XGBOOST**"
   ]
  },
  {
   "cell_type": "code",
   "execution_count": 10,
   "id": "f6105924-f9e4-4965-8113-3436d9b99447",
   "metadata": {},
   "outputs": [],
   "source": [
    "evalset = [(X_tr, y_tr), (X_te, y_te)]"
   ]
  },
  {
   "cell_type": "code",
   "execution_count": 11,
   "id": "fe0c02df-a70c-445f-8117-b725f418f4cf",
   "metadata": {},
   "outputs": [
    {
     "name": "stdout",
     "output_type": "stream",
     "text": [
      "test score:0.04602978780274935\n"
     ]
    }
   ],
   "source": [
    "xgb_params = {'n_estimators': 2000 #[100,200,500]\n",
    "          ,'learning_rate': 0.054 # defaul=0.3 range: [0,1] typical: 0.01-0.02\n",
    "          ,'max_depth': 2 #defaul=6 range: [0,∞] typical 3-10\n",
    "          ,'min_child_weight': 4 #defaul=1 range: [0,∞] higher good, too hight underfit\n",
    "          # ,'sampling_method': 'uniform' #defaul=uniform [uniform, gradient_based]\n",
    "          ,'subsample': 0.7 #defaul=1 range: (0,1] typical 0.5 - 1\n",
    "          ,'colsample_bytree': 0.999 #defaul=1 range: (0,1]\n",
    "          # ,'colsample_bylevel': 1 #defaul=1 range: (0,1]\n",
    "          # ,'colsample_bynode': 1 #defaul=1 range: (0,1]\n",
    "          ,'eval_metric': mean_squared_error #set by the xgboost acord to 'objective'\n",
    "          # ,'objective': 'reg:squarederror' #default = 'reg:squarederror'\n",
    "          # ,'gamma': 0 #defaul=0 range: [0,∞] the larger the more conservative the algorithm will be\n",
    "          ,'n_jobs': -1\n",
    "          ,'random_state': 77\n",
    "          }\n",
    "\n",
    "xgb_model = XGBRegressor(**xgb_params)\n",
    "\n",
    "xgb_model.fit(X_tr, y_tr \n",
    "        ,eval_set=evalset\n",
    "        # ,eval_metric='rmse'\n",
    "        ,verbose=False )\n",
    "\n",
    "te_score = mean_squared_error(y_te, xgb_model.predict(X_te))\n",
    "\n",
    "print('test score:{}'.format(te_score))"
   ]
  },
  {
   "cell_type": "code",
   "execution_count": 247,
   "id": "b8b08087-4cf9-4b55-be97-ef734014377b",
   "metadata": {},
   "outputs": [
    {
     "data": {
      "text/html": [
       "<div>\n",
       "<style scoped>\n",
       "    .dataframe tbody tr th:only-of-type {\n",
       "        vertical-align: middle;\n",
       "    }\n",
       "\n",
       "    .dataframe tbody tr th {\n",
       "        vertical-align: top;\n",
       "    }\n",
       "\n",
       "    .dataframe thead th {\n",
       "        text-align: right;\n",
       "    }\n",
       "</style>\n",
       "<table border=\"1\" class=\"dataframe\">\n",
       "  <thead>\n",
       "    <tr style=\"text-align: right;\">\n",
       "      <th></th>\n",
       "      <th>n_estimators</th>\n",
       "      <th>learning_rate</th>\n",
       "      <th>max_depth</th>\n",
       "      <th>min_child_weight</th>\n",
       "      <th>subsample</th>\n",
       "      <th>colsample_bytree</th>\n",
       "      <th>eval_metric</th>\n",
       "      <th>n_jobs</th>\n",
       "      <th>random_state</th>\n",
       "      <th>Test_score</th>\n",
       "    </tr>\n",
       "  </thead>\n",
       "  <tbody>\n",
       "    <tr>\n",
       "      <th>0</th>\n",
       "      <td>1475</td>\n",
       "      <td>0.070</td>\n",
       "      <td>3</td>\n",
       "      <td>2</td>\n",
       "      <td>0.7</td>\n",
       "      <td>1.000</td>\n",
       "      <td>&lt;function mean_squared_error at 0x7fe886eb9af0&gt;</td>\n",
       "      <td>-1</td>\n",
       "      <td>77</td>\n",
       "      <td>0.053292</td>\n",
       "    </tr>\n",
       "    <tr>\n",
       "      <th>1</th>\n",
       "      <td>1100</td>\n",
       "      <td>0.070</td>\n",
       "      <td>3</td>\n",
       "      <td>2</td>\n",
       "      <td>0.7</td>\n",
       "      <td>1.000</td>\n",
       "      <td>&lt;function mean_squared_error at 0x7fe886eb9af0&gt;</td>\n",
       "      <td>-1</td>\n",
       "      <td>77</td>\n",
       "      <td>0.053108</td>\n",
       "    </tr>\n",
       "    <tr>\n",
       "      <th>2</th>\n",
       "      <td>700</td>\n",
       "      <td>0.070</td>\n",
       "      <td>3</td>\n",
       "      <td>2</td>\n",
       "      <td>0.7</td>\n",
       "      <td>1.000</td>\n",
       "      <td>&lt;function mean_squared_error at 0x7fe886eb9af0&gt;</td>\n",
       "      <td>-1</td>\n",
       "      <td>77</td>\n",
       "      <td>0.052970</td>\n",
       "    </tr>\n",
       "    <tr>\n",
       "      <th>3</th>\n",
       "      <td>700</td>\n",
       "      <td>0.060</td>\n",
       "      <td>3</td>\n",
       "      <td>2</td>\n",
       "      <td>0.7</td>\n",
       "      <td>1.000</td>\n",
       "      <td>&lt;function mean_squared_error at 0x7fe886eb9af0&gt;</td>\n",
       "      <td>-1</td>\n",
       "      <td>77</td>\n",
       "      <td>0.051253</td>\n",
       "    </tr>\n",
       "    <tr>\n",
       "      <th>4</th>\n",
       "      <td>700</td>\n",
       "      <td>0.060</td>\n",
       "      <td>2</td>\n",
       "      <td>2</td>\n",
       "      <td>0.7</td>\n",
       "      <td>1.000</td>\n",
       "      <td>&lt;function mean_squared_error at 0x7fe886eb9af0&gt;</td>\n",
       "      <td>-1</td>\n",
       "      <td>77</td>\n",
       "      <td>0.048460</td>\n",
       "    </tr>\n",
       "    <tr>\n",
       "      <th>5</th>\n",
       "      <td>700</td>\n",
       "      <td>0.060</td>\n",
       "      <td>2</td>\n",
       "      <td>4</td>\n",
       "      <td>0.7</td>\n",
       "      <td>1.000</td>\n",
       "      <td>&lt;function mean_squared_error at 0x7fe886eb9af0&gt;</td>\n",
       "      <td>-1</td>\n",
       "      <td>77</td>\n",
       "      <td>0.048142</td>\n",
       "    </tr>\n",
       "    <tr>\n",
       "      <th>6</th>\n",
       "      <td>700</td>\n",
       "      <td>0.060</td>\n",
       "      <td>2</td>\n",
       "      <td>4</td>\n",
       "      <td>0.7</td>\n",
       "      <td>0.999</td>\n",
       "      <td>&lt;function mean_squared_error at 0x7fe886eb9af0&gt;</td>\n",
       "      <td>-1</td>\n",
       "      <td>77</td>\n",
       "      <td>0.047875</td>\n",
       "    </tr>\n",
       "    <tr>\n",
       "      <th>7</th>\n",
       "      <td>2000</td>\n",
       "      <td>0.055</td>\n",
       "      <td>2</td>\n",
       "      <td>4</td>\n",
       "      <td>0.7</td>\n",
       "      <td>0.999</td>\n",
       "      <td>&lt;function mean_squared_error at 0x7fe886eb9af0&gt;</td>\n",
       "      <td>-1</td>\n",
       "      <td>77</td>\n",
       "      <td>0.046331</td>\n",
       "    </tr>\n",
       "    <tr>\n",
       "      <th>8</th>\n",
       "      <td>2000</td>\n",
       "      <td>0.054</td>\n",
       "      <td>2</td>\n",
       "      <td>4</td>\n",
       "      <td>0.7</td>\n",
       "      <td>0.999</td>\n",
       "      <td>&lt;function mean_squared_error at 0x7fe886eb9af0&gt;</td>\n",
       "      <td>-1</td>\n",
       "      <td>77</td>\n",
       "      <td>0.046030</td>\n",
       "    </tr>\n",
       "  </tbody>\n",
       "</table>\n",
       "</div>"
      ],
      "text/plain": [
       "   n_estimators  learning_rate  max_depth  min_child_weight  subsample  \\\n",
       "0          1475          0.070          3                 2        0.7   \n",
       "1          1100          0.070          3                 2        0.7   \n",
       "2           700          0.070          3                 2        0.7   \n",
       "3           700          0.060          3                 2        0.7   \n",
       "4           700          0.060          2                 2        0.7   \n",
       "5           700          0.060          2                 4        0.7   \n",
       "6           700          0.060          2                 4        0.7   \n",
       "7          2000          0.055          2                 4        0.7   \n",
       "8          2000          0.054          2                 4        0.7   \n",
       "\n",
       "   colsample_bytree                                      eval_metric  n_jobs  \\\n",
       "0             1.000  <function mean_squared_error at 0x7fe886eb9af0>      -1   \n",
       "1             1.000  <function mean_squared_error at 0x7fe886eb9af0>      -1   \n",
       "2             1.000  <function mean_squared_error at 0x7fe886eb9af0>      -1   \n",
       "3             1.000  <function mean_squared_error at 0x7fe886eb9af0>      -1   \n",
       "4             1.000  <function mean_squared_error at 0x7fe886eb9af0>      -1   \n",
       "5             1.000  <function mean_squared_error at 0x7fe886eb9af0>      -1   \n",
       "6             0.999  <function mean_squared_error at 0x7fe886eb9af0>      -1   \n",
       "7             0.999  <function mean_squared_error at 0x7fe886eb9af0>      -1   \n",
       "8             0.999  <function mean_squared_error at 0x7fe886eb9af0>      -1   \n",
       "\n",
       "   random_state  Test_score  \n",
       "0            77    0.053292  \n",
       "1            77    0.053108  \n",
       "2            77    0.052970  \n",
       "3            77    0.051253  \n",
       "4            77    0.048460  \n",
       "5            77    0.048142  \n",
       "6            77    0.047875  \n",
       "7            77    0.046331  \n",
       "8            77    0.046030  "
      ]
     },
     "execution_count": 247,
     "metadata": {},
     "output_type": "execute_result"
    }
   ],
   "source": [
    "xgb_params.update({'Test_score': te_score})\n",
    "# scores_df = pd.DataFrame([xgb_params])\n",
    "scores_df = pd.concat([scores_df, pd.DataFrame([xgb_params])], ignore_index=True)\n",
    "scores_df"
   ]
  },
  {
   "cell_type": "code",
   "execution_count": 12,
   "id": "ad09af28-d1ba-4331-9823-491a6552632f",
   "metadata": {},
   "outputs": [
    {
     "data": {
      "image/png": "[encoded data removed]",
      "text/plain": [
       "<Figure size 640x480 with 1 Axes>"
      ]
     },
     "metadata": {},
     "output_type": "display_data"
    }
   ],
   "source": [
    "to_plot = xgb_model.evals_result()\n",
    "\n",
    "plt.plot(to_plot['validation_0']['mean_squared_error'], label='taining')\n",
    "plt.plot(to_plot['validation_1']['mean_squared_error'], label='test')\n",
    "\n",
    "plt.legend()\n",
    "plt.show()"
   ]
  },
  {
   "cell_type": "code",
   "execution_count": null,
   "id": "49c09b8f-0a7f-4050-972f-2d1ef1222a25",
   "metadata": {},
   "outputs": [],
   "source": []
  },
  {
   "cell_type": "markdown",
   "id": "75e26ab5-19c9-472b-8ff7-3930fde11e67",
   "metadata": {},
   "source": [
    "> **CatBoostRegressor**"
   ]
  },
  {
   "cell_type": "code",
   "execution_count": 13,
   "id": "c7b716ec-2046-4a24-9dee-5ae91984522a",
   "metadata": {},
   "outputs": [],
   "source": [
    "tr_pool = cb.Pool(X_tr, y_tr)\n",
    "te_pool = cb.Pool(X_te, y_te)"
   ]
  },
  {
   "cell_type": "code",
   "execution_count": 14,
   "id": "f35ab8f7-4f2a-4a58-a03e-218ac5507328",
   "metadata": {},
   "outputs": [
    {
     "name": "stdout",
     "output_type": "stream",
     "text": [
      "test score:0.043490039937638864\n"
     ]
    }
   ],
   "source": [
    "cb_params = {\n",
    "             # 'iterations':700\n",
    "             'n_estimators':15000\n",
    "             ,'learning_rate':0.006\n",
    "             ,'depth':2\n",
    "             ,'l2_leaf_reg':20\n",
    "             ,'loss_function':'RMSE'\n",
    "             ,'subsample':0.355\n",
    "             ,'colsample_bylevel':0.3\n",
    "             ,'random_state':77\n",
    "             ,'verbose':False\n",
    "             ,'use_best_model': False #True to not save trees after iterations\n",
    "             # ,'early_stopping_rounds':200 #after 200 iteractions without improvement stop\n",
    "             # ,'verbose':False #200 output info every 200 iterations\n",
    "             # ,'task_type':\"GPU\" # research for more of this option\n",
    "             }\n",
    "\n",
    "cb_model = cb.CatBoostRegressor(**cb_params)\n",
    "\n",
    "cb_model.fit(tr_pool, eval_set=te_pool, verbose=False)\n",
    "\n",
    "te_score = mean_squared_error(y_te, cb_model.predict(te_pool))\n",
    "\n",
    "print('test score:{}'.format(te_score))\n",
    "#test score:0.04490551054412159"
   ]
  },
  {
   "cell_type": "code",
   "execution_count": 262,
   "id": "6c11552f-7bd4-445a-9e73-b7df9c057e68",
   "metadata": {},
   "outputs": [
    {
     "data": {
      "text/html": [
       "<div>\n",
       "<style scoped>\n",
       "    .dataframe tbody tr th:only-of-type {\n",
       "        vertical-align: middle;\n",
       "    }\n",
       "\n",
       "    .dataframe tbody tr th {\n",
       "        vertical-align: top;\n",
       "    }\n",
       "\n",
       "    .dataframe thead th {\n",
       "        text-align: right;\n",
       "    }\n",
       "</style>\n",
       "<table border=\"1\" class=\"dataframe\">\n",
       "  <thead>\n",
       "    <tr style=\"text-align: right;\">\n",
       "      <th></th>\n",
       "      <th>n_estimators</th>\n",
       "      <th>learning_rate</th>\n",
       "      <th>depth</th>\n",
       "      <th>l2_leaf_reg</th>\n",
       "      <th>loss_function</th>\n",
       "      <th>subsample</th>\n",
       "      <th>colsample_bylevel</th>\n",
       "      <th>random_state</th>\n",
       "      <th>verbose</th>\n",
       "      <th>use_best_model</th>\n",
       "      <th>te_score</th>\n",
       "    </tr>\n",
       "  </thead>\n",
       "  <tbody>\n",
       "    <tr>\n",
       "      <th>0</th>\n",
       "      <td>15000</td>\n",
       "      <td>0.005</td>\n",
       "      <td>2</td>\n",
       "      <td>20</td>\n",
       "      <td>RMSE</td>\n",
       "      <td>0.300</td>\n",
       "      <td>0.3</td>\n",
       "      <td>77</td>\n",
       "      <td>False</td>\n",
       "      <td>False</td>\n",
       "      <td>0.044906</td>\n",
       "    </tr>\n",
       "    <tr>\n",
       "      <th>1</th>\n",
       "      <td>15000</td>\n",
       "      <td>0.006</td>\n",
       "      <td>2</td>\n",
       "      <td>20</td>\n",
       "      <td>RMSE</td>\n",
       "      <td>0.355</td>\n",
       "      <td>0.3</td>\n",
       "      <td>77</td>\n",
       "      <td>False</td>\n",
       "      <td>False</td>\n",
       "      <td>0.043490</td>\n",
       "    </tr>\n",
       "  </tbody>\n",
       "</table>\n",
       "</div>"
      ],
      "text/plain": [
       "   n_estimators  learning_rate  depth  l2_leaf_reg loss_function  subsample  \\\n",
       "0         15000          0.005      2           20          RMSE      0.300   \n",
       "1         15000          0.006      2           20          RMSE      0.355   \n",
       "\n",
       "   colsample_bylevel  random_state  verbose  use_best_model  te_score  \n",
       "0                0.3            77    False           False  0.044906  \n",
       "1                0.3            77    False           False  0.043490  "
      ]
     },
     "execution_count": 262,
     "metadata": {},
     "output_type": "execute_result"
    }
   ],
   "source": [
    "cb_params.update({'te_score':te_score})\n",
    "# cb_df = pd.DataFrame([cb_params])\n",
    "cb_df = pd.concat( [cb_df, pd.DataFrame([cb_params])], ignore_index=True)\n",
    "cb_df"
   ]
  },
  {
   "cell_type": "markdown",
   "id": "67ab7df7-7c72-40cb-9623-bdf3c98bfd42",
   "metadata": {},
   "source": [
    "> **StackingRegressor**"
   ]
  },
  {
   "cell_type": "code",
   "execution_count": null,
   "id": "4f5a2b15-f54c-4697-b135-9539658f3f27",
   "metadata": {},
   "outputs": [],
   "source": [
    "theheil = TheilSenRegressor(**theheil_params)\n",
    "huber = HuberRegressor(**huber_params)\n",
    "ransac = RANSACRegressor(**ransac_params)\n",
    "ridge = Ridge(**ridge_params)\n",
    "e_net = ElasticNet(**e_net_params)\n",
    "xgb_model = XGBRegressor(**xgb_params)\n",
    "\n",
    "\n",
    "cb_model = cb.CatBoostRegressor(**cb_params)"
   ]
  },
  {
   "cell_type": "code",
   "execution_count": 15,
   "id": "41061f46-948c-4e37-9816-4db8c8d06b91",
   "metadata": {},
   "outputs": [
    {
     "name": "stderr",
     "output_type": "stream",
     "text": [
      "/opt/anaconda3/lib/python3.8/site-packages/sklearn/linear_model/_huber.py:332: ConvergenceWarning: lbfgs failed to converge (status=1):\n",
      "STOP: TOTAL NO. of ITERATIONS REACHED LIMIT.\n",
      "\n",
      "Increase the number of iterations (max_iter) or scale the data as shown in:\n",
      "    https://scikit-learn.org/stable/modules/preprocessing.html\n",
      "  self.n_iter_ = _check_optimize_result(\"lbfgs\", opt_res, self.max_iter)\n",
      "/opt/anaconda3/lib/python3.8/site-packages/sklearn/linear_model/_huber.py:332: ConvergenceWarning: lbfgs failed to converge (status=1):\n",
      "STOP: TOTAL NO. of ITERATIONS REACHED LIMIT.\n",
      "\n",
      "Increase the number of iterations (max_iter) or scale the data as shown in:\n",
      "    https://scikit-learn.org/stable/modules/preprocessing.html\n",
      "  self.n_iter_ = _check_optimize_result(\"lbfgs\", opt_res, self.max_iter)\n",
      "/opt/anaconda3/lib/python3.8/site-packages/sklearn/linear_model/_huber.py:332: ConvergenceWarning: lbfgs failed to converge (status=1):\n",
      "STOP: TOTAL NO. of ITERATIONS REACHED LIMIT.\n",
      "\n",
      "Increase the number of iterations (max_iter) or scale the data as shown in:\n",
      "    https://scikit-learn.org/stable/modules/preprocessing.html\n",
      "  self.n_iter_ = _check_optimize_result(\"lbfgs\", opt_res, self.max_iter)\n"
     ]
    }
   ],
   "source": [
    "from sklearn.linear_model import LinearRegression"
   ]
  },
  {
   "cell_type": "code",
   "execution_count": 29,
   "id": "4e14ceae-39d5-447b-afb9-f6cc993611bf",
   "metadata": {},
   "outputs": [
    {
     "name": "stderr",
     "output_type": "stream",
     "text": [
      "/opt/anaconda3/lib/python3.8/site-packages/sklearn/base.py:443: UserWarning: X has feature names, but SelectFromModel was fitted without feature names\n",
      "  warnings.warn(\n",
      "/opt/anaconda3/lib/python3.8/site-packages/sklearn/base.py:443: UserWarning: X has feature names, but SelectFromModel was fitted without feature names\n",
      "  warnings.warn(\n"
     ]
    },
    {
     "name": "stdout",
     "output_type": "stream",
     "text": [
      "1min 3s ± 1.78 s per loop (mean ± std. dev. of 7 runs, 1 loop each)\n",
      "staking test score: 0.03714388265303185\n"
     ]
    }
   ],
   "source": [
    "# level0 = [ ('theheil', TheilSenRegressor(**theheil_params))\n",
    "#           ,('huber', HuberRegressor(**huber_params))\n",
    "#           ,('ransac', RANSACRegressor(**ransac_params))\n",
    "#           ,('ridge', Ridge(**ridge_params))\n",
    "#           ,('e_net', ElasticNet(**e_net_params))\n",
    "#           ,('xgb_model', XGBRegressor(**xgb_params))\n",
    "#           ]\n",
    "\n",
    "level0 = [ \n",
    "          ('theheil', theheil)\n",
    "          ,('e_net', e_net)\n",
    "          # ,('huber', huber)\n",
    "          ,('ransac', ransac)\n",
    "          ,('ridge', ridge) # to this point no error\n",
    "          ,('xgb_model', xgb_model)\n",
    "          ,('cb_model', cb_model)\n",
    "          ]\n",
    "\n",
    "#test score:0.0374376990680517 elastic net\n",
    "\n",
    "\n",
    "# level1 = cb_model # staking test score: 0.03956932588634595\n",
    "# level1 = xgb_model #staking test score: 0.045024012581450876\n",
    "level1 = LinearRegression() #staking test score: 0.03720205858178469\n",
    "\n",
    "\n",
    "# level1 = cb.CatBoostRegressor(**cb_params)\n",
    "\n",
    "final_model = StackingRegressor(estimators=level0, final_estimator=level1, cv=5\n",
    "                                , passthrough=False, n_jobs=-1, verbose=False)\n",
    "\n",
    "# === plain stacking\n",
    "# %timeit final_model.fit(X_tr, y_tr)\n",
    "# stacking_score = mean_squared_error(y_te, final_model.predict(X_te))\n",
    "# === end plain stacking\n",
    "\n",
    "\n",
    "\n",
    "# ====== Feature Importance\n",
    "selector = SelectFromModel(xgb_model, threshold=0.0004913189332000911, prefit=True)\n",
    "\n",
    "x_tr_selection = selector.transform(X_tr)\n",
    "x_te_selection = selector.transform(X_te)\n",
    "\n",
    "%timeit final_model.fit(x_tr_selection, y_tr)\n",
    "\n",
    "stacking_score = mean_squared_error(y_te, final_model.predict(x_te_selection))\n",
    "\n",
    "# Threshold=0.0004913189332000911 , n=134 (Features)\n",
    "# score using selectFromModel: 0.03714388265303185\n",
    "\n",
    "# Threshold=0.0007034809095785022 , n=89 (Features)\n",
    "# score using selectFromModel: 0.038402933924872665\n",
    "\n",
    "# ====== end feature Importance\n",
    "\n",
    "\n",
    "print('staking test score: {}'.format(stacking_score))"
   ]
  },
  {
   "cell_type": "code",
   "execution_count": null,
   "id": "df912fcb-0672-4550-988f-6f961bd93673",
   "metadata": {},
   "outputs": [],
   "source": [
    "1min 3s ± 1.79 s per loop (mean ± std. dev. of 7 runs, 1 loop each)\n",
    "staking test score: 0.03714388265303185\n",
    "\n",
    "\n",
    "# Threshold=0.0004913189332000911 , n=134, score=0.045683945529371106\n",
    "# Threshold=0.0007034809095785022 , n=89, score=0.0467711519239436"
   ]
  },
  {
   "cell_type": "markdown",
   "id": "274e4c1e-c938-4b97-918a-147ff8faba83",
   "metadata": {},
   "source": [
    "> Getting a Data Frame with just the selected features \n",
    "> by the model and give them their column names back"
   ]
  },
  {
   "cell_type": "code",
   "execution_count": null,
   "id": "97dd7c82-e46c-42d1-b69e-a9f09239cf70",
   "metadata": {},
   "outputs": [],
   "source": [
    "# Getting the column names selected by the model\n",
    "names_selected = X_tr.columns[selector.get_support()]\n",
    "len(names_selected)\n",
    "\n",
    "# making a new Data Frame from the selected features from model \n",
    "# and given them back their column names\n",
    "x_tr_selection_df = pd.DataFrame( x_tr_selection, columns=names_selected)\n",
    "x_tr_selection_df.head(7)"
   ]
  },
  {
   "cell_type": "code",
   "execution_count": null,
   "id": "a6989add-67be-4a2a-b626-53f1bec0460a",
   "metadata": {},
   "outputs": [],
   "source": []
  },
  {
   "cell_type": "markdown",
   "id": "7870d212-2634-401f-9d6f-6f42d3dfb326",
   "metadata": {},
   "source": [
    "# Submission"
   ]
  },
  {
   "cell_type": "code",
   "execution_count": null,
   "id": "98f6efe5-c46e-4e20-aa1f-099886e54824",
   "metadata": {},
   "outputs": [],
   "source": []
  },
  {
   "cell_type": "code",
   "execution_count": 297,
   "id": "ccf6dab1-5070-4c0b-b667-7cc297020d56",
   "metadata": {},
   "outputs": [
    {
     "name": "stderr",
     "output_type": "stream",
     "text": [
      "/opt/anaconda3/lib/python3.8/site-packages/catboost/core.py:1419: FutureWarning: iteritems is deprecated and will be removed in a future version. Use .items instead.\n",
      "  self._init_pool(data, label, cat_features, text_features, embedding_features, embedding_features_data, pairs, weight,\n"
     ]
    },
    {
     "data": {
      "text/plain": [
       "StackingRegressor(cv=5,\n",
       "                  estimators=[('theheil',\n",
       "                               TheilSenRegressor(max_iter=500,\n",
       "                                                 max_subpopulation=1000,\n",
       "                                                 n_jobs=-1, n_subsamples=500,\n",
       "                                                 random_state=77, tol=0.01)),\n",
       "                              ('e_net',\n",
       "                               ElasticNet(alpha=0.001, l1_ratio=0.73,\n",
       "                                          max_iter=25000, random_state=77,\n",
       "                                          tol=0.03)),\n",
       "                              ('ransac',\n",
       "                               RANSACRegressor(max_trials=50, min_samples=739,\n",
       "                                               random_state=77,\n",
       "                                               residual_threshold=0.601)),\n",
       "                              ('ridge',...\n",
       "                                            max_cat_to_onehot=4,\n",
       "                                            max_delta_step=0, max_depth=2,\n",
       "                                            max_leaves=0, min_child_weight=4,\n",
       "                                            missing=nan,\n",
       "                                            monotone_constraints='()',\n",
       "                                            n_estimators=2000, n_jobs=-1,\n",
       "                                            num_parallel_tree=1,\n",
       "                                            predictor='auto', random_state=77,\n",
       "                                            reg_alpha=0, reg_lambda=1, ...)),\n",
       "                              ('cb_model',\n",
       "                               <catboost.core.CatBoostRegressor object at 0x7fe872071220>)],\n",
       "                  final_estimator=LinearRegression(), n_jobs=-1, verbose=False)"
      ]
     },
     "execution_count": 297,
     "metadata": {},
     "output_type": "execute_result"
    },
    {
     "name": "stderr",
     "output_type": "stream",
     "text": [
      "/opt/anaconda3/lib/python3.8/site-packages/catboost/core.py:1419: FutureWarning: iteritems is deprecated and will be removed in a future version. Use .items instead.\n",
      "  self._init_pool(data, label, cat_features, text_features, embedding_features, embedding_features_data, pairs, weight,\n",
      "/opt/anaconda3/lib/python3.8/site-packages/catboost/core.py:1419: FutureWarning: iteritems is deprecated and will be removed in a future version. Use .items instead.\n",
      "  self._init_pool(data, label, cat_features, text_features, embedding_features, embedding_features_data, pairs, weight,\n",
      "/opt/anaconda3/lib/python3.8/site-packages/catboost/core.py:1419: FutureWarning: iteritems is deprecated and will be removed in a future version. Use .items instead.\n",
      "  self._init_pool(data, label, cat_features, text_features, embedding_features, embedding_features_data, pairs, weight,\n",
      "/opt/anaconda3/lib/python3.8/site-packages/catboost/core.py:1419: FutureWarning: iteritems is deprecated and will be removed in a future version. Use .items instead.\n",
      "  self._init_pool(data, label, cat_features, text_features, embedding_features, embedding_features_data, pairs, weight,\n"
     ]
    }
   ],
   "source": [
    "final_model.fit(tr, y)"
   ]
  },
  {
   "cell_type": "code",
   "execution_count": 298,
   "id": "4c2730c0-635a-4c73-92c1-863b3abf73a4",
   "metadata": {},
   "outputs": [],
   "source": [
    "final_y = final_model.predict(te)"
   ]
  },
  {
   "cell_type": "code",
   "execution_count": 299,
   "id": "164c8e4b-6922-4e49-a335-e9e3d3d67cfe",
   "metadata": {},
   "outputs": [
    {
     "data": {
      "text/plain": [
       "(1459,)"
      ]
     },
     "execution_count": 299,
     "metadata": {},
     "output_type": "execute_result"
    }
   ],
   "source": [
    "final_y.shape"
   ]
  },
  {
   "cell_type": "code",
   "execution_count": 300,
   "id": "eb5b646d-27ce-40ac-a2a1-15b0a4c197b0",
   "metadata": {},
   "outputs": [
    {
     "data": {
      "text/html": [
       "<div>\n",
       "<style scoped>\n",
       "    .dataframe tbody tr th:only-of-type {\n",
       "        vertical-align: middle;\n",
       "    }\n",
       "\n",
       "    .dataframe tbody tr th {\n",
       "        vertical-align: top;\n",
       "    }\n",
       "\n",
       "    .dataframe thead th {\n",
       "        text-align: right;\n",
       "    }\n",
       "</style>\n",
       "<table border=\"1\" class=\"dataframe\">\n",
       "  <thead>\n",
       "    <tr style=\"text-align: right;\">\n",
       "      <th></th>\n",
       "      <th>Id</th>\n",
       "      <th>SalePrice</th>\n",
       "    </tr>\n",
       "  </thead>\n",
       "  <tbody>\n",
       "    <tr>\n",
       "      <th>0</th>\n",
       "      <td>1461</td>\n",
       "      <td>-0.576865</td>\n",
       "    </tr>\n",
       "    <tr>\n",
       "      <th>1</th>\n",
       "      <td>1462</td>\n",
       "      <td>-0.017363</td>\n",
       "    </tr>\n",
       "    <tr>\n",
       "      <th>2</th>\n",
       "      <td>1463</td>\n",
       "      <td>0.239833</td>\n",
       "    </tr>\n",
       "    <tr>\n",
       "      <th>3</th>\n",
       "      <td>1464</td>\n",
       "      <td>0.326631</td>\n",
       "    </tr>\n",
       "    <tr>\n",
       "      <th>4</th>\n",
       "      <td>1465</td>\n",
       "      <td>0.201157</td>\n",
       "    </tr>\n",
       "    <tr>\n",
       "      <th>5</th>\n",
       "      <td>1466</td>\n",
       "      <td>0.073428</td>\n",
       "    </tr>\n",
       "    <tr>\n",
       "      <th>6</th>\n",
       "      <td>1467</td>\n",
       "      <td>0.142817</td>\n",
       "    </tr>\n",
       "  </tbody>\n",
       "</table>\n",
       "</div>"
      ],
      "text/plain": [
       "     Id  SalePrice\n",
       "0  1461  -0.576865\n",
       "1  1462  -0.017363\n",
       "2  1463   0.239833\n",
       "3  1464   0.326631\n",
       "4  1465   0.201157\n",
       "5  1466   0.073428\n",
       "6  1467   0.142817"
      ]
     },
     "execution_count": 300,
     "metadata": {},
     "output_type": "execute_result"
    }
   ],
   "source": [
    "submission = pd.DataFrame(final_y, columns=['SalePrice'], index=te.index)\n",
    "submission.reset_index(inplace=True)\n",
    "submission.head(7)"
   ]
  },
  {
   "cell_type": "code",
   "execution_count": 301,
   "id": "d3af361e-be90-498f-9540-49484718d34f",
   "metadata": {},
   "outputs": [],
   "source": [
    "submission.to_csv('/Users/antirrabia/Documents/01-GitHub/DataMining-_-/CSV/HousePrices/submission.csv', index=False)"
   ]
  },
  {
   "cell_type": "markdown",
   "id": "5e319707-0b70-4ed0-acfe-4bf96d1c05d9",
   "metadata": {},
   "source": [
    "# Score = 11.81074\n",
    "# on my first submission on Oct/11/22"
   ]
  },
  {
   "cell_type": "code",
   "execution_count": null,
   "id": "5d77a0ae-bf63-4743-8189-c067d4970ee5",
   "metadata": {},
   "outputs": [],
   "source": []
  },
  {
   "cell_type": "code",
   "execution_count": null,
   "id": "371e1790-c264-4b91-9d43-a238e8c8cbe7",
   "metadata": {},
   "outputs": [],
   "source": []
  },
  {
   "cell_type": "code",
   "execution_count": 302,
   "id": "720d7058-e4ae-4eb5-b0a8-f7609ae96ab9",
   "metadata": {},
   "outputs": [
    {
     "data": {
      "text/plain": [
       "False"
      ]
     },
     "execution_count": 302,
     "metadata": {},
     "output_type": "execute_result"
    }
   ],
   "source": [
    "# I got this when I trained the staking model with the whole training data is weird\n",
    "11.81468"
   ]
  },
  {
   "cell_type": "code",
   "execution_count": null,
   "id": "ad62f56d-072c-434c-b0b4-00e524757e77",
   "metadata": {},
   "outputs": [],
   "source": []
  },
  {
   "cell_type": "code",
   "execution_count": null,
   "id": "cc7fec12-78a5-42b3-80bd-b35abaaaeb19",
   "metadata": {},
   "outputs": [],
   "source": []
  },
  {
   "cell_type": "code",
   "execution_count": null,
   "id": "8d0d495e-a0d7-4db9-ba05-0968f4d389d9",
   "metadata": {},
   "outputs": [],
   "source": [
    "# I look every 100 loops for the lowest score with the lowest features\n",
    "\n",
    "# thresholds = np.sort(xgb_model.feature_importances_)\n",
    "for threshold in thresholds[200:300]:\n",
    "    selector = SelectFromModel(xgb_model, threshold=threshold, prefit=True)\n",
    "    \n",
    "    x_tr_selection = selector.transform(X_tr)\n",
    "    \n",
    "    # final_model = StackingRegressor(estimators=level0, final_estimator=level1, cv=5\n",
    "    #                             , passthrough=False, n_jobs=-1, verbose=False)\n",
    "    \n",
    "    final_model = XGBRegressor(**xgb_params)\n",
    "\n",
    "    final_model.fit(x_tr_selection, y_tr)\n",
    "    \n",
    "    x_te_selection = selector.transform(X_te)\n",
    "    \n",
    "    stacking_score = mean_squared_error(y_te, final_model.predict(x_te_selection))\n",
    "    \n",
    "    print('Threshold={} , n={}, score={}'.format(threshold, x_tr_selection.shape[1], stacking_score) )\n",
    "    \n",
    "    \n",
    "# Getting the column names selected by the model\n",
    "names_selected = X_tr.columns[selector.get_support()]\n",
    "len(names_selected)\n",
    "\n",
    "# making a new Data Frame from the selected features from model \n",
    "# and given them back their column names\n",
    "x_tr_selection_df = pd.DataFrame( x_tr_selection, columns=names_selected)\n",
    "x_tr_selection_df.head(7)"
   ]
  },
  {
   "cell_type": "code",
   "execution_count": null,
   "id": "5ae9e246-8d7d-4729-baca-eafcd6c1d65d",
   "metadata": {},
   "outputs": [],
   "source": [
    "selector = SelectFromModel(xgb_model, threshold=0.0004913189332000911, prefit=True)\n",
    "\n",
    "x_tr_selection = selector.transform(X_tr)\n",
    "\n",
    "final_model.fit(x_tr_selection, y_tr)\n",
    "    \n",
    "x_te_selection = selector.transform(X_te)\n",
    "\n",
    "stacking_score = mean_squared_error(y_te, final_model.predict(x_te_selection))\n",
    "\n",
    "\n",
    "\n",
    "# Threshold=0.0004913189332000911 , n=134, score=0.045683945529371106\n",
    "\n",
    "# Threshold=0.0007034809095785022 , n=89, score=0.0467711519239436"
   ]
  },
  {
   "cell_type": "code",
   "execution_count": 19,
   "id": "4992dcf8-12b3-4c54-a97f-ee2c6fa7c84b",
   "metadata": {},
   "outputs": [
    {
     "data": {
      "text/plain": [
       "318"
      ]
     },
     "execution_count": 19,
     "metadata": {},
     "output_type": "execute_result"
    }
   ],
   "source": [
    "thresholds = np.sort(xgb_model.feature_importances_, )\n",
    "len(thresholds)"
   ]
  },
  {
   "cell_type": "code",
   "execution_count": 23,
   "id": "b80a8a54-3a1d-4c99-86e9-9a0ab5fb20fe",
   "metadata": {},
   "outputs": [
    {
     "data": {
      "text/plain": [
       "array([0.00000000e+00, 0.00000000e+00, 0.00000000e+00, 0.00000000e+00,\n",
       "       0.00000000e+00, 0.00000000e+00, 0.00000000e+00, 0.00000000e+00,\n",
       "       0.00000000e+00, 0.00000000e+00, 0.00000000e+00, 0.00000000e+00,\n",
       "       0.00000000e+00, 0.00000000e+00, 0.00000000e+00, 0.00000000e+00,\n",
       "       0.00000000e+00, 0.00000000e+00, 0.00000000e+00, 0.00000000e+00,\n",
       "       0.00000000e+00, 0.00000000e+00, 0.00000000e+00, 0.00000000e+00,\n",
       "       0.00000000e+00, 0.00000000e+00, 0.00000000e+00, 0.00000000e+00,\n",
       "       0.00000000e+00, 0.00000000e+00, 0.00000000e+00, 0.00000000e+00,\n",
       "       0.00000000e+00, 0.00000000e+00, 4.76634195e-05, 5.14413514e-05,\n",
       "       5.40700348e-05, 5.90053387e-05, 8.17862019e-05, 8.32715014e-05,\n",
       "       8.48246418e-05, 9.00574596e-05, 9.82590063e-05, 9.97255993e-05,\n",
       "       1.04900042e-04, 1.08260487e-04, 1.09666042e-04, 1.11531939e-04,\n",
       "       1.12390131e-04, 1.18028925e-04], dtype=float32)"
      ]
     },
     "execution_count": 23,
     "metadata": {},
     "output_type": "execute_result"
    }
   ],
   "source": [
    "thresholds[:50]"
   ]
  },
  {
   "cell_type": "code",
   "execution_count": 115,
   "id": "639a6755-e441-444d-a81e-6bb0aff93966",
   "metadata": {},
   "outputs": [
    {
     "data": {
      "text/plain": [
       "134"
      ]
     },
     "execution_count": 115,
     "metadata": {},
     "output_type": "execute_result"
    }
   ],
   "source": [
    "# Getting the column names selected by the model\n",
    "names_selected = X_tr.columns[selector.get_support()]\n",
    "len(names_selected)\n",
    "\n",
    "# making a new Data Frame from the selected features from model \n",
    "# and given them back their column names\n",
    "x_tr_selection_df = pd.DataFrame( x_tr_selection, columns=names_selected)\n",
    "x_tr_selection_df.head(7)"
   ]
  },
  {
   "cell_type": "code",
   "execution_count": 116,
   "id": "b2571e3b-4bc9-4d08-9639-e025b4db0105",
   "metadata": {},
   "outputs": [
    {
     "data": {
      "text/html": [
       "<div>\n",
       "<style scoped>\n",
       "    .dataframe tbody tr th:only-of-type {\n",
       "        vertical-align: middle;\n",
       "    }\n",
       "\n",
       "    .dataframe tbody tr th {\n",
       "        vertical-align: top;\n",
       "    }\n",
       "\n",
       "    .dataframe thead th {\n",
       "        text-align: right;\n",
       "    }\n",
       "</style>\n",
       "<table border=\"1\" class=\"dataframe\">\n",
       "  <thead>\n",
       "    <tr style=\"text-align: right;\">\n",
       "      <th></th>\n",
       "      <th>MSZoning_1</th>\n",
       "      <th>MSZoning_2</th>\n",
       "      <th>MSZoning_3</th>\n",
       "      <th>LotFrontage</th>\n",
       "      <th>LotArea</th>\n",
       "      <th>LotConfig_4</th>\n",
       "      <th>Condition1_4</th>\n",
       "      <th>OverallQual</th>\n",
       "      <th>OverallCond</th>\n",
       "      <th>YearBuilt</th>\n",
       "      <th>...</th>\n",
       "      <th>FullBath 2ndFlrSF</th>\n",
       "      <th>GarageYrBlt TotRmsAbvGrd</th>\n",
       "      <th>GarageYrBlt FireplaceQu</th>\n",
       "      <th>GarageYrBlt LotArea</th>\n",
       "      <th>YearRemodAdd FireplaceQu</th>\n",
       "      <th>YearRemodAdd LotFrontage</th>\n",
       "      <th>YearRemodAdd 2ndFlrSF</th>\n",
       "      <th>YearRemodAdd LotArea</th>\n",
       "      <th>FireplaceQu LotFrontage</th>\n",
       "      <th>FireplaceQu LotArea</th>\n",
       "    </tr>\n",
       "  </thead>\n",
       "  <tbody>\n",
       "    <tr>\n",
       "      <th>0</th>\n",
       "      <td>1</td>\n",
       "      <td>0</td>\n",
       "      <td>0</td>\n",
       "      <td>0.101323</td>\n",
       "      <td>-0.049306</td>\n",
       "      <td>0</td>\n",
       "      <td>0</td>\n",
       "      <td>7</td>\n",
       "      <td>5</td>\n",
       "      <td>0.604167</td>\n",
       "      <td>...</td>\n",
       "      <td>-0.0</td>\n",
       "      <td>-0.10329</td>\n",
       "      <td>2.272727</td>\n",
       "      <td>-0.028015</td>\n",
       "      <td>0.923077</td>\n",
       "      <td>0.023382</td>\n",
       "      <td>-0.196246</td>\n",
       "      <td>-0.011378</td>\n",
       "      <td>0.405291</td>\n",
       "      <td>-0.197225</td>\n",
       "    </tr>\n",
       "    <tr>\n",
       "      <th>1</th>\n",
       "      <td>1</td>\n",
       "      <td>0</td>\n",
       "      <td>0</td>\n",
       "      <td>-0.246457</td>\n",
       "      <td>0.393612</td>\n",
       "      <td>0</td>\n",
       "      <td>0</td>\n",
       "      <td>5</td>\n",
       "      <td>5</td>\n",
       "      <td>0.375</td>\n",
       "      <td>...</td>\n",
       "      <td>0.850401</td>\n",
       "      <td>43.008314</td>\n",
       "      <td>-0.0</td>\n",
       "      <td>-17.68571</td>\n",
       "      <td>-0.0</td>\n",
       "      <td>0.006319</td>\n",
       "      <td>0.021805</td>\n",
       "      <td>-0.010093</td>\n",
       "      <td>-0.0</td>\n",
       "      <td>0.0</td>\n",
       "    </tr>\n",
       "    <tr>\n",
       "      <th>2</th>\n",
       "      <td>1</td>\n",
       "      <td>0</td>\n",
       "      <td>0</td>\n",
       "      <td>0.471046</td>\n",
       "      <td>0.351032</td>\n",
       "      <td>0</td>\n",
       "      <td>1</td>\n",
       "      <td>6</td>\n",
       "      <td>6</td>\n",
       "      <td>-0.5</td>\n",
       "      <td>...</td>\n",
       "      <td>0.0</td>\n",
       "      <td>-0.293133</td>\n",
       "      <td>-2.545455</td>\n",
       "      <td>-0.223384</td>\n",
       "      <td>-4.410256</td>\n",
       "      <td>-0.519358</td>\n",
       "      <td>-1.197184</td>\n",
       "      <td>-0.387035</td>\n",
       "      <td>1.884183</td>\n",
       "      <td>1.404129</td>\n",
       "    </tr>\n",
       "    <tr>\n",
       "      <th>3</th>\n",
       "      <td>1</td>\n",
       "      <td>0</td>\n",
       "      <td>0</td>\n",
       "      <td>0.559671</td>\n",
       "      <td>0.064978</td>\n",
       "      <td>0</td>\n",
       "      <td>0</td>\n",
       "      <td>8</td>\n",
       "      <td>5</td>\n",
       "      <td>0.520833</td>\n",
       "      <td>...</td>\n",
       "      <td>0.0</td>\n",
       "      <td>0.484191</td>\n",
       "      <td>1.431818</td>\n",
       "      <td>0.031012</td>\n",
       "      <td>0.384615</td>\n",
       "      <td>0.071753</td>\n",
       "      <td>0.188445</td>\n",
       "      <td>0.008331</td>\n",
       "      <td>1.679012</td>\n",
       "      <td>0.194935</td>\n",
       "    </tr>\n",
       "    <tr>\n",
       "      <th>4</th>\n",
       "      <td>0</td>\n",
       "      <td>0</td>\n",
       "      <td>0</td>\n",
       "      <td>-2.481517</td>\n",
       "      <td>-2.468474</td>\n",
       "      <td>0</td>\n",
       "      <td>0</td>\n",
       "      <td>7</td>\n",
       "      <td>5</td>\n",
       "      <td>0.541667</td>\n",
       "      <td>...</td>\n",
       "      <td>0.0</td>\n",
       "      <td>-0.090895</td>\n",
       "      <td>0.0</td>\n",
       "      <td>-1.234237</td>\n",
       "      <td>0.0</td>\n",
       "      <td>-0.381772</td>\n",
       "      <td>0.17819</td>\n",
       "      <td>-0.379765</td>\n",
       "      <td>-0.0</td>\n",
       "      <td>-0.0</td>\n",
       "    </tr>\n",
       "    <tr>\n",
       "      <th>5</th>\n",
       "      <td>1</td>\n",
       "      <td>0</td>\n",
       "      <td>0</td>\n",
       "      <td>0.559671</td>\n",
       "      <td>1.399181</td>\n",
       "      <td>1</td>\n",
       "      <td>0</td>\n",
       "      <td>6</td>\n",
       "      <td>5</td>\n",
       "      <td>-0.125</td>\n",
       "      <td>...</td>\n",
       "      <td>0.850401</td>\n",
       "      <td>-0.10469</td>\n",
       "      <td>-0.909091</td>\n",
       "      <td>-0.317996</td>\n",
       "      <td>-1.74359</td>\n",
       "      <td>-0.243959</td>\n",
       "      <td>0.370688</td>\n",
       "      <td>-0.6099</td>\n",
       "      <td>2.238683</td>\n",
       "      <td>5.596725</td>\n",
       "    </tr>\n",
       "    <tr>\n",
       "      <th>6</th>\n",
       "      <td>1</td>\n",
       "      <td>0</td>\n",
       "      <td>0</td>\n",
       "      <td>0.559671</td>\n",
       "      <td>0.159636</td>\n",
       "      <td>0</td>\n",
       "      <td>0</td>\n",
       "      <td>6</td>\n",
       "      <td>6</td>\n",
       "      <td>-0.375</td>\n",
       "      <td>...</td>\n",
       "      <td>0.850401</td>\n",
       "      <td>-0.507247</td>\n",
       "      <td>-1.5</td>\n",
       "      <td>-0.079818</td>\n",
       "      <td>0.230769</td>\n",
       "      <td>0.043052</td>\n",
       "      <td>-0.065415</td>\n",
       "      <td>0.01228</td>\n",
       "      <td>1.679012</td>\n",
       "      <td>0.478908</td>\n",
       "    </tr>\n",
       "  </tbody>\n",
       "</table>\n",
       "<p>7 rows × 134 columns</p>\n",
       "</div>"
      ],
      "text/plain": [
       "  MSZoning_1 MSZoning_2 MSZoning_3 LotFrontage   LotArea LotConfig_4  \\\n",
       "0          1          0          0    0.101323 -0.049306           0   \n",
       "1          1          0          0   -0.246457  0.393612           0   \n",
       "2          1          0          0    0.471046  0.351032           0   \n",
       "3          1          0          0    0.559671  0.064978           0   \n",
       "4          0          0          0   -2.481517 -2.468474           0   \n",
       "5          1          0          0    0.559671  1.399181           1   \n",
       "6          1          0          0    0.559671  0.159636           0   \n",
       "\n",
       "  Condition1_4 OverallQual OverallCond YearBuilt  ... FullBath 2ndFlrSF  \\\n",
       "0            0           7           5  0.604167  ...              -0.0   \n",
       "1            0           5           5     0.375  ...          0.850401   \n",
       "2            1           6           6      -0.5  ...               0.0   \n",
       "3            0           8           5  0.520833  ...               0.0   \n",
       "4            0           7           5  0.541667  ...               0.0   \n",
       "5            0           6           5    -0.125  ...          0.850401   \n",
       "6            0           6           6    -0.375  ...          0.850401   \n",
       "\n",
       "  GarageYrBlt TotRmsAbvGrd GarageYrBlt FireplaceQu GarageYrBlt LotArea  \\\n",
       "0                 -0.10329                2.272727           -0.028015   \n",
       "1                43.008314                    -0.0           -17.68571   \n",
       "2                -0.293133               -2.545455           -0.223384   \n",
       "3                 0.484191                1.431818            0.031012   \n",
       "4                -0.090895                     0.0           -1.234237   \n",
       "5                 -0.10469               -0.909091           -0.317996   \n",
       "6                -0.507247                    -1.5           -0.079818   \n",
       "\n",
       "  YearRemodAdd FireplaceQu YearRemodAdd LotFrontage YearRemodAdd 2ndFlrSF  \\\n",
       "0                 0.923077                 0.023382             -0.196246   \n",
       "1                     -0.0                 0.006319              0.021805   \n",
       "2                -4.410256                -0.519358             -1.197184   \n",
       "3                 0.384615                 0.071753              0.188445   \n",
       "4                      0.0                -0.381772               0.17819   \n",
       "5                 -1.74359                -0.243959              0.370688   \n",
       "6                 0.230769                 0.043052             -0.065415   \n",
       "\n",
       "  YearRemodAdd LotArea FireplaceQu LotFrontage FireplaceQu LotArea  \n",
       "0            -0.011378                0.405291           -0.197225  \n",
       "1            -0.010093                    -0.0                 0.0  \n",
       "2            -0.387035                1.884183            1.404129  \n",
       "3             0.008331                1.679012            0.194935  \n",
       "4            -0.379765                    -0.0                -0.0  \n",
       "5              -0.6099                2.238683            5.596725  \n",
       "6              0.01228                1.679012            0.478908  \n",
       "\n",
       "[7 rows x 134 columns]"
      ]
     },
     "execution_count": 116,
     "metadata": {},
     "output_type": "execute_result"
    }
   ],
   "source": [
    "# making a new Data Frame from the selected features from model \n",
    "# and given them back their column names\n",
    "\n",
    "x_tr_selection_df = pd.DataFrame( x_tr_selection, columns=names_selected)\n",
    "x_tr_selection_df.head(7)"
   ]
  },
  {
   "cell_type": "code",
   "execution_count": null,
   "id": "3c588bba-20c9-470c-95d0-04f8664637a3",
   "metadata": {},
   "outputs": [],
   "source": []
  },
  {
   "cell_type": "code",
   "execution_count": 117,
   "id": "5b56c455-2c46-44c4-b8cc-1f276a623e7c",
   "metadata": {},
   "outputs": [],
   "source": [
    "tem01 = x_tr_selection_df.copy()"
   ]
  },
  {
   "cell_type": "code",
   "execution_count": 118,
   "id": "6fee3a26-1831-420a-b893-998ee2f16ad2",
   "metadata": {},
   "outputs": [
    {
     "data": {
      "text/plain": [
       "91"
      ]
     },
     "execution_count": 118,
     "metadata": {},
     "output_type": "execute_result"
    }
   ],
   "source": [
    "g70 = tem01.columns[ tem01.describe().loc['unique'] > 70]\n",
    "len(g70)"
   ]
  },
  {
   "cell_type": "code",
   "execution_count": 119,
   "id": "a148439e-0547-48f6-b903-5a6a9eb1a057",
   "metadata": {},
   "outputs": [],
   "source": [
    "prueba = corr_pair(tem01.astype(float), g70)"
   ]
  },
  {
   "cell_type": "code",
   "execution_count": 120,
   "id": "171f07dd-c930-4ed5-9fac-7bc80316280e",
   "metadata": {},
   "outputs": [
    {
     "data": {
      "text/plain": [
       "(pandas.core.series.Series, 149, (149,))"
      ]
     },
     "execution_count": 120,
     "metadata": {},
     "output_type": "execute_result"
    }
   ],
   "source": [
    "type(prueba), len(prueba), prueba.shape"
   ]
  },
  {
   "cell_type": "code",
   "execution_count": null,
   "id": "c874ec99-5905-43ac-8388-bf056316ade2",
   "metadata": {},
   "outputs": [],
   "source": []
  },
  {
   "cell_type": "code",
   "execution_count": 121,
   "id": "3edb0181-1dae-462b-b759-37b06754cb56",
   "metadata": {},
   "outputs": [
    {
     "name": "stdout",
     "output_type": "stream",
     "text": [
      "OverallQual GarageYrBlt    GarageYrBlt                 0.989503\n",
      "OverallQual LotArea        LotArea                     0.983181\n",
      "OverallQual YearBuilt      YearBuilt                   0.982673\n",
      "BsmtQual GarageYrBlt       GarageYrBlt                 0.979780\n",
      "TotalSF OverallQual        TotalSF                     0.976835\n",
      "YearBuilt BsmtQual         OverallQual YearBuilt       0.976123\n",
      "BsmtQual GarageYrBlt       OverallQual GarageYrBlt     0.975728\n",
      "GrLivArea BsmtQual         OverallQual GrLivArea       0.973524\n",
      "TotalSF ExterQual          TotalSF OverallQual         0.973090\n",
      "YearBuilt BsmtQual         YearBuilt                   0.970561\n",
      "ExterQual YearRemodAdd     OverallQual YearRemodAdd    0.968179\n",
      "GarageArea BsmtQual        GarageArea                  0.964111\n",
      "GarageArea ExterQual       GarageArea BsmtQual         0.963422\n",
      "ExterQual LotArea          KitchenQual LotArea         0.962716\n",
      "                           OverallQual LotArea         0.962096\n",
      "TotalSF ExterQual          TotalSF KitchenQual         0.961586\n",
      "KitchenQual LotArea        OverallQual LotArea         0.959961\n",
      "BsmtQual YearRemodAdd      OverallQual YearRemodAdd    0.959898\n",
      "TotalSF BsmtQual           TotalSF OverallQual         0.959396\n",
      "GarageArea ExterQual       GarageArea KitchenQual      0.958865\n",
      "TotalSF KitchenQual        TotalSF OverallQual         0.958537\n",
      "GrLivArea KitchenQual      OverallQual GrLivArea       0.952459\n",
      "GarageArea BsmtQual        GarageArea KitchenQual      0.952234\n",
      "TotalSF ExterQual          TotalSF                     0.945221\n",
      "ExterQual YearRemodAdd     BsmtQual YearRemodAdd       0.943767\n",
      "TotalSF ExterQual          TotalSF BsmtQual            0.943601\n",
      "YearBuilt KitchenQual      OverallQual YearBuilt       0.942041\n",
      "ExterQual 2ndFlrSF         2ndFlrSF                    0.939024\n",
      "KitchenQual LotArea        LotArea                     0.938984\n",
      "ExterQual LotArea          LotArea                     0.938698\n",
      "ExterQual YearRemodAdd     KitchenQual YearRemodAdd    0.938044\n",
      "TotalSF GarageFinish       TotalSF OverallQual         0.937740\n",
      "KitchenQual YearRemodAdd   OverallQual YearRemodAdd    0.936773\n",
      "GrLivArea BsmtQual         GrLivArea KitchenQual       0.936400\n",
      "GarageArea ExterQual       GarageArea                  0.935336\n",
      "GrLivArea GarageFinish     OverallQual GrLivArea       0.929583\n",
      "YearBuilt BsmtQual         YearBuilt KitchenQual       0.929150\n",
      "TotalSF KitchenQual        TotalSF                     0.928181\n",
      "GrLivArea 2ndFlrSF         TotalSF 2ndFlrSF            0.927822\n",
      "YearBuilt KitchenQual      YearBuilt                   0.927031\n",
      "YearBuilt GarageFinish     YearBuilt BsmtQual          0.926420\n",
      "TotalSF GarageFinish       TotalSF ExterQual           0.926299\n",
      "GarageFinish 2ndFlrSF      ExterQual 2ndFlrSF          0.925484\n",
      "TotalSF BsmtQual           TotalSF KitchenQual         0.924983\n",
      "KitchenQual GarageYrBlt    GarageYrBlt                 0.924251\n",
      "YearBuilt GarageFinish     OverallQual YearBuilt       0.923712\n",
      "KitchenQual GarageYrBlt    OverallQual GarageYrBlt     0.923556\n",
      "GarageArea KitchenQual     GarageArea                  0.922950\n",
      "TotalSF BsmtQual           TotalSF                     0.922544\n",
      "BsmtQual GarageYrBlt       KitchenQual GarageYrBlt     0.922342\n",
      "TotalSF GarageFinish       TotalSF KitchenQual         0.919798\n",
      "GrLivArea GarageFinish     GrLivArea BsmtQual          0.919165\n",
      "BsmtQual YearRemodAdd      KitchenQual YearRemodAdd    0.913500\n",
      "TotalSF GarageFinish       TotalSF BsmtQual            0.913216\n",
      "GarageFinish 2ndFlrSF      2ndFlrSF                    0.912604\n",
      "YearBuilt GarageFinish     YearBuilt                   0.912285\n",
      "TotalSF GarageFinish       TotalSF                     0.908439\n",
      "GarageFinish LotArea       ExterQual LotArea           0.906927\n",
      "GarageFinish YearRemodAdd  OverallQual YearRemodAdd    0.904905\n",
      "GarageArea GarageFinish    GarageArea ExterQual        0.902838\n",
      "GarageFinish GarageYrBlt   YearBuilt GarageFinish      0.902202\n",
      "GrLivArea GarageFinish     GrLivArea KitchenQual       0.902086\n",
      "GarageFinish LotArea       OverallQual LotArea         0.901399\n",
      "                           LotArea                     0.900975\n",
      "GarageFinish YearRemodAdd  ExterQual YearRemodAdd      0.897963\n",
      "GarageArea GarageFinish    GarageArea KitchenQual      0.896419\n",
      "YearBuilt GarageFinish     YearBuilt KitchenQual       0.894804\n",
      "GarageFinish YearRemodAdd  BsmtQual YearRemodAdd       0.891183\n",
      "GarageArea GarageFinish    GarageArea BsmtQual         0.889298\n",
      "GarageFinish LotArea       KitchenQual LotArea         0.884566\n",
      "GarageFinish YearRemodAdd  KitchenQual YearRemodAdd    0.874458\n",
      "GrLivArea 1stFlrSF         TotalSF 1stFlrSF            0.868631\n",
      "GrLivArea BsmtQual         TotalSF BsmtQual            0.863888\n",
      "GarageArea GarageFinish    GarageArea                  0.861370\n",
      "GrLivArea KitchenQual      TotalSF KitchenQual         0.855918\n",
      "OverallQual GrLivArea      TotalSF OverallQual         0.853554\n",
      "GrLivArea GarageFinish     TotalSF GarageFinish        0.850240\n",
      "TotalBsmtSF 1stFlrSF       TotalSF 1stFlrSF            0.846472\n",
      "OverallQual GrLivArea      TotalSF BsmtQual            0.845319\n",
      "                           TotalSF                     0.842908\n",
      "GarageFinish GarageYrBlt   YearBuilt BsmtQual          0.837091\n",
      "                           OverallQual YearBuilt       0.833420\n",
      "1stFlrSF 2ndFlrSF          TotalSF 2ndFlrSF            0.831892\n",
      "GrLivArea YearBuilt        TotalSF YearBuilt           0.830192\n",
      "TotalSF GarageCars         TotalSF GarageArea          0.826579\n",
      "GrLivArea FireplaceQu      TotalSF FireplaceQu         0.826203\n",
      "GrLivArea KitchenQual      TotalSF OverallQual         0.825847\n",
      "GrLivArea BsmtQual         TotalSF OverallQual         0.824520\n",
      "GrLivArea YearRemodAdd     TotalSF YearRemodAdd        0.823916\n",
      "GrLivArea KitchenQual      TotalSF BsmtQual            0.822420\n",
      "OverallQual GrLivArea      TotalSF ExterQual           0.819688\n",
      "GrLivArea KitchenQual      TotalSF ExterQual           0.817424\n",
      "TotalSF GarageYrBlt        GarageYrBlt                 0.816636\n",
      "GarageFinish GarageYrBlt   YearBuilt KitchenQual       0.816297\n",
      "GrLivArea BsmtQual         TotalSF                     0.812023\n",
      "OverallQual GrLivArea      TotalSF KitchenQual         0.808526\n",
      "GrLivArea KitchenQual      TotalSF                     0.806109\n",
      "TotalSF FireplaceQu        TotalSF OverallQual         0.805437\n",
      "                           TotalSF BsmtQual            0.804369\n",
      "GarageFinish GarageYrBlt   YearBuilt                   0.803494\n",
      "TotalSF FireplaceQu        TotalSF ExterQual           0.800633\n",
      "GrLivArea BsmtQual         TotalSF ExterQual           0.800280\n",
      "TotalSF FireplaceQu        TotalSF GarageFinish        0.799570\n",
      "OverallQual GrLivArea      TotalSF GarageFinish        0.798139\n",
      "1stFlrSF 2ndFlrSF          GrLivArea 2ndFlrSF          0.796736\n",
      "GrLivArea GarageFinish     TotalSF BsmtQual            0.796126\n",
      "                           TotalSF OverallQual         0.795066\n",
      "GarageCars LotArea         GarageArea LotArea          0.794733\n",
      "TotalSF FireplaceQu        TotalSF KitchenQual         0.794578\n",
      "GrLivArea FireplaceQu      OverallQual GrLivArea       0.792792\n",
      "GrLivArea 1stFlrSF         TotalSF GrLivArea           0.792595\n",
      "FireplaceQu LotArea        GarageFinish LotArea        0.790379\n",
      "GrLivArea KitchenQual      TotalSF GarageFinish        0.787811\n",
      "GrLivArea BsmtQual         TotalSF KitchenQual         0.786854\n",
      "                           TotalSF GarageFinish        0.781700\n",
      "OverallQual GarageYrBlt    TotalSF GarageYrBlt         0.781033\n",
      "GrLivArea FireplaceQu      GrLivArea KitchenQual       0.780944\n",
      "FireplaceQu LotArea        OverallQual LotArea         0.780935\n",
      "GrLivArea FireplaceQu      GrLivArea BsmtQual          0.778983\n",
      "TotalSF OverallQual        TotalBsmtSF                 0.778022\n",
      "GrLivArea FireplaceQu      GrLivArea GarageFinish      0.776963\n",
      "GrLivArea GarageFinish     TotalSF                     0.775935\n",
      "                           TotalSF ExterQual           0.775753\n",
      "KitchenQual GarageYrBlt    TotalSF GarageYrBlt         0.773162\n",
      "TotalSF                    TotalBsmtSF                 0.772616\n",
      "FireplaceQu LotArea        KitchenQual LotArea         0.768637\n",
      "TotalSF ExterQual          TotalBsmtSF                 0.768282\n",
      "GrLivArea GarageFinish     TotalSF KitchenQual         0.768031\n",
      "FireplaceQu LotArea        LotArea                     0.766090\n",
      "GarageCars 1stFlrSF        TotalSF GarageCars          0.762404\n",
      "FireplaceQu LotArea        ExterQual LotArea           0.758980\n",
      "TotalSF KitchenQual        TotalBsmtSF                 0.754240\n",
      "GarageArea TotalBsmtSF     TotalSF GarageArea          0.748423\n",
      "1stFlrSF TotRmsAbvGrd      GrLivArea 1stFlrSF          0.747610\n",
      "GrLivArea TotRmsAbvGrd     TotalSF GrLivArea           0.743535\n",
      "TotalSF FireplaceQu        TotalSF                     0.737142\n",
      "TotalSF GarageFinish       TotalBsmtSF                 0.735439\n",
      "GarageYrBlt TotRmsAbvGrd   TotalSF GarageYrBlt         0.733957\n",
      "BsmtQual GarageYrBlt       TotalSF GarageYrBlt         0.732955\n",
      "YearBuilt FireplaceQu      OverallQual YearBuilt       0.731875\n",
      "FireplaceQu LotFrontage    LotFrontage                 0.731485\n",
      "GarageFinish YearRemodAdd  GarageFinish GarageYrBlt    0.727486\n",
      "1stFlrSF FullBath          TotalSF FullBath            0.725478\n",
      "GarageFinish GarageYrBlt   ExterQual YearRemodAdd      0.716101\n",
      "YearBuilt FireplaceQu      YearBuilt BsmtQual          0.714655\n",
      "TotalSF BsmtQual           TotalBsmtSF                 0.712503\n",
      "YearBuilt FireplaceQu      YearBuilt KitchenQual       0.710432\n",
      "                           YearBuilt GarageFinish      0.705838\n",
      "GarageFinish YearRemodAdd  YearBuilt GarageFinish      0.702037\n"
     ]
    }
   ],
   "source": [
    "print(prueba.to_string())"
   ]
  },
  {
   "cell_type": "code",
   "execution_count": null,
   "id": "fbaba436-7091-4869-b293-136bdccb4333",
   "metadata": {},
   "outputs": [],
   "source": []
  },
  {
   "cell_type": "code",
   "execution_count": 47,
   "id": "ab83838c-aca5-4434-aea1-74b9b54dd845",
   "metadata": {},
   "outputs": [
    {
     "data": {
      "text/html": [
       "<div>\n",
       "<style scoped>\n",
       "    .dataframe tbody tr th:only-of-type {\n",
       "        vertical-align: middle;\n",
       "    }\n",
       "\n",
       "    .dataframe tbody tr th {\n",
       "        vertical-align: top;\n",
       "    }\n",
       "\n",
       "    .dataframe thead th {\n",
       "        text-align: right;\n",
       "    }\n",
       "</style>\n",
       "<table border=\"1\" class=\"dataframe\">\n",
       "  <thead>\n",
       "    <tr style=\"text-align: right;\">\n",
       "      <th></th>\n",
       "      <th>0</th>\n",
       "      <th>1</th>\n",
       "      <th>2</th>\n",
       "      <th>3</th>\n",
       "      <th>4</th>\n",
       "      <th>5</th>\n",
       "      <th>6</th>\n",
       "      <th>7</th>\n",
       "      <th>8</th>\n",
       "      <th>9</th>\n",
       "      <th>...</th>\n",
       "      <th>124</th>\n",
       "      <th>125</th>\n",
       "      <th>126</th>\n",
       "      <th>127</th>\n",
       "      <th>128</th>\n",
       "      <th>129</th>\n",
       "      <th>130</th>\n",
       "      <th>131</th>\n",
       "      <th>132</th>\n",
       "      <th>133</th>\n",
       "    </tr>\n",
       "  </thead>\n",
       "  <tbody>\n",
       "    <tr>\n",
       "      <th>unique</th>\n",
       "      <td>2</td>\n",
       "      <td>2</td>\n",
       "      <td>2</td>\n",
       "      <td>103.0</td>\n",
       "      <td>815.0</td>\n",
       "      <td>2</td>\n",
       "      <td>2</td>\n",
       "      <td>8</td>\n",
       "      <td>8</td>\n",
       "      <td>105.0</td>\n",
       "      <td>...</td>\n",
       "      <td>124.0</td>\n",
       "      <td>372.0</td>\n",
       "      <td>147.0</td>\n",
       "      <td>999.0</td>\n",
       "      <td>107.0</td>\n",
       "      <td>674.0</td>\n",
       "      <td>498.0</td>\n",
       "      <td>990.0</td>\n",
       "      <td>188.0</td>\n",
       "      <td>513.0</td>\n",
       "    </tr>\n",
       "  </tbody>\n",
       "</table>\n",
       "<p>1 rows × 134 columns</p>\n",
       "</div>"
      ],
      "text/plain": [
       "        0    1    2      3      4    5    6    7    8      9    ...    124  \\\n",
       "unique    2    2    2  103.0  815.0    2    2    8    8  105.0  ...  124.0   \n",
       "\n",
       "          125    126    127    128    129    130    131    132    133  \n",
       "unique  372.0  147.0  999.0  107.0  674.0  498.0  990.0  188.0  513.0  \n",
       "\n",
       "[1 rows x 134 columns]"
      ]
     },
     "execution_count": 47,
     "metadata": {},
     "output_type": "execute_result"
    }
   ],
   "source": [
    "tem01.describe().loc[['unique']]"
   ]
  },
  {
   "cell_type": "code",
   "execution_count": 76,
   "id": "1f143099-ee16-42cd-bb0a-178ebda159a2",
   "metadata": {},
   "outputs": [],
   "source": [
    "del g10"
   ]
  },
  {
   "cell_type": "code",
   "execution_count": 104,
   "id": "09d12283-6d8c-428b-8f0d-79da524fe9be",
   "metadata": {},
   "outputs": [],
   "source": [
    "def corr_pair(df, cols, threshold = 0.7):\n",
    "    '''\n",
    "    function that calculate the corrolation of features\n",
    "    and filtering just unique pairs \n",
    "    '''\n",
    "\n",
    "    corr = df[cols].corr().abs()\n",
    "\n",
    "    # creating a matrix same size matrix as 'tr'\n",
    "    # [1 1 1]\n",
    "    # [1 1 1]\n",
    "    # [1 1 1]\n",
    "    temp_matrix = np.ones(corr.shape)\n",
    "\n",
    "    # selecting the upper triagle of the matrix\n",
    "    # excluting the diagonal\n",
    "    # [0 1 1]\n",
    "    # [0 0 1]\n",
    "    # [0 0 0]\n",
    "    upper_tri = np.triu(temp_matrix, k=1)\n",
    "\n",
    "    # converting to booleans\n",
    "    # [FALSE TRUE TRUE]\n",
    "    # [FALSE FLASE TRUE]\n",
    "    # [FALSE FALSE FALSE]\n",
    "    uppper_tri_bool = upper_tri.astype( bool )\n",
    "\n",
    "    # filterin the corroletion matrix\n",
    "    upper_corr = corr.where( uppper_tri_bool )\n",
    "\n",
    "    unique_corr_pair = upper_corr.unstack().dropna()\n",
    "    sorted_pairs = unique_corr_pair.sort_values(ascending=False)\n",
    "\n",
    "    return sorted_pairs[ sorted_pairs > threshold ].copy()"
   ]
  },
  {
   "cell_type": "code",
   "execution_count": null,
   "id": "207756e1-2a47-4e2c-b49f-aef0ae291195",
   "metadata": {},
   "outputs": [],
   "source": []
  }
 ],
 "metadata": {
  "kernelspec": {
   "display_name": "Python 3",
   "language": "python",
   "name": "python3"
  },
  "language_info": {
   "codemirror_mode": {
    "name": "ipython",
    "version": 3
   },
   "file_extension": ".py",
   "mimetype": "text/x-python",
   "name": "python",
   "nbconvert_exporter": "python",
   "pygments_lexer": "ipython3",
   "version": "3.9.16"
  }
 },
 "nbformat": 4,
 "nbformat_minor": 5
}
