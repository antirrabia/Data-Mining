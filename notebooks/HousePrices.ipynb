{
 "cells": [
  {
   "cell_type": "code",
   "execution_count": 1,
   "id": "f096994f",
   "metadata": {},
   "outputs": [],
   "source": [
    "from sklearn.linear_model import LinearRegression\n",
    "\n",
    "import matplotlib.pyplot as plt\n",
    "import seaborn as sns\n",
    "import pandas as pd\n",
    "import numpy as np"
   ]
  },
  {
   "cell_type": "code",
   "execution_count": 2,
   "id": "c21fddeb",
   "metadata": {},
   "outputs": [],
   "source": [
    "d_tr = pd.read_csv('/Users/antirrabia/Documents/01-GitHub/DataMining-_-/CSV/HousePrices/train.csv', index_col='Id')\n",
    "d_te = pd.read_csv('/Users/antirrabia/Documents/01-GitHub/DataMining-_-/CSV/HousePrices/test.csv', index_col='Id')"
   ]
  },
  {
   "cell_type": "code",
   "execution_count": 3,
   "id": "64ca2b90",
   "metadata": {},
   "outputs": [],
   "source": [
    "y = d_tr.SalePrice.copy()\n",
    "d_tr = d_tr.drop(columns='SalePrice').copy()\n",
    "\n",
    "# d_tr = (1460, 80) , d_te = (1459, 79) = 2919\n",
    "full = pd.concat([d_tr, d_te])#.reset_index()\n",
    "# full.set_index('Id', inplace=True)"
   ]
  },
  {
   "cell_type": "code",
   "execution_count": 4,
   "id": "675203fb",
   "metadata": {},
   "outputs": [
    {
     "data": {
      "image/png": "[encoded data removed]",
      "text/plain": [
       "<Figure size 432x288 with 1 Axes>"
      ]
     },
     "metadata": {
      "needs_background": "light"
     },
     "output_type": "display_data"
    }
   ],
   "source": [
    "neighbor = ['IDOTRR', 'Mitchel']\n",
    "plot_data = full[full['Neighborhood'].isin(neighbor)]\n",
    "\n",
    "sns.histplot(data=plot_data, x='MSZoning', hue='Neighborhood', multiple='dodge', shrink=.9);"
   ]
  },
  {
   "cell_type": "code",
   "execution_count": null,
   "id": "6f40df86",
   "metadata": {},
   "outputs": [],
   "source": []
  },
  {
   "cell_type": "code",
   "execution_count": null,
   "id": "56ecd158",
   "metadata": {},
   "outputs": [],
   "source": [
    "full.GarageCond"
   ]
  },
  {
   "cell_type": "code",
   "execution_count": 49,
   "id": "907ceb28",
   "metadata": {},
   "outputs": [],
   "source": [
    "def fillWithNone(df):\n",
    "    ''' nan in 'PoolQC' means 'no pool' \n",
    "        nan in 'MiscFeature' means 'no misc feature'\n",
    "        nan in 'Alley' means 'no alley acces'\n",
    "        nan in 'Fence' means 'no fence'\n",
    "        nan in 'FireplaceQu' means 'no Fireplace'\n",
    "        nan in 'GarageType', 'GarageFinish', 'GarageQual',\n",
    "        'GarageCond' replaced with 'None' too\n",
    "    \n",
    "    recive a df\n",
    "    '''\n",
    "    df = df.copy()\n",
    "    \n",
    "    columns = ['PoolQC', 'MiscFeature', 'Alley', 'Fence', \n",
    "               'FireplaceQu', 'GarageType', 'GarageFinish', \n",
    "               'GarageQual', 'GarageCond'\n",
    "              ]\n",
    "    \n",
    "    for col in columns:\n",
    "        df[col] = df[col].fillna('None')\n",
    "    \n",
    "    return df\n",
    "\n",
    "\n",
    "\n",
    "def mszoning(df):\n",
    "    ''' recives a DF this imputation takes place on test data only'''\n",
    "    \n",
    "    df = df.copy()\n",
    "    \n",
    "    idotrr = ( (df['Neighborhood'] == 'IDOTRR') & (df['MSZoning'].isna()) )\n",
    "    mitchel = ( (df['Neighborhood'] == 'Mitchel') & (df['MSZoning'].isna()) )\n",
    "    \n",
    "    df.loc[ idotrr , 'MSZoning'] = 'RM'\n",
    "    df.loc[ mitchel, 'MSZoning'] = 'RL'\n",
    "    \n",
    "#     # to test this function out of here\n",
    "#     temp = mszoning(d_te)\n",
    "#     # lable index acces at [1916, 2217, 2251, 2905\n",
    "#     temp.loc[[1916, 2217, 2251, 2905], 'MSZoning']\n",
    "    \n",
    "    return df\n",
    "\n",
    "def lotFrontage(df):\n",
    "    ''' recives a DF the imputation takes place on both 'tr', 'te' data'''\n",
    "    df = df.copy()\n",
    "    \n",
    "    area_vs_frontage = LinearRegression()\n",
    "    \n",
    "    X = df['LotArea'].values#.reshape(-1,1)\n",
    "    y = df['LotFrontage'].values\n",
    "    \n",
    "    area_vs_frontage.fit(X, y)\n",
    "    \n",
    "    \n",
    "    "
   ]
  },
  {
   "cell_type": "code",
   "execution_count": null,
   "id": "99a5227d",
   "metadata": {},
   "outputs": [],
   "source": [
    "area_vs_frontage = LinearRegression()\n",
    "area_vs_frontage_X = data['LotArea'].values.reshape(-1, 1)\n",
    "area_vs_frontage_y = data['LotFrontage'].values\n",
    "area_vs_frontage.fit(area_vs_frontage_X,area_vs_frontage_y)\n",
    "for table in [df,test]:\n",
    "    table['LotFrontage'].fillna(area_vs_frontage.intercept_ + \n",
    "                                table['LotArea'] * area_vs_frontage.coef_[0] \n",
    "                                , inplace=True)"
   ]
  },
  {
   "cell_type": "code",
   "execution_count": 17,
   "id": "dfac5dd7",
   "metadata": {},
   "outputs": [
    {
     "data": {
      "image/png": "[encoded data removed]",
      "text/plain": [
       "<Figure size 432x288 with 1 Axes>"
      ]
     },
     "metadata": {
      "needs_background": "light"
     },
     "output_type": "display_data"
    }
   ],
   "source": [
    "full.MSZoning.hist(bins=30);"
   ]
  },
  {
   "cell_type": "code",
   "execution_count": 13,
   "id": "0f2eb942",
   "metadata": {},
   "outputs": [
    {
     "data": {
      "image/png": "[encoded data removed]",
      "text/plain": [
       "<Figure size 432x288 with 36 Axes>"
      ]
     },
     "metadata": {
      "needs_background": "light"
     },
     "output_type": "display_data"
    }
   ],
   "source": [
    "fig = full.hist(xlabelsize=4,ylabelsize=4)\n",
    "[x.title.set_size(4) for x in fig.ravel()]\n",
    "plt.show()"
   ]
  },
  {
   "cell_type": "code",
   "execution_count": null,
   "id": "dd9d4dc2",
   "metadata": {},
   "outputs": [],
   "source": []
  }
 ],
 "metadata": {
  "kernelspec": {
   "display_name": "Python 3 (ipykernel)",
   "language": "python",
   "name": "python3"
  },
  "language_info": {
   "codemirror_mode": {
    "name": "ipython",
    "version": 3
   },
   "file_extension": ".py",
   "mimetype": "text/x-python",
   "name": "python",
   "nbconvert_exporter": "python",
   "pygments_lexer": "ipython3",
   "version": "3.8.12"
  }
 },
 "nbformat": 4,
 "nbformat_minor": 5
}
