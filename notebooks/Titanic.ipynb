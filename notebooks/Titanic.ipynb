{
 "cells": [
  {
   "cell_type": "code",
   "execution_count": 1,
   "id": "ec2fdcf2",
   "metadata": {},
   "outputs": [],
   "source": [
    "from sklearn.experimental import enable_iterative_imputer\n",
    "\n",
    "from sklearn.linear_model import LogisticRegression\n",
    "from sklearn.ensemble import RandomForestClassifier, GradientBoostingClassifier\n",
    "from sklearn.model_selection import train_test_split, RandomizedSearchCV, GridSearchCV\n",
    "from sklearn.model_selection import cross_val_score, RepeatedStratifiedKFold\n",
    "from sklearn.preprocessing import OneHotEncoder, FunctionTransformer\n",
    "from sklearn.pipeline import Pipeline\n",
    "from sklearn.compose import ColumnTransformer\n",
    "from sklearn.impute import IterativeImputer, KNNImputer\n",
    "\n",
    "import matplotlib.pyplot as plt\n",
    "import seaborn as sns\n",
    "import pandas as pd\n",
    "import numpy as np"
   ]
  },
  {
   "cell_type": "code",
   "execution_count": 2,
   "id": "8fb36890",
   "metadata": {},
   "outputs": [],
   "source": [
    "d_tr = pd.read_csv('/Users/antirrabia/Documents/01-GitHub/DataMining-_-/CSV/Titanic/train.csv', index_col='PassengerId')\n",
    "d_te = pd.read_csv('/Users/antirrabia/Documents/01-GitHub/DataMining-_-/CSV/Titanic/test.csv', index_col=0)"
   ]
  },
  {
   "cell_type": "markdown",
   "id": "f5c99580",
   "metadata": {},
   "source": [
    "### Cleaning and preparing data"
   ]
  },
  {
   "cell_type": "code",
   "execution_count": 4,
   "id": "5691fe94",
   "metadata": {},
   "outputs": [
    {
     "data": {
      "text/html": [
       "<div>\n",
       "<style scoped>\n",
       "    .dataframe tbody tr th:only-of-type {\n",
       "        vertical-align: middle;\n",
       "    }\n",
       "\n",
       "    .dataframe tbody tr th {\n",
       "        vertical-align: top;\n",
       "    }\n",
       "\n",
       "    .dataframe thead th {\n",
       "        text-align: right;\n",
       "    }\n",
       "</style>\n",
       "<table border=\"1\" class=\"dataframe\">\n",
       "  <thead>\n",
       "    <tr style=\"text-align: right;\">\n",
       "      <th></th>\n",
       "      <th>Sex_female</th>\n",
       "      <th>Sex_male</th>\n",
       "      <th>Title_Master</th>\n",
       "      <th>Title_Miss</th>\n",
       "      <th>Title_Mr</th>\n",
       "      <th>Title_Mrs</th>\n",
       "      <th>Title_Other</th>\n",
       "      <th>Survived</th>\n",
       "      <th>Pclass</th>\n",
       "      <th>Age</th>\n",
       "      <th>Fare</th>\n",
       "      <th>Embarked</th>\n",
       "      <th>IsAlone</th>\n",
       "    </tr>\n",
       "  </thead>\n",
       "  <tbody>\n",
       "    <tr>\n",
       "      <th>604</th>\n",
       "      <td>0.0</td>\n",
       "      <td>1.0</td>\n",
       "      <td>0.0</td>\n",
       "      <td>0.0</td>\n",
       "      <td>1.0</td>\n",
       "      <td>0.0</td>\n",
       "      <td>0.0</td>\n",
       "      <td>1</td>\n",
       "      <td>1</td>\n",
       "      <td>4.0</td>\n",
       "      <td>2</td>\n",
       "      <td>1.0</td>\n",
       "      <td>1</td>\n",
       "    </tr>\n",
       "    <tr>\n",
       "      <th>149</th>\n",
       "      <td>0.0</td>\n",
       "      <td>1.0</td>\n",
       "      <td>0.0</td>\n",
       "      <td>0.0</td>\n",
       "      <td>0.0</td>\n",
       "      <td>0.0</td>\n",
       "      <td>1.0</td>\n",
       "      <td>0</td>\n",
       "      <td>2</td>\n",
       "      <td>4.0</td>\n",
       "      <td>1</td>\n",
       "      <td>0.0</td>\n",
       "      <td>1</td>\n",
       "    </tr>\n",
       "    <tr>\n",
       "      <th>567</th>\n",
       "      <td>1.0</td>\n",
       "      <td>0.0</td>\n",
       "      <td>0.0</td>\n",
       "      <td>0.0</td>\n",
       "      <td>0.0</td>\n",
       "      <td>1.0</td>\n",
       "      <td>0.0</td>\n",
       "      <td>0</td>\n",
       "      <td>3</td>\n",
       "      <td>3.0</td>\n",
       "      <td>2</td>\n",
       "      <td>0.0</td>\n",
       "      <td>0</td>\n",
       "    </tr>\n",
       "    <tr>\n",
       "      <th>587</th>\n",
       "      <td>0.0</td>\n",
       "      <td>1.0</td>\n",
       "      <td>0.0</td>\n",
       "      <td>0.0</td>\n",
       "      <td>1.0</td>\n",
       "      <td>0.0</td>\n",
       "      <td>0.0</td>\n",
       "      <td>1</td>\n",
       "      <td>1</td>\n",
       "      <td>5.0</td>\n",
       "      <td>3</td>\n",
       "      <td>1.0</td>\n",
       "      <td>0</td>\n",
       "    </tr>\n",
       "    <tr>\n",
       "      <th>241</th>\n",
       "      <td>1.0</td>\n",
       "      <td>0.0</td>\n",
       "      <td>0.0</td>\n",
       "      <td>1.0</td>\n",
       "      <td>0.0</td>\n",
       "      <td>0.0</td>\n",
       "      <td>0.0</td>\n",
       "      <td>1</td>\n",
       "      <td>3</td>\n",
       "      <td>NaN</td>\n",
       "      <td>2</td>\n",
       "      <td>2.0</td>\n",
       "      <td>0</td>\n",
       "    </tr>\n",
       "    <tr>\n",
       "      <th>369</th>\n",
       "      <td>1.0</td>\n",
       "      <td>0.0</td>\n",
       "      <td>0.0</td>\n",
       "      <td>0.0</td>\n",
       "      <td>0.0</td>\n",
       "      <td>1.0</td>\n",
       "      <td>0.0</td>\n",
       "      <td>1</td>\n",
       "      <td>1</td>\n",
       "      <td>3.0</td>\n",
       "      <td>3</td>\n",
       "      <td>1.0</td>\n",
       "      <td>1</td>\n",
       "    </tr>\n",
       "    <tr>\n",
       "      <th>799</th>\n",
       "      <td>1.0</td>\n",
       "      <td>0.0</td>\n",
       "      <td>0.0</td>\n",
       "      <td>0.0</td>\n",
       "      <td>0.0</td>\n",
       "      <td>1.0</td>\n",
       "      <td>0.0</td>\n",
       "      <td>0</td>\n",
       "      <td>3</td>\n",
       "      <td>3.0</td>\n",
       "      <td>2</td>\n",
       "      <td>0.0</td>\n",
       "      <td>0</td>\n",
       "    </tr>\n",
       "  </tbody>\n",
       "</table>\n",
       "</div>"
      ],
      "text/plain": [
       "    Sex_female Sex_male Title_Master Title_Miss Title_Mr Title_Mrs  \\\n",
       "604        0.0      1.0          0.0        0.0      1.0       0.0   \n",
       "149        0.0      1.0          0.0        0.0      0.0       0.0   \n",
       "567        1.0      0.0          0.0        0.0      0.0       1.0   \n",
       "587        0.0      1.0          0.0        0.0      1.0       0.0   \n",
       "241        1.0      0.0          0.0        1.0      0.0       0.0   \n",
       "369        1.0      0.0          0.0        0.0      0.0       1.0   \n",
       "799        1.0      0.0          0.0        0.0      0.0       1.0   \n",
       "\n",
       "    Title_Other Survived Pclass  Age Fare  Embarked IsAlone  \n",
       "604         0.0        1      1  4.0    2       1.0       1  \n",
       "149         1.0        0      2  4.0    1       0.0       1  \n",
       "567         0.0        0      3  3.0    2       0.0       0  \n",
       "587         0.0        1      1  5.0    3       1.0       0  \n",
       "241         0.0        1      3  NaN    2       2.0       0  \n",
       "369         0.0        1      1  3.0    3       1.0       1  \n",
       "799         0.0        0      3  3.0    2       0.0       0  "
      ]
     },
     "execution_count": 4,
     "metadata": {},
     "output_type": "execute_result"
    }
   ],
   "source": [
    "data = clean_data(d_tr)\n",
    "data.sample(7)"
   ]
  },
  {
   "cell_type": "code",
   "execution_count": 9,
   "id": "d218e73d",
   "metadata": {},
   "outputs": [
    {
     "data": {
      "text/plain": [
       "Sex_female        0\n",
       "Sex_male          0\n",
       "Title_Master      0\n",
       "Title_Miss        0\n",
       "Title_Mr          0\n",
       "Title_Mrs         0\n",
       "Title_Other       0\n",
       "Survived          0\n",
       "Pclass            0\n",
       "Age             177\n",
       "Fare              0\n",
       "Embarked          2\n",
       "IsAlone           0\n",
       "dtype: int64"
      ]
     },
     "execution_count": 9,
     "metadata": {},
     "output_type": "execute_result"
    }
   ],
   "source": [
    "data.isna().sum()"
   ]
  },
  {
   "cell_type": "markdown",
   "id": "86233761",
   "metadata": {},
   "source": [
    "### Divining into X, and y"
   ]
  },
  {
   "cell_type": "code",
   "execution_count": 5,
   "id": "7cdb517d",
   "metadata": {},
   "outputs": [],
   "source": [
    "X = data.drop(columns='Survived').copy()\n",
    "y = data.Survived.copy().astype('int') #To avoid getting an error that 'y' is unknown"
   ]
  },
  {
   "cell_type": "code",
   "execution_count": 8,
   "id": "26112595",
   "metadata": {
    "scrolled": true
   },
   "outputs": [
    {
     "data": {
      "image/png": "[encoded data removed]",
      "text/plain": [
       "<Figure size 432x288 with 1 Axes>"
      ]
     },
     "metadata": {
      "needs_background": "light"
     },
     "output_type": "display_data"
    }
   ],
   "source": [
    "sns.countplot(x=y);"
   ]
  },
  {
   "cell_type": "markdown",
   "id": "1a0653f7",
   "metadata": {},
   "source": [
    "### see the percentage of each class"
   ]
  },
  {
   "cell_type": "code",
   "execution_count": 54,
   "id": "3c33fb33",
   "metadata": {},
   "outputs": [
    {
     "name": "stdout",
     "output_type": "stream",
     "text": [
      "Not survived = 549, (0.6161616161616161 %) \n",
      "\n",
      "Survived     = 342, (0.3838383838383838 %) \n"
     ]
    }
   ],
   "source": [
    "total_0 = y[y==0].value_counts()\n",
    "total_1 = y[y==1].value_counts()\n",
    "\n",
    "print('Not survived = {}, ({} %) '.format(total_0[0], total_0[0]/len(y)))\n",
    "print('\\nSurvived     = {}, ({} %) '.format(total_1[1], total_1[1]/len(y)))"
   ]
  },
  {
   "cell_type": "code",
   "execution_count": 52,
   "id": "0bac6f8f",
   "metadata": {},
   "outputs": [
    {
     "data": {
      "text/plain": [
       "(1,)"
      ]
     },
     "execution_count": 52,
     "metadata": {},
     "output_type": "execute_result"
    }
   ],
   "source": [
    "#type(total_1[0])\n",
    "total_0.shape\n",
    "#total_1[1]"
   ]
  },
  {
   "cell_type": "markdown",
   "id": "b3888eda",
   "metadata": {},
   "source": [
    "### Calculating missing values"
   ]
  },
  {
   "cell_type": "code",
   "execution_count": 39,
   "id": "89cd0b96",
   "metadata": {},
   "outputs": [
    {
     "data": {
      "text/plain": [
       "Sex_female        0\n",
       "Sex_male          0\n",
       "Title_Master      0\n",
       "Title_Miss        0\n",
       "Title_Mr          0\n",
       "Title_Mrs         0\n",
       "Title_Other       0\n",
       "Pclass            0\n",
       "Age             177\n",
       "Fare              0\n",
       "Embarked          2\n",
       "IsAlone           0\n",
       "dtype: int64"
      ]
     },
     "execution_count": 39,
     "metadata": {},
     "output_type": "execute_result"
    }
   ],
   "source": [
    "X.isna().sum()"
   ]
  },
  {
   "cell_type": "markdown",
   "id": "355c9655",
   "metadata": {},
   "source": [
    "## training and test set"
   ]
  },
  {
   "cell_type": "code",
   "execution_count": 6,
   "id": "88bee498",
   "metadata": {},
   "outputs": [],
   "source": [
    "X_tr, X_te, y_tr, y_te = train_test_split(X, y, stratify=y, test_size=0.16)"
   ]
  },
  {
   "cell_type": "markdown",
   "id": "34952597",
   "metadata": {},
   "source": [
    "### IterativeImputer"
   ]
  },
  {
   "cell_type": "code",
   "execution_count": 110,
   "id": "62d8145c",
   "metadata": {},
   "outputs": [],
   "source": [
    "imputer = IterativeImputer(max_iter=20)\n",
    "#iterative = IterativeImputer()"
   ]
  },
  {
   "cell_type": "markdown",
   "id": "cf45ddb9",
   "metadata": {},
   "source": [
    "### KNNImputer"
   ]
  },
  {
   "cell_type": "code",
   "execution_count": 58,
   "id": "ed6b0743",
   "metadata": {},
   "outputs": [],
   "source": [
    "imputer = KNNImputer()"
   ]
  },
  {
   "cell_type": "markdown",
   "id": "1d9efea5",
   "metadata": {},
   "source": [
    "# LogisticRegression"
   ]
  },
  {
   "cell_type": "code",
   "execution_count": 70,
   "id": "e9bd7ac4",
   "metadata": {},
   "outputs": [],
   "source": [
    "model = LogisticRegression(max_iter=10000)\n",
    "\n",
    "param_grid = [{ \n",
    "              'model__solver': ['newton-cg', 'lbfgs', 'liblinear', 'sag', 'saga'],\n",
    "              'model__penalty': ['l2'],\n",
    "              'model__C': [0.01, 0.1, 1, 10, 100],\n",
    "              'model__class_weight' : ['balanced', None],\n",
    "              #'impute__imputation_order': ['ascending', 'descending', 'roman', 'arabic', 'random'],\n",
    "              #'impute__max_iter': [1,2,3,5,7,11,13,17,19],\n",
    "    \n",
    "              'impute__n_neighbors': [1,2,3,5,7,11,13,17,19]\n",
    "              }]"
   ]
  },
  {
   "cell_type": "markdown",
   "id": "313cbe51",
   "metadata": {},
   "source": [
    "### Results"
   ]
  },
  {
   "cell_type": "code",
   "execution_count": 82,
   "id": "595443c6",
   "metadata": {},
   "outputs": [
    {
     "data": {
      "text/plain": [
       "{'model__solver': 'liblinear',\n",
       " 'model__penalty': 'l2',\n",
       " 'model__class_weight': None,\n",
       " 'model__C': 100,\n",
       " 'impute__n_neighbors': 1}"
      ]
     },
     "execution_count": 82,
     "metadata": {},
     "output_type": "execute_result"
    }
   ],
   "source": [
    "gs.best_params_"
   ]
  },
  {
   "cell_type": "code",
   "execution_count": 81,
   "id": "2d68cb81",
   "metadata": {},
   "outputs": [
    {
     "data": {
      "text/plain": [
       "0.8163004577611319"
      ]
     },
     "execution_count": 81,
     "metadata": {},
     "output_type": "execute_result"
    }
   ],
   "source": [
    "gs.best_score_"
   ]
  },
  {
   "cell_type": "markdown",
   "id": "7f02b151",
   "metadata": {},
   "source": [
    "# RandomForestClassifier"
   ]
  },
  {
   "cell_type": "code",
   "execution_count": 117,
   "id": "25b47b04",
   "metadata": {},
   "outputs": [],
   "source": [
    "model = RandomForestClassifier()\n",
    "\n",
    "param_grid = [{\n",
    "                'model__n_estimators': [10, 100, 1000],\n",
    "                'model__max_features': ['sqrt', 'log2'],\n",
    "                #'impute__imputation_order': ['ascending', 'descending', 'roman', 'arabic', 'random']\n",
    "    \n",
    "                'impute__n_neighbors': [1,2,3,5,7,11,13,17,19]\n",
    "               }]"
   ]
  },
  {
   "cell_type": "code",
   "execution_count": null,
   "id": "4cc3adf3",
   "metadata": {},
   "outputs": [],
   "source": []
  },
  {
   "cell_type": "markdown",
   "id": "2c425a01",
   "metadata": {},
   "source": [
    "## GradientBoostingClassifier"
   ]
  },
  {
   "cell_type": "code",
   "execution_count": null,
   "id": "ca827d71",
   "metadata": {},
   "outputs": [],
   "source": [
    "model = GradientBoostingClassifier()\n",
    "\n",
    "param_grid = [{\n",
    "            'n_estimators': [10, 100, 1000],\n",
    "            'learning_rate': [0.001, 0.01, 0.1],\n",
    "            'subsample': [0.5, 0.7, 1.0],\n",
    "            'max_depth': [3, 7, 9],\n",
    "    \n",
    "            #'impute__imputation_order': ['ascending', 'descending', 'roman', 'arabic', 'random']\n",
    "            'impute__n_neighbors': [1,2,3,5,7,11,13,17,19]\n",
    "              }]"
   ]
  },
  {
   "cell_type": "markdown",
   "id": "b6c66103",
   "metadata": {},
   "source": [
    "### PipeLine to impute and modelling"
   ]
  },
  {
   "cell_type": "code",
   "execution_count": 59,
   "id": "e9e66b1d",
   "metadata": {},
   "outputs": [],
   "source": [
    "classifier = Pipeline([('impute', imputer), \n",
    "                       ('model', model)])"
   ]
  },
  {
   "cell_type": "markdown",
   "id": "a59dca53",
   "metadata": {},
   "source": [
    "# Tuning Hyperparametres"
   ]
  },
  {
   "cell_type": "code",
   "execution_count": 64,
   "id": "90b3929c",
   "metadata": {},
   "outputs": [],
   "source": [
    "cv = RepeatedStratifiedKFold(n_splits=10, n_repeats=3)"
   ]
  },
  {
   "cell_type": "code",
   "execution_count": 78,
   "id": "aa9973a8",
   "metadata": {},
   "outputs": [],
   "source": [
    "gs = RandomizedSearchCV(classifier, param_distributions=param_grid, cv=cv, n_jobs=-1, n_iter=25)"
   ]
  },
  {
   "cell_type": "code",
   "execution_count": 79,
   "id": "ec4a969e",
   "metadata": {},
   "outputs": [
    {
     "data": {
      "text/plain": [
       "RandomizedSearchCV(cv=RepeatedStratifiedKFold(n_repeats=3, n_splits=10, random_state=None),\n",
       "                   estimator=Pipeline(steps=[('impute', KNNImputer()),\n",
       "                                             ('model',\n",
       "                                              LogisticRegression(max_iter=10000))]),\n",
       "                   n_iter=25, n_jobs=-1,\n",
       "                   param_distributions=[{'impute__n_neighbors': [1, 2, 3, 5, 7,\n",
       "                                                                 11, 13, 17,\n",
       "                                                                 19],\n",
       "                                         'model__C': [0.01, 0.1, 1, 10, 100],\n",
       "                                         'model__class_weight': ['balanced',\n",
       "                                                                 None],\n",
       "                                         'model__penalty': ['l2'],\n",
       "                                         'model__solver': ['newton-cg', 'lbfgs',\n",
       "                                                           'liblinear', 'sag',\n",
       "                                                           'saga']}])"
      ]
     },
     "execution_count": 79,
     "metadata": {},
     "output_type": "execute_result"
    }
   ],
   "source": [
    "gs.fit(X,y)"
   ]
  },
  {
   "cell_type": "code",
   "execution_count": 80,
   "id": "f62ec599",
   "metadata": {},
   "outputs": [
    {
     "data": {
      "text/plain": [
       "0.8163004577611319"
      ]
     },
     "execution_count": 80,
     "metadata": {},
     "output_type": "execute_result"
    }
   ],
   "source": [
    "gs.best_score_"
   ]
  },
  {
   "cell_type": "code",
   "execution_count": 134,
   "id": "864d4236",
   "metadata": {},
   "outputs": [
    {
     "data": {
      "text/plain": [
       "{'model__solver': 'liblinear', 'model__C': 10, 'impute__n_neighbors': 2}"
      ]
     },
     "execution_count": 134,
     "metadata": {},
     "output_type": "execute_result"
    }
   ],
   "source": [
    "gs.best_params_"
   ]
  },
  {
   "cell_type": "code",
   "execution_count": null,
   "id": "aec017eb",
   "metadata": {},
   "outputs": [],
   "source": []
  },
  {
   "cell_type": "code",
   "execution_count": null,
   "id": "67ba4e1b",
   "metadata": {},
   "outputs": [],
   "source": []
  },
  {
   "cell_type": "code",
   "execution_count": null,
   "id": "f5f2dd46",
   "metadata": {},
   "outputs": [],
   "source": []
  },
  {
   "cell_type": "code",
   "execution_count": null,
   "id": "8e297937",
   "metadata": {},
   "outputs": [],
   "source": []
  },
  {
   "cell_type": "code",
   "execution_count": 17,
   "id": "c8636a57",
   "metadata": {},
   "outputs": [
    {
     "data": {
      "text/plain": [
       "0    0.616162\n",
       "Name: Survived, dtype: float64"
      ]
     },
     "execution_count": 17,
     "metadata": {},
     "output_type": "execute_result"
    }
   ],
   "source": []
  },
  {
   "cell_type": "code",
   "execution_count": null,
   "id": "1db6baef",
   "metadata": {},
   "outputs": [],
   "source": [
    "creo que es por que Y es flot hay que convertirla a 'int'"
   ]
  },
  {
   "cell_type": "markdown",
   "id": "be8a8ec6",
   "metadata": {},
   "source": [
    "## Tools"
   ]
  },
  {
   "cell_type": "code",
   "execution_count": 3,
   "id": "0c1b5f9e",
   "metadata": {},
   "outputs": [],
   "source": [
    "def Fare(s):\n",
    "    #s['FareBand'] = pd.qcut(s['Fare'], 4)\n",
    "    s.loc[ s['Fare'] <= 7.91, 'Fare'] = 0\n",
    "    s.loc[(s['Fare'] > 7.91) & (s['Fare'] <= 14.454), 'Fare'] = 1\n",
    "    s.loc[(s['Fare'] > 14.454) & (s['Fare'] <= 31), 'Fare']   = 2\n",
    "    s.loc[ s['Fare'] > 31, 'Fare'] = 3\n",
    "\n",
    "    #Cambiar tipo de columna\n",
    "    s['Fare'] = s['Fare'].astype(int)\n",
    "    \n",
    "    return s\n",
    "\n",
    "def Age(s): #if it uses 2 times it will set all values to 1.0\n",
    "            #recive a copy\n",
    "            #does not touch nan values\n",
    "    s.loc[(s.Age <= 13), 'Age'] = 1\n",
    "    s.loc[(s.Age > 13) & (s.Age <= 18), 'Age'] = 2\n",
    "    s.loc[(s.Age > 18) & (s.Age <= 30), 'Age'] = 3\n",
    "    s.loc[(s.Age > 30) & (s.Age <= 50), 'Age'] = 4\n",
    "    s.loc[(s.Age > 50), 'Age'] = 5\n",
    "    \n",
    "    return s\n",
    "\n",
    "def FamilySize(s):\n",
    "    s['FamilySize'] = s['SibSp'] +  s['Parch'] + 1\n",
    "    \n",
    "    s['FamilySize'] = s['FamilySize'].astype(int)\n",
    "    #s['Survived'] = s['Survived'].astype(int)\n",
    "    \n",
    "    s['IsAlone'] = 0\n",
    "    s.loc[s['FamilySize'] == 1, 'IsAlone'] = 1\n",
    "    \n",
    "    return s.drop(columns=['SibSp', 'Parch', 'FamilySize']).copy()\n",
    "\n",
    "def Titles(s):\n",
    "    #str.extract(' ([A-Za-z]+)\\.')\n",
    "    s['Title'] = s['Name'].str.extract(' ([A-Za-z]+)\\.')\n",
    "    s['Title'] = s['Title'].replace(['Lady', 'Countess','Capt', 'Col', 'Don', 'Dr',                                       \n",
    "                                    'Major', 'Rev', 'Sir', 'Jonkheer', 'Dona'], 'Other')\n",
    "    s['Title'] = s['Title'].replace(['Mlle', 'Ms'], 'Miss')\n",
    "    s['Title'] = s['Title'].replace(['Mme'], 'Mrs')\n",
    "    \n",
    "    return s.drop(columns='Name').copy()\n",
    "\n",
    "def SexEmbarkedTitle_to_OneHot(s):\n",
    "    encoder = OneHotEncoder(handle_unknown='ignore', sparse=False)\n",
    "    #s.columns\n",
    "    \n",
    "    # ['Survived', 'Pclass', 'Name', 'Sex', 'Age', 'SibSp', 'Parch', 'Ticket', 'Fare', 'Cabin', 'Embarked']\n",
    "    \n",
    "    cat_features = ['Sex', 'Title']\n",
    "    res_features = ['Survived', 'Pclass', 'Age', 'Fare', 'Embarked', 'IsAlone']\n",
    "    \n",
    "    transformer = ColumnTransformer([('cat', encoder, cat_features)], remainder='passthrough')\n",
    "    \n",
    "    transformer.fit(s)\n",
    "    \n",
    "    tranformed_names = transformer.named_transformers_['cat'].get_feature_names_out(cat_features)\n",
    "    #tranformed_names\n",
    "    \n",
    "    new_names = np.append(tranformed_names, res_features)\n",
    "    \n",
    "    return pd.DataFrame(transformer.transform(s), columns=new_names)\n",
    "\n",
    "\n",
    "# Para prepara el df para age y embarked prediction\n",
    "\n",
    "def Age_Embarked(df):\n",
    "\n",
    "    age_X_te = df.loc[df.Age.isna()].copy()\n",
    "    embarked_X_te = df.loc[df.Embarked.isna()].copy()\n",
    "\n",
    "    embarked_X_te.drop(columns=['Embarked'], inplace=True)\n",
    "    age_X_te.drop(columns=['Age'], inplace=True)\n",
    "\n",
    "\n",
    "    age_X_tr = df.dropna(subset=['Age', 'Embarked']).copy()\n",
    "    age_y_tr = age_X_tr.Age\n",
    "\n",
    "\n",
    "    embarked_X_tr = df.dropna(subset=['Age', 'Embarked']).copy()\n",
    "    embarked_y_tr = embarked_X_tr.Embarked\n",
    "\n",
    "    # to leave the df with all columns\n",
    "    # age_X_tr.drop(columns=['Age'], inplace=True)\n",
    "    # embarked_X_tr.drop(columns=['Embarked'], inplace=True)\n",
    "    \n",
    "    return (age_X_te, embarked_X_te, age_X_tr, age_y_tr, embarked_X_tr, embarked_y_tr)\n",
    "\n",
    "def get_x_y(df, y):\n",
    "    #resives an copy of a df and return X_tr, y_tr\n",
    "    X_tr = df.drop(columns=[y])\n",
    "    y_tr = df[y]\n",
    "    \n",
    "    return X_tr, y_tr\n",
    "\n",
    "\n",
    "\n",
    "#temp01 = temp01.drop(columns=['Ticket', 'Cabin'])\n",
    "\n",
    "def clean_data(df=None):\n",
    "    '''This function uses Title(), Fare(), Age(), FamilySize()\n",
    "       functions to clean up the Data Fram that it recives.\n",
    "    '''\n",
    "    \n",
    "    d_clean = Titles(df)\n",
    "    d_clean = Fare(d_clean)\n",
    "    d_clean = Age(d_clean)\n",
    "    d_clean = FamilySize(d_clean)\n",
    "\n",
    "    #OneHot aplied\n",
    "    d_clean.drop(columns=['Ticket', 'Cabin'], inplace=True)\n",
    "\n",
    "    d_clean = SexEmbarkedTitle_to_OneHot(d_clean)\n",
    "    \n",
    "    d_clean['Embarked'] = d_clean['Embarked'].map( {'S': 0, 'C': 1, 'Q': 2})#.astype(int)\n",
    "        \n",
    "    return d_clean\n",
    "\n",
    "\n",
    "#Converting clean_data(df) function into one that \n",
    "#can be used in a pipeline\n",
    "#cleanDataFrame = FunctionTransformer(clean_data)\n"
   ]
  },
  {
   "cell_type": "code",
   "execution_count": null,
   "id": "3512e1df",
   "metadata": {},
   "outputs": [],
   "source": []
  }
 ],
 "metadata": {
  "kernelspec": {
   "display_name": "Python 3 (ipykernel)",
   "language": "python",
   "name": "python3"
  },
  "language_info": {
   "codemirror_mode": {
    "name": "ipython",
    "version": 3
   },
   "file_extension": ".py",
   "mimetype": "text/x-python",
   "name": "python",
   "nbconvert_exporter": "python",
   "pygments_lexer": "ipython3",
   "version": "3.8.12"
  }
 },
 "nbformat": 4,
 "nbformat_minor": 5
}
