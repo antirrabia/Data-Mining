{
 "cells": [
  {
   "cell_type": "code",
   "execution_count": 1,
   "id": "ec2fdcf2",
   "metadata": {},
   "outputs": [],
   "source": [
    "from sklearn.experimental import enable_iterative_imputer\n",
    "\n",
    "from sklearn.linear_model import LogisticRegression\n",
    "from sklearn.ensemble import RandomForestClassifier, GradientBoostingClassifier, BaggingClassifier\n",
    "from sklearn.tree import DecisionTreeClassifier\n",
    "from sklearn.model_selection import train_test_split, RandomizedSearchCV, GridSearchCV\n",
    "from sklearn.model_selection import cross_val_score, RepeatedStratifiedKFold\n",
    "from sklearn.preprocessing import OneHotEncoder, FunctionTransformer\n",
    "from sklearn.pipeline import Pipeline\n",
    "from sklearn.compose import ColumnTransformer\n",
    "from sklearn.impute import IterativeImputer, KNNImputer, SimpleImputer\n",
    "from sklearn.metrics import accuracy_score, recall_score, f1_score\n",
    "\n",
    "import matplotlib.pyplot as plt\n",
    "import seaborn as sns\n",
    "import pandas as pd\n",
    "import numpy as np"
   ]
  },
  {
   "cell_type": "code",
   "execution_count": 2,
   "id": "8fb36890",
   "metadata": {},
   "outputs": [],
   "source": [
    "d_tr = pd.read_csv('/Users/antirrabia/Documents/01-GitHub/DataMining-_-/CSV/Titanic/train.csv', index_col='PassengerId')\n",
    "d_te = pd.read_csv('/Users/antirrabia/Documents/01-GitHub/DataMining-_-/CSV/Titanic/test.csv', index_col=0)"
   ]
  },
  {
   "cell_type": "markdown",
   "id": "f5c99580",
   "metadata": {},
   "source": [
    "### Cleaning and preparing data"
   ]
  },
  {
   "cell_type": "code",
   "execution_count": 4,
   "id": "5691fe94",
   "metadata": {},
   "outputs": [
    {
     "data": {
      "text/html": [
       "<div>\n",
       "<style scoped>\n",
       "    .dataframe tbody tr th:only-of-type {\n",
       "        vertical-align: middle;\n",
       "    }\n",
       "\n",
       "    .dataframe tbody tr th {\n",
       "        vertical-align: top;\n",
       "    }\n",
       "\n",
       "    .dataframe thead th {\n",
       "        text-align: right;\n",
       "    }\n",
       "</style>\n",
       "<table border=\"1\" class=\"dataframe\">\n",
       "  <thead>\n",
       "    <tr style=\"text-align: right;\">\n",
       "      <th></th>\n",
       "      <th>Sex_female</th>\n",
       "      <th>Sex_male</th>\n",
       "      <th>Title_Master</th>\n",
       "      <th>Title_Miss</th>\n",
       "      <th>Title_Mr</th>\n",
       "      <th>Title_Mrs</th>\n",
       "      <th>Title_Other</th>\n",
       "      <th>Survived</th>\n",
       "      <th>Pclass</th>\n",
       "      <th>Age</th>\n",
       "      <th>Fare</th>\n",
       "      <th>Embarked</th>\n",
       "      <th>IsAlone</th>\n",
       "    </tr>\n",
       "  </thead>\n",
       "  <tbody>\n",
       "    <tr>\n",
       "      <th>178</th>\n",
       "      <td>0.0</td>\n",
       "      <td>1.0</td>\n",
       "      <td>0.0</td>\n",
       "      <td>0.0</td>\n",
       "      <td>1.0</td>\n",
       "      <td>0.0</td>\n",
       "      <td>0.0</td>\n",
       "      <td>0</td>\n",
       "      <td>2</td>\n",
       "      <td>3.0</td>\n",
       "      <td>1</td>\n",
       "      <td>0.0</td>\n",
       "      <td>1</td>\n",
       "    </tr>\n",
       "    <tr>\n",
       "      <th>629</th>\n",
       "      <td>0.0</td>\n",
       "      <td>1.0</td>\n",
       "      <td>0.0</td>\n",
       "      <td>0.0</td>\n",
       "      <td>1.0</td>\n",
       "      <td>0.0</td>\n",
       "      <td>0.0</td>\n",
       "      <td>0</td>\n",
       "      <td>3</td>\n",
       "      <td>NaN</td>\n",
       "      <td>0</td>\n",
       "      <td>2.0</td>\n",
       "      <td>1</td>\n",
       "    </tr>\n",
       "    <tr>\n",
       "      <th>260</th>\n",
       "      <td>0.0</td>\n",
       "      <td>1.0</td>\n",
       "      <td>0.0</td>\n",
       "      <td>0.0</td>\n",
       "      <td>1.0</td>\n",
       "      <td>0.0</td>\n",
       "      <td>0.0</td>\n",
       "      <td>0</td>\n",
       "      <td>3</td>\n",
       "      <td>NaN</td>\n",
       "      <td>0</td>\n",
       "      <td>2.0</td>\n",
       "      <td>1</td>\n",
       "    </tr>\n",
       "    <tr>\n",
       "      <th>571</th>\n",
       "      <td>1.0</td>\n",
       "      <td>0.0</td>\n",
       "      <td>0.0</td>\n",
       "      <td>0.0</td>\n",
       "      <td>0.0</td>\n",
       "      <td>1.0</td>\n",
       "      <td>0.0</td>\n",
       "      <td>1</td>\n",
       "      <td>1</td>\n",
       "      <td>5.0</td>\n",
       "      <td>3</td>\n",
       "      <td>0.0</td>\n",
       "      <td>0</td>\n",
       "    </tr>\n",
       "    <tr>\n",
       "      <th>680</th>\n",
       "      <td>1.0</td>\n",
       "      <td>0.0</td>\n",
       "      <td>0.0</td>\n",
       "      <td>1.0</td>\n",
       "      <td>0.0</td>\n",
       "      <td>0.0</td>\n",
       "      <td>0.0</td>\n",
       "      <td>0</td>\n",
       "      <td>3</td>\n",
       "      <td>NaN</td>\n",
       "      <td>1</td>\n",
       "      <td>2.0</td>\n",
       "      <td>1</td>\n",
       "    </tr>\n",
       "    <tr>\n",
       "      <th>625</th>\n",
       "      <td>0.0</td>\n",
       "      <td>1.0</td>\n",
       "      <td>0.0</td>\n",
       "      <td>0.0</td>\n",
       "      <td>1.0</td>\n",
       "      <td>0.0</td>\n",
       "      <td>0.0</td>\n",
       "      <td>0</td>\n",
       "      <td>1</td>\n",
       "      <td>5.0</td>\n",
       "      <td>3</td>\n",
       "      <td>0.0</td>\n",
       "      <td>1</td>\n",
       "    </tr>\n",
       "    <tr>\n",
       "      <th>17</th>\n",
       "      <td>0.0</td>\n",
       "      <td>1.0</td>\n",
       "      <td>0.0</td>\n",
       "      <td>0.0</td>\n",
       "      <td>1.0</td>\n",
       "      <td>0.0</td>\n",
       "      <td>0.0</td>\n",
       "      <td>1</td>\n",
       "      <td>2</td>\n",
       "      <td>NaN</td>\n",
       "      <td>1</td>\n",
       "      <td>0.0</td>\n",
       "      <td>1</td>\n",
       "    </tr>\n",
       "  </tbody>\n",
       "</table>\n",
       "</div>"
      ],
      "text/plain": [
       "    Sex_female Sex_male Title_Master Title_Miss Title_Mr Title_Mrs  \\\n",
       "178        0.0      1.0          0.0        0.0      1.0       0.0   \n",
       "629        0.0      1.0          0.0        0.0      1.0       0.0   \n",
       "260        0.0      1.0          0.0        0.0      1.0       0.0   \n",
       "571        1.0      0.0          0.0        0.0      0.0       1.0   \n",
       "680        1.0      0.0          0.0        1.0      0.0       0.0   \n",
       "625        0.0      1.0          0.0        0.0      1.0       0.0   \n",
       "17         0.0      1.0          0.0        0.0      1.0       0.0   \n",
       "\n",
       "    Title_Other Survived Pclass  Age Fare  Embarked IsAlone  \n",
       "178         0.0        0      2  3.0    1       0.0       1  \n",
       "629         0.0        0      3  NaN    0       2.0       1  \n",
       "260         0.0        0      3  NaN    0       2.0       1  \n",
       "571         0.0        1      1  5.0    3       0.0       0  \n",
       "680         0.0        0      3  NaN    1       2.0       1  \n",
       "625         0.0        0      1  5.0    3       0.0       1  \n",
       "17          0.0        1      2  NaN    1       0.0       1  "
      ]
     },
     "execution_count": 4,
     "metadata": {},
     "output_type": "execute_result"
    }
   ],
   "source": [
    "data = clean_data(d_tr)\n",
    "data.sample(7)"
   ]
  },
  {
   "cell_type": "markdown",
   "id": "86233761",
   "metadata": {},
   "source": [
    "### Divining into X, and y"
   ]
  },
  {
   "cell_type": "code",
   "execution_count": 5,
   "id": "7cdb517d",
   "metadata": {},
   "outputs": [],
   "source": [
    "X = data.drop(columns='Survived').copy()\n",
    "y = data.Survived.copy().astype('int') #To avoid getting an error that 'y' is unknown"
   ]
  },
  {
   "cell_type": "code",
   "execution_count": 8,
   "id": "26112595",
   "metadata": {
    "scrolled": true
   },
   "outputs": [
    {
     "data": {
      "image/png": "[encoded data removed]",
      "text/plain": [
       "<Figure size 432x288 with 1 Axes>"
      ]
     },
     "metadata": {
      "needs_background": "light"
     },
     "output_type": "display_data"
    }
   ],
   "source": [
    "sns.countplot(x=y);"
   ]
  },
  {
   "cell_type": "markdown",
   "id": "78e8cde0",
   "metadata": {},
   "source": [
    "### seeing the percentage of each class"
   ]
  },
  {
   "cell_type": "code",
   "execution_count": 12,
   "id": "cad3ae27",
   "metadata": {},
   "outputs": [
    {
     "name": "stdout",
     "output_type": "stream",
     "text": [
      "Not survived = 549, (62%) \n",
      "Survived     = 342, (38%) \n"
     ]
    }
   ],
   "source": [
    "total_0 = y[y==0].value_counts()\n",
    "total_1 = y[y==1].value_counts()\n",
    "\n",
    "print('Not survived = {}, ({:.0%}) '.format(total_0[0], total_0[0]/len(y)))\n",
    "print('Survived     = {}, ({:.0%}) '.format(total_1[1], total_1[1]/len(y)))"
   ]
  },
  {
   "cell_type": "markdown",
   "id": "355c9655",
   "metadata": {},
   "source": [
    "# 💡💡 Training and test set"
   ]
  },
  {
   "cell_type": "code",
   "execution_count": 6,
   "id": "88bee498",
   "metadata": {},
   "outputs": [],
   "source": [
    "X_tr, X_te, y_tr, y_te = train_test_split(X, y, stratify=y, test_size=0.16)"
   ]
  },
  {
   "cell_type": "markdown",
   "id": "1d9efea5",
   "metadata": {},
   "source": [
    "# LogisticRegression"
   ]
  },
  {
   "cell_type": "code",
   "execution_count": 33,
   "id": "e9bd7ac4",
   "metadata": {},
   "outputs": [],
   "source": [
    "model = LogisticRegression(max_iter=10000)\n",
    "\n",
    "imputer = KNNImputer()\n",
    "#imputer = IterativeImputer(max_iter=20) #default is 10 iteractions\n",
    "imputer = SimpleImputer()\n",
    "\n",
    "param_grid = [{ \n",
    "              'model__solver': ['newton-cg', 'lbfgs', 'liblinear', 'sag', 'saga'],\n",
    "              'model__penalty': ['l2'],\n",
    "              'model__C': [0.01, 0.1, 1, 10, 100],\n",
    "              'model__class_weight' : ['balanced', None],\n",
    "    \n",
    "    \n",
    "              #'impute__imputation_order': ['ascending', 'descending', 'roman', 'arabic', 'random'],\n",
    "              'impute__n_neighbors': [1,2,3,5,7,11,13,17,19]\n",
    "              'impute__strategy': ['']\n",
    "              }]"
   ]
  },
  {
   "cell_type": "markdown",
   "id": "72fe8f90",
   "metadata": {},
   "source": [
    "### ⚡️ Metric"
   ]
  },
  {
   "cell_type": "code",
   "execution_count": 31,
   "id": "fe90901d",
   "metadata": {},
   "outputs": [
    {
     "name": "stdout",
     "output_type": "stream",
     "text": [
      "regular grid: traing score = 0.8163783783783783\n"
     ]
    },
    {
     "data": {
      "text/plain": [
       "{'impute__imputation_order': 'ascending',\n",
       " 'model__C': 1,\n",
       " 'model__class_weight': None,\n",
       " 'model__penalty': 'l2',\n",
       " 'model__solver': 'newton-cg'}"
      ]
     },
     "execution_count": 31,
     "metadata": {},
     "output_type": "execute_result"
    }
   ],
   "source": [
    "print('regular grid: traing score = {}'.format(gs.best_score_))\n",
    "gs.best_params_"
   ]
  },
  {
   "cell_type": "code",
   "execution_count": 32,
   "id": "7f1898c3",
   "metadata": {},
   "outputs": [
    {
     "name": "stdout",
     "output_type": "stream",
     "text": [
      "regular grid: test score = 0.8181818181818182\n"
     ]
    }
   ],
   "source": [
    "print('regular grid: test score = {}'.format(accuracy_score(y_te, gs.predict(X_te))))"
   ]
  },
  {
   "cell_type": "markdown",
   "id": "601ffdd0",
   "metadata": {},
   "source": [
    "### ⚡️ metric"
   ]
  },
  {
   "cell_type": "code",
   "execution_count": 37,
   "id": "62a77b53",
   "metadata": {},
   "outputs": [
    {
     "name": "stdout",
     "output_type": "stream",
     "text": [
      "regular grid: traing score = 0.8111111111111111\n"
     ]
    },
    {
     "data": {
      "text/plain": [
       "{'impute__n_neighbors': 17,\n",
       " 'model__C': 10,\n",
       " 'model__class_weight': None,\n",
       " 'model__penalty': 'l2',\n",
       " 'model__solver': 'liblinear'}"
      ]
     },
     "execution_count": 37,
     "metadata": {},
     "output_type": "execute_result"
    }
   ],
   "source": [
    "print('regular grid: traing score = {}'.format(gs.best_score_))\n",
    "gs.best_params_"
   ]
  },
  {
   "cell_type": "code",
   "execution_count": 38,
   "id": "47b65cf8",
   "metadata": {},
   "outputs": [
    {
     "name": "stdout",
     "output_type": "stream",
     "text": [
      "regular grid: test score = 0.8391608391608392\n"
     ]
    }
   ],
   "source": [
    "print('regular grid: test score = {}'.format(accuracy_score(y_te, gs.predict(X_te))))"
   ]
  },
  {
   "cell_type": "code",
   "execution_count": null,
   "id": "6f84b69b",
   "metadata": {},
   "outputs": [],
   "source": []
  },
  {
   "cell_type": "markdown",
   "id": "7f02b151",
   "metadata": {},
   "source": [
    "# RandomForestClassifier"
   ]
  },
  {
   "cell_type": "code",
   "execution_count": 46,
   "id": "25b47b04",
   "metadata": {},
   "outputs": [],
   "source": [
    "model = RandomForestClassifier(n_jobs=-1)\n",
    "\n",
    "#imputer = KNNImputer()\n",
    "imputer = IterativeImputer(max_iter=20) #default is 10 iteractions\n",
    "\n",
    "param_grid = [{ # 216 iter in a regular grid search\n",
    "                'model__criterion' : [\"gini\", \"entropy\"],\n",
    "                'model__n_estimators': [10, 100, 1000],\n",
    "                'model__max_features': ['sqrt', 'log2'],\n",
    "                'model__class_weight' : [ None, \"balanced\", \"balanced_subsample\"],\n",
    "    \n",
    "    \n",
    "                'impute__imputation_order': ['ascending', 'descending', 'roman', 'arabic', 'random']\n",
    "                #'impute__n_neighbors': [1,2,3,5,7,11,13,17,19]\n",
    "               }] "
   ]
  },
  {
   "cell_type": "markdown",
   "id": "62dae11a",
   "metadata": {},
   "source": [
    "### ⚡️ metric"
   ]
  },
  {
   "cell_type": "code",
   "execution_count": 44,
   "id": "5a4c0dfa",
   "metadata": {},
   "outputs": [
    {
     "name": "stdout",
     "output_type": "stream",
     "text": [
      "regular grid: traing score = 0.8204564564564565\n"
     ]
    },
    {
     "data": {
      "text/plain": [
       "{'impute__n_neighbors': 1,\n",
       " 'model__class_weight': 'balanced_subsample',\n",
       " 'model__criterion': 'entropy',\n",
       " 'model__max_features': 'log2',\n",
       " 'model__n_estimators': 1000}"
      ]
     },
     "execution_count": 44,
     "metadata": {},
     "output_type": "execute_result"
    }
   ],
   "source": [
    "print('regular grid: traing score = {}'.format(gs.best_score_))\n",
    "gs.best_params_"
   ]
  },
  {
   "cell_type": "code",
   "execution_count": 45,
   "id": "201974e2",
   "metadata": {},
   "outputs": [
    {
     "name": "stdout",
     "output_type": "stream",
     "text": [
      "regular grid: test score = 0.8321678321678322\n"
     ]
    }
   ],
   "source": [
    "print('regular grid: test score = {}'.format(accuracy_score(y_te, gs.predict(X_te))))"
   ]
  },
  {
   "cell_type": "markdown",
   "id": "7854968b",
   "metadata": {},
   "source": [
    "### ⚡️ metric"
   ]
  },
  {
   "cell_type": "code",
   "execution_count": 53,
   "id": "6efc2012",
   "metadata": {},
   "outputs": [
    {
     "name": "stdout",
     "output_type": "stream",
     "text": [
      "regular grid: traing score = 0.8119579579579578\n"
     ]
    },
    {
     "data": {
      "text/plain": [
       "{'impute__imputation_order': 'roman',\n",
       " 'model__class_weight': None,\n",
       " 'model__criterion': 'entropy',\n",
       " 'model__max_features': 'log2',\n",
       " 'model__n_estimators': 100}"
      ]
     },
     "execution_count": 53,
     "metadata": {},
     "output_type": "execute_result"
    }
   ],
   "source": [
    "\n",
    "print('regular grid: traing score = {}'.format(gs.best_score_))\n",
    "gs.best_params_"
   ]
  },
  {
   "cell_type": "code",
   "execution_count": 54,
   "id": "ffcbebc9",
   "metadata": {},
   "outputs": [
    {
     "name": "stdout",
     "output_type": "stream",
     "text": [
      "regular grid: test score = 0.8251748251748252\n"
     ]
    }
   ],
   "source": [
    "print('regular grid: test score = {}'.format(accuracy_score(y_te, gs.predict(X_te))))"
   ]
  },
  {
   "cell_type": "markdown",
   "id": "2c425a01",
   "metadata": {},
   "source": [
    "## GradientBoostingClassifier"
   ]
  },
  {
   "cell_type": "code",
   "execution_count": 55,
   "id": "ca827d71",
   "metadata": {},
   "outputs": [],
   "source": [
    "model = GradientBoostingClassifier()\n",
    "\n",
    "#imputer = KNNImputer()\n",
    "imputer = IterativeImputer(max_iter=20) #default is 10 iteractions\n",
    "\n",
    "param_grid = [{ #regular grid search took about 1 ahour with KNNImputer\n",
    "            'model__n_estimators': [10, 100, 1000],\n",
    "            'model__learning_rate': [0.001, 0.01, 0.1],\n",
    "            'model__subsample': [0.5, 0.7, 1.0],\n",
    "            'model__max_depth': [3, 7, 9],\n",
    "    \n",
    "            'impute__imputation_order': ['ascending', 'descending', 'roman', 'arabic', 'random']\n",
    "            #'impute__n_neighbors': [1,2,3,5,7,11,13,17,19]\n",
    "              }]"
   ]
  },
  {
   "cell_type": "markdown",
   "id": "f548f2d0",
   "metadata": {},
   "source": [
    "### ⚡️ metrics"
   ]
  },
  {
   "cell_type": "code",
   "execution_count": 48,
   "id": "5869d25b",
   "metadata": {
    "scrolled": true
   },
   "outputs": [
    {
     "name": "stdout",
     "output_type": "stream",
     "text": [
      "0.8217597597597597\n"
     ]
    },
    {
     "data": {
      "text/plain": [
       "{'impute__n_neighbors': 3,\n",
       " 'model__learning_rate': 0.001,\n",
       " 'model__max_depth': 9,\n",
       " 'model__n_estimators': 1000,\n",
       " 'model__subsample': 0.5}"
      ]
     },
     "execution_count": 48,
     "metadata": {},
     "output_type": "execute_result"
    }
   ],
   "source": [
    "print('regular grid: traing score = {}'.format(gs.best_score_))\n",
    "gs.best_params_"
   ]
  },
  {
   "cell_type": "code",
   "execution_count": null,
   "id": "5af5565b",
   "metadata": {},
   "outputs": [],
   "source": [
    "#with regular grid 0.8461\n",
    "accuracy_score(y_te, gs.predict(X_te))"
   ]
  },
  {
   "cell_type": "markdown",
   "id": "f9410f1b",
   "metadata": {},
   "source": [
    "### ⚡️⚡️⚡️ metrics ⚡️⚡️⚡️"
   ]
  },
  {
   "cell_type": "code",
   "execution_count": 62,
   "id": "09624a83",
   "metadata": {},
   "outputs": [
    {
     "name": "stdout",
     "output_type": "stream",
     "text": [
      "0.8195435435435434\n"
     ]
    },
    {
     "data": {
      "text/plain": [
       "{'impute__imputation_order': 'arabic',\n",
       " 'model__learning_rate': 0.01,\n",
       " 'model__max_depth': 9,\n",
       " 'model__n_estimators': 100,\n",
       " 'model__subsample': 0.5}"
      ]
     },
     "execution_count": 62,
     "metadata": {},
     "output_type": "execute_result"
    }
   ],
   "source": [
    "print('{}'.format(gs.best_score_))\n",
    "gs.best_params_ #. regular grid and interactived imputer"
   ]
  },
  {
   "cell_type": "code",
   "execution_count": 61,
   "id": "18678608",
   "metadata": {},
   "outputs": [
    {
     "data": {
      "text/plain": [
       "0.8741258741258742"
      ]
     },
     "execution_count": 61,
     "metadata": {},
     "output_type": "execute_result"
    }
   ],
   "source": [
    "#. regular grid and interactived imputer\n",
    "accuracy_score(y_te, gs.predict(X_te))"
   ]
  },
  {
   "cell_type": "markdown",
   "id": "5a11c946",
   "metadata": {},
   "source": [
    "# BaggingClassifier"
   ]
  },
  {
   "cell_type": "code",
   "execution_count": 28,
   "id": "319bd4ed",
   "metadata": {},
   "outputs": [],
   "source": [
    "model = BaggingClassifier(base_estimator=DecisionTreeClassifier())\n",
    "\n",
    "imputer = KNNImputer()\n",
    "#imputer = IterativeImputer(max_iter=20) #default is 10 iteractions\n",
    "\n",
    "param_grid = [{#  *** first change parameters in base_estimator ***\n",
    "               'model__base_estimator__max_leaf_nodes': [10, 20, 30],\n",
    "               'model__base_estimator__criterion': [\"gini\", \"entropy\"],\n",
    "    \n",
    "               'model__n_estimators': [10, 100, 1000],\n",
    "               \n",
    "               #'impute__imputation_order': ['ascending', 'descending', 'roman', 'arabic', 'random']\n",
    "               'impute__n_neighbors': [1,2,3,5,7,11,13,17,19]\n",
    "               }]"
   ]
  },
  {
   "cell_type": "markdown",
   "id": "609409fd",
   "metadata": {},
   "source": [
    "### ⚡️ Metrics"
   ]
  },
  {
   "cell_type": "code",
   "execution_count": 24,
   "id": "c06e3b7d",
   "metadata": {},
   "outputs": [
    {
     "name": "stdout",
     "output_type": "stream",
     "text": [
      "0.8177897897897899\n"
     ]
    },
    {
     "data": {
      "text/plain": [
       "{'impute__imputation_order': 'arabic',\n",
       " 'model__base_estimator__criterion': 'entropy',\n",
       " 'model__base_estimator__max_leaf_nodes': 10,\n",
       " 'model__n_estimators': 100}"
      ]
     },
     "execution_count": 24,
     "metadata": {},
     "output_type": "execute_result"
    }
   ],
   "source": [
    "print('{}'.format(gs.best_score_))\n",
    "gs.best_params_                                                                                                                                                                                                                                                                                                                                                                                                                                                                                                                                                                                                                                                                                                                                                                                                                                                                                                                                                                                                                                                                                                                                                                                                                                                                                                                                                                                                                                                                                                                                                                                                                                                                                                                                                                                                                                                                                                                                                                                                                         "
   ]
  },
  {
   "cell_type": "code",
   "execution_count": 27,
   "id": "4446fae9",
   "metadata": {},
   "outputs": [
    {
     "data": {
      "text/plain": [
       "0.8601398601398601"
      ]
     },
     "execution_count": 27,
     "metadata": {},
     "output_type": "execute_result"
    }
   ],
   "source": [
    "accuracy_score(y_te, gs.predict(X_te))"
   ]
  },
  {
   "cell_type": "markdown",
   "id": "a7434455",
   "metadata": {},
   "source": [
    "### ⚡️ new metrics"
   ]
  },
  {
   "cell_type": "code",
   "execution_count": 37,
   "id": "d3daa1a6",
   "metadata": {},
   "outputs": [
    {
     "name": "stdout",
     "output_type": "stream",
     "text": [
      "0.8200000000000001\n"
     ]
    },
    {
     "data": {
      "text/plain": [
       "{'impute__n_neighbors': 2,\n",
       " 'model__base_estimator__criterion': 'gini',\n",
       " 'model__base_estimator__max_leaf_nodes': 30,\n",
       " 'model__n_estimators': 100}"
      ]
     },
     "execution_count": 37,
     "metadata": {},
     "output_type": "execute_result"
    }
   ],
   "source": [
    "print('{}'.format(gs.best_score_))\n",
    "gs.best_params_"
   ]
  },
  {
   "cell_type": "code",
   "execution_count": 38,
   "id": "731c2f5a",
   "metadata": {},
   "outputs": [
    {
     "data": {
      "text/plain": [
       "0.8601398601398601"
      ]
     },
     "execution_count": 38,
     "metadata": {},
     "output_type": "execute_result"
    }
   ],
   "source": [
    "accuracy_score(y_te, gs.predict(X_te))"
   ]
  },
  {
   "cell_type": "markdown",
   "id": "b6c66103",
   "metadata": {},
   "source": [
    "\n",
    "\n",
    "# PipeLine to impute and modelling"
   ]
  },
  {
   "cell_type": "code",
   "execution_count": 50,
   "id": "e9e66b1d",
   "metadata": {},
   "outputs": [],
   "source": [
    "classifier = Pipeline([('impute', imputer), \n",
    "                       ('model', model)])"
   ]
  },
  {
   "cell_type": "markdown",
   "id": "a59dca53",
   "metadata": {},
   "source": [
    "# Tuning Hyperparametres"
   ]
  },
  {
   "cell_type": "code",
   "execution_count": 9,
   "id": "90b3929c",
   "metadata": {},
   "outputs": [],
   "source": [
    "cv = RepeatedStratifiedKFold(n_splits=10, n_repeats=3)"
   ]
  },
  {
   "cell_type": "code",
   "execution_count": 51,
   "id": "aa9973a8",
   "metadata": {},
   "outputs": [],
   "source": [
    "#gs = RandomizedSearchCV(classifier, param_distributions=param_grid, cv=cv, n_jobs=-1, n_iter=125)\n",
    "gs = GridSearchCV(classifier, param_grid=param_grid, cv=cv, n_jobs=-1, scoring=None)"
   ]
  },
  {
   "cell_type": "code",
   "execution_count": 52,
   "id": "ec4a969e",
   "metadata": {},
   "outputs": [
    {
     "data": {
      "text/plain": [
       "GridSearchCV(cv=RepeatedStratifiedKFold(n_repeats=3, n_splits=10, random_state=None),\n",
       "             estimator=Pipeline(steps=[('impute',\n",
       "                                        IterativeImputer(max_iter=20)),\n",
       "                                       ('model',\n",
       "                                        RandomForestClassifier(n_jobs=-1))]),\n",
       "             n_jobs=-1,\n",
       "             param_grid=[{'impute__imputation_order': ['ascending',\n",
       "                                                       'descending', 'roman',\n",
       "                                                       'arabic', 'random'],\n",
       "                          'model__class_weight': [None, 'balanced',\n",
       "                                                  'balanced_subsample'],\n",
       "                          'model__criterion': ['gini', 'entropy'],\n",
       "                          'model__max_features': ['sqrt', 'log2'],\n",
       "                          'model__n_estimators': [10, 100, 1000]}])"
      ]
     },
     "execution_count": 52,
     "metadata": {},
     "output_type": "execute_result"
    }
   ],
   "source": [
    "gs.fit(X_tr, y_tr)"
   ]
  },
  {
   "cell_type": "code",
   "execution_count": 45,
   "id": "f62ec599",
   "metadata": {},
   "outputs": [
    {
     "data": {
      "text/plain": [
       "0.8217597597597597"
      ]
     },
     "execution_count": 45,
     "metadata": {},
     "output_type": "execute_result"
    }
   ],
   "source": [
    "gs.best_score_"
   ]
  },
  {
   "cell_type": "code",
   "execution_count": 46,
   "id": "864d4236",
   "metadata": {},
   "outputs": [
    {
     "data": {
      "text/plain": [
       "{'impute__n_neighbors': 3,\n",
       " 'model__learning_rate': 0.001,\n",
       " 'model__max_depth': 9,\n",
       " 'model__n_estimators': 1000,\n",
       " 'model__subsample': 0.5}"
      ]
     },
     "execution_count": 46,
     "metadata": {},
     "output_type": "execute_result"
    }
   ],
   "source": [
    "gs.best_params_"
   ]
  },
  {
   "cell_type": "code",
   "execution_count": 47,
   "id": "aec017eb",
   "metadata": {},
   "outputs": [
    {
     "data": {
      "text/plain": [
       "0.8461538461538461"
      ]
     },
     "execution_count": 47,
     "metadata": {},
     "output_type": "execute_result"
    }
   ],
   "source": [
    "accuracy_score(y_te, gs.predict(X_te))"
   ]
  },
  {
   "cell_type": "code",
   "execution_count": null,
   "id": "0ce36b95",
   "metadata": {},
   "outputs": [],
   "source": []
  },
  {
   "cell_type": "markdown",
   "id": "92c1745a",
   "metadata": {},
   "source": [
    "# reproducing the best score"
   ]
  },
  {
   "cell_type": "code",
   "execution_count": 30,
   "id": "3a167c7f",
   "metadata": {},
   "outputs": [],
   "source": [
    "X_tr, X_te, y_tr, y_te = train_test_split(X, y, stratify=y, test_size=0.16)"
   ]
  },
  {
   "cell_type": "code",
   "execution_count": 18,
   "id": "76c957f6",
   "metadata": {},
   "outputs": [],
   "source": [
    "impute = IterativeImputer(imputation_order='arabic')\n",
    "model = GradientBoostingClassifier(learning_rate=0.01, max_depth=9, n_estimators=100, subsample=0.5)\n",
    "\n",
    "classifier = Pipeline([('i', impute),\n",
    "                       ('m', model)])\n",
    "\n",
    "cv = RepeatedStratifiedKFold(n_splits=10, n_repeats=3)\n",
    "\n",
    "score = cross_val_score(classifier, X_tr, y_tr, cv=cv, scoring='accuracy', n_jobs=-1)\n",
    "\n",
    "\n",
    "\n",
    "# {'impute__imputation_order': 'arabic',\n",
    "#  'model__learning_rate': 0.01,\n",
    "#  'model__max_depth': 9,\n",
    "#  'model__n_estimators': 100,\n",
    "#  'model__subsample': 0.5}"
   ]
  },
  {
   "cell_type": "code",
   "execution_count": 19,
   "id": "c2101e48",
   "metadata": {},
   "outputs": [
    {
     "name": "stdout",
     "output_type": "stream",
     "text": [
      "training score: 0.8141\n"
     ]
    }
   ],
   "source": [
    "print('training score: {:.4f}'.format(score.mean()))"
   ]
  },
  {
   "cell_type": "code",
   "execution_count": 35,
   "id": "bbc0e0ab",
   "metadata": {},
   "outputs": [
    {
     "data": {
      "text/plain": [
       "Pipeline(steps=[('i', IterativeImputer(imputation_order='arabic')),\n",
       "                ('m',\n",
       "                 GradientBoostingClassifier(learning_rate=0.01, max_depth=9,\n",
       "                                            subsample=0.5))])"
      ]
     },
     "execution_count": 35,
     "metadata": {},
     "output_type": "execute_result"
    }
   ],
   "source": [
    "classifier.fit(X_tr, y_tr)"
   ]
  },
  {
   "cell_type": "code",
   "execution_count": 36,
   "id": "1db6baef",
   "metadata": {},
   "outputs": [
    {
     "name": "stdout",
     "output_type": "stream",
     "text": [
      "test score: 0.8042\n"
     ]
    }
   ],
   "source": [
    "print('test score: {:.4f}'.format(accuracy_score(y_te, classifier.predict(X_te))) )"
   ]
  },
  {
   "cell_type": "markdown",
   "id": "be8a8ec6",
   "metadata": {},
   "source": [
    "## Tools"
   ]
  },
  {
   "cell_type": "code",
   "execution_count": 3,
   "id": "0c1b5f9e",
   "metadata": {},
   "outputs": [],
   "source": [
    "def Fare(s):\n",
    "    #s['FareBand'] = pd.qcut(s['Fare'], 4)\n",
    "    s.loc[ s['Fare'] <= 7.91, 'Fare'] = 0\n",
    "    s.loc[(s['Fare'] > 7.91) & (s['Fare'] <= 14.454), 'Fare'] = 1\n",
    "    s.loc[(s['Fare'] > 14.454) & (s['Fare'] <= 31), 'Fare']   = 2\n",
    "    s.loc[ s['Fare'] > 31, 'Fare'] = 3\n",
    "\n",
    "    #Cambiar tipo de columna\n",
    "    s['Fare'] = s['Fare'].astype(int)\n",
    "    \n",
    "    return s\n",
    "\n",
    "def Age(s): #if it uses 2 times it will set all values to 1.0\n",
    "            #recive a copy\n",
    "            #does not touch nan values\n",
    "    s.loc[(s.Age <= 13), 'Age'] = 1\n",
    "    s.loc[(s.Age > 13) & (s.Age <= 18), 'Age'] = 2\n",
    "    s.loc[(s.Age > 18) & (s.Age <= 30), 'Age'] = 3\n",
    "    s.loc[(s.Age > 30) & (s.Age <= 50), 'Age'] = 4\n",
    "    s.loc[(s.Age > 50), 'Age'] = 5\n",
    "    \n",
    "    return s\n",
    "\n",
    "def FamilySize(s):\n",
    "    s['FamilySize'] = s['SibSp'] +  s['Parch'] + 1\n",
    "    \n",
    "    s['FamilySize'] = s['FamilySize'].astype(int)\n",
    "    #s['Survived'] = s['Survived'].astype(int)\n",
    "    \n",
    "    s['IsAlone'] = 0\n",
    "    s.loc[s['FamilySize'] == 1, 'IsAlone'] = 1\n",
    "    \n",
    "    return s.drop(columns=['SibSp', 'Parch', 'FamilySize']).copy()\n",
    "\n",
    "def Titles(s):\n",
    "    #str.extract(' ([A-Za-z]+)\\.')\n",
    "    s['Title'] = s['Name'].str.extract(' ([A-Za-z]+)\\.')\n",
    "    s['Title'] = s['Title'].replace(['Lady', 'Countess','Capt', 'Col', 'Don', 'Dr',                                       \n",
    "                                    'Major', 'Rev', 'Sir', 'Jonkheer', 'Dona'], 'Other')\n",
    "    s['Title'] = s['Title'].replace(['Mlle', 'Ms'], 'Miss')\n",
    "    s['Title'] = s['Title'].replace(['Mme'], 'Mrs')\n",
    "    \n",
    "    return s.drop(columns='Name').copy()\n",
    "\n",
    "def SexEmbarkedTitle_to_OneHot(s):\n",
    "    encoder = OneHotEncoder(handle_unknown='ignore', sparse=False)\n",
    "    #s.columns\n",
    "    \n",
    "    # ['Survived', 'Pclass', 'Name', 'Sex', 'Age', 'SibSp', 'Parch', 'Ticket', 'Fare', 'Cabin', 'Embarked']\n",
    "    \n",
    "    cat_features = ['Sex', 'Title']\n",
    "    res_features = ['Survived', 'Pclass', 'Age', 'Fare', 'Embarked', 'IsAlone']\n",
    "    \n",
    "    transformer = ColumnTransformer([('cat', encoder, cat_features)], remainder='passthrough')\n",
    "    \n",
    "    transformer.fit(s)\n",
    "    \n",
    "    tranformed_names = transformer.named_transformers_['cat'].get_feature_names_out(cat_features)\n",
    "    #tranformed_names\n",
    "    \n",
    "    new_names = np.append(tranformed_names, res_features)\n",
    "    \n",
    "    return pd.DataFrame(transformer.transform(s), columns=new_names)\n",
    "\n",
    "\n",
    "# Para prepara el df para age y embarked prediction\n",
    "\n",
    "def Age_Embarked(df):\n",
    "\n",
    "    age_X_te = df.loc[df.Age.isna()].copy()\n",
    "    embarked_X_te = df.loc[df.Embarked.isna()].copy()\n",
    "\n",
    "    embarked_X_te.drop(columns=['Embarked'], inplace=True)\n",
    "    age_X_te.drop(columns=['Age'], inplace=True)\n",
    "\n",
    "\n",
    "    age_X_tr = df.dropna(subset=['Age', 'Embarked']).copy()\n",
    "    age_y_tr = age_X_tr.Age\n",
    "\n",
    "\n",
    "    embarked_X_tr = df.dropna(subset=['Age', 'Embarked']).copy()\n",
    "    embarked_y_tr = embarked_X_tr.Embarked\n",
    "\n",
    "    # to leave the df with all columns\n",
    "    # age_X_tr.drop(columns=['Age'], inplace=True)\n",
    "    # embarked_X_tr.drop(columns=['Embarked'], inplace=True)\n",
    "    \n",
    "    return (age_X_te, embarked_X_te, age_X_tr, age_y_tr, embarked_X_tr, embarked_y_tr)\n",
    "\n",
    "def get_x_y(df, y):\n",
    "    #resives an copy of a df and return X_tr, y_tr\n",
    "    X_tr = df.drop(columns=[y])\n",
    "    y_tr = df[y]\n",
    "    \n",
    "    return X_tr, y_tr\n",
    "\n",
    "\n",
    "\n",
    "#temp01 = temp01.drop(columns=['Ticket', 'Cabin'])\n",
    "\n",
    "def clean_data(df=None):\n",
    "    '''This function uses Title(), Fare(), Age(), FamilySize()\n",
    "       functions to clean up the Data Fram that it recives.\n",
    "    '''\n",
    "    \n",
    "    d_clean = Titles(df)\n",
    "    d_clean = Fare(d_clean)\n",
    "    d_clean = Age(d_clean)\n",
    "    d_clean = FamilySize(d_clean)\n",
    "\n",
    "    #OneHot aplied\n",
    "    d_clean.drop(columns=['Ticket', 'Cabin'], inplace=True)\n",
    "\n",
    "    d_clean = SexEmbarkedTitle_to_OneHot(d_clean)\n",
    "    \n",
    "    d_clean['Embarked'] = d_clean['Embarked'].map( {'S': 0, 'C': 1, 'Q': 2})#.astype(int)\n",
    "        \n",
    "    return d_clean\n",
    "\n",
    "\n",
    "#Converting clean_data(df) function into one that \n",
    "#can be used in a pipeline\n",
    "#cleanDataFrame = FunctionTransformer(clean_data)\n"
   ]
  },
  {
   "cell_type": "code",
   "execution_count": null,
   "id": "3512e1df",
   "metadata": {},
   "outputs": [],
   "source": []
  }
 ],
 "metadata": {
  "kernelspec": {
   "display_name": "Python 3 (ipykernel)",
   "language": "python",
   "name": "python3"
  },
  "language_info": {
   "codemirror_mode": {
    "name": "ipython",
    "version": 3
   },
   "file_extension": ".py",
   "mimetype": "text/x-python",
   "name": "python",
   "nbconvert_exporter": "python",
   "pygments_lexer": "ipython3",
   "version": "3.8.12"
  }
 },
 "nbformat": 4,
 "nbformat_minor": 5
}
