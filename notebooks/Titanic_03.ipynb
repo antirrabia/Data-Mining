{
 "cells": [
  {
   "cell_type": "code",
   "execution_count": 1,
   "id": "2679cf20",
   "metadata": {},
   "outputs": [],
   "source": [
    "from sklearn.experimental import enable_iterative_imputer\n",
    "\n",
    "from sklearn.ensemble import GradientBoostingClassifier\n",
    "from sklearn.model_selection import train_test_split, GridSearchCV\n",
    "from sklearn.model_selection import RepeatedStratifiedKFold, RandomizedSearchCV\n",
    "from sklearn.preprocessing import OneHotEncoder, FunctionTransformer\n",
    "from sklearn.preprocessing import OrdinalEncoder\n",
    "from sklearn.impute import IterativeImputer, KNNImputer\n",
    "from sklearn.compose import ColumnTransformer\n",
    "from sklearn.pipeline import Pipeline, FeatureUnion\n",
    "from sklearn.metrics import accuracy_score\n",
    "\n",
    "import matplotlib.pyplot as plt\n",
    "import pandas as pd\n",
    "import seaborn as sns\n",
    "import numpy as np\n",
    "import copy"
   ]
  },
  {
   "cell_type": "code",
   "execution_count": 2,
   "id": "1edab549",
   "metadata": {},
   "outputs": [],
   "source": [
    "d_tr = pd.read_csv('/Users/antirrabia/Documents/01-GitHub/DataMining-_-/CSV/Titanic/train.csv', index_col='PassengerId')\n",
    "d_te = pd.read_csv('/Users/antirrabia/Documents/01-GitHub/DataMining-_-/CSV/Titanic/test.csv', index_col=0)"
   ]
  },
  {
   "cell_type": "code",
   "execution_count": 3,
   "id": "bc1f73b9",
   "metadata": {},
   "outputs": [],
   "source": [
    "X = d_tr.drop(columns='Survived').copy()\n",
    "y = d_tr.Survived.copy().astype('int') #To avoid getting an error that 'y' is unknown"
   ]
  },
  {
   "cell_type": "markdown",
   "id": "b9a46537",
   "metadata": {},
   "source": [
    "> Cleaning and encoding __X__ precerving **nan**"
   ]
  },
  {
   "cell_type": "code",
   "execution_count": 7,
   "id": "67d91c79",
   "metadata": {},
   "outputs": [],
   "source": [
    "X = preprocesor.fit_transform(X)"
   ]
  },
  {
   "cell_type": "code",
   "execution_count": 8,
   "id": "093c77df",
   "metadata": {},
   "outputs": [],
   "source": [
    "X_tr, X_te, y_tr, y_te = train_test_split(X, y, stratify=y, test_size=0.16)"
   ]
  },
  {
   "cell_type": "markdown",
   "id": "0e56b065",
   "metadata": {},
   "source": [
    "# == -- GradientBoostingClassifier --=="
   ]
  },
  {
   "cell_type": "code",
   "execution_count": 23,
   "id": "da4b140f",
   "metadata": {},
   "outputs": [],
   "source": [
    "model = GradientBoostingClassifier()\n",
    "\n",
    "# imputer = KNNImputer()\n",
    "imputer = IterativeImputer(max_iter=20) #default is 10 iteractions\n",
    "\n",
    "param_grid = [{ #regular grid search took about 1 ahour with KNNImputer\n",
    "            'model__n_estimators': [10, 100, 1000],\n",
    "            'model__learning_rate': [0.001, 0.01, 0.1],\n",
    "            'model__subsample': [0.5, 0.7, 1.0],\n",
    "            'model__max_depth': [3, 7, 9],\n",
    "    \n",
    "            'impute__imputation_order': ['ascending', 'descending', 'roman', 'arabic', 'random']\n",
    "#             'impute__n_neighbors': [1,2,3,5,7,11,13,17,19]\n",
    "              }]"
   ]
  },
  {
   "cell_type": "code",
   "execution_count": null,
   "id": "e4bf9ae5",
   "metadata": {},
   "outputs": [],
   "source": []
  },
  {
   "cell_type": "code",
   "execution_count": 24,
   "id": "26805ec4",
   "metadata": {},
   "outputs": [],
   "source": [
    "classifier = Pipeline([\n",
    "                       ('impute', imputer),\n",
    "                       ('model', model)\n",
    "                      ])\n",
    "\n",
    "cv = RepeatedStratifiedKFold(n_splits=10, n_repeats=3)\n",
    "\n",
    "gs = GridSearchCV(classifier, param_grid=param_grid, cv=cv, n_jobs=-1, scoring='accuracy', verbose=1)\n",
    "\n",
    "# rs = RandomizedSearchCV(classifier, param_distributions=param_grid, cv=cv, n_jobs=-1, \n",
    "#                         scoring='accuracy', n_iter=50, verbose=1)\n"
   ]
  },
  {
   "cell_type": "code",
   "execution_count": 25,
   "id": "78e999e7",
   "metadata": {},
   "outputs": [
    {
     "name": "stdout",
     "output_type": "stream",
     "text": [
      "Fitting 30 folds for each of 405 candidates, totalling 12150 fits\n"
     ]
    },
    {
     "data": {
      "text/plain": [
       "GridSearchCV(cv=RepeatedStratifiedKFold(n_repeats=3, n_splits=10, random_state=None),\n",
       "             estimator=Pipeline(steps=[('impute',\n",
       "                                        IterativeImputer(max_iter=20)),\n",
       "                                       ('model',\n",
       "                                        GradientBoostingClassifier())]),\n",
       "             n_jobs=-1,\n",
       "             param_grid=[{'impute__imputation_order': ['ascending',\n",
       "                                                       'descending', 'roman',\n",
       "                                                       'arabic', 'random'],\n",
       "                          'model__learning_rate': [0.001, 0.01, 0.1],\n",
       "                          'model__max_depth': [3, 7, 9],\n",
       "                          'model__n_estimators': [10, 100, 1000],\n",
       "                          'model__subsample': [0.5, 0.7, 1.0]}],\n",
       "             scoring='accuracy', verbose=1)"
      ]
     },
     "execution_count": 25,
     "metadata": {},
     "output_type": "execute_result"
    }
   ],
   "source": [
    "gs.fit(X_tr, y_tr)"
   ]
  },
  {
   "cell_type": "markdown",
   "id": "07182544",
   "metadata": {},
   "source": [
    "# KNN"
   ]
  },
  {
   "cell_type": "code",
   "execution_count": 22,
   "id": "f61ab7ac",
   "metadata": {},
   "outputs": [
    {
     "name": "stdout",
     "output_type": "stream",
     "text": [
      "Training score: 0.8119\n",
      "Test score    : 0.7762\n"
     ]
    },
    {
     "data": {
      "text/plain": [
       "{'impute__n_neighbors': 1,\n",
       " 'model__learning_rate': 0.1,\n",
       " 'model__max_depth': 3,\n",
       " 'model__n_estimators': 1000,\n",
       " 'model__subsample': 1.0}"
      ]
     },
     "execution_count": 22,
     "metadata": {},
     "output_type": "execute_result"
    }
   ],
   "source": [
    "# GridSearch 21870 fit about 80 minutes\n",
    "print('Training score: {:.4f}'.format(gs.best_score_))\n",
    "print('Test score    : {:.4f}'.format(accuracy_score(y_te, gs.predict(X_te))))\n",
    "gs.best_params_"
   ]
  },
  {
   "cell_type": "markdown",
   "id": "a2758815",
   "metadata": {},
   "source": [
    "# Iteractive"
   ]
  },
  {
   "cell_type": "code",
   "execution_count": 26,
   "id": "ee794397",
   "metadata": {},
   "outputs": [
    {
     "name": "stdout",
     "output_type": "stream",
     "text": [
      "Training score: 0.8093\n",
      "Test score    : 0.7832\n"
     ]
    },
    {
     "data": {
      "text/plain": [
       "{'impute__imputation_order': 'ascending',\n",
       " 'model__learning_rate': 0.01,\n",
       " 'model__max_depth': 9,\n",
       " 'model__n_estimators': 1000,\n",
       " 'model__subsample': 0.7}"
      ]
     },
     "execution_count": 26,
     "metadata": {},
     "output_type": "execute_result"
    }
   ],
   "source": [
    "# around 50 minutes and get the same result of RandomizedSearchCV= n_iter=50 (20 minutes)\n",
    "# GridSearch 12150 fit\n",
    "print('Training score: {:.4f}'.format(gs.best_score_))\n",
    "print('Test score    : {:.4f}'.format(accuracy_score(y_te, gs.predict(X_te))))\n",
    "gs.best_params_"
   ]
  },
  {
   "cell_type": "code",
   "execution_count": null,
   "id": "418a18a7",
   "metadata": {},
   "outputs": [],
   "source": []
  },
  {
   "cell_type": "markdown",
   "id": "a70eedb3",
   "metadata": {},
   "source": [
    "> __Custom Functions__"
   ]
  },
  {
   "cell_type": "code",
   "execution_count": 4,
   "id": "bd9a8b1e",
   "metadata": {},
   "outputs": [],
   "source": [
    "def isCabinNan(df):\n",
    "    ''' Recive a data frame'''\n",
    "           \n",
    "    df = copy.deepcopy(df)\n",
    "    \n",
    "    s = pd.DataFrame(df['Cabin'].notnull().astype('int'), columns=['Cabin'])\n",
    "    \n",
    "    return s\n",
    "\n",
    "def encodeFare(df):\n",
    "    ''' '''\n",
    "    \n",
    "    s = copy.deepcopy(df)\n",
    "    \n",
    "    s[ (s <= 7.91) ] = 0\n",
    "    s[(s > 7.91) & (s <= 14.454)] = 1\n",
    "    s[(s > 14.454) & (s <= 31)]   = 2\n",
    "    s[ (s > 31) ] = 3\n",
    "    \n",
    "    return s\n",
    "\n",
    "def encodeAge(df):                       \n",
    "    ''' Recive a pd Data Frame '''        \n",
    "                                        \n",
    "    \n",
    "    s = copy.deepcopy(df)\n",
    "    \n",
    "    s.loc[(s.Age <= 13), 'Age'] = 1\n",
    "    s.loc[(s.Age > 13) & (s.Age <= 18), 'Age'] = 2\n",
    "    s.loc[(s.Age > 18) & (s.Age <= 30), 'Age'] = 3\n",
    "    s.loc[(s.Age > 30) & (s.Age <= 50), 'Age'] = 4\n",
    "    s.loc[(s.Age > 50), 'Age'] = 5\n",
    "    \n",
    "#     s[(s <= 13)] = 1\n",
    "#     s[(s > 13) & (s <= 18)] = 2\n",
    "#     s[(s > 18) & (s <= 30)] = 3\n",
    "#     s[(s > 30) & (s <= 50)] = 4\n",
    "#     s[(s > 50)] = 5\n",
    "    \n",
    "    return s\n",
    "\n",
    "def familySize(df):\n",
    "    ''' Recive a data frama'''\n",
    "    \n",
    "    s = np.zeros( (len(df.index), 1) )\n",
    "    \n",
    "    # if overall members family are equeal to 1 mean they ar alone\n",
    "    s[ ( (df['SibSp'] +  df['Parch'] + 1) == 1 ) ] = 1\n",
    "    \n",
    "    return s\n",
    "\n",
    "def getTitles(df):\n",
    "    ''' Recive a data frame'''\n",
    "    \n",
    "    s = copy.deepcopy(df)\n",
    "    \n",
    "    s['Title'] = s['Name'].str.extract(' ([A-Za-z]+)\\.')\n",
    "    s['Title'] = s['Title'].replace(['Lady', 'Countess','Capt', 'Col', 'Don', 'Dr',                                       \n",
    "                                    'Major', 'Rev', 'Sir', 'Jonkheer', 'Dona'], 'Other')\n",
    "    s['Title'] = s['Title'].replace(['Mlle', 'Ms'], 'Miss')\n",
    "    s['Title'] = s['Title'].replace(['Mme'], 'Mrs')\n",
    "    \n",
    "#     resulting titles = 'Mr', 'Miss', 'Mrs', 'Master', 'Other'\n",
    "    \n",
    "    s = s.drop(columns='Name').copy()\n",
    "    \n",
    "    return s\n",
    "    \n",
    "def encodeSex(df):\n",
    "    ''' Recive a data frame'''\n",
    "    \n",
    "    s = copy.deepcopy(df)\n",
    "    oh = OneHotEncoder(handle_unknown='ignore', sparse=False)\n",
    "    \n",
    "    return oh.fit_transform(s)\n",
    "\n",
    "\n",
    "isCabinNan_func = FunctionTransformer(isCabinNan, validate=False)\n",
    "getTitles_func = FunctionTransformer(getTitles, validate=False)\n",
    "fare_func = FunctionTransformer(encodeFare, validate=False)\n",
    "age_func = FunctionTransformer(encodeAge, validate=False)\n",
    "familySize_func = FunctionTransformer(familySize, validate=False)\n",
    "codeSex_func = FunctionTransformer(encodeSex, validate=False)\n",
    "\n"
   ]
  },
  {
   "cell_type": "markdown",
   "id": "cc5cdc4f",
   "metadata": {},
   "source": [
    "> Transformers"
   ]
  },
  {
   "cell_type": "code",
   "execution_count": 5,
   "id": "2cae5844",
   "metadata": {},
   "outputs": [],
   "source": [
    "## Age\n",
    "age_trans = ColumnTransformer([\n",
    "                                ('age', age_func, ['Age']) \n",
    "                               ])\n",
    "\n",
    "## Embarked\n",
    "embar_trans = ColumnTransformer([             # this returns a np.array\n",
    "                                  ('embarked', OrdinalEncoder(), ['Embarked'])\n",
    "                                 ])\n",
    "\n",
    "## Fare\n",
    "fare_trans = ColumnTransformer([\n",
    "                                ('encode', fare_func, ['Fare'])\n",
    "                               ])\n",
    "\n",
    "## 'SibSp', 'Parch' -> IsAlone\n",
    "familySize_trans = ColumnTransformer([\n",
    "                                      ('size', familySize_func, ['SibSp', 'Parch'])\n",
    "                                     ])\n",
    "\n",
    "## Sex\n",
    "sex_trans = ColumnTransformer([\n",
    "                               ('sex', OneHotEncoder(handle_unknown='ignore', sparse=False), ['Sex']) #creo puedo usar directo oneHot encoder\n",
    "                              ])                              #OneHotEncoder(handle_unknown='ignore', sparse=False)\n",
    "\n",
    "## names -> Titles\n",
    "getTitles_trans = ColumnTransformer([\n",
    "                                     ('titles', getTitles_func, ['Name'])\n",
    "                                    ])\n",
    "\n",
    "encodeTiles_trans = Pipeline([\n",
    "                              ('title_trans', getTitles_trans), \n",
    "                              ('oh', OneHotEncoder(handle_unknown='ignore', sparse=False)) #if sparce = true\n",
    "                             ])                                             # returns scipy.sparse.csr.csr_matrix\n",
    "\n",
    "## Cabin \n",
    "isCabinNan_trans = ColumnTransformer([ \n",
    "                                      ('cabin', isCabinNan_func, ['Cabin'])\n",
    "                                     ])\n",
    "\n",
    "\n"
   ]
  },
  {
   "cell_type": "markdown",
   "id": "af39b618",
   "metadata": {},
   "source": [
    "> Preprocesor"
   ]
  },
  {
   "cell_type": "code",
   "execution_count": 6,
   "id": "9eb46339",
   "metadata": {},
   "outputs": [],
   "source": [
    "preprocesor = FeatureUnion([                                            \n",
    "                            ('age_t', age_trans),        # add 1 colunm  \n",
    "                            ('embarked_t', embar_trans), # add 1 colunm \n",
    "                            ('fare', fare_trans),        # add 1 colunm \n",
    "                            ('size', familySize_trans),  # add 1 colunm\n",
    "                            ('sex', sex_trans),          # add 2 colunm\n",
    "                            ('title', encodeTiles_trans),# add 5 colunm\n",
    "                            ('cabin', isCabinNan_trans)  # add 1 colunm\n",
    "                           ])"
   ]
  },
  {
   "cell_type": "code",
   "execution_count": null,
   "id": "b0f9857d",
   "metadata": {},
   "outputs": [],
   "source": []
  },
  {
   "cell_type": "code",
   "execution_count": null,
   "id": "3dcc4217",
   "metadata": {},
   "outputs": [],
   "source": []
  },
  {
   "cell_type": "code",
   "execution_count": null,
   "id": "a49991af",
   "metadata": {},
   "outputs": [],
   "source": []
  },
  {
   "cell_type": "markdown",
   "id": "1a8107e9",
   "metadata": {},
   "source": [
    "# to test diferent parts of the code"
   ]
  },
  {
   "cell_type": "code",
   "execution_count": 31,
   "id": "b6dc65f5",
   "metadata": {
    "scrolled": false
   },
   "outputs": [
    {
     "name": "stdout",
     "output_type": "stream",
     "text": [
      "<class 'numpy.ndarray'>\n"
     ]
    },
    {
     "data": {
      "text/plain": [
       "array([[ 4.,  2.,  1.,  1.,  0.,  1.,  0.,  0.,  1.,  0.,  0.,  0.],\n",
       "       [nan,  2.,  0.,  1.,  0.,  1.,  0.,  0.,  1.,  0.,  0.,  1.],\n",
       "       [ 3.,  2.,  1.,  1.,  1.,  0.,  0.,  1.,  0.,  0.,  0.,  0.],\n",
       "       [ 4.,  0.,  3.,  0.,  0.,  1.,  0.,  0.,  1.,  0.,  0.,  0.],\n",
       "       [ 4.,  2.,  0.,  1.,  0.,  1.,  0.,  0.,  1.,  0.,  0.,  0.],\n",
       "       [ 1.,  2.,  2.,  0.,  0.,  1.,  1.,  0.,  0.,  0.,  0.,  0.],\n",
       "       [ 5.,  2.,  3.,  0.,  1.,  0.,  0.,  0.,  0.,  1.,  0.,  1.],\n",
       "       [ 3.,  2.,  1.,  1.,  0.,  1.,  0.,  0.,  1.,  0.,  0.,  0.],\n",
       "       [ 4.,  2.,  0.,  1.,  0.,  1.,  0.,  0.,  0.,  0.,  1.,  0.],\n",
       "       [ 3.,  2.,  1.,  0.,  1.,  0.,  0.,  0.,  0.,  1.,  0.,  1.],\n",
       "       [ 1.,  2.,  3.,  0.,  0.,  1.,  1.,  0.,  0.,  0.,  0.,  0.],\n",
       "       [nan,  1.,  0.,  1.,  0.,  1.,  0.,  0.,  1.,  0.,  0.,  0.],\n",
       "       [nan,  2.,  3.,  1.,  0.,  1.,  0.,  0.,  1.,  0.,  0.,  0.],\n",
       "       [ 1.,  0.,  3.,  0.,  0.,  1.,  1.,  0.,  0.,  0.,  0.,  0.],\n",
       "       [nan,  1.,  0.,  1.,  0.,  1.,  0.,  0.,  1.,  0.,  0.,  0.],\n",
       "       [ 5., nan,  3.,  1.,  1.,  0.,  0.,  0.,  0.,  1.,  0.,  1.],\n",
       "       [ 2.,  0.,  2.,  0.,  1.,  0.,  0.,  0.,  0.,  1.,  0.,  0.],\n",
       "       [ 1.,  2.,  2.,  0.,  0.,  1.,  1.,  0.,  0.,  0.,  0.,  0.],\n",
       "       [nan,  0.,  0.,  1.,  0.,  1.,  0.,  0.,  1.,  0.,  0.,  0.],\n",
       "       [ 3.,  2.,  0.,  1.,  0.,  1.,  0.,  0.,  1.,  0.,  0.,  0.]])"
      ]
     },
     "execution_count": 31,
     "metadata": {},
     "output_type": "execute_result"
    }
   ],
   "source": [
    "data = preprocesor.fit_transform(d_tr)\n",
    "print(type(data))\n",
    "data[814:834]"
   ]
  },
  {
   "cell_type": "code",
   "execution_count": 17,
   "id": "542ba9db",
   "metadata": {},
   "outputs": [
    {
     "data": {
      "text/html": [
       "<div>\n",
       "<style scoped>\n",
       "    .dataframe tbody tr th:only-of-type {\n",
       "        vertical-align: middle;\n",
       "    }\n",
       "\n",
       "    .dataframe tbody tr th {\n",
       "        vertical-align: top;\n",
       "    }\n",
       "\n",
       "    .dataframe thead th {\n",
       "        text-align: right;\n",
       "    }\n",
       "</style>\n",
       "<table border=\"1\" class=\"dataframe\">\n",
       "  <thead>\n",
       "    <tr style=\"text-align: right;\">\n",
       "      <th></th>\n",
       "      <th>Survived</th>\n",
       "      <th>Pclass</th>\n",
       "      <th>Name</th>\n",
       "      <th>Sex</th>\n",
       "      <th>Age</th>\n",
       "      <th>SibSp</th>\n",
       "      <th>Parch</th>\n",
       "      <th>Ticket</th>\n",
       "      <th>Fare</th>\n",
       "      <th>Cabin</th>\n",
       "      <th>Embarked</th>\n",
       "    </tr>\n",
       "    <tr>\n",
       "      <th>PassengerId</th>\n",
       "      <th></th>\n",
       "      <th></th>\n",
       "      <th></th>\n",
       "      <th></th>\n",
       "      <th></th>\n",
       "      <th></th>\n",
       "      <th></th>\n",
       "      <th></th>\n",
       "      <th></th>\n",
       "      <th></th>\n",
       "      <th></th>\n",
       "    </tr>\n",
       "  </thead>\n",
       "  <tbody>\n",
       "    <tr>\n",
       "      <th>62</th>\n",
       "      <td>1</td>\n",
       "      <td>1</td>\n",
       "      <td>Icard, Miss. Amelie</td>\n",
       "      <td>female</td>\n",
       "      <td>38.0</td>\n",
       "      <td>0</td>\n",
       "      <td>0</td>\n",
       "      <td>113572</td>\n",
       "      <td>80.0</td>\n",
       "      <td>B28</td>\n",
       "      <td>NaN</td>\n",
       "    </tr>\n",
       "    <tr>\n",
       "      <th>830</th>\n",
       "      <td>1</td>\n",
       "      <td>1</td>\n",
       "      <td>Stone, Mrs. George Nelson (Martha Evelyn)</td>\n",
       "      <td>female</td>\n",
       "      <td>62.0</td>\n",
       "      <td>0</td>\n",
       "      <td>0</td>\n",
       "      <td>113572</td>\n",
       "      <td>80.0</td>\n",
       "      <td>B28</td>\n",
       "      <td>NaN</td>\n",
       "    </tr>\n",
       "  </tbody>\n",
       "</table>\n",
       "</div>"
      ],
      "text/plain": [
       "             Survived  Pclass                                       Name  \\\n",
       "PassengerId                                                                \n",
       "62                  1       1                        Icard, Miss. Amelie   \n",
       "830                 1       1  Stone, Mrs. George Nelson (Martha Evelyn)   \n",
       "\n",
       "                Sex   Age  SibSp  Parch  Ticket  Fare Cabin Embarked  \n",
       "PassengerId                                                           \n",
       "62           female  38.0      0      0  113572  80.0   B28      NaN  \n",
       "830          female  62.0      0      0  113572  80.0   B28      NaN  "
      ]
     },
     "execution_count": 17,
     "metadata": {},
     "output_type": "execute_result"
    }
   ],
   "source": [
    "d_tr[d_tr.Embarked.isna()]"
   ]
  },
  {
   "cell_type": "code",
   "execution_count": null,
   "id": "cc778c70",
   "metadata": {},
   "outputs": [],
   "source": []
  },
  {
   "cell_type": "code",
   "execution_count": null,
   "id": "2bfc5608",
   "metadata": {},
   "outputs": [],
   "source": []
  }
 ],
 "metadata": {
  "kernelspec": {
   "display_name": "Python 3 (ipykernel)",
   "language": "python",
   "name": "python3"
  },
  "language_info": {
   "codemirror_mode": {
    "name": "ipython",
    "version": 3
   },
   "file_extension": ".py",
   "mimetype": "text/x-python",
   "name": "python",
   "nbconvert_exporter": "python",
   "pygments_lexer": "ipython3",
   "version": "3.8.12"
  }
 },
 "nbformat": 4,
 "nbformat_minor": 5
}
