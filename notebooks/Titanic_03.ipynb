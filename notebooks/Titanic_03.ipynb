{
 "cells": [
  {
   "cell_type": "code",
   "execution_count": 82,
   "id": "2679cf20",
   "metadata": {},
   "outputs": [],
   "source": [
    "from sklearn.experimental import enable_iterative_imputer\n",
    "\n",
    "from sklearn.ensemble import GradientBoostingClassifier\n",
    "from sklearn.model_selection import train_test_split, GridSearchCV, cross_val_score\n",
    "from sklearn.model_selection import RepeatedStratifiedKFold, RandomizedSearchCV\n",
    "from sklearn.preprocessing import OneHotEncoder, FunctionTransformer\n",
    "from sklearn.preprocessing import OrdinalEncoder, LabelEncoder\n",
    "from sklearn.impute import IterativeImputer, KNNImputer\n",
    "from sklearn.compose import ColumnTransformer\n",
    "from sklearn.pipeline import Pipeline, FeatureUnion\n",
    "from sklearn.metrics import accuracy_score\n",
    "\n",
    "import xgboost as xgb\n",
    "\n",
    "import matplotlib.pyplot as plt\n",
    "import pandas as pd\n",
    "import seaborn as sns\n",
    "import numpy as np\n",
    "\n",
    "import copy\n",
    "import time"
   ]
  },
  {
   "cell_type": "code",
   "execution_count": 2,
   "id": "1edab549",
   "metadata": {},
   "outputs": [],
   "source": [
    "d_tr = pd.read_csv('/Users/antirrabia/Documents/01-GitHub/DataMining-_-/CSV/Titanic/train.csv', index_col='PassengerId')\n",
    "d_te = pd.read_csv('/Users/antirrabia/Documents/01-GitHub/DataMining-_-/CSV/Titanic/test.csv', index_col=0)"
   ]
  },
  {
   "cell_type": "code",
   "execution_count": 3,
   "id": "bc1f73b9",
   "metadata": {},
   "outputs": [],
   "source": [
    "X = d_tr.drop(columns='Survived').copy()\n",
    "# label = LabelEncoder()\n",
    "y = LabelEncoder().fit_transform(d_tr.Survived.copy())#.astype('int') #To avoid getting an error that 'y' is unknown"
   ]
  },
  {
   "cell_type": "markdown",
   "id": "b9a46537",
   "metadata": {},
   "source": [
    "> __Cleaning__ and encoding __X__ precerving **nan**"
   ]
  },
  {
   "cell_type": "code",
   "execution_count": 7,
   "id": "67d91c79",
   "metadata": {},
   "outputs": [
    {
     "data": {
      "text/plain": [
       "(891, 12)"
      ]
     },
     "execution_count": 7,
     "metadata": {},
     "output_type": "execute_result"
    }
   ],
   "source": [
    "X = preprocesor.fit_transform(X)\n",
    "X.shape"
   ]
  },
  {
   "cell_type": "markdown",
   "id": "d3510e8a",
   "metadata": {},
   "source": [
    "> __Train Test Split__"
   ]
  },
  {
   "cell_type": "code",
   "execution_count": 261,
   "id": "093c77df",
   "metadata": {},
   "outputs": [],
   "source": [
    "X_tr, X_te, y_tr, y_te = train_test_split(X, y, stratify=y, test_size=0.20)"
   ]
  },
  {
   "cell_type": "markdown",
   "id": "0e56b065",
   "metadata": {},
   "source": [
    "# == -- GradientBoostingClassifier --=="
   ]
  },
  {
   "cell_type": "code",
   "execution_count": 23,
   "id": "da4b140f",
   "metadata": {},
   "outputs": [],
   "source": [
    "model = GradientBoostingClassifier()\n",
    "\n",
    "# imputer = KNNImputer()\n",
    "imputer = IterativeImputer(max_iter=20) #default is 10 iteractions\n",
    "\n",
    "param_grid = [{ #regular grid search took about 1 ahour with KNNImputer\n",
    "            'model__n_estimators': [10, 100, 1000],\n",
    "            'model__learning_rate': [0.001, 0.01, 0.1],\n",
    "            'model__subsample': [0.5, 0.7, 1.0],\n",
    "            'model__max_depth': [3, 7, 9],\n",
    "    \n",
    "            'impute__imputation_order': ['ascending', 'descending', 'roman', 'arabic', 'random']\n",
    "#             'impute__n_neighbors': [1,2,3,5,7,11,13,17,19]\n",
    "              }]"
   ]
  },
  {
   "cell_type": "code",
   "execution_count": null,
   "id": "e4bf9ae5",
   "metadata": {},
   "outputs": [],
   "source": []
  },
  {
   "cell_type": "code",
   "execution_count": 24,
   "id": "26805ec4",
   "metadata": {},
   "outputs": [],
   "source": [
    "classifier = Pipeline([\n",
    "                       ('impute', imputer),\n",
    "                       ('model', model)\n",
    "                      ])\n",
    "\n",
    "cv = RepeatedStratifiedKFold(n_splits=10, n_repeats=3)\n",
    "\n",
    "gs = GridSearchCV(classifier, param_grid=param_grid, cv=cv, n_jobs=-1, scoring='accuracy', verbose=1)\n",
    "\n",
    "# rs = RandomizedSearchCV(classifier, param_distributions=param_grid, cv=cv, n_jobs=-1, \n",
    "#                         scoring='accuracy', n_iter=50, verbose=1)\n"
   ]
  },
  {
   "cell_type": "code",
   "execution_count": 25,
   "id": "78e999e7",
   "metadata": {},
   "outputs": [
    {
     "name": "stdout",
     "output_type": "stream",
     "text": [
      "Fitting 30 folds for each of 405 candidates, totalling 12150 fits\n"
     ]
    },
    {
     "data": {
      "text/plain": [
       "GridSearchCV(cv=RepeatedStratifiedKFold(n_repeats=3, n_splits=10, random_state=None),\n",
       "             estimator=Pipeline(steps=[('impute',\n",
       "                                        IterativeImputer(max_iter=20)),\n",
       "                                       ('model',\n",
       "                                        GradientBoostingClassifier())]),\n",
       "             n_jobs=-1,\n",
       "             param_grid=[{'impute__imputation_order': ['ascending',\n",
       "                                                       'descending', 'roman',\n",
       "                                                       'arabic', 'random'],\n",
       "                          'model__learning_rate': [0.001, 0.01, 0.1],\n",
       "                          'model__max_depth': [3, 7, 9],\n",
       "                          'model__n_estimators': [10, 100, 1000],\n",
       "                          'model__subsample': [0.5, 0.7, 1.0]}],\n",
       "             scoring='accuracy', verbose=1)"
      ]
     },
     "execution_count": 25,
     "metadata": {},
     "output_type": "execute_result"
    }
   ],
   "source": [
    "gs.fit(X_tr, y_tr)"
   ]
  },
  {
   "cell_type": "markdown",
   "id": "07182544",
   "metadata": {},
   "source": [
    "### KNN"
   ]
  },
  {
   "cell_type": "code",
   "execution_count": 22,
   "id": "f61ab7ac",
   "metadata": {},
   "outputs": [
    {
     "name": "stdout",
     "output_type": "stream",
     "text": [
      "Training score: 0.8119\n",
      "Test score    : 0.7762\n"
     ]
    },
    {
     "data": {
      "text/plain": [
       "{'impute__n_neighbors': 1,\n",
       " 'model__learning_rate': 0.1,\n",
       " 'model__max_depth': 3,\n",
       " 'model__n_estimators': 1000,\n",
       " 'model__subsample': 1.0}"
      ]
     },
     "execution_count": 22,
     "metadata": {},
     "output_type": "execute_result"
    }
   ],
   "source": [
    "# GridSearch 21870 fit about 80 minutes\n",
    "print('Training score: {:.4f}'.format(gs.best_score_))\n",
    "print('Test score    : {:.4f}'.format(accuracy_score(y_te, gs.predict(X_te))))\n",
    "gs.best_params_"
   ]
  },
  {
   "cell_type": "markdown",
   "id": "a2758815",
   "metadata": {},
   "source": [
    "### Iteractive"
   ]
  },
  {
   "cell_type": "code",
   "execution_count": 26,
   "id": "ee794397",
   "metadata": {},
   "outputs": [
    {
     "name": "stdout",
     "output_type": "stream",
     "text": [
      "Training score: 0.8093\n",
      "Test score    : 0.7832\n"
     ]
    },
    {
     "data": {
      "text/plain": [
       "{'impute__imputation_order': 'ascending',\n",
       " 'model__learning_rate': 0.01,\n",
       " 'model__max_depth': 9,\n",
       " 'model__n_estimators': 1000,\n",
       " 'model__subsample': 0.7}"
      ]
     },
     "execution_count": 26,
     "metadata": {},
     "output_type": "execute_result"
    }
   ],
   "source": [
    "# around 50 minutes and get the same result of RandomizedSearchCV= n_iter=50 (20 minutes)\n",
    "# GridSearch 12150 fit\n",
    "print('Training score: {:.4f}'.format(gs.best_score_))\n",
    "print('Test score    : {:.4f}'.format(accuracy_score(y_te, gs.predict(X_te))))\n",
    "gs.best_params_"
   ]
  },
  {
   "cell_type": "markdown",
   "id": "ed497d57",
   "metadata": {},
   "source": [
    "# === -- XGBOOST -- =="
   ]
  },
  {
   "cell_type": "markdown",
   "id": "90bbbabd",
   "metadata": {},
   "source": [
    "> RandomizedSearchCV"
   ]
  },
  {
   "cell_type": "code",
   "execution_count": 178,
   "id": "67178a2a",
   "metadata": {},
   "outputs": [
    {
     "name": "stdout",
     "output_type": "stream",
     "text": [
      "Fitting 7 folds for each of 750 candidates, totalling 5250 fits\n"
     ]
    }
   ],
   "source": [
    "model = xgb.XGBClassifier(use_label_encoder=False, eval_metric='logloss')\n",
    "\n",
    "param_grid = [{ #4*7*5*5*7*(cv=7)=34,300\n",
    "               'model__n_estimators': [503, 599, 673, 761, 857, 947, 1013], \n",
    "               'model__eta': [0.001, 0.002, 0.003, 0.004, 0.005, 0.006],\n",
    "               'model__max_depth': [1, 3, 5, 7, 11], \n",
    "               'model__subsample': [0.2, 0.3, 0.4, 0.5, 0.6, 0.7, 0.8], \n",
    "               'model__colsample_bytree': [0.2, 0.3, 0.4, 0.5], \n",
    "#                'model__colsample_bylevel': [0.4, 0.5, 0.6], \n",
    "#                'model__colsample_bynode':[0.4, 0.5, 0.6],\n",
    "               }]\n",
    "\n",
    "classifier = Pipeline([\n",
    "#                        ('impute', imputer),\n",
    "                       ('model', model)\n",
    "                      ])\n",
    "\n",
    "cv = RepeatedStratifiedKFold(n_splits=7, n_repeats=1)\n",
    "\n",
    "# gs = GridSearchCV(classifier, param_grid=param_grid, cv=cv, n_jobs=-1, scoring='neg_log_loss', verbose=1)\n",
    "\n",
    "rs = RandomizedSearchCV(classifier, param_distributions=param_grid, cv=cv, \n",
    "                         n_iter=750, scoring='neg_log_loss', verbose=1) #n_iter = cuantos modelos va a usar\n",
    "\n",
    "### =====---- Runing\n",
    "t0 = time.time()\n",
    "rs.fit(X_tr, y_tr)\n",
    "t1 = time.time()"
   ]
  },
  {
   "cell_type": "markdown",
   "id": "36c07713",
   "metadata": {},
   "source": [
    "# Scores DataFrame"
   ]
  },
  {
   "cell_type": "code",
   "execution_count": 189,
   "id": "cc801d50",
   "metadata": {},
   "outputs": [
    {
     "data": {
      "text/html": [
       "<div>\n",
       "<style scoped>\n",
       "    .dataframe tbody tr th:only-of-type {\n",
       "        vertical-align: middle;\n",
       "    }\n",
       "\n",
       "    .dataframe tbody tr th {\n",
       "        vertical-align: top;\n",
       "    }\n",
       "\n",
       "    .dataframe thead th {\n",
       "        text-align: right;\n",
       "    }\n",
       "</style>\n",
       "<table border=\"1\" class=\"dataframe\">\n",
       "  <thead>\n",
       "    <tr style=\"text-align: right;\">\n",
       "      <th></th>\n",
       "      <th>model__subsample</th>\n",
       "      <th>model__n_estimators</th>\n",
       "      <th>model__max_depth</th>\n",
       "      <th>model__eta</th>\n",
       "      <th>model__colsample_bytree</th>\n",
       "      <th>best_score_</th>\n",
       "      <th>n_iter</th>\n",
       "      <th>total_fits</th>\n",
       "      <th>fit_time</th>\n",
       "    </tr>\n",
       "  </thead>\n",
       "  <tbody>\n",
       "    <tr>\n",
       "      <th>0</th>\n",
       "      <td>0.7</td>\n",
       "      <td>857</td>\n",
       "      <td>11</td>\n",
       "      <td>0.010</td>\n",
       "      <td>0.4</td>\n",
       "      <td>-0.438863</td>\n",
       "      <td>1500</td>\n",
       "      <td>10500</td>\n",
       "      <td>50.666010</td>\n",
       "    </tr>\n",
       "    <tr>\n",
       "      <th>1</th>\n",
       "      <td>0.8</td>\n",
       "      <td>1013</td>\n",
       "      <td>11</td>\n",
       "      <td>0.006</td>\n",
       "      <td>0.4</td>\n",
       "      <td>-0.447921</td>\n",
       "      <td>750</td>\n",
       "      <td>5250</td>\n",
       "      <td>25.605574</td>\n",
       "    </tr>\n",
       "  </tbody>\n",
       "</table>\n",
       "</div>"
      ],
      "text/plain": [
       "   model__subsample  model__n_estimators  model__max_depth  model__eta  \\\n",
       "0               0.7                  857                11       0.010   \n",
       "1               0.8                 1013                11       0.006   \n",
       "\n",
       "   model__colsample_bytree  best_score_  n_iter  total_fits   fit_time  \n",
       "0                      0.4    -0.438863    1500       10500  50.666010  \n",
       "1                      0.4    -0.447921     750        5250  25.605574  "
      ]
     },
     "execution_count": 189,
     "metadata": {},
     "output_type": "execute_result"
    }
   ],
   "source": [
    "best_params = rs.best_params_.copy()\n",
    "\n",
    "best_params.update({'best_score_':rs.best_score_, \n",
    "                    'n_iter':rs.n_iter, \n",
    "                    'total_fits':5250, \n",
    "                    'fit_time': (t1-t0)/60 \n",
    "                   })\n",
    "\n",
    "# best_params = {'model__subsample': 0.7, \n",
    "#                'model__n_estimators': 857, \n",
    "#                'model__max_depth': 11, \n",
    "#                'model__eta': 0.01, \n",
    "#                'model__colsample_bytree': 0.4\n",
    "#               }\n",
    "\n",
    "# best_params.update({'best_score_':-0.438863, \n",
    "#                     'n_iter':1500, \n",
    "#                     'total_fits':10500, \n",
    "#                     'fit_time': 50.666010 \n",
    "#                    })\n",
    "\n",
    "# #first time to make a DataFrame\n",
    "# values = pd.DataFrame.from_dict([best_params.copy()])\n",
    "\n",
    "# to add new score to a DataFrame\n",
    "temp_df = pd.DataFrame.from_dict([best_params])\n",
    "values = pd.concat([values, temp_df], axis=0, join='outer', ignore_index=True)\n",
    "\n",
    "values"
   ]
  },
  {
   "cell_type": "code",
   "execution_count": 387,
   "id": "a195a069",
   "metadata": {},
   "outputs": [],
   "source": [
    "values.to_csv('/Users/antirrabia/Documents/01-GitHub/DataMining-_-/CSV/Titanic/scores_grid_search.csv')"
   ]
  },
  {
   "cell_type": "code",
   "execution_count": 175,
   "id": "a718290f",
   "metadata": {},
   "outputs": [
    {
     "name": "stdout",
     "output_type": "stream",
     "text": [
      "10500\n",
      "50.66601836284001\n",
      "-0.43886318016128534\n",
      "{'model__subsample': 0.7, 'model__n_estimators': 857, 'model__max_depth': 11, 'model__eta': 0.01, 'model__colsample_bytree': 0.4}\n"
     ]
    }
   ],
   "source": [
    "print(10500)\n",
    "print((t1-t0)/60)\n",
    "print(rs.best_score_)\n",
    "print(rs.best_params_)"
   ]
  },
  {
   "cell_type": "code",
   "execution_count": 150,
   "id": "f90305fa",
   "metadata": {},
   "outputs": [
    {
     "name": "stdout",
     "output_type": "stream",
     "text": [
      "5250\n",
      "25.829232732454937\n",
      "-0.45134778023857136\n",
      "{'model__subsample': 0.8, 'model__n_estimators': 761, 'model__max_depth': 11, 'model__eta': 0.01, 'model__colsample_bytree': 0.3}\n"
     ]
    }
   ],
   "source": [
    "print(5250)\n",
    "print((t1-t0)/60)\n",
    "print(rs.best_score_)\n",
    "print(rs.best_params_)"
   ]
  },
  {
   "cell_type": "code",
   "execution_count": null,
   "id": "d828ad08",
   "metadata": {},
   "outputs": [],
   "source": []
  },
  {
   "cell_type": "markdown",
   "id": "f6a44e82",
   "metadata": {},
   "source": [
    "> Manually"
   ]
  },
  {
   "cell_type": "code",
   "execution_count": 381,
   "id": "77432816",
   "metadata": {},
   "outputs": [],
   "source": [
    "X_tr, X_te, y_tr, y_te = train_test_split(X, y, stratify=y, test_size=0.20)\n",
    "evalset = [(X_tr, y_tr), (X_te,y_te)]"
   ]
  },
  {
   "cell_type": "code",
   "execution_count": 382,
   "id": "8eb59760",
   "metadata": {},
   "outputs": [],
   "source": [
    "\n",
    "params = {'eval_metric':'logloss', \n",
    "          'use_label_encoder':False, \n",
    "          'n_estimators':821, #1013\n",
    "          'eta':0.006, #0.004\n",
    "          'max_depth':11, #11\n",
    "          'subsample':0.8,#0.8         # ratio of the training instance\n",
    "          'colsample_bytree':0.4,  # ratio of columns when constructing each tree\n",
    "#           'colsample_bylevel':0.6, # ratio of columns for each level\n",
    "#           'colsample_bynode':0.4   # ratio of columns for each split\n",
    "          'gamma':0,\n",
    "          'min_child_weight':(3/342)}\n",
    "\n",
    "model = xgb.XGBClassifier(**params)"
   ]
  },
  {
   "cell_type": "code",
   "execution_count": 383,
   "id": "ac9af8d2",
   "metadata": {},
   "outputs": [],
   "source": [
    "t0 = time.time()\n",
    "\n",
    "model.fit(X_tr, y_tr, \n",
    "          eval_set=evalset, \n",
    "          eval_metric='logloss',\n",
    "          verbose=False\n",
    "         )\n",
    "\n",
    "t1 = time.time()"
   ]
  },
  {
   "cell_type": "markdown",
   "id": "73ec4968",
   "metadata": {},
   "source": [
    "# Testing"
   ]
  },
  {
   "cell_type": "code",
   "execution_count": 385,
   "id": "7fa8ab4b",
   "metadata": {},
   "outputs": [
    {
     "name": "stdout",
     "output_type": "stream",
     "text": [
      "time training   : 1.0531229972839355\n",
      "test accuracy   : 0.8379888268156425\n"
     ]
    }
   ],
   "source": [
    "test_accuracy = accuracy_score(y_te, model.predict(X_te))\n",
    "print('time training   : {}'.format(t1-t0))\n",
    "print('test accuracy   : {}'.format(test_accuracy))"
   ]
  },
  {
   "cell_type": "code",
   "execution_count": 386,
   "id": "1e9cfbaa",
   "metadata": {},
   "outputs": [
    {
     "data": {
      "text/html": [
       "<div>\n",
       "<style scoped>\n",
       "    .dataframe tbody tr th:only-of-type {\n",
       "        vertical-align: middle;\n",
       "    }\n",
       "\n",
       "    .dataframe tbody tr th {\n",
       "        vertical-align: top;\n",
       "    }\n",
       "\n",
       "    .dataframe thead th {\n",
       "        text-align: right;\n",
       "    }\n",
       "</style>\n",
       "<table border=\"1\" class=\"dataframe\">\n",
       "  <thead>\n",
       "    <tr style=\"text-align: right;\">\n",
       "      <th></th>\n",
       "      <th>eval_metric</th>\n",
       "      <th>use_label_encoder</th>\n",
       "      <th>n_estimators</th>\n",
       "      <th>eta</th>\n",
       "      <th>max_depth</th>\n",
       "      <th>subsample</th>\n",
       "      <th>colsample_bytree</th>\n",
       "      <th>gamma</th>\n",
       "      <th>min_child_weight</th>\n",
       "      <th>test_accuracy</th>\n",
       "    </tr>\n",
       "  </thead>\n",
       "  <tbody>\n",
       "    <tr>\n",
       "      <th>0</th>\n",
       "      <td>logloss</td>\n",
       "      <td>False</td>\n",
       "      <td>821</td>\n",
       "      <td>0.006</td>\n",
       "      <td>11</td>\n",
       "      <td>0.8</td>\n",
       "      <td>0.4</td>\n",
       "      <td>0</td>\n",
       "      <td>0.008772</td>\n",
       "      <td>0.837989</td>\n",
       "    </tr>\n",
       "  </tbody>\n",
       "</table>\n",
       "</div>"
      ],
      "text/plain": [
       "  eval_metric  use_label_encoder  n_estimators    eta  max_depth  subsample  \\\n",
       "0     logloss              False           821  0.006         11        0.8   \n",
       "\n",
       "   colsample_bytree  gamma  min_child_weight  test_accuracy  \n",
       "0               0.4      0          0.008772       0.837989  "
      ]
     },
     "execution_count": 386,
     "metadata": {},
     "output_type": "execute_result"
    }
   ],
   "source": [
    "params.update({'test_accuracy':test_accuracy})\n",
    "\n",
    "# #first time to make a DataFrame\n",
    "best_params = pd.DataFrame.from_dict([params.copy()])\n",
    "\n",
    "# to add new score to a DataFrame\n",
    "# temp_df = pd.DataFrame.from_dict([params])\n",
    "# best_xgb = pd.concat([best_xgb, temp_df], axis=0, join='outer', ignore_index=True)\n",
    "\n",
    "best_params\n",
    "# best_params.to_csv('/Users/antirrabia/Documents/01-GitHub/DataMining-_-/CSV/Titanic/best_xgb_model.csv')"
   ]
  },
  {
   "cell_type": "code",
   "execution_count": 388,
   "id": "31423e0c",
   "metadata": {},
   "outputs": [],
   "source": [
    "best_params.to_csv('/Users/antirrabia/Documents/01-GitHub/DataMining-_-/CSV/Titanic/best_xgb_model.csv')"
   ]
  },
  {
   "cell_type": "markdown",
   "id": "ef2a20dd",
   "metadata": {},
   "source": [
    "# submition March 17 2022"
   ]
  },
  {
   "cell_type": "code",
   "execution_count": 391,
   "id": "65ada8c3",
   "metadata": {},
   "outputs": [
    {
     "data": {
      "text/html": [
       "<div>\n",
       "<style scoped>\n",
       "    .dataframe tbody tr th:only-of-type {\n",
       "        vertical-align: middle;\n",
       "    }\n",
       "\n",
       "    .dataframe tbody tr th {\n",
       "        vertical-align: top;\n",
       "    }\n",
       "\n",
       "    .dataframe thead th {\n",
       "        text-align: right;\n",
       "    }\n",
       "</style>\n",
       "<table border=\"1\" class=\"dataframe\">\n",
       "  <thead>\n",
       "    <tr style=\"text-align: right;\">\n",
       "      <th></th>\n",
       "      <th>eval_metric</th>\n",
       "      <th>use_label_encoder</th>\n",
       "      <th>n_estimators</th>\n",
       "      <th>eta</th>\n",
       "      <th>max_depth</th>\n",
       "      <th>subsample</th>\n",
       "      <th>colsample_bytree</th>\n",
       "      <th>gamma</th>\n",
       "      <th>min_child_weight</th>\n",
       "      <th>test_accuracy</th>\n",
       "    </tr>\n",
       "  </thead>\n",
       "  <tbody>\n",
       "    <tr>\n",
       "      <th>0</th>\n",
       "      <td>logloss</td>\n",
       "      <td>False</td>\n",
       "      <td>821</td>\n",
       "      <td>0.006</td>\n",
       "      <td>11</td>\n",
       "      <td>0.8</td>\n",
       "      <td>0.4</td>\n",
       "      <td>0</td>\n",
       "      <td>0.008772</td>\n",
       "      <td>0.837989</td>\n",
       "    </tr>\n",
       "  </tbody>\n",
       "</table>\n",
       "</div>"
      ],
      "text/plain": [
       "  eval_metric  use_label_encoder  n_estimators    eta  max_depth  subsample  \\\n",
       "0     logloss              False           821  0.006         11        0.8   \n",
       "\n",
       "   colsample_bytree  gamma  min_child_weight  test_accuracy  \n",
       "0               0.4      0          0.008772       0.837989  "
      ]
     },
     "execution_count": 391,
     "metadata": {},
     "output_type": "execute_result"
    }
   ],
   "source": [
    "best_params"
   ]
  },
  {
   "cell_type": "code",
   "execution_count": 390,
   "id": "ad591795",
   "metadata": {},
   "outputs": [],
   "source": [
    "data_test = preprocesor.fit_transform(d_te)\n",
    "\n",
    "model.fit(X, y)\n",
    "\n",
    "y_hat = model.predict(data_test)\n",
    "submition = pd.DataFrame({'PassengerId' : d_te.index.to_list(), 'Survived' : y_hat})\n",
    "submition.to_csv('/Users/antirrabia/Documents/01-GitHub/DataMining-_-/CSV/Titanic/submition.csv', index=False)"
   ]
  },
  {
   "cell_type": "markdown",
   "id": "bc48af4a",
   "metadata": {},
   "source": [
    "> cross value score"
   ]
  },
  {
   "cell_type": "code",
   "execution_count": 366,
   "id": "314c0965",
   "metadata": {},
   "outputs": [
    {
     "name": "stderr",
     "output_type": "stream",
     "text": [
      "[Parallel(n_jobs=1)]: Using backend SequentialBackend with 1 concurrent workers.\n"
     ]
    },
    {
     "name": "stdout",
     "output_type": "stream",
     "text": [
      "training score: -0.45794745901428036\n"
     ]
    },
    {
     "name": "stderr",
     "output_type": "stream",
     "text": [
      "[Parallel(n_jobs=1)]: Done  30 out of  30 | elapsed:   15.4s finished\n"
     ]
    }
   ],
   "source": [
    "cv = RepeatedStratifiedKFold(n_splits=10, n_repeats=3)\n",
    "tr_score = cross_val_score(model, X_tr, y_tr, cv=cv, scoring='neg_log_loss', verbose=1)\n",
    "\n",
    "print('training score: {}'.format(np.mean(tr_score)))\n",
    "\n",
    "# gs = GridSearchCV(classifier, param_grid=param_grid, cv=cv, n_jobs=-1, scoring='neg_log_loss', verbose=1)\n",
    "\n",
    "# rs = RandomizedSearchCV(classifier, param_distributions=param_grid, cv=cv, \n",
    "#                         n_jobs=-1, n_iter=1039, scoring='neg_log_loss', verbose=1)"
   ]
  },
  {
   "cell_type": "code",
   "execution_count": null,
   "id": "96a56e3e",
   "metadata": {},
   "outputs": [],
   "source": []
  },
  {
   "cell_type": "code",
   "execution_count": 365,
   "id": "c06b9a5d",
   "metadata": {},
   "outputs": [
    {
     "data": {
      "image/png": "[encoded data removed]",
      "text/plain": [
       "<Figure size 432x288 with 1 Axes>"
      ]
     },
     "metadata": {
      "needs_background": "light"
     },
     "output_type": "display_data"
    }
   ],
   "source": [
    "# retrieve performance metrics\n",
    "results = model.evals_result()\n",
    "# plot learning curves\n",
    "plt.plot(results['validation_0']['logloss'], label='train')\n",
    "plt.plot(results['validation_1']['logloss'], label='test')\n",
    "# show the legend\n",
    "plt.legend()\n",
    "# show the plot\n",
    "plt.show()"
   ]
  },
  {
   "cell_type": "code",
   "execution_count": null,
   "id": "a0bdc3b3",
   "metadata": {},
   "outputs": [],
   "source": []
  },
  {
   "cell_type": "markdown",
   "id": "10fe0bc6",
   "metadata": {},
   "source": [
    "# Best 2 result"
   ]
  },
  {
   "cell_type": "code",
   "execution_count": 59,
   "id": "deeabcbd",
   "metadata": {},
   "outputs": [
    {
     "data": {
      "image/png": "[encoded data removed]",
      "text/plain": [
       "<Figure size 432x288 with 1 Axes>"
      ]
     },
     "metadata": {
      "needs_background": "light"
     },
     "output_type": "display_data"
    }
   ],
   "source": [
    "# retrieve performance metrics\n",
    "results = model.evals_result()\n",
    "# plot learning curves\n",
    "plt.plot(results['validation_0']['logloss'], label='train')\n",
    "plt.plot(results['validation_1']['logloss'], label='test')\n",
    "# show the legend\n",
    "plt.legend()\n",
    "# show the plot\n",
    "plt.show()\n",
    "\n",
    "#======. Model that gave the results\n",
    "\n",
    "# model = xgb.XGBClassifier(use_label_encoder=False, \n",
    "#                           n_estimators=2500, \n",
    "#                           eta=0.005,\n",
    "#                           max_depth=3\n",
    "#                          )"
   ]
  },
  {
   "cell_type": "code",
   "execution_count": 54,
   "id": "7ea90b17",
   "metadata": {},
   "outputs": [
    {
     "name": "stdout",
     "output_type": "stream",
     "text": [
      "XGBClassifier(base_score=0.5, booster='gbtree', colsample_bylevel=1,\n",
      "              colsample_bynode=1, colsample_bytree=1, enable_categorical=False,\n",
      "              eta=0.005, gamma=0, gpu_id=-1, importance_type=None,\n",
      "              interaction_constraints='', learning_rate=0.00499999989,\n",
      "              max_delta_step=0, max_depth=6, min_child_weight=1, missing=nan,\n",
      "              monotone_constraints='()', n_estimators=2500, n_jobs=8,\n",
      "              num_parallel_tree=1, predictor='auto', random_state=0,\n",
      "              reg_alpha=0, reg_lambda=1, scale_pos_weight=1, subsample=1,\n",
      "              tree_method='exact', use_label_encoder=False,\n",
      "              validate_parameters=1, verbosity=None)\n"
     ]
    }
   ],
   "source": [
    "print(model)"
   ]
  },
  {
   "cell_type": "code",
   "execution_count": null,
   "id": "93b6b60f",
   "metadata": {},
   "outputs": [],
   "source": [
    "base_score=0.5, \n",
    "booster='gbtree', \n",
    "subsample=1,\n",
    "colsample_bylevel=1,\n",
    "colsample_bynode=1, \n",
    "colsample_bytree=1, \n",
    "enable_categorical=False,\n",
    "max_depth=6, \n",
    "n_jobs=8,\n",
    "eta=0.005, \n",
    "n_estimators=2500, \n",
    "gamma=0, \n",
    "gpu_id=-1, \n",
    "importance_type=None,\n",
    "interaction_constraints='', \n",
    "learning_rate=0.00499999989,\n",
    "max_delta_step=0, \n",
    "min_child_weight=1, \n",
    "missing=nan,\n",
    "monotone_constraints='()', \n",
    "num_parallel_tree=1, \n",
    "predictor='auto', \n",
    "random_state=0,\n",
    "reg_alpha=0, \n",
    "reg_lambda=1, \n",
    "scale_pos_weight=1, \n",
    "tree_method='exact', \n",
    "use_label_encoder=False,\n",
    "validate_parameters=1, \n",
    "verbosity=None"
   ]
  },
  {
   "cell_type": "code",
   "execution_count": null,
   "id": "912905ad",
   "metadata": {},
   "outputs": [],
   "source": []
  },
  {
   "cell_type": "markdown",
   "id": "ae1e0297",
   "metadata": {},
   "source": [
    "# == -- RandomForestClassifier -- =="
   ]
  },
  {
   "cell_type": "code",
   "execution_count": null,
   "id": "ad67e1dc",
   "metadata": {},
   "outputs": [],
   "source": [
    "model = RandomForestClassifier(n_jobs=-1)\n",
    "\n",
    "# imputer = KNNImputer()\n",
    "imputer = IterativeImputer(max_iter=20) #default is 10 iteractions\n",
    "\n",
    "param_grid = [{ # 216 iter in a regular grid search\n",
    "                'model__criterion' : [\"gini\", \"entropy\"],\n",
    "                'model__n_estimators': [10, 100, 1000],\n",
    "                'model__max_features': ['sqrt', 'log2'],\n",
    "                'model__class_weight' : [ None, \"balanced\", \"balanced_subsample\"],\n",
    "    \n",
    "            'impute__imputation_order': ['ascending', 'descending', 'roman', 'arabic', 'random']\n",
    "#             'impute__n_neighbors': [1,2,3,5,7,11,13,17,19]\n",
    "               }] "
   ]
  },
  {
   "cell_type": "code",
   "execution_count": null,
   "id": "9b1a7ed8",
   "metadata": {},
   "outputs": [],
   "source": []
  },
  {
   "cell_type": "code",
   "execution_count": null,
   "id": "6bb498d6",
   "metadata": {},
   "outputs": [],
   "source": []
  },
  {
   "cell_type": "markdown",
   "id": "a70eedb3",
   "metadata": {},
   "source": [
    "> __Custom Functions__"
   ]
  },
  {
   "cell_type": "code",
   "execution_count": 4,
   "id": "bd9a8b1e",
   "metadata": {},
   "outputs": [],
   "source": [
    "def isCabinNan(df):\n",
    "    ''' Recive a data frame'''\n",
    "           \n",
    "    df = copy.deepcopy(df)\n",
    "    \n",
    "    s = pd.DataFrame(df['Cabin'].notnull().astype('int'), columns=['Cabin'])\n",
    "    \n",
    "    return s\n",
    "\n",
    "def encodeFare(df):\n",
    "    ''' '''\n",
    "    \n",
    "    s = copy.deepcopy(df)\n",
    "    \n",
    "    s[ (s <= 7.91) ] = 0\n",
    "    s[(s > 7.91) & (s <= 14.454)] = 1\n",
    "    s[(s > 14.454) & (s <= 31)]   = 2\n",
    "    s[ (s > 31) ] = 3\n",
    "    \n",
    "    return s\n",
    "\n",
    "def encodeAge(df):                       \n",
    "    ''' Recive a pd Data Frame '''        \n",
    "                                        \n",
    "    \n",
    "    s = copy.deepcopy(df)\n",
    "    \n",
    "    s.loc[(s.Age <= 13), 'Age'] = 1\n",
    "    s.loc[(s.Age > 13) & (s.Age <= 18), 'Age'] = 2\n",
    "    s.loc[(s.Age > 18) & (s.Age <= 30), 'Age'] = 3\n",
    "    s.loc[(s.Age > 30) & (s.Age <= 50), 'Age'] = 4\n",
    "    s.loc[(s.Age > 50), 'Age'] = 5\n",
    "    \n",
    "#     s[(s <= 13)] = 1\n",
    "#     s[(s > 13) & (s <= 18)] = 2\n",
    "#     s[(s > 18) & (s <= 30)] = 3\n",
    "#     s[(s > 30) & (s <= 50)] = 4\n",
    "#     s[(s > 50)] = 5\n",
    "    \n",
    "    return s\n",
    "\n",
    "def familySize(df):\n",
    "    ''' Recive a data frama'''\n",
    "    \n",
    "    s = np.zeros( (len(df.index), 1) )\n",
    "    \n",
    "    # if overall members family are equeal to 1 mean they ar alone\n",
    "    s[ ( (df['SibSp'] +  df['Parch'] + 1) == 1 ) ] = 1\n",
    "    \n",
    "    return s\n",
    "\n",
    "def getTitles(df):\n",
    "    ''' Recive a data frame'''\n",
    "    \n",
    "    s = copy.deepcopy(df)\n",
    "    \n",
    "    s['Title'] = s['Name'].str.extract(' ([A-Za-z]+)\\.')\n",
    "    s['Title'] = s['Title'].replace(['Lady', 'Countess','Capt', 'Col', 'Don', 'Dr',                                       \n",
    "                                    'Major', 'Rev', 'Sir', 'Jonkheer', 'Dona'], 'Other')\n",
    "    s['Title'] = s['Title'].replace(['Mlle', 'Ms'], 'Miss')\n",
    "    s['Title'] = s['Title'].replace(['Mme'], 'Mrs')\n",
    "    \n",
    "#     resulting titles = 'Mr', 'Miss', 'Mrs', 'Master', 'Other'\n",
    "    \n",
    "    s = s.drop(columns='Name').copy()\n",
    "    \n",
    "    return s\n",
    "    \n",
    "def encodeSex(df):\n",
    "    ''' Recive a data frame'''\n",
    "    \n",
    "    s = copy.deepcopy(df)\n",
    "    oh = OneHotEncoder(handle_unknown='ignore', sparse=False)\n",
    "    \n",
    "    return oh.fit_transform(s)\n",
    "\n",
    "\n",
    "isCabinNan_func = FunctionTransformer(isCabinNan, validate=False)\n",
    "getTitles_func = FunctionTransformer(getTitles, validate=False)\n",
    "fare_func = FunctionTransformer(encodeFare, validate=False)\n",
    "age_func = FunctionTransformer(encodeAge, validate=False)\n",
    "familySize_func = FunctionTransformer(familySize, validate=False)\n",
    "codeSex_func = FunctionTransformer(encodeSex, validate=False)\n",
    "\n"
   ]
  },
  {
   "cell_type": "markdown",
   "id": "cc5cdc4f",
   "metadata": {},
   "source": [
    "> Transformers"
   ]
  },
  {
   "cell_type": "code",
   "execution_count": 5,
   "id": "2cae5844",
   "metadata": {},
   "outputs": [],
   "source": [
    "## Age\n",
    "age_trans = ColumnTransformer([\n",
    "                                ('age', age_func, ['Age']) \n",
    "                               ])\n",
    "\n",
    "## Embarked\n",
    "embar_trans = ColumnTransformer([             # this returns a np.array\n",
    "                                  ('embarked', OrdinalEncoder(), ['Embarked'])\n",
    "                                 ])\n",
    "\n",
    "## Fare\n",
    "fare_trans = ColumnTransformer([\n",
    "                                ('encode', fare_func, ['Fare'])\n",
    "                               ])\n",
    "\n",
    "## 'SibSp', 'Parch' -> IsAlone\n",
    "familySize_trans = ColumnTransformer([\n",
    "                                      ('size', familySize_func, ['SibSp', 'Parch'])\n",
    "                                     ])\n",
    "\n",
    "## Sex\n",
    "sex_trans = ColumnTransformer([\n",
    "                               ('sex', OneHotEncoder(handle_unknown='ignore', sparse=False), ['Sex']) #creo puedo usar directo oneHot encoder\n",
    "                              ])                              #OneHotEncoder(handle_unknown='ignore', sparse=False)\n",
    "\n",
    "## names -> Titles\n",
    "getTitles_trans = ColumnTransformer([\n",
    "                                     ('titles', getTitles_func, ['Name'])\n",
    "                                    ])\n",
    "\n",
    "encodeTiles_trans = Pipeline([\n",
    "                              ('title_trans', getTitles_trans), \n",
    "                              ('oh', OneHotEncoder(handle_unknown='ignore', sparse=False)) #if sparce = true\n",
    "                             ])                                             # returns scipy.sparse.csr.csr_matrix\n",
    "\n",
    "## Cabin \n",
    "isCabinNan_trans = ColumnTransformer([ \n",
    "                                      ('cabin', isCabinNan_func, ['Cabin'])\n",
    "                                     ])\n",
    "\n",
    "\n"
   ]
  },
  {
   "cell_type": "markdown",
   "id": "af39b618",
   "metadata": {},
   "source": [
    "> Preprocesor"
   ]
  },
  {
   "cell_type": "code",
   "execution_count": 6,
   "id": "9eb46339",
   "metadata": {},
   "outputs": [],
   "source": [
    "preprocesor = FeatureUnion([                                            \n",
    "                            ('age_t', age_trans),        # add 1 colunm  \n",
    "                            ('embarked_t', embar_trans), # add 1 colunm \n",
    "                            ('fare', fare_trans),        # add 1 colunm \n",
    "                            ('size', familySize_trans),  # add 1 colunm\n",
    "                            ('sex', sex_trans),          # add 2 colunm\n",
    "                            ('title', encodeTiles_trans),# add 5 colunm\n",
    "                            ('cabin', isCabinNan_trans)  # add 1 colunm\n",
    "                           ])"
   ]
  },
  {
   "cell_type": "code",
   "execution_count": null,
   "id": "b0f9857d",
   "metadata": {},
   "outputs": [],
   "source": []
  },
  {
   "cell_type": "code",
   "execution_count": null,
   "id": "3dcc4217",
   "metadata": {},
   "outputs": [],
   "source": []
  },
  {
   "cell_type": "code",
   "execution_count": null,
   "id": "a49991af",
   "metadata": {},
   "outputs": [],
   "source": []
  },
  {
   "cell_type": "markdown",
   "id": "1a8107e9",
   "metadata": {},
   "source": [
    "# to test diferent parts of the code"
   ]
  },
  {
   "cell_type": "code",
   "execution_count": 31,
   "id": "b6dc65f5",
   "metadata": {
    "scrolled": false
   },
   "outputs": [
    {
     "name": "stdout",
     "output_type": "stream",
     "text": [
      "<class 'numpy.ndarray'>\n"
     ]
    },
    {
     "data": {
      "text/plain": [
       "array([[ 4.,  2.,  1.,  1.,  0.,  1.,  0.,  0.,  1.,  0.,  0.,  0.],\n",
       "       [nan,  2.,  0.,  1.,  0.,  1.,  0.,  0.,  1.,  0.,  0.,  1.],\n",
       "       [ 3.,  2.,  1.,  1.,  1.,  0.,  0.,  1.,  0.,  0.,  0.,  0.],\n",
       "       [ 4.,  0.,  3.,  0.,  0.,  1.,  0.,  0.,  1.,  0.,  0.,  0.],\n",
       "       [ 4.,  2.,  0.,  1.,  0.,  1.,  0.,  0.,  1.,  0.,  0.,  0.],\n",
       "       [ 1.,  2.,  2.,  0.,  0.,  1.,  1.,  0.,  0.,  0.,  0.,  0.],\n",
       "       [ 5.,  2.,  3.,  0.,  1.,  0.,  0.,  0.,  0.,  1.,  0.,  1.],\n",
       "       [ 3.,  2.,  1.,  1.,  0.,  1.,  0.,  0.,  1.,  0.,  0.,  0.],\n",
       "       [ 4.,  2.,  0.,  1.,  0.,  1.,  0.,  0.,  0.,  0.,  1.,  0.],\n",
       "       [ 3.,  2.,  1.,  0.,  1.,  0.,  0.,  0.,  0.,  1.,  0.,  1.],\n",
       "       [ 1.,  2.,  3.,  0.,  0.,  1.,  1.,  0.,  0.,  0.,  0.,  0.],\n",
       "       [nan,  1.,  0.,  1.,  0.,  1.,  0.,  0.,  1.,  0.,  0.,  0.],\n",
       "       [nan,  2.,  3.,  1.,  0.,  1.,  0.,  0.,  1.,  0.,  0.,  0.],\n",
       "       [ 1.,  0.,  3.,  0.,  0.,  1.,  1.,  0.,  0.,  0.,  0.,  0.],\n",
       "       [nan,  1.,  0.,  1.,  0.,  1.,  0.,  0.,  1.,  0.,  0.,  0.],\n",
       "       [ 5., nan,  3.,  1.,  1.,  0.,  0.,  0.,  0.,  1.,  0.,  1.],\n",
       "       [ 2.,  0.,  2.,  0.,  1.,  0.,  0.,  0.,  0.,  1.,  0.,  0.],\n",
       "       [ 1.,  2.,  2.,  0.,  0.,  1.,  1.,  0.,  0.,  0.,  0.,  0.],\n",
       "       [nan,  0.,  0.,  1.,  0.,  1.,  0.,  0.,  1.,  0.,  0.,  0.],\n",
       "       [ 3.,  2.,  0.,  1.,  0.,  1.,  0.,  0.,  1.,  0.,  0.,  0.]])"
      ]
     },
     "execution_count": 31,
     "metadata": {},
     "output_type": "execute_result"
    }
   ],
   "source": [
    "data = preprocesor.fit_transform(d_tr)\n",
    "print(type(data))\n",
    "data[814:834]"
   ]
  },
  {
   "cell_type": "code",
   "execution_count": 17,
   "id": "542ba9db",
   "metadata": {},
   "outputs": [
    {
     "data": {
      "text/html": [
       "<div>\n",
       "<style scoped>\n",
       "    .dataframe tbody tr th:only-of-type {\n",
       "        vertical-align: middle;\n",
       "    }\n",
       "\n",
       "    .dataframe tbody tr th {\n",
       "        vertical-align: top;\n",
       "    }\n",
       "\n",
       "    .dataframe thead th {\n",
       "        text-align: right;\n",
       "    }\n",
       "</style>\n",
       "<table border=\"1\" class=\"dataframe\">\n",
       "  <thead>\n",
       "    <tr style=\"text-align: right;\">\n",
       "      <th></th>\n",
       "      <th>Survived</th>\n",
       "      <th>Pclass</th>\n",
       "      <th>Name</th>\n",
       "      <th>Sex</th>\n",
       "      <th>Age</th>\n",
       "      <th>SibSp</th>\n",
       "      <th>Parch</th>\n",
       "      <th>Ticket</th>\n",
       "      <th>Fare</th>\n",
       "      <th>Cabin</th>\n",
       "      <th>Embarked</th>\n",
       "    </tr>\n",
       "    <tr>\n",
       "      <th>PassengerId</th>\n",
       "      <th></th>\n",
       "      <th></th>\n",
       "      <th></th>\n",
       "      <th></th>\n",
       "      <th></th>\n",
       "      <th></th>\n",
       "      <th></th>\n",
       "      <th></th>\n",
       "      <th></th>\n",
       "      <th></th>\n",
       "      <th></th>\n",
       "    </tr>\n",
       "  </thead>\n",
       "  <tbody>\n",
       "    <tr>\n",
       "      <th>62</th>\n",
       "      <td>1</td>\n",
       "      <td>1</td>\n",
       "      <td>Icard, Miss. Amelie</td>\n",
       "      <td>female</td>\n",
       "      <td>38.0</td>\n",
       "      <td>0</td>\n",
       "      <td>0</td>\n",
       "      <td>113572</td>\n",
       "      <td>80.0</td>\n",
       "      <td>B28</td>\n",
       "      <td>NaN</td>\n",
       "    </tr>\n",
       "    <tr>\n",
       "      <th>830</th>\n",
       "      <td>1</td>\n",
       "      <td>1</td>\n",
       "      <td>Stone, Mrs. George Nelson (Martha Evelyn)</td>\n",
       "      <td>female</td>\n",
       "      <td>62.0</td>\n",
       "      <td>0</td>\n",
       "      <td>0</td>\n",
       "      <td>113572</td>\n",
       "      <td>80.0</td>\n",
       "      <td>B28</td>\n",
       "      <td>NaN</td>\n",
       "    </tr>\n",
       "  </tbody>\n",
       "</table>\n",
       "</div>"
      ],
      "text/plain": [
       "             Survived  Pclass                                       Name  \\\n",
       "PassengerId                                                                \n",
       "62                  1       1                        Icard, Miss. Amelie   \n",
       "830                 1       1  Stone, Mrs. George Nelson (Martha Evelyn)   \n",
       "\n",
       "                Sex   Age  SibSp  Parch  Ticket  Fare Cabin Embarked  \n",
       "PassengerId                                                           \n",
       "62           female  38.0      0      0  113572  80.0   B28      NaN  \n",
       "830          female  62.0      0      0  113572  80.0   B28      NaN  "
      ]
     },
     "execution_count": 17,
     "metadata": {},
     "output_type": "execute_result"
    }
   ],
   "source": [
    "d_tr[d_tr.Embarked.isna()]"
   ]
  },
  {
   "cell_type": "code",
   "execution_count": null,
   "id": "cc778c70",
   "metadata": {},
   "outputs": [],
   "source": []
  },
  {
   "cell_type": "code",
   "execution_count": null,
   "id": "2bfc5608",
   "metadata": {},
   "outputs": [],
   "source": []
  }
 ],
 "metadata": {
  "kernelspec": {
   "display_name": "Python 3 (ipykernel)",
   "language": "python",
   "name": "python3"
  },
  "language_info": {
   "codemirror_mode": {
    "name": "ipython",
    "version": 3
   },
   "file_extension": ".py",
   "mimetype": "text/x-python",
   "name": "python",
   "nbconvert_exporter": "python",
   "pygments_lexer": "ipython3",
   "version": "3.8.12"
  }
 },
 "nbformat": 4,
 "nbformat_minor": 5
}
