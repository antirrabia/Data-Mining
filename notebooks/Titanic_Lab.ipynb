{
 "cells": [
  {
   "cell_type": "code",
   "execution_count": 1,
   "id": "859fea63",
   "metadata": {},
   "outputs": [],
   "source": [
    "from sklearn.ensemble import GradientBoostingClassifier\n",
    "from sklearn.model_selection import train_test_split, GridSearchCV\n",
    "from sklearn.model_selection import RepeatedStratifiedKFold\n",
    "from sklearn.preprocessing import OneHotEncoder, FunctionTransformer\n",
    "from sklearn.impute import SimpleImputer\n",
    "from sklearn.compose import ColumnTransformer\n",
    "from sklearn.pipeline import Pipeline\n",
    "\n",
    "import matplotlib.pyplot as plt\n",
    "import seaborn as sns\n",
    "import pandas as pd\n",
    "import numpy as np"
   ]
  },
  {
   "cell_type": "code",
   "execution_count": 3,
   "id": "c3bd325f",
   "metadata": {},
   "outputs": [],
   "source": [
    "d_tr = pd.read_csv('/Users/antirrabia/Documents/01-GitHub/DataMining-_-/CSV/Titanic/train.csv', index_col=0)\n",
    "d_te = pd.read_csv('/Users/antirrabia/Documents/01-GitHub/DataMining-_-/CSV/Titanic/test.csv', index_col=0)"
   ]
  },
  {
   "cell_type": "code",
   "execution_count": 4,
   "id": "8dd9ecba",
   "metadata": {},
   "outputs": [
    {
     "data": {
      "text/plain": [
       "Index(['Survived', 'Pclass', 'Name', 'Sex', 'Age', 'SibSp', 'Parch', 'Ticket',\n",
       "       'Fare', 'Cabin', 'Embarked'],\n",
       "      dtype='object')"
      ]
     },
     "execution_count": 4,
     "metadata": {},
     "output_type": "execute_result"
    }
   ],
   "source": [
    "d_tr.columns"
   ]
  },
  {
   "cell_type": "code",
   "execution_count": 7,
   "id": "35ad38ee",
   "metadata": {},
   "outputs": [],
   "source": [
    "X = d_tr.drop(columns=['Survived', 'Ticket', 'Cabin']).copy()\n",
    "y = d_tr.Survived.copy()"
   ]
  },
  {
   "cell_type": "code",
   "execution_count": 22,
   "id": "a8162738",
   "metadata": {},
   "outputs": [
    {
     "data": {
      "text/plain": [
       "numpy.ndarray"
      ]
     },
     "execution_count": 22,
     "metadata": {},
     "output_type": "execute_result"
    }
   ],
   "source": [
    "age_np = X.Age.to_numpy()\n",
    "type(age_np)"
   ]
  },
  {
   "cell_type": "code",
   "execution_count": 25,
   "id": "e85a4be4",
   "metadata": {},
   "outputs": [
    {
     "data": {
      "text/plain": [
       "68"
      ]
     },
     "execution_count": 25,
     "metadata": {},
     "output_type": "execute_result"
    }
   ],
   "source": [
    "#     s.loc[(s.Age <= 13), 'Age'] = 1\n",
    "#     s.loc[(s.Age > 13) & (s.Age <= 18), 'Age'] = 2\n",
    "#     s.loc[(s.Age > 18) & (s.Age <= 30), 'Age'] = 3\n",
    "#     s.loc[(s.Age > 30) & (s.Age <= 50), 'Age'] = 4\n",
    "#     s.loc[(s.Age > 50), 'Age'] = 5\n",
    "\n",
    "len(age_np[(age_np > 13) & (age_np <= 18)])"
   ]
  },
  {
   "cell_type": "code",
   "execution_count": 18,
   "id": "306d354a",
   "metadata": {},
   "outputs": [],
   "source": [
    "impute_age = ColumnTransformer([ ('age', SimpleImputer(), ['Age']), \n",
    "#                              ('embarked', SimpleImputer(), ['Embarked'])\n",
    "                           ])\n",
    "\n",
    "age_trans = Pipeline([('impute', impute_age), \n",
    "                      ('encode', age_func)\n",
    "                     ])\n",
    "\n",
    "# impute = ColumnTransformer([('num_impute', SimpleImputer(strategy='mean'), ['Age']), \n",
    "#                             ('cab_impute', SimpleImputer(strategy='constant'), ['Cabin']), \n",
    "#                             ('emb_impute', SimpleImputer(strategy='most_frequent'), ['Embarked'])], \n",
    "#                              remainder='passthrough' )"
   ]
  },
  {
   "cell_type": "code",
   "execution_count": 19,
   "id": "6e2085a3",
   "metadata": {},
   "outputs": [
    {
     "name": "stdout",
     "output_type": "stream",
     "text": [
      "<class 'numpy.ndarray'>\n"
     ]
    },
    {
     "ename": "AssertionError",
     "evalue": "",
     "output_type": "error",
     "traceback": [
      "\u001b[0;31m---------------------------------------------------------------------------\u001b[0m",
      "\u001b[0;31mAssertionError\u001b[0m                            Traceback (most recent call last)",
      "\u001b[0;32m/var/folders/_3/5c6_d37x1bb_959htt9q2h880000gn/T/ipykernel_4292/3890467094.py\u001b[0m in \u001b[0;36m<module>\u001b[0;34m\u001b[0m\n\u001b[0;32m----> 1\u001b[0;31m \u001b[0mage_trans\u001b[0m\u001b[0;34m.\u001b[0m\u001b[0mfit_transform\u001b[0m\u001b[0;34m(\u001b[0m\u001b[0mX\u001b[0m\u001b[0;34m.\u001b[0m\u001b[0mcopy\u001b[0m\u001b[0;34m(\u001b[0m\u001b[0;34m)\u001b[0m\u001b[0;34m)\u001b[0m\u001b[0;34m.\u001b[0m\u001b[0mhead\u001b[0m\u001b[0;34m(\u001b[0m\u001b[0;36m25\u001b[0m\u001b[0;34m)\u001b[0m\u001b[0;34m\u001b[0m\u001b[0;34m\u001b[0m\u001b[0m\n\u001b[0m",
      "\u001b[0;32m/opt/anaconda3/lib/python3.8/site-packages/sklearn/pipeline.py\u001b[0m in \u001b[0;36mfit_transform\u001b[0;34m(self, X, y, **fit_params)\u001b[0m\n\u001b[1;32m    432\u001b[0m             \u001b[0mfit_params_last_step\u001b[0m \u001b[0;34m=\u001b[0m \u001b[0mfit_params_steps\u001b[0m\u001b[0;34m[\u001b[0m\u001b[0mself\u001b[0m\u001b[0;34m.\u001b[0m\u001b[0msteps\u001b[0m\u001b[0;34m[\u001b[0m\u001b[0;34m-\u001b[0m\u001b[0;36m1\u001b[0m\u001b[0;34m]\u001b[0m\u001b[0;34m[\u001b[0m\u001b[0;36m0\u001b[0m\u001b[0;34m]\u001b[0m\u001b[0;34m]\u001b[0m\u001b[0;34m\u001b[0m\u001b[0;34m\u001b[0m\u001b[0m\n\u001b[1;32m    433\u001b[0m             \u001b[0;32mif\u001b[0m \u001b[0mhasattr\u001b[0m\u001b[0;34m(\u001b[0m\u001b[0mlast_step\u001b[0m\u001b[0;34m,\u001b[0m \u001b[0;34m\"fit_transform\"\u001b[0m\u001b[0;34m)\u001b[0m\u001b[0;34m:\u001b[0m\u001b[0;34m\u001b[0m\u001b[0;34m\u001b[0m\u001b[0m\n\u001b[0;32m--> 434\u001b[0;31m                 \u001b[0;32mreturn\u001b[0m \u001b[0mlast_step\u001b[0m\u001b[0;34m.\u001b[0m\u001b[0mfit_transform\u001b[0m\u001b[0;34m(\u001b[0m\u001b[0mXt\u001b[0m\u001b[0;34m,\u001b[0m \u001b[0my\u001b[0m\u001b[0;34m,\u001b[0m \u001b[0;34m**\u001b[0m\u001b[0mfit_params_last_step\u001b[0m\u001b[0;34m)\u001b[0m\u001b[0;34m\u001b[0m\u001b[0;34m\u001b[0m\u001b[0m\n\u001b[0m\u001b[1;32m    435\u001b[0m             \u001b[0;32melse\u001b[0m\u001b[0;34m:\u001b[0m\u001b[0;34m\u001b[0m\u001b[0;34m\u001b[0m\u001b[0m\n\u001b[1;32m    436\u001b[0m                 \u001b[0;32mreturn\u001b[0m \u001b[0mlast_step\u001b[0m\u001b[0;34m.\u001b[0m\u001b[0mfit\u001b[0m\u001b[0;34m(\u001b[0m\u001b[0mXt\u001b[0m\u001b[0;34m,\u001b[0m \u001b[0my\u001b[0m\u001b[0;34m,\u001b[0m \u001b[0;34m**\u001b[0m\u001b[0mfit_params_last_step\u001b[0m\u001b[0;34m)\u001b[0m\u001b[0;34m.\u001b[0m\u001b[0mtransform\u001b[0m\u001b[0;34m(\u001b[0m\u001b[0mXt\u001b[0m\u001b[0;34m)\u001b[0m\u001b[0;34m\u001b[0m\u001b[0;34m\u001b[0m\u001b[0m\n",
      "\u001b[0;32m/opt/anaconda3/lib/python3.8/site-packages/sklearn/base.py\u001b[0m in \u001b[0;36mfit_transform\u001b[0;34m(self, X, y, **fit_params)\u001b[0m\n\u001b[1;32m    850\u001b[0m         \u001b[0;32mif\u001b[0m \u001b[0my\u001b[0m \u001b[0;32mis\u001b[0m \u001b[0;32mNone\u001b[0m\u001b[0;34m:\u001b[0m\u001b[0;34m\u001b[0m\u001b[0;34m\u001b[0m\u001b[0m\n\u001b[1;32m    851\u001b[0m             \u001b[0;31m# fit method of arity 1 (unsupervised transformation)\u001b[0m\u001b[0;34m\u001b[0m\u001b[0;34m\u001b[0m\u001b[0;34m\u001b[0m\u001b[0m\n\u001b[0;32m--> 852\u001b[0;31m             \u001b[0;32mreturn\u001b[0m \u001b[0mself\u001b[0m\u001b[0;34m.\u001b[0m\u001b[0mfit\u001b[0m\u001b[0;34m(\u001b[0m\u001b[0mX\u001b[0m\u001b[0;34m,\u001b[0m \u001b[0;34m**\u001b[0m\u001b[0mfit_params\u001b[0m\u001b[0;34m)\u001b[0m\u001b[0;34m.\u001b[0m\u001b[0mtransform\u001b[0m\u001b[0;34m(\u001b[0m\u001b[0mX\u001b[0m\u001b[0;34m)\u001b[0m\u001b[0;34m\u001b[0m\u001b[0;34m\u001b[0m\u001b[0m\n\u001b[0m\u001b[1;32m    853\u001b[0m         \u001b[0;32melse\u001b[0m\u001b[0;34m:\u001b[0m\u001b[0;34m\u001b[0m\u001b[0;34m\u001b[0m\u001b[0m\n\u001b[1;32m    854\u001b[0m             \u001b[0;31m# fit method of arity 2 (supervised transformation)\u001b[0m\u001b[0;34m\u001b[0m\u001b[0;34m\u001b[0m\u001b[0;34m\u001b[0m\u001b[0m\n",
      "\u001b[0;32m/opt/anaconda3/lib/python3.8/site-packages/sklearn/preprocessing/_function_transformer.py\u001b[0m in \u001b[0;36mtransform\u001b[0;34m(self, X)\u001b[0m\n\u001b[1;32m    180\u001b[0m         \"\"\"\n\u001b[1;32m    181\u001b[0m         \u001b[0mX\u001b[0m \u001b[0;34m=\u001b[0m \u001b[0mself\u001b[0m\u001b[0;34m.\u001b[0m\u001b[0m_check_input\u001b[0m\u001b[0;34m(\u001b[0m\u001b[0mX\u001b[0m\u001b[0;34m,\u001b[0m \u001b[0mreset\u001b[0m\u001b[0;34m=\u001b[0m\u001b[0;32mFalse\u001b[0m\u001b[0;34m)\u001b[0m\u001b[0;34m\u001b[0m\u001b[0;34m\u001b[0m\u001b[0m\n\u001b[0;32m--> 182\u001b[0;31m         \u001b[0;32mreturn\u001b[0m \u001b[0mself\u001b[0m\u001b[0;34m.\u001b[0m\u001b[0m_transform\u001b[0m\u001b[0;34m(\u001b[0m\u001b[0mX\u001b[0m\u001b[0;34m,\u001b[0m \u001b[0mfunc\u001b[0m\u001b[0;34m=\u001b[0m\u001b[0mself\u001b[0m\u001b[0;34m.\u001b[0m\u001b[0mfunc\u001b[0m\u001b[0;34m,\u001b[0m \u001b[0mkw_args\u001b[0m\u001b[0;34m=\u001b[0m\u001b[0mself\u001b[0m\u001b[0;34m.\u001b[0m\u001b[0mkw_args\u001b[0m\u001b[0;34m)\u001b[0m\u001b[0;34m\u001b[0m\u001b[0;34m\u001b[0m\u001b[0m\n\u001b[0m\u001b[1;32m    183\u001b[0m \u001b[0;34m\u001b[0m\u001b[0m\n\u001b[1;32m    184\u001b[0m     \u001b[0;32mdef\u001b[0m \u001b[0minverse_transform\u001b[0m\u001b[0;34m(\u001b[0m\u001b[0mself\u001b[0m\u001b[0;34m,\u001b[0m \u001b[0mX\u001b[0m\u001b[0;34m)\u001b[0m\u001b[0;34m:\u001b[0m\u001b[0;34m\u001b[0m\u001b[0;34m\u001b[0m\u001b[0m\n",
      "\u001b[0;32m/opt/anaconda3/lib/python3.8/site-packages/sklearn/preprocessing/_function_transformer.py\u001b[0m in \u001b[0;36m_transform\u001b[0;34m(self, X, func, kw_args)\u001b[0m\n\u001b[1;32m    203\u001b[0m             \u001b[0mfunc\u001b[0m \u001b[0;34m=\u001b[0m \u001b[0m_identity\u001b[0m\u001b[0;34m\u001b[0m\u001b[0;34m\u001b[0m\u001b[0m\n\u001b[1;32m    204\u001b[0m \u001b[0;34m\u001b[0m\u001b[0m\n\u001b[0;32m--> 205\u001b[0;31m         \u001b[0;32mreturn\u001b[0m \u001b[0mfunc\u001b[0m\u001b[0;34m(\u001b[0m\u001b[0mX\u001b[0m\u001b[0;34m,\u001b[0m \u001b[0;34m**\u001b[0m\u001b[0;34m(\u001b[0m\u001b[0mkw_args\u001b[0m \u001b[0;32mif\u001b[0m \u001b[0mkw_args\u001b[0m \u001b[0;32melse\u001b[0m \u001b[0;34m{\u001b[0m\u001b[0;34m}\u001b[0m\u001b[0;34m)\u001b[0m\u001b[0;34m)\u001b[0m\u001b[0;34m\u001b[0m\u001b[0;34m\u001b[0m\u001b[0m\n\u001b[0m\u001b[1;32m    206\u001b[0m \u001b[0;34m\u001b[0m\u001b[0m\n\u001b[1;32m    207\u001b[0m     \u001b[0;32mdef\u001b[0m \u001b[0m__sklearn_is_fitted__\u001b[0m\u001b[0;34m(\u001b[0m\u001b[0mself\u001b[0m\u001b[0;34m)\u001b[0m\u001b[0;34m:\u001b[0m\u001b[0;34m\u001b[0m\u001b[0;34m\u001b[0m\u001b[0m\n",
      "\u001b[0;32m/var/folders/_3/5c6_d37x1bb_959htt9q2h880000gn/T/ipykernel_4292/4287900746.py\u001b[0m in \u001b[0;36mage\u001b[0;34m(df)\u001b[0m\n\u001b[1;32m     28\u001b[0m             \u001b[0;31m#does not touch nan values\u001b[0m\u001b[0;34m\u001b[0m\u001b[0;34m\u001b[0m\u001b[0;34m\u001b[0m\u001b[0m\n\u001b[1;32m     29\u001b[0m     \u001b[0mprint\u001b[0m\u001b[0;34m(\u001b[0m\u001b[0mtype\u001b[0m\u001b[0;34m(\u001b[0m\u001b[0mdf\u001b[0m\u001b[0;34m)\u001b[0m\u001b[0;34m)\u001b[0m\u001b[0;34m\u001b[0m\u001b[0;34m\u001b[0m\u001b[0m\n\u001b[0;32m---> 30\u001b[0;31m     \u001b[0;32massert\u001b[0m \u001b[0;36m0\u001b[0m\u001b[0;34m\u001b[0m\u001b[0;34m\u001b[0m\u001b[0m\n\u001b[0m\u001b[1;32m     31\u001b[0m     \u001b[0ms\u001b[0m \u001b[0;34m=\u001b[0m \u001b[0mdf\u001b[0m\u001b[0;34m.\u001b[0m\u001b[0mcopy\u001b[0m\u001b[0;34m(\u001b[0m\u001b[0;34m)\u001b[0m\u001b[0;34m\u001b[0m\u001b[0;34m\u001b[0m\u001b[0m\n\u001b[1;32m     32\u001b[0m     \u001b[0ms\u001b[0m\u001b[0;34m.\u001b[0m\u001b[0mloc\u001b[0m\u001b[0;34m[\u001b[0m\u001b[0;34m(\u001b[0m\u001b[0ms\u001b[0m\u001b[0;34m.\u001b[0m\u001b[0mAge\u001b[0m \u001b[0;34m<=\u001b[0m \u001b[0;36m13\u001b[0m\u001b[0;34m)\u001b[0m\u001b[0;34m,\u001b[0m \u001b[0;34m'Age'\u001b[0m\u001b[0;34m]\u001b[0m \u001b[0;34m=\u001b[0m \u001b[0;36m1\u001b[0m\u001b[0;34m\u001b[0m\u001b[0;34m\u001b[0m\u001b[0m\n",
      "\u001b[0;31mAssertionError\u001b[0m: "
     ]
    }
   ],
   "source": [
    "age_trans.fit_transform(X.copy()).head(25)"
   ]
  },
  {
   "cell_type": "code",
   "execution_count": null,
   "id": "f081e042",
   "metadata": {},
   "outputs": [],
   "source": []
  },
  {
   "cell_type": "code",
   "execution_count": null,
   "id": "61a25b59",
   "metadata": {},
   "outputs": [],
   "source": [
    "cv = RepeatedStratifiedKFold(n_splits=10, n_repeats=3)\n",
    "\n",
    "param_grid = [{ #regular grid search took about 1 ahour with KNNImputer\n",
    "            'model__n_estimators': [10, 100, 1000],\n",
    "            'model__learning_rate': [0.001, 0.01, 0.1],\n",
    "            'model__subsample': [0.5, 0.7, 1.0],\n",
    "            'model__max_depth': [3, 7, 9],\n",
    "    \n",
    "#             'imputer__imputer__strategy': ['mean', 'median', 'constant', 'most_frequent']\n",
    "            'imputer__num_imputer__strategy': ['mean'], # , median, constant, most_frequent\n",
    "            'imputer__cab_imputer__strategy': ['constant', 'most_frequent'], # constant, most_frequent\n",
    "            'imputer__cab_imputer__strategy': ['most_frequent']\n",
    "              }]"
   ]
  },
  {
   "cell_type": "code",
   "execution_count": null,
   "id": "3a4a4190",
   "metadata": {},
   "outputs": [],
   "source": [
    "#pipeline = Pipeline([('clean_d', cleanData)], verbose=True)\n",
    "\n",
    "# classifier = Pipeline([('imputer', impute), \n",
    "#                      ('embarked', codeEmbarked_toPipeline_trans),\n",
    "#                      (\"titles\", getTitles_trans),\n",
    "#                      (\"fare\", fare_trans),\n",
    "#                      ('age', age_trans),\n",
    "#                      ('family', familySize_trans), \n",
    "#                      ('oneHot', sexTitle_to_OneHot_trans), \n",
    "#                      ('model', model)])\n",
    "\n",
    "cleaner = Pipeline([ \n",
    "                     ('imputer', impute), \n",
    "    ('to_df', toDF_trans)\n",
    "                     ('embarked', codeEmbarked_trans), # para clean: codeEmbarked_trans\n",
    "                     (\"titles\", getTitles_trans),\n",
    "#                     (\"fare\", fare_trans),\n",
    "#                      ('age', age_trans),\n",
    "#                      ('family', familySize_trans), \n",
    "#                      ('oneHot', sexTitle_to_OneHot_trans) \n",
    "                   ])"
   ]
  },
  {
   "cell_type": "code",
   "execution_count": null,
   "id": "f276db14",
   "metadata": {},
   "outputs": [],
   "source": []
  },
  {
   "cell_type": "code",
   "execution_count": null,
   "id": "2fc41095",
   "metadata": {},
   "outputs": [],
   "source": []
  },
  {
   "cell_type": "code",
   "execution_count": null,
   "id": "26469bc5",
   "metadata": {},
   "outputs": [],
   "source": []
  },
  {
   "cell_type": "code",
   "execution_count": 17,
   "id": "aabd287b",
   "metadata": {},
   "outputs": [],
   "source": [
    "def to_df(a):\n",
    "    ''' It recive a numpy array and turning into a data frame '''\n",
    "    \n",
    "    df = pd.DataFrame(a.copy(), \n",
    "                      columns=['Age', 'Cabin', 'Embarked', 'Pclass', \n",
    "                               'Name', 'Sex', 'SibSp', 'Parch', 'Ticket', 'Fare']\n",
    "                     )\n",
    "    \n",
    "    return df\n",
    "\n",
    "\n",
    "def fare(df):\n",
    "    #s['FareBand'] = pd.qcut(s['Fare'], 4)\n",
    "    \n",
    "    s = df.copy()\n",
    "    s.loc[ s['Fare'] <= 7.91, 'Fare'] = 0\n",
    "    s.loc[(s['Fare'] > 7.91) & (s['Fare'] <= 14.454), 'Fare'] = 1\n",
    "    s.loc[(s['Fare'] > 14.454) & (s['Fare'] <= 31), 'Fare']   = 2\n",
    "    s.loc[ s['Fare'] > 31, 'Fare'] = 3\n",
    "\n",
    "    #Cambiar tipo de columna\n",
    "    s['Fare'] = s['Fare'].astype(int)\n",
    "    \n",
    "    return s\n",
    "\n",
    "def age(df): #if it uses 2 times it will set all values to 1.0\n",
    "            #recive a copy\n",
    "            #does not touch nan values\n",
    "    print(type(df))\n",
    "    assert 0\n",
    "    s = df.copy()\n",
    "    s.loc[(s.Age <= 13), 'Age'] = 1\n",
    "    s.loc[(s.Age > 13) & (s.Age <= 18), 'Age'] = 2\n",
    "    s.loc[(s.Age > 18) & (s.Age <= 30), 'Age'] = 3\n",
    "    s.loc[(s.Age > 30) & (s.Age <= 50), 'Age'] = 4\n",
    "    s.loc[(s.Age > 50), 'Age'] = 5\n",
    "    \n",
    "    return s\n",
    "\n",
    "def familySize(df):\n",
    "    \n",
    "    s = df.copy()\n",
    "    s['FamilySize'] = s['SibSp'] +  s['Parch'] + 1\n",
    "    \n",
    "    s['FamilySize'] = s['FamilySize'].astype(int)\n",
    "    #s['Survived'] = s['Survived'].astype(int)\n",
    "    \n",
    "    s['IsAlone'] = 0\n",
    "    s.loc[s['FamilySize'] == 1, 'IsAlone'] = 1\n",
    "    \n",
    "    return s.drop(columns=['SibSp', 'Parch', 'FamilySize']).copy()\n",
    "\n",
    "\n",
    "def getTitles(df):\n",
    "    #str.extract(' ([A-Za-z]+)\\.')\n",
    "    #print(type(s))\n",
    "    \n",
    "    s = df.copy()\n",
    "    #print(s.sample(7))\n",
    "    #assert 0\n",
    "    s['Title'] = s['Name'].str.extract(' ([A-Za-z]+)\\.')\n",
    "    s['Title'] = s['Title'].replace(['Lady', 'Countess','Capt', 'Col', 'Don', 'Dr',                                       \n",
    "                                    'Major', 'Rev', 'Sir', 'Jonkheer', 'Dona'], 'Other')\n",
    "    s['Title'] = s['Title'].replace(['Mlle', 'Ms'], 'Miss')\n",
    "    s['Title'] = s['Title'].replace(['Mme'], 'Mrs')\n",
    "    \n",
    "    #print(s.sample(7))\n",
    "    #assert 0\n",
    "    return s.drop(columns='Name').copy()\n",
    "\n",
    "def codeEmbarked(df): #Usado en Cleaner nada mas\n",
    "    '''   '''\n",
    "    \n",
    "    s = df.copy()                          #le quito 'int' para que pueda manejar nan\n",
    "    s['Embarked'] = s['Embarked'].map( {'S': 0, 'C': 1, 'Q': 2})#.astype('int') \n",
    "    \n",
    "    return s\n",
    "\n",
    "\n",
    "def sexTitle_to_OneHot(df):\n",
    "    '''This version works when you firts split the data set into X, y \n",
    "       and dropping 'Survived' from X\n",
    "    '''\n",
    "    encoder = OneHotEncoder(handle_unknown='ignore', sparse=False)\n",
    "    \n",
    "    \n",
    "    #d_clean.drop(columns=['Ticket', 'Cabin'], inplace=True)\n",
    "    s = df.drop(columns=['Ticket', 'Cabin']).copy()\n",
    "    #print(s.head(16))\n",
    "    #print(s.columns)\n",
    "    #s.columns\n",
    "        \n",
    "    cat_features = ['Sex', 'Title']\n",
    "    \n",
    "    #res_features = ['Age', 'Embarked', 'Pclass', 'Fare', 'IsAlone']\n",
    "    \n",
    "    # Pclass  Age  Fare  Embarked  IsAlone\n",
    "    res_features = ['Pclass', 'Age', 'Fare', 'Embarked', 'IsAlone']\n",
    "    \n",
    "    transformer = ColumnTransformer([('cat', encoder, cat_features)], remainder='passthrough')\n",
    "    \n",
    "    transformer.fit(s)\n",
    "    \n",
    "    tranformed_names = transformer.named_transformers_['cat'].get_feature_names_out(cat_features)\n",
    "    #tranformed_names\n",
    "    \n",
    "    new_names = np.append(tranformed_names, res_features)\n",
    "    \n",
    "    #print(new_names)\n",
    "    #assert 0\n",
    "    \n",
    "    return pd.DataFrame(transformer.transform(s), columns=new_names)\n",
    "\n",
    "\n",
    "def get_x_y(df, y):\n",
    "    #resives an copy of a df and return X_tr, y_tr\n",
    "    X_tr = df.drop(columns=[y])\n",
    "    y_tr = df[y]\n",
    "    \n",
    "    return X_tr, y_tr\n",
    "\n",
    "\n",
    "codeEmbarked_trans = FunctionTransformer(codeEmbarked, validate=False)\n",
    "getTitles_trans = FunctionTransformer(getTitles, validate=False)\n",
    "sexTitle_to_OneHot_trans = FunctionTransformer(sexTitle_to_OneHot, validate=False)\n",
    "fare_trans = FunctionTransformer(fare, validate=False)\n",
    "age_func = FunctionTransformer(age, validate=False)\n",
    "familySize_trans = FunctionTransformer(familySize, validate=False)\n",
    "toDF_trans = FunctionTransformer(to_df, validate=False)\n",
    "\n",
    "\n"
   ]
  },
  {
   "cell_type": "code",
   "execution_count": null,
   "id": "a75ff82e",
   "metadata": {},
   "outputs": [],
   "source": []
  }
 ],
 "metadata": {
  "kernelspec": {
   "display_name": "Python 3 (ipykernel)",
   "language": "python",
   "name": "python3"
  },
  "language_info": {
   "codemirror_mode": {
    "name": "ipython",
    "version": 3
   },
   "file_extension": ".py",
   "mimetype": "text/x-python",
   "name": "python",
   "nbconvert_exporter": "python",
   "pygments_lexer": "ipython3",
   "version": "3.8.12"
  }
 },
 "nbformat": 4,
 "nbformat_minor": 5
}
