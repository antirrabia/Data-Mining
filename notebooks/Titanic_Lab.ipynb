{
 "cells": [
  {
   "cell_type": "code",
   "execution_count": 28,
   "id": "859fea63",
   "metadata": {},
   "outputs": [],
   "source": [
    "from sklearn.ensemble import GradientBoostingClassifier\n",
    "from sklearn.ensemble import BaggingClassifier\n",
    "from sklearn.ensemble import RandomForestClassifier\n",
    "from sklearn.tree import DecisionTreeClassifier\n",
    "from sklearn.linear_model import LogisticRegression\n",
    "from sklearn.model_selection import train_test_split, GridSearchCV, cross_val_score\n",
    "from sklearn.model_selection import RepeatedStratifiedKFold\n",
    "from sklearn.preprocessing import OneHotEncoder, FunctionTransformer\n",
    "from sklearn.preprocessing import OrdinalEncoder\n",
    "from sklearn.impute import SimpleImputer\n",
    "from sklearn.compose import ColumnTransformer\n",
    "from sklearn.pipeline import Pipeline, FeatureUnion\n",
    "\n",
    "import matplotlib.pyplot as plt\n",
    "import seaborn as sns\n",
    "import pandas as pd\n",
    "import numpy as np\n",
    "import copy"
   ]
  },
  {
   "cell_type": "code",
   "execution_count": 2,
   "id": "c3bd325f",
   "metadata": {},
   "outputs": [],
   "source": [
    "d_tr = pd.read_csv('/Users/antirrabia/Documents/01-GitHub/DataMining-_-/CSV/Titanic/train.csv', index_col=0)\n",
    "d_te = pd.read_csv('/Users/antirrabia/Documents/01-GitHub/DataMining-_-/CSV/Titanic/test.csv', index_col=0)"
   ]
  },
  {
   "cell_type": "markdown",
   "id": "18e39642",
   "metadata": {},
   "source": [
    "### X, y"
   ]
  },
  {
   "cell_type": "code",
   "execution_count": 3,
   "id": "35ad38ee",
   "metadata": {},
   "outputs": [],
   "source": [
    "X = d_tr.drop(columns=['Survived', 'Ticket', 'Cabin']).copy()\n",
    "y = d_tr.Survived.copy().astype('int')"
   ]
  },
  {
   "cell_type": "markdown",
   "id": "3eb3d975",
   "metadata": {},
   "source": [
    "### Columns to work with"
   ]
  },
  {
   "cell_type": "code",
   "execution_count": 5,
   "id": "b3d21586",
   "metadata": {},
   "outputs": [
    {
     "data": {
      "text/plain": [
       "Index(['Pclass', 'Name', 'Sex', 'Age', 'SibSp', 'Parch', 'Fare', 'Embarked'], dtype='object')"
      ]
     },
     "execution_count": 5,
     "metadata": {},
     "output_type": "execute_result"
    }
   ],
   "source": [
    "X.columns"
   ]
  },
  {
   "cell_type": "markdown",
   "id": "65280f79",
   "metadata": {},
   "source": [
    "# Transformers"
   ]
  },
  {
   "cell_type": "code",
   "execution_count": 6,
   "id": "306d354a",
   "metadata": {},
   "outputs": [],
   "source": [
    "## Age\n",
    "impute_age = ColumnTransformer([\n",
    "                                ('age', SimpleImputer(strategy='mean'), ['Age'])\n",
    "                               ])\n",
    "\n",
    "age_trans = Pipeline([\n",
    "                      ('impute', impute_age), \n",
    "                      ('encode', age_func)\n",
    "                     ])\n",
    "\n",
    "## Embarked\n",
    "impute_embar = ColumnTransformer([\n",
    "                                  ('embarked', SimpleImputer(strategy='most_frequent'), ['Embarked'])\n",
    "                                 ])\n",
    "\n",
    "embar_trans = Pipeline([\n",
    "                        ('impute', impute_embar), \n",
    "                        ('encode', OrdinalEncoder()) # try su use ordinalEncode directly\n",
    "                       ])\n",
    "\n",
    "## Fare\n",
    "fare_trans = ColumnTransformer([\n",
    "                                ('encode', fare_func, ['Fare'])\n",
    "                               ])\n",
    "\n",
    "## 'SibSp', 'Parch' -> IsAlone\n",
    "familySize_trans = ColumnTransformer([\n",
    "                                      ('size', familySize_func, ['SibSp', 'Parch'])\n",
    "                                     ])\n",
    "\n",
    "## Sex\n",
    "sex_trans = ColumnTransformer([\n",
    "                               ('sex', codeSex_func, ['Sex'])\n",
    "                              ])\n",
    "\n",
    "## names -> Titles\n",
    "getTitles_trans = ColumnTransformer([\n",
    "                                     ('titles', getTitles_func, ['Name'])\n",
    "                                    ])\n",
    "\n",
    "encodeTiles_trans = Pipeline([\n",
    "                              ('title_trans', getTitles_trans), \n",
    "                              ('oh', OneHotEncoder(handle_unknown='ignore'))\n",
    "                             ])"
   ]
  },
  {
   "cell_type": "code",
   "execution_count": 7,
   "id": "5f2623b4",
   "metadata": {},
   "outputs": [],
   "source": [
    "preprocesor = FeatureUnion([\n",
    "                            ('age_t', age_trans),        # add 1 colunm\n",
    "                            ('embarked_t', embar_trans), # add 1 colunm\n",
    "                            ('fare', fare_trans),        # add 1 colunm\n",
    "                            ('size', familySize_trans),  # add 1 colunm\n",
    "                            ('sex', sex_trans),          # add 2 colunm\n",
    "                            ('title', encodeTiles_trans) # add 5 colunm\n",
    "                           ])"
   ]
  },
  {
   "cell_type": "code",
   "execution_count": 76,
   "id": "2a06114d",
   "metadata": {},
   "outputs": [
    {
     "data": {
      "text/plain": [
       "(891, 5)"
      ]
     },
     "execution_count": 76,
     "metadata": {},
     "output_type": "execute_result"
    }
   ],
   "source": [
    "X_trans = preprocesor.fit_transform(X.copy())\n",
    "X_trans.shape"
   ]
  },
  {
   "cell_type": "markdown",
   "id": "38ea516c",
   "metadata": {},
   "source": [
    "# Tunning"
   ]
  },
  {
   "cell_type": "markdown",
   "id": "9613c7e4",
   "metadata": {},
   "source": [
    "# ⚡️ GradientBoostingClassifier"
   ]
  },
  {
   "cell_type": "code",
   "execution_count": 16,
   "id": "25f98aee",
   "metadata": {},
   "outputs": [],
   "source": [
    "classifier = Pipeline([\n",
    "                       ('pre', preprocesor), \n",
    "                       ('model', GradientBoostingClassifier())\n",
    "                      ])"
   ]
  },
  {
   "cell_type": "code",
   "execution_count": 25,
   "id": "61a25b59",
   "metadata": {},
   "outputs": [],
   "source": [
    "cv = RepeatedStratifiedKFold(n_splits=10, n_repeats=3)\n",
    "\n",
    "param_grid = [{ #regular grid search took about 1 ahour with KNNImputer\n",
    "                'model__n_estimators': [10, 100, 1000],\n",
    "                'model__learning_rate': [0.001, 0.01, 0.1],\n",
    "                'model__subsample': [0.5, 0.7, 1.0],\n",
    "                'model__max_depth': [3, 7, 9],\n",
    "    \n",
    "#            'strategy for numrical': ['mean', 'median', 'constant', 'most_frequent']\n",
    "                'pre__age_t__impute__age__strategy': ['mean', 'median', 'constant', 'most_frequent'],#\n",
    "                'pre__embarked_t__impute__embarked__strategy': ['most_frequent'],\n",
    "              }]"
   ]
  },
  {
   "cell_type": "code",
   "execution_count": 28,
   "id": "5a5feb2e",
   "metadata": {
    "scrolled": true
   },
   "outputs": [
    {
     "data": {
      "text/plain": [
       "0.7998543487307531"
      ]
     },
     "execution_count": 28,
     "metadata": {},
     "output_type": "execute_result"
    }
   ],
   "source": [
    "gs.best_score_"
   ]
  },
  {
   "cell_type": "code",
   "execution_count": 30,
   "id": "0a499fb8",
   "metadata": {},
   "outputs": [
    {
     "data": {
      "text/plain": [
       "{'model__learning_rate': 0.01,\n",
       " 'model__max_depth': 7,\n",
       " 'model__n_estimators': 100,\n",
       " 'model__subsample': 0.5,\n",
       " 'pre__age_t__impute__age__strategy': 'constant',\n",
       " 'pre__embarked_t__impute__embarked__strategy': 'most_frequent'}"
      ]
     },
     "execution_count": 30,
     "metadata": {},
     "output_type": "execute_result"
    }
   ],
   "source": [
    "gs.best_params_"
   ]
  },
  {
   "cell_type": "markdown",
   "id": "73018e08",
   "metadata": {},
   "source": [
    "# ⚡️ BaggingClassifier"
   ]
  },
  {
   "cell_type": "code",
   "execution_count": 12,
   "id": "7c6ab179",
   "metadata": {},
   "outputs": [],
   "source": [
    "model = BaggingClassifier(base_estimator=DecisionTreeClassifier())\n",
    "\n",
    "param_grid = [{#  *** first change parameters in base_estimator ***\n",
    "               'model__base_estimator__max_leaf_nodes': [10, 20, 30],\n",
    "               'model__base_estimator__criterion': [\"gini\", \"entropy\"],\n",
    "    \n",
    "               'model__n_estimators': [10, 100, 1000],\n",
    "               \n",
    "               'pre__age_t__impute__age__strategy': ['mean', 'median', 'constant', 'most_frequent'],#\n",
    "               'pre__embarked_t__impute__embarked__strategy': ['most_frequent'],\n",
    "               }]"
   ]
  },
  {
   "cell_type": "code",
   "execution_count": 18,
   "id": "9e0a2a3f",
   "metadata": {},
   "outputs": [
    {
     "data": {
      "text/plain": [
       "0.7986766541822721"
      ]
     },
     "execution_count": 18,
     "metadata": {},
     "output_type": "execute_result"
    }
   ],
   "source": [
    "gs.best_score_"
   ]
  },
  {
   "cell_type": "code",
   "execution_count": 17,
   "id": "da1fd4bc",
   "metadata": {},
   "outputs": [
    {
     "data": {
      "text/plain": [
       "{'model__base_estimator__criterion': 'gini',\n",
       " 'model__base_estimator__max_leaf_nodes': 20,\n",
       " 'model__n_estimators': 100,\n",
       " 'pre__age_t__impute__age__strategy': 'constant',\n",
       " 'pre__embarked_t__impute__embarked__strategy': 'most_frequent'}"
      ]
     },
     "execution_count": 17,
     "metadata": {},
     "output_type": "execute_result"
    }
   ],
   "source": [
    "gs.best_params_"
   ]
  },
  {
   "cell_type": "code",
   "execution_count": null,
   "id": "a271b0e6",
   "metadata": {},
   "outputs": [],
   "source": []
  },
  {
   "cell_type": "markdown",
   "id": "ffbe9c37",
   "metadata": {},
   "source": [
    "# ⚡️  RandomForestClassifier"
   ]
  },
  {
   "cell_type": "code",
   "execution_count": 22,
   "id": "c6835c23",
   "metadata": {},
   "outputs": [],
   "source": [
    "model = RandomForestClassifier(n_jobs=-1)\n",
    "\n",
    "param_grid = [{ # 216 iter in a regular grid search\n",
    "                'model__criterion' : [\"gini\", \"entropy\"],\n",
    "                'model__n_estimators': [10, 100, 1000],\n",
    "                'model__max_features': ['sqrt', 'log2'],\n",
    "                'model__class_weight' : [ None, \"balanced\", \"balanced_subsample\"],\n",
    "    \n",
    "    \n",
    "               'pre__age_t__impute__age__strategy': ['mean', 'median', 'constant', 'most_frequent'],\n",
    "               'pre__embarked_t__impute__embarked__strategy': ['most_frequent'],\n",
    "               }] "
   ]
  },
  {
   "cell_type": "code",
   "execution_count": 25,
   "id": "425018bc",
   "metadata": {},
   "outputs": [
    {
     "data": {
      "text/plain": [
       "0.7870994590095712"
      ]
     },
     "execution_count": 25,
     "metadata": {},
     "output_type": "execute_result"
    }
   ],
   "source": [
    "gs.best_score_"
   ]
  },
  {
   "cell_type": "code",
   "execution_count": 26,
   "id": "0c93999c",
   "metadata": {},
   "outputs": [
    {
     "data": {
      "text/plain": [
       "{'model__class_weight': None,\n",
       " 'model__criterion': 'gini',\n",
       " 'model__max_features': 'log2',\n",
       " 'model__n_estimators': 1000,\n",
       " 'pre__age_t__impute__age__strategy': 'median',\n",
       " 'pre__embarked_t__impute__embarked__strategy': 'most_frequent'}"
      ]
     },
     "execution_count": 26,
     "metadata": {},
     "output_type": "execute_result"
    }
   ],
   "source": [
    "gs.best_params_"
   ]
  },
  {
   "cell_type": "code",
   "execution_count": null,
   "id": "55622846",
   "metadata": {},
   "outputs": [],
   "source": []
  },
  {
   "cell_type": "markdown",
   "id": "d0411134",
   "metadata": {},
   "source": [
    "# ⚡️ LogisticRegression"
   ]
  },
  {
   "cell_type": "code",
   "execution_count": 29,
   "id": "dab7e936",
   "metadata": {},
   "outputs": [],
   "source": [
    "model = LogisticRegression(max_iter=10000)\n",
    "\n",
    "param_grid = [{ \n",
    "              'model__solver': ['newton-cg', 'lbfgs', 'liblinear', 'sag', 'saga'],\n",
    "              'model__penalty': ['l2'],\n",
    "              'model__C': [0.01, 0.1, 1, 10, 100],\n",
    "              'model__class_weight' : ['balanced', None],\n",
    "    \n",
    "    \n",
    "              'pre__age_t__impute__age__strategy': ['mean', 'median', 'constant', 'most_frequent'],\n",
    "              'pre__embarked_t__impute__embarked__strategy': ['most_frequent'],\n",
    "              \n",
    "              }]"
   ]
  },
  {
   "cell_type": "code",
   "execution_count": 32,
   "id": "715f85f4",
   "metadata": {},
   "outputs": [
    {
     "data": {
      "text/plain": [
       "0.7886516853932585"
      ]
     },
     "execution_count": 32,
     "metadata": {},
     "output_type": "execute_result"
    }
   ],
   "source": [
    "gs.best_score_"
   ]
  },
  {
   "cell_type": "code",
   "execution_count": 33,
   "id": "dda31cb3",
   "metadata": {},
   "outputs": [
    {
     "data": {
      "text/plain": [
       "{'model__C': 0.01,\n",
       " 'model__class_weight': None,\n",
       " 'model__penalty': 'l2',\n",
       " 'model__solver': 'liblinear',\n",
       " 'pre__age_t__impute__age__strategy': 'constant',\n",
       " 'pre__embarked_t__impute__embarked__strategy': 'most_frequent'}"
      ]
     },
     "execution_count": 33,
     "metadata": {},
     "output_type": "execute_result"
    }
   ],
   "source": [
    "gs.best_params_"
   ]
  },
  {
   "cell_type": "markdown",
   "id": "de9c7602",
   "metadata": {},
   "source": [
    "# =============------================"
   ]
  },
  {
   "cell_type": "markdown",
   "id": "80e453e1",
   "metadata": {},
   "source": [
    "# ⚡️💡  Rating    💡⚡️"
   ]
  },
  {
   "cell_type": "code",
   "execution_count": 30,
   "id": "95a7be21",
   "metadata": {},
   "outputs": [],
   "source": [
    "classifier = Pipeline([\n",
    "                       ('pre', preprocesor), \n",
    "                       ('model', model)\n",
    "                      ])\n",
    "\n",
    "cv = RepeatedStratifiedKFold(n_splits=10, n_repeats=3)\n",
    "gs = GridSearchCV(classifier, param_grid=param_grid, cv=cv, n_jobs=-1, scoring='accuracy', verbose=1)"
   ]
  },
  {
   "cell_type": "code",
   "execution_count": 31,
   "id": "6e132c9a",
   "metadata": {},
   "outputs": [
    {
     "name": "stdout",
     "output_type": "stream",
     "text": [
      "Fitting 30 folds for each of 200 candidates, totalling 6000 fits\n"
     ]
    },
    {
     "data": {
      "text/plain": [
       "GridSearchCV(cv=RepeatedStratifiedKFold(n_repeats=3, n_splits=10, random_state=None),\n",
       "             estimator=Pipeline(steps=[('pre',\n",
       "                                        FeatureUnion(transformer_list=[('age_t',\n",
       "                                                                        Pipeline(steps=[('impute',\n",
       "                                                                                         ColumnTransformer(transformers=[('age',\n",
       "                                                                                                                          SimpleImputer(),\n",
       "                                                                                                                          ['Age'])])),\n",
       "                                                                                        ('encode',\n",
       "                                                                                         FunctionTransformer(func=<function encodeAge at 0x7f835f664af0>))])),\n",
       "                                                                       ('embarked_t',\n",
       "                                                                        Pipeline(st...\n",
       "             n_jobs=-1,\n",
       "             param_grid=[{'model__C': [0.01, 0.1, 1, 10, 100],\n",
       "                          'model__class_weight': ['balanced', None],\n",
       "                          'model__penalty': ['l2'],\n",
       "                          'model__solver': ['newton-cg', 'lbfgs', 'liblinear',\n",
       "                                            'sag', 'saga'],\n",
       "                          'pre__age_t__impute__age__strategy': ['mean',\n",
       "                                                                'median',\n",
       "                                                                'constant',\n",
       "                                                                'most_frequent'],\n",
       "                          'pre__embarked_t__impute__embarked__strategy': ['most_frequent']}],\n",
       "             scoring='accuracy', verbose=1)"
      ]
     },
     "execution_count": 31,
     "metadata": {},
     "output_type": "execute_result"
    }
   ],
   "source": [
    "gs.fit(X, y)"
   ]
  },
  {
   "cell_type": "code",
   "execution_count": null,
   "id": "eabcd5e3",
   "metadata": {},
   "outputs": [],
   "source": []
  },
  {
   "cell_type": "markdown",
   "id": "66772337",
   "metadata": {},
   "source": [
    "# Tools"
   ]
  },
  {
   "cell_type": "code",
   "execution_count": 5,
   "id": "aabd287b",
   "metadata": {},
   "outputs": [],
   "source": [
    "\n",
    "def encodeFare(df):\n",
    "    ''' '''\n",
    "    \n",
    "    s = copy.deepcopy(df)\n",
    "    \n",
    "    s[ (s <= 7.91) ] = 0\n",
    "    s[(s > 7.91) & (s <= 14.454)] = 1\n",
    "    s[(s > 14.454) & (s <= 31)]   = 2\n",
    "    s[ (s > 31) ] = 3\n",
    "    \n",
    "    return s\n",
    "\n",
    "def encodeAge(df): #if it uses 2 times it will set all values to 1.0\n",
    "            #recive a copy\n",
    "            #does not touch nan values\n",
    "    \n",
    "    s = copy.deepcopy(df)\n",
    "    s[(s <= 13)] = 1\n",
    "    s[(s > 13) & (s <= 18)] = 2\n",
    "    s[(s > 18) & (s <= 30)] = 3\n",
    "    s[(s > 30) & (s <= 50)] = 4\n",
    "    s[(s > 50)] = 5\n",
    "    \n",
    "    return s\n",
    "\n",
    "def familySize(df):\n",
    "    \n",
    "    s = np.zeros( (len(df.index), 1) )\n",
    "    \n",
    "    # if overall members family are equeal to 1 mean they ar alone\n",
    "    s[ ( (df['SibSp'] +  df['Parch'] + 1) == 1 ) ] = 1\n",
    "    \n",
    "    \n",
    "    #s['IsAlone'] = 0\n",
    "    #s.loc[s['FamilySize'] == 1, 'IsAlone'] = 1\n",
    "    \n",
    "    return s#.drop(columns=['SibSp', 'Parch', 'FamilySize']).copy()\n",
    "\n",
    "\n",
    "def getTitles(df):\n",
    "    ''' '''\n",
    "    \n",
    "    s = copy.deepcopy(df)\n",
    "#     print(s.sample(7))\n",
    "#     assert 0\n",
    "    s['Title'] = s['Name'].str.extract(' ([A-Za-z]+)\\.')\n",
    "    s['Title'] = s['Title'].replace(['Lady', 'Countess','Capt', 'Col', 'Don', 'Dr',                                       \n",
    "                                    'Major', 'Rev', 'Sir', 'Jonkheer', 'Dona'], 'Other')\n",
    "    s['Title'] = s['Title'].replace(['Mlle', 'Ms'], 'Miss')\n",
    "    s['Title'] = s['Title'].replace(['Mme'], 'Mrs')\n",
    "    \n",
    "#     resulting titles = 'Mr', 'Miss', 'Mrs', 'Master', 'Other'\n",
    "    \n",
    "#     print(s.sample(7))\n",
    "#     print(s.Title.value_counts())\n",
    "\n",
    "    s = s.drop(columns='Name').copy()\n",
    "    \n",
    "#     print(s.value_counts())\n",
    "#     assert 0\n",
    "\n",
    "    return s\n",
    "\n",
    "# def encodeTitles(df):\n",
    "#     ''' '''\n",
    "    \n",
    "#     s = copy.deepcopy(df)\n",
    "    \n",
    "#     print(s.shape)\n",
    "    \n",
    "    \n",
    "#     oh2 = OneHotEncoder(handle_unknown='ignore', sparse=False)\n",
    "    \n",
    "#     s = oh2.fit_transform(s)\n",
    "    \n",
    "# #     np_a2 = np.sum(s)\n",
    "# #     print(np.isnan(np_a2))\n",
    "    \n",
    "# #     print(type(s))\n",
    "# #     print(s.shape)\n",
    "# #     assert 0\n",
    "    \n",
    "#     return s\n",
    "    \n",
    "\n",
    "def encodeEmbarked(df):\n",
    "    '''   '''\n",
    "    \n",
    "    s = copy.deepcopy(df)\n",
    "    \n",
    "    ordinal = OrdinalEncoder()\n",
    "    \n",
    "    return ordinal.fit_transform(s)\n",
    "\n",
    "def encodeSex(df):\n",
    "    ''' '''\n",
    "    \n",
    "    s = copy.deepcopy(df)\n",
    "    oh = OneHotEncoder(handle_unknown='ignore', sparse=False)\n",
    "    \n",
    "    return oh.fit_transform(s)\n",
    "\n",
    "\n",
    "embarked_func = FunctionTransformer(encodeEmbarked, validate=False)\n",
    "\n",
    "getTitles_func = FunctionTransformer(getTitles, validate=False)\n",
    "# encodeTitles_func = FunctionTransformer(encodeTitles, validate=False)\n",
    "\n",
    "fare_func = FunctionTransformer(encodeFare, validate=False)\n",
    "age_func = FunctionTransformer(encodeAge, validate=False)\n",
    "familySize_func = FunctionTransformer(familySize, validate=False)\n",
    "codeSex_func = FunctionTransformer(encodeSex, validate=False)\n",
    "\n",
    "\n"
   ]
  },
  {
   "cell_type": "code",
   "execution_count": null,
   "id": "a75ff82e",
   "metadata": {},
   "outputs": [],
   "source": []
  }
 ],
 "metadata": {
  "kernelspec": {
   "display_name": "Python 3 (ipykernel)",
   "language": "python",
   "name": "python3"
  },
  "language_info": {
   "codemirror_mode": {
    "name": "ipython",
    "version": 3
   },
   "file_extension": ".py",
   "mimetype": "text/x-python",
   "name": "python",
   "nbconvert_exporter": "python",
   "pygments_lexer": "ipython3",
   "version": "3.8.12"
  }
 },
 "nbformat": 4,
 "nbformat_minor": 5
}
