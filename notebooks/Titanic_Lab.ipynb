{
 "cells": [
  {
   "cell_type": "code",
   "execution_count": 29,
   "id": "859fea63",
   "metadata": {},
   "outputs": [],
   "source": [
    "from sklearn.ensemble import GradientBoostingClassifier\n",
    "from sklearn.model_selection import train_test_split, GridSearchCV\n",
    "from sklearn.model_selection import RepeatedStratifiedKFold\n",
    "from sklearn.preprocessing import OneHotEncoder, FunctionTransformer\n",
    "from sklearn.preprocessing import OrdinalEncoder\n",
    "from sklearn.impute import SimpleImputer\n",
    "from sklearn.compose import ColumnTransformer\n",
    "from sklearn.pipeline import Pipeline, FeatureUnion\n",
    "\n",
    "import matplotlib.pyplot as plt\n",
    "import seaborn as sns\n",
    "import pandas as pd\n",
    "import numpy as np\n",
    "import copy"
   ]
  },
  {
   "cell_type": "code",
   "execution_count": 2,
   "id": "c3bd325f",
   "metadata": {},
   "outputs": [],
   "source": [
    "d_tr = pd.read_csv('/Users/antirrabia/Documents/01-GitHub/DataMining-_-/CSV/Titanic/train.csv', index_col=0)\n",
    "d_te = pd.read_csv('/Users/antirrabia/Documents/01-GitHub/DataMining-_-/CSV/Titanic/test.csv', index_col=0)"
   ]
  },
  {
   "cell_type": "code",
   "execution_count": 3,
   "id": "8dd9ecba",
   "metadata": {},
   "outputs": [
    {
     "data": {
      "text/plain": [
       "Index(['Survived', 'Pclass', 'Name', 'Sex', 'Age', 'SibSp', 'Parch', 'Ticket',\n",
       "       'Fare', 'Cabin', 'Embarked'],\n",
       "      dtype='object')"
      ]
     },
     "execution_count": 3,
     "metadata": {},
     "output_type": "execute_result"
    }
   ],
   "source": [
    "d_tr.columns"
   ]
  },
  {
   "cell_type": "code",
   "execution_count": 10,
   "id": "35ad38ee",
   "metadata": {},
   "outputs": [],
   "source": [
    "X = d_tr.drop(columns=['Survived', 'Ticket', 'Cabin']).copy()\n",
    "y = d_tr.Survived.copy()"
   ]
  },
  {
   "cell_type": "code",
   "execution_count": 48,
   "id": "306d354a",
   "metadata": {},
   "outputs": [],
   "source": [
    "## Age\n",
    "impute_age = ColumnTransformer([ ('age', SimpleImputer(), ['Age'])\n",
    "                               ])\n",
    "\n",
    "age_trans = Pipeline([('impute', impute_age), \n",
    "                      ('encode', age_func)\n",
    "                     ])\n",
    "\n",
    "## Embarked\n",
    "impute_embar = ColumnTransformer([('embarked', SimpleImputer(strategy='most_frequent'), ['Embarked'])\n",
    "                                 ])\n",
    "\n",
    "embar_trans = Pipeline([('impute', impute_embar), \n",
    "                        ('encode', embarked_func)\n",
    "                       ])\n",
    "\n",
    "## Fare\n",
    "fare_trans = ColumnTransformer([('encode', fare_func, ['Fare'])])\n",
    "\n",
    "## 'SibSp', 'Parch' to IsAlone\n",
    "familySize_trans = ColumnTransformer([('size', familySize_func, ['SibSp', 'Parch'])])"
   ]
  },
  {
   "cell_type": "code",
   "execution_count": null,
   "id": "f081e042",
   "metadata": {},
   "outputs": [],
   "source": []
  },
  {
   "cell_type": "code",
   "execution_count": 49,
   "id": "33a4c3f9",
   "metadata": {},
   "outputs": [],
   "source": [
    "preprocesor = FeatureUnion([('age_', age_trans), \n",
    "                            ('embarked_', embar_trans), \n",
    "                            ('fare', fare_trans), \n",
    "                            ('size', familySize_trans)\n",
    "                           ])"
   ]
  },
  {
   "cell_type": "code",
   "execution_count": 50,
   "id": "101c0e01",
   "metadata": {},
   "outputs": [
    {
     "data": {
      "text/plain": [
       "array([[3., 2., 0., 0.],\n",
       "       [4., 0., 3., 0.],\n",
       "       [3., 2., 1., 1.],\n",
       "       ...,\n",
       "       [3., 2., 2., 0.],\n",
       "       [3., 0., 2., 1.],\n",
       "       [4., 1., 0., 1.]])"
      ]
     },
     "execution_count": 50,
     "metadata": {},
     "output_type": "execute_result"
    }
   ],
   "source": [
    "preprocesor.fit_transform(X.copy())"
   ]
  },
  {
   "cell_type": "code",
   "execution_count": null,
   "id": "3ec8c40b",
   "metadata": {},
   "outputs": [],
   "source": []
  },
  {
   "cell_type": "code",
   "execution_count": null,
   "id": "bd63e0c4",
   "metadata": {},
   "outputs": [],
   "source": []
  },
  {
   "cell_type": "code",
   "execution_count": null,
   "id": "61a25b59",
   "metadata": {},
   "outputs": [],
   "source": [
    "cv = RepeatedStratifiedKFold(n_splits=10, n_repeats=3)\n",
    "\n",
    "param_grid = [{ #regular grid search took about 1 ahour with KNNImputer\n",
    "            'model__n_estimators': [10, 100, 1000],\n",
    "            'model__learning_rate': [0.001, 0.01, 0.1],\n",
    "            'model__subsample': [0.5, 0.7, 1.0],\n",
    "            'model__max_depth': [3, 7, 9],\n",
    "    \n",
    "#             'imputer__imputer__strategy': ['mean', 'median', 'constant', 'most_frequent']\n",
    "            'imputer__num_imputer__strategy': ['mean'], # , median, constant, most_frequent\n",
    "            'imputer__cab_imputer__strategy': ['constant', 'most_frequent'], # constant, most_frequent\n",
    "            'imputer__cab_imputer__strategy': ['most_frequent']\n",
    "              }]"
   ]
  },
  {
   "cell_type": "code",
   "execution_count": null,
   "id": "3a4a4190",
   "metadata": {},
   "outputs": [],
   "source": [
    "#pipeline = Pipeline([('clean_d', cleanData)], verbose=True)\n",
    "\n",
    "# classifier = Pipeline([('imputer', impute), \n",
    "#                      ('embarked', codeEmbarked_toPipeline_trans),\n",
    "#                      (\"titles\", getTitles_trans),\n",
    "#                      (\"fare\", fare_trans),\n",
    "#                      ('age', age_trans),\n",
    "#                      ('family', familySize_trans), \n",
    "#                      ('oneHot', sexTitle_to_OneHot_trans), \n",
    "#                      ('model', model)])\n",
    "\n",
    "cleaner = Pipeline([ \n",
    "                     ('imputer', impute), \n",
    "    ('to_df', toDF_trans)\n",
    "                     ('embarked', codeEmbarked_trans), # para clean: codeEmbarked_trans\n",
    "                     (\"titles\", getTitles_trans),\n",
    "#                     (\"fare\", fare_trans),\n",
    "#                      ('age', age_trans),\n",
    "#                      ('family', familySize_trans), \n",
    "#                      ('oneHot', sexTitle_to_OneHot_trans) \n",
    "                   ])"
   ]
  },
  {
   "cell_type": "code",
   "execution_count": null,
   "id": "f276db14",
   "metadata": {},
   "outputs": [],
   "source": []
  },
  {
   "cell_type": "code",
   "execution_count": null,
   "id": "2fc41095",
   "metadata": {},
   "outputs": [],
   "source": []
  },
  {
   "cell_type": "code",
   "execution_count": null,
   "id": "26469bc5",
   "metadata": {},
   "outputs": [],
   "source": []
  },
  {
   "cell_type": "code",
   "execution_count": 47,
   "id": "aabd287b",
   "metadata": {},
   "outputs": [],
   "source": [
    "\n",
    "def encodeFare(df):\n",
    "    ''' '''\n",
    "    \n",
    "    s = copy.deepcopy(df)\n",
    "    \n",
    "    s[ (s <= 7.91) ] = 0\n",
    "    s[(s > 7.91) & (s <= 14.454)] = 1\n",
    "    s[(s > 14.454) & (s <= 31)]   = 2\n",
    "    s[ (s > 31) ] = 3\n",
    "    \n",
    "    return s\n",
    "\n",
    "def age(df): #if it uses 2 times it will set all values to 1.0\n",
    "            #recive a copy\n",
    "            #does not touch nan values\n",
    "    \n",
    "    s = copy.deepcopy(df)\n",
    "    s[(s <= 13)] = 1\n",
    "    s[(s > 13) & (s <= 18)] = 2\n",
    "    s[(s > 18) & (s <= 30)] = 3\n",
    "    s[(s > 30) & (s <= 50)] = 4\n",
    "    s[(s > 50)] = 5\n",
    "    \n",
    "    return s\n",
    "\n",
    "def familySize(df):\n",
    "    \n",
    "    s = np.zeros( (len(df.index), 1) )\n",
    "    \n",
    "        # si esta suma es IGUA a 1 poner 1, en OTRO CASO poner 'CERO'\n",
    "    s[ ( (df['SibSp'] +  df['Parch'] + 1) == 1 ) ] = 1\n",
    "    \n",
    "    \n",
    "    #s['IsAlone'] = 0\n",
    "    #s.loc[s['FamilySize'] == 1, 'IsAlone'] = 1\n",
    "    \n",
    "    return s#.drop(columns=['SibSp', 'Parch', 'FamilySize']).copy()\n",
    "\n",
    "\n",
    "def getTitles(df):\n",
    "    #str.extract(' ([A-Za-z]+)\\.')\n",
    "    #print(type(s))\n",
    "    \n",
    "    s = df.copy()\n",
    "    #print(s.sample(7))\n",
    "    #assert 0\n",
    "    s['Title'] = s['Name'].str.extract(' ([A-Za-z]+)\\.')\n",
    "    s['Title'] = s['Title'].replace(['Lady', 'Countess','Capt', 'Col', 'Don', 'Dr',                                       \n",
    "                                    'Major', 'Rev', 'Sir', 'Jonkheer', 'Dona'], 'Other')\n",
    "    s['Title'] = s['Title'].replace(['Mlle', 'Ms'], 'Miss')\n",
    "    s['Title'] = s['Title'].replace(['Mme'], 'Mrs')\n",
    "    \n",
    "    #print(s.sample(7))\n",
    "    #assert 0\n",
    "    return s.drop(columns='Name').copy()\n",
    "\n",
    "def codeEmbarked(df):\n",
    "    '''   '''\n",
    "    \n",
    "    s = copy.deepcopy(df)\n",
    "    \n",
    "    ordinal = OrdinalEncoder()\n",
    "    \n",
    "    return ordinal.fit_transform(s)\n",
    "\n",
    "\n",
    "def sexTitle_to_OneHot(df):\n",
    "    '''This version works when you firts split the data set into X, y \n",
    "       and dropping 'Survived' from X\n",
    "    '''\n",
    "    encoder = OneHotEncoder(handle_unknown='ignore', sparse=False)\n",
    "    \n",
    "    \n",
    "    #d_clean.drop(columns=['Ticket', 'Cabin'], inplace=True)\n",
    "    s = df.drop(columns=['Ticket', 'Cabin']).copy()\n",
    "    #print(s.head(16))\n",
    "    #print(s.columns)\n",
    "    #s.columns\n",
    "        \n",
    "    cat_features = ['Sex', 'Title']\n",
    "    \n",
    "    #res_features = ['Age', 'Embarked', 'Pclass', 'Fare', 'IsAlone']\n",
    "    \n",
    "    # Pclass  Age  Fare  Embarked  IsAlone\n",
    "    res_features = ['Pclass', 'Age', 'Fare', 'Embarked', 'IsAlone']\n",
    "    \n",
    "    transformer = ColumnTransformer([('cat', encoder, cat_features)], remainder='passthrough')\n",
    "    \n",
    "    transformer.fit(s)\n",
    "    \n",
    "    tranformed_names = transformer.named_transformers_['cat'].get_feature_names_out(cat_features)\n",
    "    #tranformed_names\n",
    "    \n",
    "    new_names = np.append(tranformed_names, res_features)\n",
    "    \n",
    "    #print(new_names)\n",
    "    #assert 0\n",
    "    \n",
    "    return pd.DataFrame(transformer.transform(s), columns=new_names)\n",
    "\n",
    "\n",
    "def get_x_y(df, y):\n",
    "    #resives an copy of a df and return X_tr, y_tr\n",
    "    X_tr = df.drop(columns=[y])\n",
    "    y_tr = df[y]\n",
    "    \n",
    "    return X_tr, y_tr\n",
    "\n",
    "\n",
    "embarked_func = FunctionTransformer(codeEmbarked, validate=False)\n",
    "getTitles_trans = FunctionTransformer(getTitles, validate=False)\n",
    "sexTitle_to_OneHot_trans = FunctionTransformer(sexTitle_to_OneHot, validate=False)\n",
    "fare_func = FunctionTransformer(encodeFare, validate=False)\n",
    "age_func = FunctionTransformer(age, validate=False)\n",
    "familySize_func = FunctionTransformer(familySize, validate=False)\n",
    "toDF_trans = FunctionTransformer(to_df, validate=False)\n",
    "\n",
    "\n"
   ]
  },
  {
   "cell_type": "code",
   "execution_count": null,
   "id": "a75ff82e",
   "metadata": {},
   "outputs": [],
   "source": []
  }
 ],
 "metadata": {
  "kernelspec": {
   "display_name": "Python 3 (ipykernel)",
   "language": "python",
   "name": "python3"
  },
  "language_info": {
   "codemirror_mode": {
    "name": "ipython",
    "version": 3
   },
   "file_extension": ".py",
   "mimetype": "text/x-python",
   "name": "python",
   "nbconvert_exporter": "python",
   "pygments_lexer": "ipython3",
   "version": "3.8.12"
  }
 },
 "nbformat": 4,
 "nbformat_minor": 5
}
